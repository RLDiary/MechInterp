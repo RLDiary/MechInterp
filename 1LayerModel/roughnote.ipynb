{
 "cells": [
  {
   "cell_type": "code",
   "execution_count": 11,
   "id": "d7a5ef8e",
   "metadata": {},
   "outputs": [
    {
     "name": "stdout",
     "output_type": "stream",
     "text": [
      "The autoreload extension is already loaded. To reload it, use:\n",
      "  %reload_ext autoreload\n"
     ]
    }
   ],
   "source": [
    "%load_ext autoreload\n",
    "%autoreload 2"
   ]
  },
  {
   "cell_type": "code",
   "execution_count": 12,
   "id": "a243482c",
   "metadata": {},
   "outputs": [
    {
     "name": "stdout",
     "output_type": "stream",
     "text": [
      "Using device: cuda\n"
     ]
    }
   ],
   "source": [
    "from pprint import pprint\n",
    "import torch\n",
    "import sys\n",
    "import yaml\n",
    "import os\n",
    "from transformers import AutoModelForCausalLM, AutoTokenizer\n",
    "sys.path.append(os.path.abspath(os.path.join(os.getcwd(), '..')))\n",
    "from Utils import TransformerSampler, ModelConfig, GenerationConfig\n",
    "from model import Model\n",
    "from statedict_mapping import convert_model_weights\n",
    "torch.manual_seed(1337)\n",
    "device = 'cuda' if torch.cuda.is_available() else 'cpu'\n",
    "print(f'Using device: {device}')"
   ]
  },
  {
   "cell_type": "code",
   "execution_count": 13,
   "id": "bda4ed5b",
   "metadata": {},
   "outputs": [
    {
     "data": {
      "text/plain": [
       "<All keys matched successfully>"
      ]
     },
     "execution_count": 13,
     "metadata": {},
     "output_type": "execute_result"
    }
   ],
   "source": [
    "sampler = TransformerSampler()\n",
    "model = AutoModelForCausalLM.from_pretrained(\"/home/ubuntu/MechInter/1LayerModel/Models/TinyStories-1L-21M\").to(device)\n",
    "tokenizer = AutoTokenizer.from_pretrained(\"/home/ubuntu/MechInter/1LayerModel/Models/TinyStories-1L-21M\")\n",
    "tokenizer.pad_token = tokenizer.eos_token\n",
    "\n",
    "with open('OneLM.yaml', 'r') as f:\n",
    "    config_dict = yaml.safe_load(f)\n",
    "    model_config = ModelConfig(config_dict)\n",
    "\n",
    "modified_state_dict = convert_model_weights(model_config, model)\n",
    "model = Model(model_config).to(device)\n",
    "model.load_state_dict(modified_state_dict)"
   ]
  },
  {
   "cell_type": "code",
   "execution_count": 15,
   "id": "095fc185",
   "metadata": {},
   "outputs": [
    {
     "name": "stdout",
     "output_type": "stream",
     "text": [
      "[' there', ' was']\n",
      "[' were', ' happy']\n",
      "[' two', ',']\n",
      "[' friends', ' and']\n",
      "[',', ' he']\n",
      "[' Jack', ' and']\n",
      "[' and', ' the']\n",
      "[' Jill', ' bird']\n",
      "['.', ' played']\n",
      "[' They', ' together']\n",
      "[' lived', ' at']\n",
      "[' in', ' the']\n",
      "[' a', ' park']\n",
      "[' house', ' every']\n",
      "[' with', ' day']\n"
     ]
    }
   ],
   "source": [
    "prompts = [\n",
    "    'Once upon a time',\n",
    "    # 'In a galaxy far, far away',\n",
    "    'The quick brown fox',\n",
    "]\n",
    "\n",
    "tokens = tokenizer(prompts, return_tensors='pt', padding=True, padding_side='left', truncation=True).to(device='cuda')\n",
    "input_ids = tokens['input_ids']\n",
    "attention_mask = tokens['attention_mask']\n",
    "\n",
    "for _ in range(15):\n",
    "    logits = model(input_ids = input_ids, attention_mask = attention_mask)\n",
    "\n",
    "    # if running inference using transformers\n",
    "    # logits = logits.logits\n",
    "    \n",
    "    next_token = sampler.decode(logits, temperature=0).to(device='cuda')\n",
    "    print(tokenizer.batch_decode(next_token))\n",
    "    input_ids = torch.cat([input_ids, next_token.unsqueeze(-1)], dim=1)\n",
    "    attention_mask = torch.cat([attention_mask, torch.ones((attention_mask.shape[0], 1), dtype=attention_mask.dtype, device='cuda')], dim=-1)\n",
    "# print(tokenizer.batch_decode(input_ids))\n"
   ]
  },
  {
   "cell_type": "code",
   "execution_count": null,
   "id": "b3253d01",
   "metadata": {},
   "outputs": [],
   "source": []
  }
 ],
 "metadata": {
  "kernelspec": {
   "display_name": "Mech Interp",
   "language": "python",
   "name": "mechinterp"
  },
  "language_info": {
   "codemirror_mode": {
    "name": "ipython",
    "version": 3
   },
   "file_extension": ".py",
   "mimetype": "text/x-python",
   "name": "python",
   "nbconvert_exporter": "python",
   "pygments_lexer": "ipython3",
   "version": "3.12.7"
  }
 },
 "nbformat": 4,
 "nbformat_minor": 5
}
