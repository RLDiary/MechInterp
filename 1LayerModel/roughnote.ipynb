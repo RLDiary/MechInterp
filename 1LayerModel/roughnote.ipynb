{
 "cells": [
  {
   "cell_type": "code",
   "execution_count": 6,
   "id": "d7a5ef8e",
   "metadata": {},
   "outputs": [
    {
     "name": "stdout",
     "output_type": "stream",
     "text": [
      "The autoreload extension is already loaded. To reload it, use:\n",
      "  %reload_ext autoreload\n"
     ]
    }
   ],
   "source": [
    "%load_ext autoreload\n",
    "%autoreload 2"
   ]
  },
  {
   "cell_type": "code",
   "execution_count": 67,
   "id": "a243482c",
   "metadata": {},
   "outputs": [
    {
     "name": "stdout",
     "output_type": "stream",
     "text": [
      "Using device: cuda\n"
     ]
    }
   ],
   "source": [
    "from pprint import pprint\n",
    "import torch\n",
    "import sys\n",
    "import yaml\n",
    "import os\n",
    "from transformers import AutoModelForCausalLM, AutoTokenizer\n",
    "sys.path.append(os.path.abspath(os.path.join(os.getcwd(), '..')))\n",
    "from Utils import TransformerSampler, ModelConfig, GenerationConfig\n",
    "from model import Model\n",
    "from statedict_mapping import convert_model_weights\n",
    "torch.manual_seed(1337)\n",
    "device = 'cuda' if torch.cuda.is_available() else 'cpu'\n",
    "print(f'Using device: {device}')"
   ]
  },
  {
   "cell_type": "code",
   "execution_count": 68,
   "id": "bda4ed5b",
   "metadata": {},
   "outputs": [
    {
     "data": {
      "text/plain": [
       "<All keys matched successfully>"
      ]
     },
     "execution_count": 68,
     "metadata": {},
     "output_type": "execute_result"
    }
   ],
   "source": [
    "sampler = TransformerSampler()\n",
    "model = AutoModelForCausalLM.from_pretrained(\"/home/ubuntu/MechInter/1LayerModel/Models/TinyStories-1L-21M\").to(device)\n",
    "tokenizer = AutoTokenizer.from_pretrained(\"/home/ubuntu/MechInter/1LayerModel/Models/TinyStories-1L-21M\")\n",
    "tokenizer.pad_token = tokenizer.eos_token\n",
    "\n",
    "with open('OneLM.yaml', 'r') as f:\n",
    "    config_dict = yaml.safe_load(f)\n",
    "    model_config = ModelConfig(config_dict)\n",
    "\n",
    "modified_state_dict = convert_model_weights(model_config, model)\n",
    "model = Model(model_config).to(device)\n",
    "model.load_state_dict(modified_state_dict)"
   ]
  },
  {
   "cell_type": "code",
   "execution_count": 63,
   "id": "41ab2935",
   "metadata": {},
   "outputs": [
    {
     "data": {
      "text/plain": [
       "GPTNeoForCausalLM(\n",
       "  (transformer): GPTNeoModel(\n",
       "    (wte): Embedding(50257, 1024)\n",
       "    (wpe): Embedding(2048, 1024)\n",
       "    (drop): Dropout(p=0.0, inplace=False)\n",
       "    (h): ModuleList(\n",
       "      (0): GPTNeoBlock(\n",
       "        (ln_1): LayerNorm((1024,), eps=1e-05, elementwise_affine=True)\n",
       "        (attn): GPTNeoAttention(\n",
       "          (attention): GPTNeoSelfAttention(\n",
       "            (attn_dropout): Dropout(p=0.0, inplace=False)\n",
       "            (resid_dropout): Dropout(p=0.0, inplace=False)\n",
       "            (k_proj): Linear(in_features=1024, out_features=1024, bias=False)\n",
       "            (v_proj): Linear(in_features=1024, out_features=1024, bias=False)\n",
       "            (q_proj): Linear(in_features=1024, out_features=1024, bias=False)\n",
       "            (out_proj): Linear(in_features=1024, out_features=1024, bias=True)\n",
       "          )\n",
       "        )\n",
       "        (ln_2): LayerNorm((1024,), eps=1e-05, elementwise_affine=True)\n",
       "        (mlp): GPTNeoMLP(\n",
       "          (c_fc): Linear(in_features=1024, out_features=4096, bias=True)\n",
       "          (c_proj): Linear(in_features=4096, out_features=1024, bias=True)\n",
       "          (act): NewGELUActivation()\n",
       "          (dropout): Dropout(p=0.0, inplace=False)\n",
       "        )\n",
       "      )\n",
       "    )\n",
       "    (ln_f): LayerNorm((1024,), eps=1e-05, elementwise_affine=True)\n",
       "  )\n",
       "  (lm_head): Linear(in_features=1024, out_features=50257, bias=False)\n",
       ")"
      ]
     },
     "execution_count": 63,
     "metadata": {},
     "output_type": "execute_result"
    }
   ],
   "source": [
    "model"
   ]
  },
  {
   "cell_type": "code",
   "execution_count": 66,
   "id": "a3469034",
   "metadata": {},
   "outputs": [
    {
     "name": "stdout",
     "output_type": "stream",
     "text": [
      "transformer.wte.weight torch.Size([50257, 1024])\n",
      "transformer.wpe.weight torch.Size([2048, 1024])\n",
      "transformer.h.0.ln_1.weight torch.Size([1024])\n",
      "transformer.h.0.ln_1.bias torch.Size([1024])\n",
      "transformer.h.0.attn.attention.k_proj.weight torch.Size([1024, 1024])\n",
      "transformer.h.0.attn.attention.v_proj.weight torch.Size([1024, 1024])\n",
      "transformer.h.0.attn.attention.q_proj.weight torch.Size([1024, 1024])\n",
      "transformer.h.0.attn.attention.out_proj.weight torch.Size([1024, 1024])\n",
      "transformer.h.0.attn.attention.out_proj.bias torch.Size([1024])\n",
      "transformer.h.0.ln_2.weight torch.Size([1024])\n",
      "transformer.h.0.ln_2.bias torch.Size([1024])\n",
      "transformer.h.0.mlp.c_fc.weight torch.Size([4096, 1024])\n",
      "transformer.h.0.mlp.c_fc.bias torch.Size([4096])\n",
      "transformer.h.0.mlp.c_proj.weight torch.Size([1024, 4096])\n",
      "transformer.h.0.mlp.c_proj.bias torch.Size([1024])\n",
      "transformer.ln_f.weight torch.Size([1024])\n",
      "transformer.ln_f.bias torch.Size([1024])\n",
      "lm_head.weight torch.Size([50257, 1024])\n"
     ]
    }
   ],
   "source": [
    "for key, val in model.state_dict().items():\n",
    "    print(key, val.shape)"
   ]
  },
  {
   "cell_type": "code",
   "execution_count": 69,
   "id": "095fc185",
   "metadata": {},
   "outputs": [
    {
     "name": "stdout",
     "output_type": "stream",
     "text": [
      "[' chase']\n",
      "[' chase']\n",
      "['.']\n",
      "[' Sam']\n",
      "[' Sam']\n",
      "[' Tim']\n",
      "[' Tim']\n",
      "[' Tim']\n",
      "[' Tim']\n",
      "[' Tim']\n",
      "[' Tim']\n",
      "[' Tim']\n",
      "[' Tim']\n",
      "[' Tim']\n",
      "[' Tim']\n",
      "[' Tim']\n",
      "[' Tim']\n",
      "[' Tim']\n",
      "[' Tim']\n",
      "[' Tim']\n"
     ]
    }
   ],
   "source": [
    "# prompts = [\n",
    "#     'Once upon a time',\n",
    "#     'In a galaxy far, far away',\n",
    "#     'The quick brown fox',\n",
    "# ]\n",
    "\n",
    "prompts = 'hi there'\n",
    "\n",
    "tokens = tokenizer(prompts, return_tensors='pt', padding=True, padding_side='left', truncation=True).to(device='cuda')\n",
    "input_ids = tokens['input_ids']\n",
    "attention_mask = tokens['attention_mask']\n",
    "\n",
    "for _ in range(20):\n",
    "    logits = model(input_ids = input_ids, attention_mask = attention_mask)\n",
    "    next_token = sampler.decode(logits, temperature=0.8).to(device='cuda')\n",
    "    print(tokenizer.batch_decode(next_token))\n",
    "    input_ids = torch.cat([input_ids, next_token.unsqueeze(-1)], dim=1)\n",
    "    attention_mask = torch.cat([attention_mask, torch.ones((attention_mask.shape[0], 1), dtype=attention_mask.dtype, device='cuda')], dim=-1)\n",
    "# print(tokenizer.batch_decode(input_ids))\n"
   ]
  },
  {
   "cell_type": "code",
   "execution_count": null,
   "id": "2e3e087e",
   "metadata": {},
   "outputs": [],
   "source": []
  },
  {
   "cell_type": "code",
   "execution_count": null,
   "id": "3407b4b0",
   "metadata": {},
   "outputs": [],
   "source": []
  }
 ],
 "metadata": {
  "kernelspec": {
   "display_name": "GPT-2",
   "language": "python",
   "name": "python3"
  },
  "language_info": {
   "codemirror_mode": {
    "name": "ipython",
    "version": 3
   },
   "file_extension": ".py",
   "mimetype": "text/x-python",
   "name": "python",
   "nbconvert_exporter": "python",
   "pygments_lexer": "ipython3",
   "version": "3.12.7"
  }
 },
 "nbformat": 4,
 "nbformat_minor": 5
}
