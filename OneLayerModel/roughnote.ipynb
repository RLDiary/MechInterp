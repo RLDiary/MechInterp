{
 "cells": [
  {
   "cell_type": "code",
   "execution_count": 1,
   "id": "d7a5ef8e",
   "metadata": {},
   "outputs": [],
   "source": [
    "%load_ext autoreload\n",
    "%autoreload 2"
   ]
  },
  {
   "cell_type": "code",
   "execution_count": 2,
   "id": "a243482c",
   "metadata": {},
   "outputs": [
    {
     "name": "stdout",
     "output_type": "stream",
     "text": [
      "Using device: cuda\n"
     ]
    }
   ],
   "source": [
    "from pprint import pprint\n",
    "import torch\n",
    "import sys\n",
    "import yaml\n",
    "import os\n",
    "from transformers import AutoModelForCausalLM, AutoTokenizer\n",
    "sys.path.append(os.path.abspath(os.path.join(os.getcwd(), '..')))\n",
    "from Utils import TransformerSampler, ModelConfig, GenerationConfig\n",
    "from model import Model\n",
    "from statedict_mapping import convert_model_weights\n",
    "torch.manual_seed(1337)\n",
    "device = 'cuda' if torch.cuda.is_available() else 'cpu'\n",
    "print(f'Using device: {device}')"
   ]
  },
  {
   "cell_type": "code",
   "execution_count": 3,
   "id": "bda4ed5b",
   "metadata": {},
   "outputs": [
    {
     "data": {
      "text/plain": [
       "<All keys matched successfully>"
      ]
     },
     "execution_count": 3,
     "metadata": {},
     "output_type": "execute_result"
    }
   ],
   "source": [
    "sampler = TransformerSampler()\n",
    "model = AutoModelForCausalLM.from_pretrained(\"/home/ubuntu/MechInter/OneLayerModel/Models/TinyStories-1L-21M\").to(device)\n",
    "tokenizer = AutoTokenizer.from_pretrained(\"/home/ubuntu/MechInter/OneLayerModel/Models/TinyStories-1L-21M\")\n",
    "tokenizer.pad_token = tokenizer.eos_token\n",
    "\n",
    "with open('OneLM.yaml', 'r') as f:\n",
    "    config_dict = yaml.safe_load(f)\n",
    "    model_config = ModelConfig(config_dict)\n",
    "\n",
    "modified_state_dict = convert_model_weights(model_config, model)\n",
    "model = Model(model_config).to(device)\n",
    "model.load_state_dict(modified_state_dict)"
   ]
  },
  {
   "cell_type": "code",
   "execution_count": 4,
   "id": "095fc185",
   "metadata": {},
   "outputs": [
    {
     "name": "stdout",
     "output_type": "stream",
     "text": [
      "[' there', ' was']\n",
      "[' was', ' filled']\n",
      "[' an', ' with']\n",
      "[' enthusiastic', ' wonder']\n",
      "[' elephant', ' when']\n",
      "['.', ' he']\n",
      "[' He', ' saw']\n",
      "[' loved', ' the']\n",
      "[' to', ' colorful']\n",
      "[' play', ' thing']\n",
      "[' in', '.']\n",
      "[' the', ' He']\n",
      "[' water', ' wondered']\n",
      "[' all', ' what']\n",
      "[' day', ' it']\n"
     ]
    }
   ],
   "source": [
    "prompts = [\n",
    "    'Once upon a time',\n",
    "    # 'In a galaxy far, far away',\n",
    "    'The quick brown fox',\n",
    "]\n",
    "\n",
    "tokens = tokenizer(prompts, return_tensors='pt', padding=True, padding_side='left', truncation=True).to(device='cuda')\n",
    "input_ids = tokens['input_ids']\n",
    "attention_mask = tokens['attention_mask']\n",
    "\n",
    "for _ in range(15):\n",
    "    logits = model(input_ids = input_ids, attention_mask = attention_mask)\n",
    "\n",
    "    # if running inference using transformers\n",
    "    # logits = logits.logits\n",
    "    \n",
    "    next_token = sampler.decode(logits, temperature=0).to(device='cuda')\n",
    "    print(tokenizer.batch_decode(next_token))\n",
    "    input_ids = torch.cat([input_ids, next_token.unsqueeze(-1)], dim=1)\n",
    "    attention_mask = torch.cat([attention_mask, torch.ones((attention_mask.shape[0], 1), dtype=attention_mask.dtype, device='cuda')], dim=-1)\n",
    "# print(tokenizer.batch_decode(input_ids))\n"
   ]
  },
  {
   "cell_type": "code",
   "execution_count": 5,
   "id": "64dd1ddf",
   "metadata": {},
   "outputs": [
    {
     "name": "stdout",
     "output_type": "stream",
     "text": [
      "Activation collector initialized for layer 1\n"
     ]
    }
   ],
   "source": [
    "# Define hook function outside the class to avoid method binding issues\n",
    "def create_activation_hook(collector):\n",
    "    \"\"\"Factory function to create a hook that captures activations\"\"\"\n",
    "    def hook(module, input, output):\n",
    "        activations = output.detach().cpu()\n",
    "        activations = activations.float()\n",
    "        flat_activations = activations.view(-1, activations.size(-1))\n",
    "        collector.activations.append(flat_activations)\n",
    "    return hook\n",
    "\n",
    "class ActivationCollector:\n",
    "    \"\"\"Collects activations from a specific layer during forward pass\"\"\"\n",
    "\n",
    "    def __init__(self, model, layer_idx=0):\n",
    "        self.model = model\n",
    "        self.layer_idx = layer_idx\n",
    "        self.activations = []\n",
    "        self.hook = None\n",
    "        self.register_hook()\n",
    "\n",
    "    def register_hook(self):\n",
    "        \"\"\"Register forward hook on the activations in the MLP layer\"\"\"\n",
    "        mlp_layer = self.model.transformer_block[self.layer_idx].mlp\n",
    "        target_layer = mlp_layer.gelu\n",
    "\n",
    "        # Use the factory function to create the hook\n",
    "        hook_fn = create_activation_hook(self)\n",
    "        self.hook = target_layer.register_forward_hook(hook_fn)\n",
    "\n",
    "    def clear_activations(self):\n",
    "        \"\"\"Clear stored activations\"\"\"\n",
    "        self.activations = []\n",
    "\n",
    "    def get_activations(self):\n",
    "        \"\"\"Return concatenated activations\"\"\"\n",
    "        if not self.activations:\n",
    "            return None\n",
    "        concatenated = torch.cat(self.activations, dim=0)\n",
    "        return concatenated\n",
    "\n",
    "    def remove_hook(self):\n",
    "        \"\"\"Remove the forward hook\"\"\"\n",
    "        if self.hook:\n",
    "            self.hook.remove()\n",
    "\n",
    "# Initialize activation collector for layer 1\n",
    "collector = ActivationCollector(model, layer_idx=0)\n",
    "print(\"Activation collector initialized for layer 1\")"
   ]
  },
  {
   "cell_type": "code",
   "execution_count": 6,
   "id": "54273e3f",
   "metadata": {},
   "outputs": [],
   "source": [
    "with torch.no_grad():\n",
    "    tokens = tokenizer(prompts, return_tensors='pt', padding=True, padding_side='left', truncation=True).to(device='cuda')\n",
    "    input_ids = tokens['input_ids']\n",
    "    attention_mask = tokens['attention_mask']\n",
    "    _ = model(input_ids=input_ids, attention_mask=attention_mask)\n"
   ]
  },
  {
   "cell_type": "code",
   "execution_count": 11,
   "id": "63f51467",
   "metadata": {},
   "outputs": [
    {
     "data": {
      "text/plain": [
       "tensor([[ 7454,  2402,   257,   640],\n",
       "        [  464,  2068,  7586, 21831]], device='cuda:0')"
      ]
     },
     "execution_count": 11,
     "metadata": {},
     "output_type": "execute_result"
    }
   ],
   "source": [
    "tokens['input_ids']"
   ]
  },
  {
   "cell_type": "code",
   "execution_count": 11,
   "id": "144a4887",
   "metadata": {},
   "outputs": [
    {
     "data": {
      "text/plain": [
       "[tensor([[-0.1529, -0.1152, -0.1108,  ..., -0.0799, -0.0500, -0.1450],\n",
       "         [ 0.1718, -0.0645, -0.1697,  ...,  0.0225, -0.0198, -0.1569],\n",
       "         [-0.0180, -0.0658, -0.1339,  ..., -0.1189, -0.0227, -0.1316],\n",
       "         ...,\n",
       "         [ 0.1220, -0.0259, -0.1370,  ...,  0.0919,  0.0065, -0.1514],\n",
       "         [ 0.3229, -0.0226, -0.0977,  ...,  0.0128, -0.0649,  0.0561],\n",
       "         [ 1.8612, -0.0320, -0.1239,  ..., -0.1228, -0.1221, -0.1291]])]"
      ]
     },
     "execution_count": 11,
     "metadata": {},
     "output_type": "execute_result"
    }
   ],
   "source": [
    "collector.activations"
   ]
  },
  {
   "cell_type": "code",
   "execution_count": 7,
   "id": "ce5af71d",
   "metadata": {},
   "outputs": [
    {
     "data": {
      "text/plain": [
       "8"
      ]
     },
     "execution_count": 7,
     "metadata": {},
     "output_type": "execute_result"
    }
   ],
   "source": [
    "len(collector.activations[0])"
   ]
  },
  {
   "cell_type": "code",
   "execution_count": 9,
   "id": "cb068b2e",
   "metadata": {},
   "outputs": [
    {
     "data": {
      "text/plain": [
       "torch.Size([8, 4096])"
      ]
     },
     "execution_count": 9,
     "metadata": {},
     "output_type": "execute_result"
    }
   ],
   "source": [
    "collector.activations[0].shape"
   ]
  },
  {
   "cell_type": "code",
   "execution_count": null,
   "id": "61e4c811",
   "metadata": {},
   "outputs": [],
   "source": []
  }
 ],
 "metadata": {
  "kernelspec": {
   "display_name": "MechInter (Python 3.12)",
   "language": "python",
   "name": "mechinter-venv"
  },
  "language_info": {
   "codemirror_mode": {
    "name": "ipython",
    "version": 3
   },
   "file_extension": ".py",
   "mimetype": "text/x-python",
   "name": "python",
   "nbconvert_exporter": "python",
   "pygments_lexer": "ipython3",
   "version": "3.12.7"
  }
 },
 "nbformat": 4,
 "nbformat_minor": 5
}
