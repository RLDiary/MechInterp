{
 "cells": [
  {
   "cell_type": "markdown",
   "metadata": {},
   "source": [
    "# Sparse Autoencoder for the 1 Layer Model\n",
    "\n",
    "This notebook implements a sparse autoencoder to probe and interpret the internal representations of the One Layer Model, following the mechanistic interpretability approaches.\n",
    "\n",
    "## Objectives:\n",
    "1. **Extract interpretable features** from layer 1 activations using sparse dictionary learning\n",
    "2. **Understand what concepts** the model represents at this layer\n",
    "3. **Identify monosemantic features** that correspond to specific, interpretable concepts\n",
    "4. **Analyze the semantic structure** of the learned feature space\n",
    "\n",
    "## Key Interpretability Questions:\n",
    "- What linguistic or semantic concepts does layer 1 encode?\n",
    "- Are there distinct features for syntax, semantics, world knowledge?\n",
    "- How sparse and interpretable are the learned representations?\n",
    "- Can we identify \"concept neurons\" that activate on specific topics or patterns?"
   ]
  },
  {
   "cell_type": "code",
   "execution_count": 1,
   "metadata": {},
   "outputs": [],
   "source": [
    "%load_ext autoreload\n",
    "%autoreload 2"
   ]
  },
  {
   "cell_type": "code",
   "execution_count": 2,
   "metadata": {},
   "outputs": [
    {
     "name": "stdout",
     "output_type": "stream",
     "text": [
      "Using device: cuda\n"
     ]
    }
   ],
   "source": [
    "import torch\n",
    "import torch.nn as nn\n",
    "import torch.nn.functional as F\n",
    "import numpy as np\n",
    "import matplotlib.pyplot as plt\n",
    "import seaborn as sns\n",
    "from transformers import AutoTokenizer, AutoModelForCausalLM\n",
    "from torch.utils.data import Dataset, DataLoader\n",
    "import pandas as pd\n",
    "from tqdm import tqdm\n",
    "import json\n",
    "from collections import defaultdict\n",
    "import re\n",
    "from sklearn.decomposition import PCA\n",
    "from sklearn.manifold import TSNE\n",
    "import plotly.express as px\n",
    "import plotly.graph_objects as go\n",
    "from plotly.subplots import make_subplots\n",
    "from datasets import load_dataset\n",
    "\n",
    "from pprint import pprint\n",
    "import torch\n",
    "import sys\n",
    "import yaml\n",
    "import os\n",
    "from transformers import AutoModelForCausalLM, AutoTokenizer\n",
    "sys.path.append(os.path.abspath(os.path.join(os.getcwd(), '..')))\n",
    "from Utils import TransformerSampler, ModelConfig, GenerationConfig\n",
    "from OneLayerModel.model import Model\n",
    "from OneLayerModel.statedict_mapping import convert_model_weights\n",
    "\n",
    "# Set device\n",
    "device = torch.device('cuda' if torch.cuda.is_available() else 'cpu')\n",
    "print(f\"Using device: {device}\")\n",
    "\n",
    "# Set random seeds for reproducibility\n",
    "torch.manual_seed(42)\n",
    "np.random.seed(42)"
   ]
  },
  {
   "cell_type": "markdown",
   "metadata": {},
   "source": [
    "## 1. Load Model and Setup Activation Hooks\n",
    "\n",
    "We'll load the Llama3.2-3B-Instruct model and set up hooks to extract activations from layer 5."
   ]
  },
  {
   "cell_type": "code",
   "execution_count": 3,
   "metadata": {},
   "outputs": [
    {
     "name": "stdout",
     "output_type": "stream",
     "text": [
      "Model loaded successfully\n"
     ]
    }
   ],
   "source": [
    "sampler = TransformerSampler()\n",
    "model = AutoModelForCausalLM.from_pretrained(\"/home/ubuntu/MechInter/OneLayerModel/Models/TinyStories-1L-21M\").to(device)\n",
    "tokenizer = AutoTokenizer.from_pretrained(\"/home/ubuntu/MechInter/OneLayerModel/Models/TinyStories-1L-21M\")\n",
    "\n",
    "\n",
    "tokenizer.pad_token = tokenizer.eos_token\n",
    "\n",
    "with open('/home/ubuntu/MechInter/OneLayerModel/OneLM.yaml', 'r') as f:\n",
    "    config_dict = yaml.safe_load(f)\n",
    "    model_config = ModelConfig(config_dict)\n",
    "\n",
    "modified_state_dict = convert_model_weights(model_config, model)\n",
    "model = Model(model_config).to(device)\n",
    "model.load_state_dict(modified_state_dict)\n",
    "\n",
    "\n",
    "model.eval()\n",
    "print(f\"Model loaded successfully\")"
   ]
  },
  {
   "cell_type": "code",
   "execution_count": 4,
   "metadata": {},
   "outputs": [
    {
     "name": "stdout",
     "output_type": "stream",
     "text": [
      "Activation collector initialized for layer 1\n"
     ]
    }
   ],
   "source": [
    "# Define hook function outside the class to avoid method binding issues\n",
    "def create_activation_hook(collector):\n",
    "    \"\"\"Factory function to create a hook that captures activations\"\"\"\n",
    "    def hook(module, input, output):\n",
    "        activations = output.detach().cpu()\n",
    "        activations = activations.float()\n",
    "        flat_activations = activations.view(-1, activations.size(-1))\n",
    "        collector.activations.append(flat_activations)\n",
    "    return hook\n",
    "\n",
    "class ActivationCollector:\n",
    "    \"\"\"Collects activations from a specific layer during forward pass\"\"\"\n",
    "\n",
    "    def __init__(self, model, layer_idx=0):\n",
    "        self.model = model\n",
    "        self.layer_idx = layer_idx\n",
    "        self.activations = []\n",
    "        self.hook = None\n",
    "        self.register_hook()\n",
    "\n",
    "    def register_hook(self):\n",
    "        \"\"\"Register forward hook on the activations in the MLP layer\"\"\"\n",
    "        mlp_layer = self.model.transformer_block[self.layer_idx].mlp\n",
    "        target_layer = mlp_layer.gelu\n",
    "\n",
    "        # Use the factory function to create the hook\n",
    "        hook_fn = create_activation_hook(self)\n",
    "        self.hook = target_layer.register_forward_hook(hook_fn)\n",
    "\n",
    "    def clear_activations(self):\n",
    "        \"\"\"Clear stored activations\"\"\"\n",
    "        self.activations = []\n",
    "\n",
    "    def get_activations(self):\n",
    "        \"\"\"Return concatenated activations\"\"\"\n",
    "        if not self.activations:\n",
    "            return None\n",
    "        concatenated = torch.cat(self.activations, dim=0)\n",
    "        return concatenated\n",
    "\n",
    "    def remove_hook(self):\n",
    "        \"\"\"Remove the forward hook\"\"\"\n",
    "        if self.hook:\n",
    "            self.hook.remove()\n",
    "\n",
    "# Initialize activation collector for layer 1\n",
    "collector = ActivationCollector(model, layer_idx=0)\n",
    "print(\"Activation collector initialized for layer 1\")"
   ]
  },
  {
   "cell_type": "markdown",
   "metadata": {},
   "source": [
    "## 2. Load Cached Dataset from the datasets/cache folder\n",
    "\n",
    "We'll load the pre-tokenised dataset covering children's stories and adversarial content to ensure our sparse autoencoder learns generalizable features."
   ]
  },
  {
   "cell_type": "code",
   "execution_count": null,
   "metadata": {},
   "outputs": [
    {
     "data": {
      "application/vnd.jupyter.widget-view+json": {
       "model_id": "62774459042a42b18e3a63a035e9e05b",
       "version_major": 2,
       "version_minor": 0
      },
      "text/plain": [
       "Resolving data files:   0%|          | 0/48 [00:00<?, ?it/s]"
      ]
     },
     "metadata": {},
     "output_type": "display_data"
    }
   ],
   "source": [
    "dataset = load_dataset('/home/ubuntu/MechInter/datasets/cache', split='train')"
   ]
  },
  {
   "cell_type": "markdown",
   "metadata": {},
   "source": [
    "## [DEPRECATED] 2. Prepare Diverse Text Dataset\n",
    "\n",
    "We'll create a diverse dataset covering various topics and linguistic patterns to ensure our sparse autoencoder learns generalizable features."
   ]
  },
  {
   "cell_type": "code",
   "execution_count": null,
   "metadata": {},
   "outputs": [
    {
     "name": "stdout",
     "output_type": "stream",
     "text": [
      "Loading BBC News dataset from Hugging Face...\n",
      "Dataset loaded successfully!\n",
      "Total articles in dataset: 2225\n",
      "Selected 1000 diverse articles for analysis\n",
      "Categories represented: ['sport', 'business', 'entertainment', 'tech', 'politics']\n",
      "Articles per category: [('sport', 511), ('business', 510), ('entertainment', 386), ('tech', 401), ('politics', 417)]\n",
      "\n",
      "Sample texts from different categories:\n",
      "1. [sport] thompson says gerrard should stay liverpool legend phil thompson has pleaded with steve gerrard to r...\n",
      "2. [sport] downing injury mars uefa victory middlesbrough boss steve mcclaren hopes that stewart downing did no...\n",
      "3. [sport] beckham relief as real go through david beckham expressed his relief at real madrid s passage to the...\n",
      "4. [sport] iranian misses israel match iranian striker vahid hashemian will not travel to israel for bayern mun...\n",
      "5. [sport] davenport hits out at wimbledon world number one lindsay davenport has criticised wimbledon over the...\n",
      "\n",
      "Ready to analyze 1000 BBC News articles across 5 categories\n"
     ]
    }
   ],
   "source": [
    "# Load BBC News dataset from Hugging Face\n",
    "print(\"Loading BBC News dataset from Hugging Face...\")\n",
    "dataset = load_dataset(\"SetFit/bbc-news\")\n",
    "\n",
    "# Extract text samples from the dataset\n",
    "# Use both train and test splits for more diverse data\n",
    "train_texts = dataset['train']['text']\n",
    "test_texts = dataset['test']['text'] if 'test' in dataset else []\n",
    "\n",
    "# Get corresponding labels for analysis\n",
    "train_labels = dataset['train']['label_text']\n",
    "test_labels = dataset['test']['label_text'] if 'test' in dataset else []\n",
    "\n",
    "# Combine train and test data\n",
    "all_texts = train_texts + test_texts\n",
    "all_labels = train_labels + test_labels\n",
    "\n",
    "# Sample a subset for our experiment (to keep processing manageable)\n",
    "# Take a stratified sample to ensure we get examples from all categories\n",
    "import random\n",
    "random.seed(42)\n",
    "\n",
    "# Group by labels to ensure diversity\n",
    "label_to_texts = defaultdict(list)\n",
    "for text, label in zip(all_texts, all_labels):\n",
    "    label_to_texts[label].append(text)\n",
    "\n",
    "# Sample from each category\n",
    "samples_per_category = 200  # Adjust based on your needs\n",
    "text_samples = []\n",
    "sample_labels = []\n",
    "\n",
    "for label, texts in label_to_texts.items():\n",
    "    # Sample texts from this category\n",
    "    sample_size = min(samples_per_category, len(texts))\n",
    "    sampled_texts = random.sample(texts, sample_size)\n",
    "    text_samples.extend(sampled_texts)\n",
    "    sample_labels.extend([label] * sample_size)\n",
    "\n",
    "print(f\"Dataset loaded successfully!\")\n",
    "print(f\"Total articles in dataset: {len(all_texts)}\")\n",
    "print(f\"Selected {len(text_samples)} diverse articles for analysis\")\n",
    "print(f\"Categories represented: {list(label_to_texts.keys())}\")\n",
    "print(f\"Articles per category: {[(label, len(texts)) for label, texts in label_to_texts.items()]}\")\n",
    "\n",
    "# Show sample texts from different categories\n",
    "print(\"\\nSample texts from different categories:\")\n",
    "for i, (text, label) in enumerate(zip(text_samples[:5], sample_labels[:5])):\n",
    "    print(f\"{i+1}. [{label}] {text[:100]}...\")\n",
    "\n",
    "# Also create a mapping for later interpretation\n",
    "text_to_category = {text: label for text, label in zip(text_samples, sample_labels)}\n",
    "print(f\"\\nReady to analyze {len(text_samples)} BBC News articles across {len(set(sample_labels))} categories\")"
   ]
  },
  {
   "cell_type": "markdown",
   "metadata": {},
   "source": [
    "## 3. Collect Layer 1 Activations\n",
    "\n",
    "We'll process our datset samples through the model and collect the resulting layer 1 activations."
   ]
  },
  {
   "cell_type": "code",
   "execution_count": 7,
   "metadata": {},
   "outputs": [
    {
     "name": "stdout",
     "output_type": "stream",
     "text": [
      "Dataset column names: ['input_ids', 'attention_mask']\n",
      "Total Examples: 993326\n",
      "Type of first sample: <class 'dict'>\n"
     ]
    }
   ],
   "source": [
    "print(\"Dataset column names:\", dataset.column_names)\n",
    "print('Total Examples:', len(dataset))\n",
    "print(\"Type of first sample:\", type(dataset[0]))"
   ]
  },
  {
   "cell_type": "code",
   "execution_count": null,
   "metadata": {},
   "outputs": [
    {
     "data": {
      "application/vnd.jupyter.widget-view+json": {
       "model_id": "b7e2290001eb46d6b0f781ff4ed397dd",
       "version_major": 2,
       "version_minor": 0
      },
      "text/plain": [
       "Map:   0%|          | 0/1138370 [00:00<?, ? examples/s]"
      ]
     },
     "metadata": {},
     "output_type": "display_data"
    }
   ],
   "source": [
    "\n",
    "\n",
    "#########################################\n",
    "# PART 1: Preprocess on CPU (multi-proc OK)\n",
    "#########################################\n",
    "\n",
    "def chunk_and_pad(batch, max_length=512):\n",
    "    \"\"\"Split and pad input_ids sequences into chunks, CPU only.\"\"\"\n",
    "    input_ids_chunks = []\n",
    "    attention_mask_chunks = []\n",
    "\n",
    "    for tokens in batch[\"input_ids\"]:\n",
    "        for i in range(0, len(tokens), max_length):\n",
    "            chunk_ids = tokens[i:i + max_length]\n",
    "            if not chunk_ids:\n",
    "                continue\n",
    "            input_ids_chunks.append(chunk_ids)\n",
    "            attention_mask_chunks.append([1] * len(chunk_ids))\n",
    "\n",
    "    # pad all chunks to max length in this batch\n",
    "    max_len = max(len(x) for x in input_ids_chunks)\n",
    "    input_ids_padded = [x + [0] * (max_len - len(x)) for x in input_ids_chunks]\n",
    "    attention_mask_padded = [x + [0] * (max_len - len(x)) for x in attention_mask_chunks]\n",
    "\n",
    "    return {\n",
    "        \"input_ids\": input_ids_padded,\n",
    "        \"attention_mask\": attention_mask_padded\n",
    "    }\n",
    "\n",
    "# Multiprocessing CPU preprocessing\n",
    "chunked_dataset = dataset.map(\n",
    "    chunk_and_pad,\n",
    "    batched=True,\n",
    "    num_proc=8,\n",
    "    batch_size=64,\n",
    "    remove_columns=dataset.column_names\n",
    ")\n",
    "\n",
    "#########################################\n",
    "# PART 2: Forward Pass on GPU (single process)\n",
    "#########################################\n",
    "\n",
    "def compute_activations(examples):\n",
    "    \"\"\"Run model on preprocessed CPU dataset, single process, CUDA OK.\"\"\"\n",
    "    collector.clear_activations()\n",
    "\n",
    "    inputs = {\n",
    "        \"input_ids\": torch.tensor(examples[\"input_ids\"]).to(device),\n",
    "        \"attention_mask\": torch.tensor(examples[\"attention_mask\"]).to(device),\n",
    "    }\n",
    "\n",
    "    with torch.no_grad():\n",
    "        outputs = model(**inputs)\n",
    "\n",
    "    acts = collector.get_activations()\n",
    "    if isinstance(acts, torch.Tensor):\n",
    "        acts = acts.cpu().numpy()\n",
    "    elif isinstance(acts, dict):\n",
    "        acts = {k: v.cpu().numpy() for k, v in acts.items()}\n",
    "    else:\n",
    "        acts = np.array([a.cpu().numpy() for a in acts])\n",
    "\n",
    "    return {\"activations\": acts}\n",
    "\n",
    "# Single process (no num_proc!) because CUDA\n",
    "activations_dataset = chunked_dataset.map(\n",
    "    compute_activations,\n",
    "    batched=True,\n",
    "    batch_size=16,\n",
    "    remove_columns=chunked_dataset.column_names\n",
    ")\n",
    "\n",
    "#########################################\n",
    "# STATS\n",
    "#########################################\n",
    "all_acts = np.concatenate(activations_dataset[\"activations\"], axis=0)\n",
    "print(\"\\nActivation statistics:\")\n",
    "print(f\"Shape: {all_acts.shape}\")\n",
    "print(f\"Mean: {all_acts.mean():.4f}\")\n",
    "print(f\"Std: {all_acts.std():.4f}\")\n",
    "print(f\"Min: {all_acts.min():.4f}\")\n",
    "print(f\"Max: {all_acts.max():.4f}\")\n"
   ]
  },
  {
   "cell_type": "code",
   "execution_count": null,
   "metadata": {},
   "outputs": [
    {
     "name": "stderr",
     "output_type": "stream",
     "text": [
      "Collecting activations: 100%|██████████| 250/250 [02:08<00:00,  1.95it/s]\n"
     ]
    },
    {
     "name": "stdout",
     "output_type": "stream",
     "text": [
      "Collected activations shape: torch.Size([496532, 3072])\n",
      "Non-padding tokens: 412068\n",
      "Total token info entries: 496532\n",
      "\n",
      "Activation statistics:\n",
      "Shape: torch.Size([496532, 3072])\n",
      "Mean: 0.0005\n",
      "Std: 0.6240\n",
      "Min: -386.0000\n",
      "Max: 418.0000\n"
     ]
    }
   ],
   "source": [
    "# THIS CODE IS USED TO COLLECT ACTIVATIONS FROM THE BBC TEXT DATASET\n",
    "\n",
    "# def collect_activations(texts, max_length=512, batch_size=4):\n",
    "#     \"\"\"Collect activations from layer 5 for given texts\"\"\"\n",
    "#     collector.clear_activations()\n",
    "#     all_token_info = []\n",
    "    \n",
    "#     # Process texts in batches\n",
    "#     for i in tqdm(range(0, len(texts), batch_size), desc=\"Collecting activations\"):\n",
    "#         batch_texts = texts[i:i+batch_size]\n",
    "        \n",
    "#         # Tokenize batch\n",
    "#         inputs = tokenizer(\n",
    "#             batch_texts,\n",
    "#             return_tensors=\"pt\",\n",
    "#             padding=True,\n",
    "#             truncation=True,\n",
    "#             max_length=max_length\n",
    "#         ).to(device)\n",
    "        \n",
    "#         # Store detailed token information for each position\n",
    "#         batch_size_actual = len(batch_texts)\n",
    "#         seq_len = inputs['input_ids'].size(1)\n",
    "        \n",
    "#         for j, text in enumerate(batch_texts):\n",
    "#             tokens = tokenizer.tokenize(text, truncation=True, max_length=max_length)\n",
    "#             token_ids = inputs['input_ids'][j].cpu().tolist()\n",
    "#             attention_mask = inputs['attention_mask'][j].cpu().tolist()\n",
    "            \n",
    "#             # Create mapping for each token position\n",
    "#             for pos in range(seq_len):\n",
    "#                 if attention_mask[pos] == 1:  # Only real tokens, not padding\n",
    "#                     token_id = token_ids[pos]\n",
    "#                     token_text = tokenizer.decode([token_id])\n",
    "                    \n",
    "#                     all_token_info.append({\n",
    "#                         'text': text,\n",
    "#                         'token_pos': pos,\n",
    "#                         'token_id': token_id,\n",
    "#                         'token_text': token_text,\n",
    "#                         'batch_idx': i // batch_size,\n",
    "#                         'seq_idx': j,\n",
    "#                         'flat_idx': len(all_token_info),  # Index in flattened activations\n",
    "#                         'is_padding': False\n",
    "#                     })\n",
    "#                 else:\n",
    "#                     # Track padding tokens too for alignment\n",
    "#                     all_token_info.append({\n",
    "#                         'text': text,\n",
    "#                         'token_pos': pos,\n",
    "#                         'token_id': token_ids[pos],\n",
    "#                         'token_text': '<PAD>',\n",
    "#                         'batch_idx': i // batch_size,\n",
    "#                         'seq_idx': j,\n",
    "#                         'flat_idx': len(all_token_info),\n",
    "#                         'is_padding': True\n",
    "#                     })\n",
    "        \n",
    "#         # Forward pass to collect activations\n",
    "#         with torch.no_grad():\n",
    "#             outputs = model(**inputs)\n",
    "    \n",
    "#     # Get collected activations (now in flattened format)\n",
    "#     activations = collector.get_activations()\n",
    "    \n",
    "#     # Filter out padding tokens from token_info to match non-zero activations\n",
    "#     non_padding_token_info = [info for info in all_token_info if not info['is_padding']]\n",
    "    \n",
    "#     print(f\"Collected activations shape: {activations.shape}\")\n",
    "#     print(f\"Non-padding tokens: {len(non_padding_token_info)}\")\n",
    "#     print(f\"Total token info entries: {len(all_token_info)}\")\n",
    "    \n",
    "#     return activations, non_padding_token_info\n",
    "\n",
    "# # Collect activations\n",
    "# activations, token_info = collect_activations(text_samples)\n",
    "# print(f\"\\nActivation statistics:\")\n",
    "# print(f\"Shape: {activations.shape}\")\n",
    "# print(f\"Mean: {activations.mean():.4f}\")\n",
    "# print(f\"Std: {activations.std():.4f}\")\n",
    "# print(f\"Min: {activations.min():.4f}\")\n",
    "# print(f\"Max: {activations.max():.4f}\")"
   ]
  },
  {
   "cell_type": "markdown",
   "metadata": {},
   "source": [
    "## 4. Implement Sparse Autoencoder\n",
    "\n",
    "Following Neel Nanda's approach, we implement a sparse autoencoder with L1 regularization to encourage sparsity and learn interpretable features."
   ]
  },
  {
   "cell_type": "code",
   "execution_count": 32,
   "metadata": {},
   "outputs": [
    {
     "name": "stdout",
     "output_type": "stream",
     "text": [
      "Sparse Autoencoder initialized:\n",
      "Input dimension: 3072\n",
      "Hidden dimension: 12288\n",
      "Expansion factor: 4.0x\n",
      "Sparsity coefficient: 0.0003\n",
      "Dtype: torch.float32\n",
      "Total parameters: 75,509,760\n"
     ]
    }
   ],
   "source": [
    "class SparseAutoencoder(nn.Module):\n",
    "    \"\"\"Sparse Autoencoder for mechanistic interpretability\n",
    "    \n",
    "    Based on the approach from \"Towards Monosemanticity: Decomposing Language Models \n",
    "    With Dictionary Learning\" and Neel Nanda's mechanistic interpretability work.\n",
    "    \"\"\"\n",
    "    \n",
    "    def __init__(self, input_dim, hidden_dim, sparsity_coeff=1e-3):\n",
    "        super().__init__()\n",
    "        self.input_dim = input_dim\n",
    "        self.hidden_dim = hidden_dim\n",
    "        self.sparsity_coeff = sparsity_coeff\n",
    "        \n",
    "        # Encoder: maps input to sparse hidden representation\n",
    "        self.encoder = nn.Linear(input_dim, hidden_dim, bias=True)\n",
    "        \n",
    "        # Decoder: reconstructs input from sparse representation\n",
    "        self.decoder = nn.Linear(hidden_dim, input_dim, bias=False)\n",
    "        \n",
    "        # Initialize weights\n",
    "        self._init_weights()\n",
    "        \n",
    "        # Normalize decoder weights (important for stability)\n",
    "        self._normalize_decoder()\n",
    "    \n",
    "    def _init_weights(self):\n",
    "        \"\"\"Initialize weights using Xavier initialization\"\"\"\n",
    "        nn.init.xavier_uniform_(self.encoder.weight)\n",
    "        nn.init.zeros_(self.encoder.bias)\n",
    "        nn.init.xavier_uniform_(self.decoder.weight)\n",
    "    \n",
    "    def _normalize_decoder(self):\n",
    "        \"\"\"Normalize decoder weight columns to unit norm\"\"\"\n",
    "        with torch.no_grad():\n",
    "            self.decoder.weight.data = F.normalize(self.decoder.weight.data, dim=1)\n",
    "    \n",
    "    def encode(self, x):\n",
    "        \"\"\"Encode input to sparse representation\"\"\"\n",
    "        # Apply linear transformation and ReLU for sparsity\n",
    "        encoded = F.relu(self.encoder(x))\n",
    "        return encoded\n",
    "    \n",
    "    def decode(self, encoded):\n",
    "        \"\"\"Decode sparse representation back to input space\"\"\"\n",
    "        return self.decoder(encoded)\n",
    "    \n",
    "    def forward(self, x):\n",
    "        \"\"\"Full forward pass with reconstruction\"\"\"\n",
    "        encoded = self.encode(x)\n",
    "        reconstructed = self.decode(encoded)\n",
    "        return reconstructed, encoded\n",
    "    \n",
    "    def compute_loss(self, x, reconstructed, encoded):\n",
    "        \"\"\"Compute total loss: reconstruction + sparsity\"\"\"\n",
    "        # Reconstruction loss (MSE)\n",
    "        reconstruction_loss = F.mse_loss(reconstructed, x, reduction='mean')\n",
    "        \n",
    "        # Sparsity loss (L1 on activations)\n",
    "        sparsity_loss = torch.mean(torch.abs(encoded))\n",
    "        \n",
    "        # Total loss\n",
    "        total_loss = reconstruction_loss + self.sparsity_coeff * sparsity_loss\n",
    "        \n",
    "        return {\n",
    "            'total_loss': total_loss,\n",
    "            'reconstruction_loss': reconstruction_loss,\n",
    "            'sparsity_loss': sparsity_loss,\n",
    "            'sparsity': (encoded > 0).float().mean()  # Fraction of active units\n",
    "        }\n",
    "    \n",
    "    def get_feature_activations(self, x, threshold=0.01):\n",
    "        \"\"\"Get indices of active features for interpretability\"\"\"\n",
    "        encoded = self.encode(x)\n",
    "        active_features = encoded > threshold\n",
    "        return encoded, active_features\n",
    "\n",
    "# Model hyperparameters\n",
    "INPUT_DIM = model.config.hidden_size  # 3072 for Llama3.2-3B\n",
    "HIDDEN_DIM = INPUT_DIM * 4  # Expansion factor of 4x (common in SAE literature)\n",
    "SPARSITY_COEFF = 3e-4  # Sparsity regularization strength\n",
    "\n",
    "# Initialize sparse autoencoder with float32 dtype\n",
    "sae = SparseAutoencoder(\n",
    "    input_dim=INPUT_DIM,\n",
    "    hidden_dim=HIDDEN_DIM,\n",
    "    sparsity_coeff=SPARSITY_COEFF\n",
    ").to(device).float()  # Ensure float32 dtype\n",
    "\n",
    "print(f\"Sparse Autoencoder initialized:\")\n",
    "print(f\"Input dimension: {INPUT_DIM}\")\n",
    "print(f\"Hidden dimension: {HIDDEN_DIM}\")\n",
    "print(f\"Expansion factor: {HIDDEN_DIM / INPUT_DIM}x\")\n",
    "print(f\"Sparsity coefficient: {SPARSITY_COEFF}\")\n",
    "print(f\"Dtype: {next(sae.parameters()).dtype}\")\n",
    "print(f\"Total parameters: {sum(p.numel() for p in sae.parameters()):,}\")"
   ]
  },
  {
   "cell_type": "markdown",
   "metadata": {},
   "source": [
    "## 5. Train the Sparse Autoencoder\n",
    "\n",
    "We'll train the SAE to learn sparse, interpretable features from the layer 5 activations."
   ]
  },
  {
   "cell_type": "code",
   "execution_count": 33,
   "metadata": {},
   "outputs": [
    {
     "name": "stdout",
     "output_type": "stream",
     "text": [
      "Training data shape: torch.Size([397225, 3072])\n",
      "Validation data shape: torch.Size([99307, 3072])\n",
      "Created data loaders with batch size 256\n"
     ]
    }
   ],
   "source": [
    "def prepare_training_data(activations, train_split=0.8):\n",
    "    \"\"\"Prepare activations for training\"\"\"\n",
    "    # Activations are already flattened: [total_tokens, hidden_dim]\n",
    "    # Remove padding tokens (zeros)\n",
    "    non_zero_mask = torch.any(activations != 0, dim=1)\n",
    "    clean_activations = activations[non_zero_mask]\n",
    "    \n",
    "    # Split into train/val\n",
    "    n_samples = clean_activations.size(0)\n",
    "    n_train = int(n_samples * train_split)\n",
    "    \n",
    "    # Shuffle indices\n",
    "    indices = torch.randperm(n_samples)\n",
    "    train_indices = indices[:n_train]\n",
    "    val_indices = indices[n_train:]\n",
    "    \n",
    "    train_data = clean_activations[train_indices]\n",
    "    val_data = clean_activations[val_indices]\n",
    "    \n",
    "    print(f\"Training data shape: {train_data.shape}\")\n",
    "    print(f\"Validation data shape: {val_data.shape}\")\n",
    "    \n",
    "    return train_data, val_data\n",
    "\n",
    "# Prepare training data\n",
    "train_data, val_data = prepare_training_data(activations)\n",
    "\n",
    "# Create data loaders\n",
    "class ActivationDataset(Dataset):\n",
    "    def __init__(self, data):\n",
    "        self.data = data\n",
    "    \n",
    "    def __len__(self):\n",
    "        return len(self.data)\n",
    "    \n",
    "    def __getitem__(self, idx):\n",
    "        return self.data[idx]\n",
    "\n",
    "BATCH_SIZE = 256\n",
    "train_dataset = ActivationDataset(train_data)\n",
    "val_dataset = ActivationDataset(val_data)\n",
    "\n",
    "train_loader = DataLoader(train_dataset, batch_size=BATCH_SIZE, shuffle=True)\n",
    "val_loader = DataLoader(val_dataset, batch_size=BATCH_SIZE, shuffle=False)\n",
    "\n",
    "print(f\"Created data loaders with batch size {BATCH_SIZE}\")"
   ]
  },
  {
   "cell_type": "code",
   "execution_count": 34,
   "metadata": {},
   "outputs": [
    {
     "name": "stdout",
     "output_type": "stream",
     "text": [
      "Starting training...\n"
     ]
    },
    {
     "name": "stderr",
     "output_type": "stream",
     "text": [
      "                                                                \r"
     ]
    },
    {
     "name": "stdout",
     "output_type": "stream",
     "text": [
      "Epoch 1/100:\n",
      "  Train Loss: 0.062473 | Val Loss: 0.002598\n",
      "  Train Recon: 0.062467 | Val Recon: 0.002590\n",
      "  Train Sparsity: 0.1155 | Val Sparsity: 0.1558\n",
      "  Learning Rate: 1.00e-03\n",
      "\n"
     ]
    },
    {
     "name": "stderr",
     "output_type": "stream",
     "text": [
      "                                                                 \r"
     ]
    },
    {
     "name": "stdout",
     "output_type": "stream",
     "text": [
      "Epoch 10/100:\n",
      "  Train Loss: 0.011861 | Val Loss: 0.002492\n",
      "  Train Recon: 0.011852 | Val Recon: 0.002482\n",
      "  Train Sparsity: 0.1336 | Val Sparsity: 0.1446\n",
      "  Learning Rate: 5.00e-04\n",
      "\n"
     ]
    },
    {
     "name": "stderr",
     "output_type": "stream",
     "text": [
      "                                                                 \r"
     ]
    },
    {
     "name": "stdout",
     "output_type": "stream",
     "text": [
      "Epoch 20/100:\n",
      "  Train Loss: 0.000730 | Val Loss: 0.000193\n",
      "  Train Recon: 0.000718 | Val Recon: 0.000181\n",
      "  Train Sparsity: 0.2339 | Val Sparsity: 0.2333\n",
      "  Learning Rate: 5.00e-04\n",
      "\n"
     ]
    },
    {
     "name": "stderr",
     "output_type": "stream",
     "text": [
      "                                                                 \r"
     ]
    },
    {
     "name": "stdout",
     "output_type": "stream",
     "text": [
      "Epoch 30/100:\n",
      "  Train Loss: 0.000574 | Val Loss: 0.000086\n",
      "  Train Recon: 0.000563 | Val Recon: 0.000075\n",
      "  Train Sparsity: 0.2401 | Val Sparsity: 0.2420\n",
      "  Learning Rate: 5.00e-04\n",
      "\n"
     ]
    },
    {
     "name": "stderr",
     "output_type": "stream",
     "text": [
      "                                                                 \r"
     ]
    },
    {
     "name": "stdout",
     "output_type": "stream",
     "text": [
      "Epoch 40/100:\n",
      "  Train Loss: 0.000360 | Val Loss: 0.000068\n",
      "  Train Recon: 0.000349 | Val Recon: 0.000057\n",
      "  Train Sparsity: 0.2415 | Val Sparsity: 0.2434\n",
      "  Learning Rate: 5.00e-04\n",
      "\n"
     ]
    },
    {
     "name": "stderr",
     "output_type": "stream",
     "text": [
      "                                                                 \r"
     ]
    },
    {
     "name": "stdout",
     "output_type": "stream",
     "text": [
      "Epoch 50/100:\n",
      "  Train Loss: 0.000186 | Val Loss: 0.000146\n",
      "  Train Recon: 0.000175 | Val Recon: 0.000134\n",
      "  Train Sparsity: 0.2462 | Val Sparsity: 0.2463\n",
      "  Learning Rate: 2.50e-04\n",
      "\n"
     ]
    },
    {
     "name": "stderr",
     "output_type": "stream",
     "text": [
      "                                                                 \r"
     ]
    },
    {
     "name": "stdout",
     "output_type": "stream",
     "text": [
      "Epoch 60/100:\n",
      "  Train Loss: 0.000051 | Val Loss: 0.000024\n",
      "  Train Recon: 0.000040 | Val Recon: 0.000012\n",
      "  Train Sparsity: 0.2474 | Val Sparsity: 0.2469\n",
      "  Learning Rate: 1.25e-04\n",
      "\n"
     ]
    },
    {
     "name": "stderr",
     "output_type": "stream",
     "text": [
      "                                                                 \r"
     ]
    },
    {
     "name": "stdout",
     "output_type": "stream",
     "text": [
      "Epoch 70/100:\n",
      "  Train Loss: 0.000015 | Val Loss: 0.000018\n",
      "  Train Recon: 0.000004 | Val Recon: 0.000006\n",
      "  Train Sparsity: 0.2477 | Val Sparsity: 0.2471\n",
      "  Learning Rate: 6.25e-05\n",
      "\n"
     ]
    },
    {
     "name": "stderr",
     "output_type": "stream",
     "text": [
      "                                                                 \r"
     ]
    },
    {
     "name": "stdout",
     "output_type": "stream",
     "text": [
      "Epoch 80/100:\n",
      "  Train Loss: 0.000014 | Val Loss: 0.000022\n",
      "  Train Recon: 0.000002 | Val Recon: 0.000010\n",
      "  Train Sparsity: 0.2477 | Val Sparsity: 0.2472\n",
      "  Learning Rate: 3.13e-05\n",
      "\n"
     ]
    },
    {
     "name": "stderr",
     "output_type": "stream",
     "text": [
      "                                                                 \r"
     ]
    },
    {
     "name": "stdout",
     "output_type": "stream",
     "text": [
      "Epoch 90/100:\n",
      "  Train Loss: 0.000013 | Val Loss: 0.000018\n",
      "  Train Recon: 0.000002 | Val Recon: 0.000006\n",
      "  Train Sparsity: 0.2477 | Val Sparsity: 0.2472\n",
      "  Learning Rate: 3.13e-05\n",
      "\n"
     ]
    },
    {
     "name": "stderr",
     "output_type": "stream",
     "text": [
      "                                                                  \r"
     ]
    },
    {
     "name": "stdout",
     "output_type": "stream",
     "text": [
      "Epoch 100/100:\n",
      "  Train Loss: 0.000013 | Val Loss: 0.000016\n",
      "  Train Recon: 0.000001 | Val Recon: 0.000005\n",
      "  Train Sparsity: 0.2476 | Val Sparsity: 0.2471\n",
      "  Learning Rate: 1.56e-05\n",
      "\n",
      "Training completed!\n"
     ]
    }
   ],
   "source": [
    "def train_sparse_autoencoder(sae, train_loader, val_loader, num_epochs=250, lr=1e-3):\n",
    "    \"\"\"Train the sparse autoencoder\"\"\"\n",
    "    optimizer = torch.optim.Adam(sae.parameters(), lr=lr)\n",
    "    scheduler = torch.optim.lr_scheduler.ReduceLROnPlateau(\n",
    "        optimizer, mode='min', factor=0.5, patience=5, verbose=True\n",
    "    )\n",
    "    \n",
    "    train_losses = []\n",
    "    val_losses = []\n",
    "    sparsity_history = []\n",
    "    \n",
    "    best_val_loss = float('inf')\n",
    "    \n",
    "    for epoch in range(num_epochs):\n",
    "        # Training phase\n",
    "        sae.train()\n",
    "        train_loss_sum = 0\n",
    "        train_recon_sum = 0\n",
    "        train_sparsity_sum = 0\n",
    "        train_sparsity_rate = 0\n",
    "        \n",
    "        for batch in tqdm(train_loader, desc=f\"Epoch {epoch+1}/{num_epochs}\", leave=False):\n",
    "            # Ensure batch is float32 and on correct device\n",
    "            batch = batch.to(device).float()\n",
    "            \n",
    "            optimizer.zero_grad()\n",
    "            \n",
    "            # Forward pass\n",
    "            reconstructed, encoded = sae(batch)\n",
    "            \n",
    "            # Compute loss\n",
    "            loss_dict = sae.compute_loss(batch, reconstructed, encoded)\n",
    "            loss = loss_dict['total_loss']\n",
    "            \n",
    "            # Backward pass\n",
    "            loss.backward()\n",
    "            \n",
    "            # Gradient clipping for stability\n",
    "            torch.nn.utils.clip_grad_norm_(sae.parameters(), max_norm=1.0)\n",
    "            \n",
    "            optimizer.step()\n",
    "            \n",
    "            # Normalize decoder weights after each update\n",
    "            sae._normalize_decoder()\n",
    "            \n",
    "            # Accumulate losses\n",
    "            train_loss_sum += loss.item()\n",
    "            train_recon_sum += loss_dict['reconstruction_loss'].item()\n",
    "            train_sparsity_sum += loss_dict['sparsity_loss'].item()\n",
    "            train_sparsity_rate += loss_dict['sparsity'].item()\n",
    "        \n",
    "        # Validation phase\n",
    "        sae.eval()\n",
    "        val_loss_sum = 0\n",
    "        val_recon_sum = 0\n",
    "        val_sparsity_sum = 0\n",
    "        val_sparsity_rate = 0\n",
    "        \n",
    "        with torch.no_grad():\n",
    "            for batch in val_loader:\n",
    "                # Ensure batch is float32 and on correct device\n",
    "                batch = batch.to(device).float()\n",
    "                \n",
    "                reconstructed, encoded = sae(batch)\n",
    "                loss_dict = sae.compute_loss(batch, reconstructed, encoded)\n",
    "                \n",
    "                val_loss_sum += loss_dict['total_loss'].item()\n",
    "                val_recon_sum += loss_dict['reconstruction_loss'].item()\n",
    "                val_sparsity_sum += loss_dict['sparsity_loss'].item()\n",
    "                val_sparsity_rate += loss_dict['sparsity'].item()\n",
    "        \n",
    "        # Calculate average losses\n",
    "        train_loss_avg = train_loss_sum / len(train_loader)\n",
    "        val_loss_avg = val_loss_sum / len(val_loader)\n",
    "        train_sparsity_avg = train_sparsity_rate / len(train_loader)\n",
    "        val_sparsity_avg = val_sparsity_rate / len(val_loader)\n",
    "        \n",
    "        train_losses.append(train_loss_avg)\n",
    "        val_losses.append(val_loss_avg)\n",
    "        sparsity_history.append(val_sparsity_avg)\n",
    "        \n",
    "        # Update learning rate\n",
    "        scheduler.step(val_loss_avg)\n",
    "        \n",
    "        # Save best model\n",
    "        if val_loss_avg < best_val_loss:\n",
    "            best_val_loss = val_loss_avg\n",
    "            torch.save(sae.state_dict(), 'best_sae_model.pth')\n",
    "        \n",
    "        # Print progress\n",
    "        if (epoch + 1) % 10 == 0 or epoch == 0:\n",
    "            print(f\"Epoch {epoch+1}/{num_epochs}:\")\n",
    "            print(f\"  Train Loss: {train_loss_avg:.6f} | Val Loss: {val_loss_avg:.6f}\")\n",
    "            print(f\"  Train Recon: {train_recon_sum/len(train_loader):.6f} | Val Recon: {val_recon_sum/len(val_loader):.6f}\")\n",
    "            print(f\"  Train Sparsity: {train_sparsity_avg:.4f} | Val Sparsity: {val_sparsity_avg:.4f}\")\n",
    "            print(f\"  Learning Rate: {optimizer.param_groups[0]['lr']:.2e}\")\n",
    "            print()\n",
    "    \n",
    "    return {\n",
    "        'train_losses': train_losses,\n",
    "        'val_losses': val_losses,\n",
    "        'sparsity_history': sparsity_history\n",
    "    }\n",
    "\n",
    "# Train the sparse autoencoder\n",
    "print(\"Starting training...\")\n",
    "training_history = train_sparse_autoencoder(\n",
    "    sae, train_loader, val_loader, \n",
    "    num_epochs=100, lr=1e-3\n",
    ")\n",
    "\n",
    "print(\"Training completed!\")"
   ]
  },
  {
   "cell_type": "markdown",
   "metadata": {},
   "source": [
    "## 6. Visualize Training Progress"
   ]
  },
  {
   "cell_type": "code",
   "execution_count": 35,
   "metadata": {},
   "outputs": [
    {
     "data": {
      "image/png": "[encoded data removed]",
      "text/plain": [
       "<Figure size 1500x500 with 2 Axes>"
      ]
     },
     "metadata": {},
     "output_type": "display_data"
    },
    {
     "name": "stdout",
     "output_type": "stream",
     "text": [
      "Final validation loss: 0.000016\n",
      "Final sparsity (fraction active): 0.2471\n",
      "Final sparsity percentage: 24.71%\n"
     ]
    }
   ],
   "source": [
    "# Plot training curves\n",
    "fig, axes = plt.subplots(1, 2, figsize=(15, 5))\n",
    "\n",
    "# Loss curves\n",
    "axes[0].plot(training_history['train_losses'], label='Train Loss', alpha=0.7)\n",
    "axes[0].plot(training_history['val_losses'], label='Validation Loss', alpha=0.7)\n",
    "axes[0].set_xlabel('Epoch')\n",
    "axes[0].set_ylabel('Loss')\n",
    "axes[0].set_title('Training and Validation Loss')\n",
    "axes[0].legend()\n",
    "axes[0].grid(True, alpha=0.3)\n",
    "\n",
    "# Sparsity evolution\n",
    "axes[1].plot(training_history['sparsity_history'], color='green', alpha=0.7)\n",
    "axes[1].set_xlabel('Epoch')\n",
    "axes[1].set_ylabel('Fraction of Active Features')\n",
    "axes[1].set_title('Sparsity Evolution During Training')\n",
    "axes[1].grid(True, alpha=0.3)\n",
    "\n",
    "plt.tight_layout()\n",
    "plt.show()\n",
    "\n",
    "# Print final statistics\n",
    "final_val_loss = training_history['val_losses'][-1]\n",
    "final_sparsity = training_history['sparsity_history'][-1]\n",
    "print(f\"Final validation loss: {final_val_loss:.6f}\")\n",
    "print(f\"Final sparsity (fraction active): {final_sparsity:.4f}\")\n",
    "print(f\"Final sparsity percentage: {final_sparsity*100:.2f}%\")"
   ]
  },
  {
   "cell_type": "markdown",
   "metadata": {},
   "source": [
    "## 7. Feature Interpretation and Analysis\n",
    "\n",
    "Now comes the crucial part: interpreting what each learned feature represents. This is the key to understanding the model's internal representations."
   ]
  },
  {
   "cell_type": "code",
   "execution_count": 36,
   "metadata": {},
   "outputs": [
    {
     "name": "stdout",
     "output_type": "stream",
     "text": [
      "Analyzing feature activations...\n",
      "Clean activations shape: torch.Size([496532, 3072])\n",
      "Clean token info length: 412068\n"
     ]
    },
    {
     "ename": "OutOfMemoryError",
     "evalue": "CUDA out of memory. Tried to allocate 22.73 GiB. GPU 0 has a total capacity of 22.18 GiB of which 4.64 GiB is free. Including non-PyTorch memory, this process has 17.54 GiB memory in use. Of the allocated memory 16.92 GiB is allocated by PyTorch, and 324.25 MiB is reserved by PyTorch but unallocated. If reserved but unallocated memory is large try setting PYTORCH_CUDA_ALLOC_CONF=expandable_segments:True to avoid fragmentation.  See documentation for Memory Management  (https://pytorch.org/docs/stable/notes/cuda.html#environment-variables)",
     "output_type": "error",
     "traceback": [
      "\u001b[0;31m---------------------------------------------------------------------------\u001b[0m",
      "\u001b[0;31mOutOfMemoryError\u001b[0m                          Traceback (most recent call last)",
      "Cell \u001b[0;32mIn[36], line 219\u001b[0m\n\u001b[1;32m    216\u001b[0m         \u001b[38;5;28;01mreturn\u001b[39;00m \u001b[38;5;124mf\u001b[39m\u001b[38;5;124m\"\u001b[39m\u001b[38;5;124mAbstract concept (diverse tokens: \u001b[39m\u001b[38;5;132;01m{\u001b[39;00m\u001b[38;5;28mlist\u001b[39m(\u001b[38;5;28mset\u001b[39m(tokens))[:\u001b[38;5;241m5\u001b[39m]\u001b[38;5;132;01m}\u001b[39;00m\u001b[38;5;124m)\u001b[39m\u001b[38;5;124m\"\u001b[39m\n\u001b[1;32m    218\u001b[0m \u001b[38;5;66;03m# Initialize feature interpreter with category information\u001b[39;00m\n\u001b[0;32m--> 219\u001b[0m interpreter \u001b[38;5;241m=\u001b[39m \u001b[43mFeatureInterpreter\u001b[49m\u001b[43m(\u001b[49m\u001b[43msae\u001b[49m\u001b[43m,\u001b[49m\u001b[43m \u001b[49m\u001b[43mtokenizer\u001b[49m\u001b[43m,\u001b[49m\u001b[43m \u001b[49m\u001b[43mtext_samples\u001b[49m\u001b[43m,\u001b[49m\u001b[43m \u001b[49m\u001b[43mactivations\u001b[49m\u001b[43m,\u001b[49m\u001b[43m \u001b[49m\u001b[43mtoken_info\u001b[49m\u001b[43m,\u001b[49m\u001b[43m \u001b[49m\u001b[43mtext_to_category\u001b[49m\u001b[43m)\u001b[49m\n\u001b[1;32m    221\u001b[0m \u001b[38;5;66;03m# Interpret top features\u001b[39;00m\n\u001b[1;32m    222\u001b[0m \u001b[38;5;28mprint\u001b[39m(\u001b[38;5;124m\"\u001b[39m\u001b[38;5;130;01m\\n\u001b[39;00m\u001b[38;5;124m\"\u001b[39m \u001b[38;5;241m+\u001b[39m \u001b[38;5;124m\"\u001b[39m\u001b[38;5;124m=\u001b[39m\u001b[38;5;124m\"\u001b[39m\u001b[38;5;241m*\u001b[39m\u001b[38;5;241m60\u001b[39m)\n",
      "Cell \u001b[0;32mIn[36], line 17\u001b[0m, in \u001b[0;36mFeatureInterpreter.__init__\u001b[0;34m(self, sae, tokenizer, text_samples, activations, token_info, text_to_category)\u001b[0m\n\u001b[1;32m     14\u001b[0m \u001b[38;5;28mself\u001b[39m\u001b[38;5;241m.\u001b[39mtext_to_category \u001b[38;5;241m=\u001b[39m text_to_category \u001b[38;5;129;01mor\u001b[39;00m {}\n\u001b[1;32m     16\u001b[0m \u001b[38;5;66;03m# Analyze feature activations\u001b[39;00m\n\u001b[0;32m---> 17\u001b[0m \u001b[38;5;28;43mself\u001b[39;49m\u001b[38;5;241;43m.\u001b[39;49m\u001b[43manalyze_features\u001b[49m\u001b[43m(\u001b[49m\u001b[43m)\u001b[49m\n",
      "Cell \u001b[0;32mIn[36], line 36\u001b[0m, in \u001b[0;36mFeatureInterpreter.analyze_features\u001b[0;34m(self)\u001b[0m\n\u001b[1;32m     33\u001b[0m \u001b[38;5;28mprint\u001b[39m(\u001b[38;5;124mf\u001b[39m\u001b[38;5;124m\"\u001b[39m\u001b[38;5;124mClean token info length: \u001b[39m\u001b[38;5;132;01m{\u001b[39;00m\u001b[38;5;28mlen\u001b[39m(\u001b[38;5;28mself\u001b[39m\u001b[38;5;241m.\u001b[39mclean_token_info)\u001b[38;5;132;01m}\u001b[39;00m\u001b[38;5;124m\"\u001b[39m)\n\u001b[1;32m     35\u001b[0m \u001b[38;5;28;01mwith\u001b[39;00m torch\u001b[38;5;241m.\u001b[39mno_grad():\n\u001b[0;32m---> 36\u001b[0m     encoded_features, active_features \u001b[38;5;241m=\u001b[39m \u001b[38;5;28;43mself\u001b[39;49m\u001b[38;5;241;43m.\u001b[39;49m\u001b[43msae\u001b[49m\u001b[38;5;241;43m.\u001b[39;49m\u001b[43mget_feature_activations\u001b[49m\u001b[43m(\u001b[49m\n\u001b[1;32m     37\u001b[0m \u001b[43m        \u001b[49m\u001b[43mclean_activations\u001b[49m\u001b[43m,\u001b[49m\u001b[43m \u001b[49m\u001b[43mthreshold\u001b[49m\u001b[38;5;241;43m=\u001b[39;49m\u001b[38;5;241;43m0.1\u001b[39;49m\n\u001b[1;32m     38\u001b[0m \u001b[43m    \u001b[49m\u001b[43m)\u001b[49m\n\u001b[1;32m     40\u001b[0m \u001b[38;5;28mself\u001b[39m\u001b[38;5;241m.\u001b[39mencoded_features \u001b[38;5;241m=\u001b[39m encoded_features\u001b[38;5;241m.\u001b[39mcpu()\n\u001b[1;32m     41\u001b[0m \u001b[38;5;28mself\u001b[39m\u001b[38;5;241m.\u001b[39mactive_features \u001b[38;5;241m=\u001b[39m active_features\u001b[38;5;241m.\u001b[39mcpu()\n",
      "Cell \u001b[0;32mIn[32], line 73\u001b[0m, in \u001b[0;36mSparseAutoencoder.get_feature_activations\u001b[0;34m(self, x, threshold)\u001b[0m\n\u001b[1;32m     71\u001b[0m \u001b[38;5;28;01mdef\u001b[39;00m \u001b[38;5;21mget_feature_activations\u001b[39m(\u001b[38;5;28mself\u001b[39m, x, threshold\u001b[38;5;241m=\u001b[39m\u001b[38;5;241m0.01\u001b[39m):\n\u001b[1;32m     72\u001b[0m \u001b[38;5;250m    \u001b[39m\u001b[38;5;124;03m\"\"\"Get indices of active features for interpretability\"\"\"\u001b[39;00m\n\u001b[0;32m---> 73\u001b[0m     encoded \u001b[38;5;241m=\u001b[39m \u001b[38;5;28;43mself\u001b[39;49m\u001b[38;5;241;43m.\u001b[39;49m\u001b[43mencode\u001b[49m\u001b[43m(\u001b[49m\u001b[43mx\u001b[49m\u001b[43m)\u001b[49m\n\u001b[1;32m     74\u001b[0m     active_features \u001b[38;5;241m=\u001b[39m encoded \u001b[38;5;241m>\u001b[39m threshold\n\u001b[1;32m     75\u001b[0m     \u001b[38;5;28;01mreturn\u001b[39;00m encoded, active_features\n",
      "Cell \u001b[0;32mIn[32], line 40\u001b[0m, in \u001b[0;36mSparseAutoencoder.encode\u001b[0;34m(self, x)\u001b[0m\n\u001b[1;32m     38\u001b[0m \u001b[38;5;250m\u001b[39m\u001b[38;5;124;03m\"\"\"Encode input to sparse representation\"\"\"\u001b[39;00m\n\u001b[1;32m     39\u001b[0m \u001b[38;5;66;03m# Apply linear transformation and ReLU for sparsity\u001b[39;00m\n\u001b[0;32m---> 40\u001b[0m encoded \u001b[38;5;241m=\u001b[39m F\u001b[38;5;241m.\u001b[39mrelu(\u001b[38;5;28;43mself\u001b[39;49m\u001b[38;5;241;43m.\u001b[39;49m\u001b[43mencoder\u001b[49m\u001b[43m(\u001b[49m\u001b[43mx\u001b[49m\u001b[43m)\u001b[49m)\n\u001b[1;32m     41\u001b[0m \u001b[38;5;28;01mreturn\u001b[39;00m encoded\n",
      "File \u001b[0;32m/opt/conda/envs/fbench/lib/python3.11/site-packages/torch/nn/modules/module.py:1739\u001b[0m, in \u001b[0;36mModule._wrapped_call_impl\u001b[0;34m(self, *args, **kwargs)\u001b[0m\n\u001b[1;32m   1737\u001b[0m     \u001b[38;5;28;01mreturn\u001b[39;00m \u001b[38;5;28mself\u001b[39m\u001b[38;5;241m.\u001b[39m_compiled_call_impl(\u001b[38;5;241m*\u001b[39margs, \u001b[38;5;241m*\u001b[39m\u001b[38;5;241m*\u001b[39mkwargs)  \u001b[38;5;66;03m# type: ignore[misc]\u001b[39;00m\n\u001b[1;32m   1738\u001b[0m \u001b[38;5;28;01melse\u001b[39;00m:\n\u001b[0;32m-> 1739\u001b[0m     \u001b[38;5;28;01mreturn\u001b[39;00m \u001b[38;5;28;43mself\u001b[39;49m\u001b[38;5;241;43m.\u001b[39;49m\u001b[43m_call_impl\u001b[49m\u001b[43m(\u001b[49m\u001b[38;5;241;43m*\u001b[39;49m\u001b[43margs\u001b[49m\u001b[43m,\u001b[49m\u001b[43m \u001b[49m\u001b[38;5;241;43m*\u001b[39;49m\u001b[38;5;241;43m*\u001b[39;49m\u001b[43mkwargs\u001b[49m\u001b[43m)\u001b[49m\n",
      "File \u001b[0;32m/opt/conda/envs/fbench/lib/python3.11/site-packages/torch/nn/modules/module.py:1750\u001b[0m, in \u001b[0;36mModule._call_impl\u001b[0;34m(self, *args, **kwargs)\u001b[0m\n\u001b[1;32m   1745\u001b[0m \u001b[38;5;66;03m# If we don't have any hooks, we want to skip the rest of the logic in\u001b[39;00m\n\u001b[1;32m   1746\u001b[0m \u001b[38;5;66;03m# this function, and just call forward.\u001b[39;00m\n\u001b[1;32m   1747\u001b[0m \u001b[38;5;28;01mif\u001b[39;00m \u001b[38;5;129;01mnot\u001b[39;00m (\u001b[38;5;28mself\u001b[39m\u001b[38;5;241m.\u001b[39m_backward_hooks \u001b[38;5;129;01mor\u001b[39;00m \u001b[38;5;28mself\u001b[39m\u001b[38;5;241m.\u001b[39m_backward_pre_hooks \u001b[38;5;129;01mor\u001b[39;00m \u001b[38;5;28mself\u001b[39m\u001b[38;5;241m.\u001b[39m_forward_hooks \u001b[38;5;129;01mor\u001b[39;00m \u001b[38;5;28mself\u001b[39m\u001b[38;5;241m.\u001b[39m_forward_pre_hooks\n\u001b[1;32m   1748\u001b[0m         \u001b[38;5;129;01mor\u001b[39;00m _global_backward_pre_hooks \u001b[38;5;129;01mor\u001b[39;00m _global_backward_hooks\n\u001b[1;32m   1749\u001b[0m         \u001b[38;5;129;01mor\u001b[39;00m _global_forward_hooks \u001b[38;5;129;01mor\u001b[39;00m _global_forward_pre_hooks):\n\u001b[0;32m-> 1750\u001b[0m     \u001b[38;5;28;01mreturn\u001b[39;00m \u001b[43mforward_call\u001b[49m\u001b[43m(\u001b[49m\u001b[38;5;241;43m*\u001b[39;49m\u001b[43margs\u001b[49m\u001b[43m,\u001b[49m\u001b[43m \u001b[49m\u001b[38;5;241;43m*\u001b[39;49m\u001b[38;5;241;43m*\u001b[39;49m\u001b[43mkwargs\u001b[49m\u001b[43m)\u001b[49m\n\u001b[1;32m   1752\u001b[0m result \u001b[38;5;241m=\u001b[39m \u001b[38;5;28;01mNone\u001b[39;00m\n\u001b[1;32m   1753\u001b[0m called_always_called_hooks \u001b[38;5;241m=\u001b[39m \u001b[38;5;28mset\u001b[39m()\n",
      "File \u001b[0;32m/opt/conda/envs/fbench/lib/python3.11/site-packages/torch/nn/modules/linear.py:125\u001b[0m, in \u001b[0;36mLinear.forward\u001b[0;34m(self, input)\u001b[0m\n\u001b[1;32m    124\u001b[0m \u001b[38;5;28;01mdef\u001b[39;00m \u001b[38;5;21mforward\u001b[39m(\u001b[38;5;28mself\u001b[39m, \u001b[38;5;28minput\u001b[39m: Tensor) \u001b[38;5;241m-\u001b[39m\u001b[38;5;241m>\u001b[39m Tensor:\n\u001b[0;32m--> 125\u001b[0m     \u001b[38;5;28;01mreturn\u001b[39;00m \u001b[43mF\u001b[49m\u001b[38;5;241;43m.\u001b[39;49m\u001b[43mlinear\u001b[49m\u001b[43m(\u001b[49m\u001b[38;5;28;43minput\u001b[39;49m\u001b[43m,\u001b[49m\u001b[43m \u001b[49m\u001b[38;5;28;43mself\u001b[39;49m\u001b[38;5;241;43m.\u001b[39;49m\u001b[43mweight\u001b[49m\u001b[43m,\u001b[49m\u001b[43m \u001b[49m\u001b[38;5;28;43mself\u001b[39;49m\u001b[38;5;241;43m.\u001b[39;49m\u001b[43mbias\u001b[49m\u001b[43m)\u001b[49m\n",
      "\u001b[0;31mOutOfMemoryError\u001b[0m: CUDA out of memory. Tried to allocate 22.73 GiB. GPU 0 has a total capacity of 22.18 GiB of which 4.64 GiB is free. Including non-PyTorch memory, this process has 17.54 GiB memory in use. Of the allocated memory 16.92 GiB is allocated by PyTorch, and 324.25 MiB is reserved by PyTorch but unallocated. If reserved but unallocated memory is large try setting PYTORCH_CUDA_ALLOC_CONF=expandable_segments:True to avoid fragmentation.  See documentation for Memory Management  (https://pytorch.org/docs/stable/notes/cuda.html#environment-variables)"
     ]
    }
   ],
   "source": [
    "# Load best model\n",
    "sae.load_state_dict(torch.load('best_sae_model.pth'))\n",
    "sae.eval()\n",
    "\n",
    "class FeatureInterpreter:\n",
    "    \"\"\"Analyze and interpret learned sparse autoencoder features\"\"\"\n",
    "    \n",
    "    def __init__(self, sae, tokenizer, text_samples, activations, token_info, text_to_category=None):\n",
    "        self.sae = sae\n",
    "        self.tokenizer = tokenizer\n",
    "        self.text_samples = text_samples\n",
    "        self.activations = activations\n",
    "        self.token_info = token_info\n",
    "        self.text_to_category = text_to_category or {}\n",
    "        \n",
    "        # Analyze feature activations\n",
    "        self.analyze_features()\n",
    "    \n",
    "    def analyze_features(self):\n",
    "        \"\"\"Analyze which features activate for which inputs\"\"\"\n",
    "        print(\"Analyzing feature activations...\")\n",
    "        \n",
    "        # Activations are already flattened: [total_tokens, hidden_dim]\n",
    "        # Remove padding tokens (zeros)\n",
    "        non_zero_mask = torch.any(self.activations != 0, dim=1)\n",
    "        clean_activations = self.activations[non_zero_mask].to(device).float()\n",
    "        \n",
    "        # Update token_info to match clean activations\n",
    "        self.clean_token_info = [info for i, info in enumerate(self.token_info) \n",
    "                                if i < len(non_zero_mask) and non_zero_mask[i]]\n",
    "        \n",
    "        print(f\"Clean activations shape: {clean_activations.shape}\")\n",
    "        print(f\"Clean token info length: {len(self.clean_token_info)}\")\n",
    "        \n",
    "        with torch.no_grad():\n",
    "            encoded_features, active_features = self.sae.get_feature_activations(\n",
    "                clean_activations, threshold=0.1\n",
    "            )\n",
    "        \n",
    "        self.encoded_features = encoded_features.cpu()\n",
    "        self.active_features = active_features.cpu()\n",
    "        \n",
    "        # Calculate feature statistics\n",
    "        self.feature_activation_rates = self.active_features.float().mean(dim=0)\n",
    "        self.feature_mean_activations = self.encoded_features.mean(dim=0)\n",
    "        self.feature_max_activations = self.encoded_features.max(dim=0)[0]\n",
    "        \n",
    "        print(f\"Feature analysis complete.\")\n",
    "        print(f\"Average activation rate: {self.feature_activation_rates.mean():.4f}\")\n",
    "        print(f\"Most active features: {self.feature_activation_rates.topk(5)[1].tolist()}\")\n",
    "    \n",
    "    def get_top_features(self, criterion='activation_rate', top_k=20):\n",
    "        \"\"\"Get top features by different criteria\"\"\"\n",
    "        if criterion == 'activation_rate':\n",
    "            values, indices = self.feature_activation_rates.topk(top_k)\n",
    "        elif criterion == 'mean_activation':\n",
    "            values, indices = self.feature_mean_activations.topk(top_k)\n",
    "        elif criterion == 'max_activation':\n",
    "            values, indices = self.feature_max_activations.topk(top_k)\n",
    "        else:\n",
    "            raise ValueError(f\"Unknown criterion: {criterion}\")\n",
    "        \n",
    "        return indices.tolist(), values.tolist()\n",
    "    \n",
    "    def analyze_feature_selectivity(self, feature_idx, threshold=0.5):\n",
    "        \"\"\"Analyze what activates a specific feature\"\"\"\n",
    "        # Get activations for this feature\n",
    "        feature_activations = self.encoded_features[:, feature_idx]\n",
    "        \n",
    "        # Find samples where this feature is highly active\n",
    "        high_activation_mask = feature_activations > threshold\n",
    "        high_activation_indices = torch.where(high_activation_mask)[0]\n",
    "        \n",
    "        if len(high_activation_indices) == 0:\n",
    "            return None\n",
    "        \n",
    "        # Map back to original tokens using proper token info\n",
    "        activating_examples = []\n",
    "        \n",
    "        sample_indices = high_activation_indices[:min(15, len(high_activation_indices))]\n",
    "        \n",
    "        for idx in sample_indices:\n",
    "            idx_val = idx.item()\n",
    "            if idx_val < len(self.clean_token_info):\n",
    "                activation_value = feature_activations[idx].item()\n",
    "                token_info = self.clean_token_info[idx_val]\n",
    "                \n",
    "                # Get category information if available\n",
    "                category = self.text_to_category.get(token_info['text'], 'unknown')\n",
    "                \n",
    "                activating_examples.append({\n",
    "                    'activation': activation_value,\n",
    "                    'text': token_info['text'],\n",
    "                    'token_text': token_info['token_text'],\n",
    "                    'token_pos': token_info['token_pos'],\n",
    "                    'token_id': token_info['token_id'],\n",
    "                    'category': category,\n",
    "                    'flat_idx': idx_val\n",
    "                })\n",
    "        \n",
    "        # Sort by activation strength\n",
    "        activating_examples.sort(key=lambda x: x['activation'], reverse=True)\n",
    "        return activating_examples\n",
    "    \n",
    "    def interpret_top_features(self, top_k=10):\n",
    "        \"\"\"Interpret the most important features\"\"\"\n",
    "        feature_indices, activation_rates = self.get_top_features('activation_rate', top_k)\n",
    "        \n",
    "        interpretations = []\n",
    "        \n",
    "        for i, (feat_idx, rate) in enumerate(zip(feature_indices, activation_rates)):\n",
    "            print(f\"\\n=== Feature {feat_idx} (Rank {i+1}) ===\")\n",
    "            print(f\"Activation rate: {rate:.4f} ({rate*100:.2f}%)\")\n",
    "            print(f\"Mean activation: {self.feature_mean_activations[feat_idx]:.4f}\")\n",
    "            print(f\"Max activation: {self.feature_max_activations[feat_idx]:.4f}\")\n",
    "            \n",
    "            # Analyze what activates this feature\n",
    "            examples = self.analyze_feature_selectivity(feat_idx, threshold=0.3)\n",
    "            \n",
    "            if examples:\n",
    "                print(\"\\nTop activating examples:\")\n",
    "                for j, example in enumerate(examples[:8]):  # Show more examples with BBC data\n",
    "                    print(f\"  {j+1}. (Activation: {example['activation']:.3f}) [{example['category']}]\")\n",
    "                    print(f\"     Token: '{example['token_text']}' (pos: {example['token_pos']})\")\n",
    "                    print(f\"     Text: {example['text'][:90]}...\")\n",
    "                    print()\n",
    "                \n",
    "                # Try to infer what this feature represents\n",
    "                interpretation = self.infer_feature_meaning(examples)\n",
    "                print(f\"Possible interpretation: {interpretation}\")\n",
    "                \n",
    "                interpretations.append({\n",
    "                    'feature_idx': feat_idx,\n",
    "                    'activation_rate': rate,\n",
    "                    'interpretation': interpretation,\n",
    "                    'examples': examples[:5]\n",
    "                })\n",
    "            else:\n",
    "                print(\"No high-activation examples found.\")\n",
    "                interpretations.append({\n",
    "                    'feature_idx': feat_idx,\n",
    "                    'activation_rate': rate,\n",
    "                    'interpretation': \"Sparse or inactive feature\",\n",
    "                    'examples': []\n",
    "                })\n",
    "        \n",
    "        return interpretations\n",
    "    \n",
    "    def infer_feature_meaning(self, examples):\n",
    "        \"\"\"Heuristically infer what a feature might represent\"\"\"\n",
    "        if not examples:\n",
    "            return \"Unknown - no activating examples\"\n",
    "        \n",
    "        # Analyze tokens that activate this feature\n",
    "        tokens = [ex['token_text'].lower().strip() for ex in examples]\n",
    "        texts = [ex['text'].lower() for ex in examples]\n",
    "        categories = [ex['category'] for ex in examples]\n",
    "        \n",
    "        # Check for specific token patterns first\n",
    "        if any(token in ['the', 'a', 'an'] for token in tokens):\n",
    "            return \"Likely represents: Articles/Determiners\"\n",
    "        \n",
    "        if any(token in ['is', 'are', 'was', 'were', 'be', 'been'] for token in tokens):\n",
    "            return \"Likely represents: Copula/Being verbs\"\n",
    "        \n",
    "        if any(token in ['of', 'in', 'on', 'at', 'by', 'for', 'with'] for token in tokens):\n",
    "            return \"Likely represents: Prepositions\"\n",
    "        \n",
    "        if any(token in ['and', 'or', 'but', 'so', 'yet'] for token in tokens):\n",
    "            return \"Likely represents: Conjunctions\"\n",
    "        \n",
    "        # Analyze news categories\n",
    "        category_counts = defaultdict(int)\n",
    "        for cat in categories:\n",
    "            category_counts[cat] += 1\n",
    "        \n",
    "        most_common_category = max(category_counts, key=category_counts.get) if category_counts else None\n",
    "        \n",
    "        # Check for BBC News specific themes\n",
    "        news_themes = {\n",
    "            'business': ['business', 'company', 'market', 'economy', 'financial', 'profit', 'stock', 'trade', 'corporate'],\n",
    "            'sport': ['sport', 'game', 'team', 'player', 'match', 'win', 'champion', 'league', 'football', 'cricket'],\n",
    "            'tech': ['technology', 'computer', 'internet', 'digital', 'software', 'tech', 'mobile', 'app', 'data'],\n",
    "            'entertainment': ['film', 'music', 'actor', 'show', 'star', 'album', 'movie', 'band', 'entertainment'],\n",
    "            'politics': ['government', 'minister', 'election', 'party', 'political', 'parliament', 'vote', 'policy']\n",
    "        }\n",
    "        \n",
    "        # Score themes based on tokens and text context\n",
    "        theme_scores = {}\n",
    "        for theme, keywords in news_themes.items():\n",
    "            token_score = sum(1 for token in tokens if any(kw in token for kw in keywords))\n",
    "            text_score = sum(1 for text in texts for keyword in keywords if keyword in text)\n",
    "            category_score = 2 if most_common_category and theme in most_common_category.lower() else 0\n",
    "            theme_scores[theme] = token_score * 3 + text_score + category_score\n",
    "        \n",
    "        # Find the most common theme\n",
    "        if theme_scores:\n",
    "            best_theme = max(theme_scores, key=theme_scores.get)\n",
    "            if theme_scores[best_theme] > 0:\n",
    "                common_tokens = list(set(tokens))[:3]\n",
    "                category_info = f\" (common in {most_common_category})\" if most_common_category != 'unknown' else \"\"\n",
    "                return f\"Likely represents: {best_theme.title()} domain concepts{category_info} (tokens: {common_tokens})\"\n",
    "        \n",
    "        # Fallback based on categories\n",
    "        if most_common_category and most_common_category != 'unknown':\n",
    "            unique_tokens = list(set(tokens))[:3]\n",
    "            return f\"Likely represents: {most_common_category.title()} category features (tokens: {unique_tokens})\"\n",
    "        \n",
    "        # Final fallback to token analysis\n",
    "        if len(set(tokens)) == 1:\n",
    "            return f\"Likely represents: Specific token '{tokens[0]}'\"\n",
    "        elif len(set(tokens)) <= 3:\n",
    "            unique_tokens = list(set(tokens))\n",
    "            return f\"Likely represents: Token group {unique_tokens}\"\n",
    "        \n",
    "        return f\"Abstract concept (diverse tokens: {list(set(tokens))[:5]})\"\n",
    "\n",
    "# Initialize feature interpreter with category information\n",
    "interpreter = FeatureInterpreter(sae, tokenizer, text_samples, activations, token_info, text_to_category)\n",
    "\n",
    "# Interpret top features\n",
    "print(\"\\n\" + \"=\"*60)\n",
    "print(\"FEATURE INTERPRETATION ANALYSIS\")\n",
    "print(\"BBC News Dataset - Layer 5 Representations\")\n",
    "print(\"=\"*60)\n",
    "\n",
    "feature_interpretations = interpreter.interpret_top_features(top_k=15)"
   ]
  },
  {
   "cell_type": "markdown",
   "metadata": {},
   "source": [
    "## 8. Advanced Feature Analysis and Visualization"
   ]
  },
  {
   "cell_type": "code",
   "execution_count": 11,
   "metadata": {},
   "outputs": [
    {
     "data": {
      "application/vnd.plotly.v1+json": {
       "config": {
        "plotlyServerURL": "https://plot.ly"
       },
       "data": [
        {
         "marker": {
          "color": "skyblue"
         },
         "name": "Activation Rate",
         "type": "bar",
         "x": [
          "F2366",
          "F1816",
          "F2521",
          "F727",
          "F788",
          "F2579",
          "F1176",
          "F2625",
          "F413",
          "F2285",
          "F1164",
          "F1013",
          "F1436",
          "F1530",
          "F2715",
          "F2436",
          "F2049",
          "F1746",
          "F2714",
          "F560"
         ],
         "xaxis": "x",
         "y": [
          0.942187488079071,
          0.942187488079071,
          0.942187488079071,
          0.942187488079071,
          0.942187488079071,
          0.942187488079071,
          0.942187488079071,
          0.942187488079071,
          0.942187488079071,
          0.942187488079071,
          0.942187488079071,
          0.942187488079071,
          0.942187488079071,
          0.942187488079071,
          0.942187488079071,
          0.942187488079071,
          0.942187488079071,
          0.942187488079071,
          0.942187488079071,
          0.942187488079071
         ],
         "yaxis": "y"
        },
        {
         "marker": {
          "color": "lightcoral"
         },
         "name": "Distribution",
         "nbinsx": 50,
         "type": "histogram",
         "x": {
          "bdata": "zcxMPM3MbD0AAAAAmpkJPs3MbD2amRk8zcxMO2ZmPj6amU0/zcxMO83MbD3NzMw6MzNzPWZmKj9mZmg/ZmbmPQAAAABmZho/MzNbPs3MbD3NzGw9AAAAAAAAAADNzMw7AAAAAAAAAADNzIw8zczUPmZmOj8AAFA/AAAAADMzJz/NzGw9mpkTPwAAAD0AAAAAzcxsPQAAAADNzGw9ZmbWPZqZmTuamTk9zcwMPc3MjDzNzGw9AAAAADMzxz6amY0+AAAAAAAAAAAAAGA9AAAAPAAAAADNzEw9mpkZPAAAAACamQU/AAAAAJqZAT7NzEw7AAAAAGZmPj7NzAo/AAAAAM3MbD1mZtY+zcxsPQAAAAAAAAAAZmbWPQAAjD5mZhQ/ZmYqPwAAAAAzM7M8AAAAAAAAAADNzGw9mpnJPQAAAACamRk8MzNzPQAAgDzNzCQ/AAAAAM3MzDsAAAAAAAAAPZqZIz/NzJw9AAAIPwAAmD4AAIA9ZmYmPpqZNz8AAAAAmpnBPjMzDT+amZk7MzMzPQAAAADNzGw9mpmBPjMzbz8zMxM9AABoPzMzHz+amck+zcysPTMz4z0AAKg+zczMOpqZFz8AAAAAZmZuP83MTD8AAOA9zczcPc3MJD9mZuY8zcxsPQAAAAAzM1M+AAAAPM3Maj/NzGw9mpkZPAAAAADNzBI/AAAAAAAAAADNzIw8mpnZPAAAAAAAAAAAAAAYPgAAAADNzEo/MzODPgAAAADNzCI/zcxsPQAAAACamQE/zcwkPs3MbD2amXk9ZmbWPQAAAACamUc/AAAAAAAApD7NzMw8AAAAAJqZmT0AAEA9ZmZmPDMzXT8AAAAAmpk5PTMzEz1mZsY9mpkhPs3MjD3NzGw9AAAAADMzaT+amdk8zcxsPWZmyj5mZiY9zcxsPc3MbD0zMzM9zcycPQAAAAAAAAAAzcxsPc3MaD/NzMw7MzMTPjMzEz0zMys/ZmbWPgAAAAAzMzM9ZmaqPmZmZj2amZk8AAA4PmZmjj7NzCQ+AAAAAM3MbD1mZmY8AAAAAGZmpj4AAAAAAAAAAM3MfD4AAAAAAAAAPTMz4z4zM1M+AAAAPmZmJj2amRk8MzODPQAAID4AAKA9zcw0Ps3MzDoAAAAAMzMTPWZmpjwzM7s+zczwPgAAAAAAAAAAzcxsPc3MbD2amTs/MzNPP83MgD4AANw+ZmbGPgAAYD0zM0s/AACwPmZmPj7NzEw7ZmZePgAAAACamRk8MzMhPzMzMzzNzIw8zcwmP5qZjT6amak9AAAAAAAAMD6amRk9AACAPDMzcT/NzBY/AADoPmZmcD/NzMw6MzMjP5qZ4T6amUE+AAAAADMzqz4AAIA9ZmaGPQAAAAAAAAAAMzO3PjMzMzyamW8/zczMOjMz3z7NzGw9AAAAAJqZvT7NzEw7mpl5PWZmij6amRk+AAAAAAAAsD0AAAAAAAAAAAAAAACamZk7AAAAAAAAAADNzCQ+AACkPjMzszwAAAAAAAAAPM3MTDszM1M/MzMzPc3MbD0AAAAAZmb+PgAAcD/NzGw9zcxsPQAAFD8AAEA+ZmbmPM3MzDszM68+AACQPc3MbD3NzGw9zcy4PjMzUz3NzCQ/AABoPzMzgz0AAEA9ZmZuP83MbD2amTk9zcxaPzMzbz9mZjY/ZmbGPQAAAAAAAAAAmplhPjMzBz+amSM/mpnpPZqZMT8AAAAAAABAPc3MbD0AAFw/MzOTPs3MzDoAAAAAZmZmPM3MzDzNzOw+AAAAAJqZmTsAAAAAzcxuPwAAAABmZmY8AAAAADMzkz1mZgY+zcxsPQAAAADNzGw9zcxsPQAAAABmZlY+AAAAAAAAAD6amYU+zcxsPQAAcD8AAAAAmpmZO83MHj/NzGw9zczsPQAAADyamQc/AAAAPM3MzDoAAAAAAAAAPAAAbj8AAAAAzcxMOzMzszzNzGw9mpllPzMzcz3NzGw9ZmYmPc3MbD1mZiY+zczMOgAAAAAAAAAAzcwkPmZmpjyamXk9AAAAAAAAAADNzGw9AAAAAJqZPT+amZk7zczwPpqZCT8AAAAAAAAAAAAAkD0AAAAAMzPzPAAA1D4AACA+zcxsPWZmZjwzM3s+MzOzPM3MTDuamXk9ZmYcPwAAyD5mZmY8mpkZPQAAADwAAEQ/AAAAAGZmHD9mZvY9mpkZPJqZ2TyamUE+zcxsPc3MTD4zM3E/zcw2PwAAwD4zMzM8AAA4PpqZXz8AAAAAAAAAAM3MbD1mZkY9AAAAAM3MbD0zM0M+AAAAADMzHT8zM3E/mpkZPgAAwD0zMy8/MzNDPwAA4D3NzMw6AAAAAJqZeT3NzEI/mpkZPgAAAADNzMw6ZmayPs3MBj9mZvI+zcxsPQAAAABmZgI/AAAAAAAAAADNzGw9zcxsPZqZbz+amSM/zcy8PQAAAADNzGw9zcyMPc3MbD0AAAAAzcxsPc3MTDsAAKQ+mpnZPGZmpj1mZt4+AAAAPJqZ2TwAAAAAzcxcPpqZmT2amQM/AABgPWZmbD8AAIA9zczMOgAAAADNzPw9zczMOzMznz4zM8M9MzPTPTMzsz1mZh4+zcxsPQAAaD8AAAAAzcyYPjMzQz4AABA+AACQPTMzEz8AAAAAAAAAAAAAAABmZqY9mpkJPjMzcz3NzMw8zcxqPwAAjD4zM5M+MzMzPM3MjDxmZgY9AACAPAAAAAAAAG4/zczMPDMzYz8AAAAAAAAAADMzcT+amZk7AAAAADMzMz4AAGg/zcxsPQAAjD4AAAAAMzMjPwAAAAAAAAAAmpkZPGZmBj3NzEw7mplBPgAAAAAAAAAAZmZGPZqZ2TwAAAAAZmaGPQAAAAAAAAAAAAAAAM3MTDwAAAAAAAAAAAAAAABmZuY8zcwMPQAAAAAzMzM8zcxsPTMzMzwAAAAAMzMrPs3MbD3NzJw9zczsPZqZiT3NzAw9ZmamPAAAAAAAAAAAmpkRPgAAOj8AAAAAmplZPTMzGz4zM3E/zcxgPwAAAAAAAAAAzcxsPc3MaD8zMyE/AAAAAAAAAAAAAMA9AACQPQAAAAAAAAAAzcxsPQAAAACamRE+AAAAAAAAAAAzM1M9AADgPc3MbD2amTU/MzNvPwAAAADNzGw9AABwPwAAwDwAAAAAmpkBPs3MTDvNzGw9AACgPWZmfj7NzBQ+AAAAAM3MTDsAAEQ/ZmZmPTMzUz0AAAAAAAAAAAAAAACamdk+mpmJPc3MzDrNzBo/mpmJPTMz0z0AALQ+zcxsPWZmfj7NzAw9AABYPgAA4D4AAAAAmplJPwAAsD0zMzM+AAAAAJqZOT0AAAAAAAAAAAAAAACamW8/AAAAPZqZ+T0AAAAAAAAAAAAAAAAAAAAAZma2PZqZ+T4zMzM8AACAPM3MTD1mZpY9AAAAAGZmTD+amRk+zcxsPWZmdj6amVM/mpmZO83MzDoAAAAAAAAAADMzDT8zMwM+AAAAAAAAkD0AAAg+AAAAAJqZiT3NzIw8mpl5Ps3MzDozMzM8zcxoPwAAAADNzMw8ZmbmPM3MXj/NzHA/Zma2Pc3M7D4AAMA8MzPjPZqZZT+amRk8ZmZwPwAAHj9mZmY8zcycPTMznz7NzMw7AAAAAAAAXD+amZk9zczsPTMzUz3NzGw9zcwwP83MzDpmZmI/AAA4P5qZmTyambk+zczMOs3MjD7NzBo/ZmaWPgAAAAAzM2M+ZmYiP5qZGT6amTE+AAAAAM3MbD3NzOw9zczMOjMzQz7NzBQ/ZmYGPc3MbD3NzMw9zcyQPgAAAABmZqY8mpmdPgAAAADNzGw9AAAAADMzNT8AAAAAZmZqP83MzDwAAAAAMzMDPs3MWD8AAIA8AADoPpqZOT3NzGw9ZmZmP5qZFz8AANA9AAAAADMzcT/NzEw7mpkBPgAAQD8zMyE/zczMOzMzJT8AAIA8AAA0PwAAADwAAAAAzcxMPM3MbD0AAAA8zcxkP5qZYT+amcE+mpnZPAAAADxmZmY8zcxMPc3MTDsAAAAAzcxsPc3MnD0zM3s+mpnpPQAAAACamZk7MzPzPTMzcz0AAIA8MzMVP5qZmTvNzGw9zcxsPWZmpj0AAEQ/AAAAAM3MLD4AAAAAmpk5Pc3MjDzNzGw9zcxsPc3MbD0AAGw/mpk5P83MBD5mZko/AAAAAAAAwDzNzMw6mpkVPzMzIz4zM28/mpmJPc3MbD0zM3E/zczMOs3MvD0zM3E/MzOzPAAAAABmZuY8AAAAAGZmOD/NzGw9AACAPM3MLD8AAAAAAABoP5qZYz/NzDQ+AAAAAM3MoD4zM3M9AAAAAAAAAADNzEw7zczMOgAAOD8AAAAAAAAAAM3MbD3NzEQ+zczMOpqZqT7NzGw9MzMzPM3MbD0AAAAAAAAAAGZmtj7NzMw8zczMO5qZyT0AAAAAZma2Pc3MbD0AAAAAzcxcPgAAgDwAAAAAmpkJPgAAAABmZiI/zcxKP83M6D4AABg+MzMbP5qZrT4AAEA9mpkRPgAAAAAzMwk/AACAPQAAAACamRk8ZmYsPwAAAAAAAAAAzcxsPWZmpjwzM3E/mpmpPc3MzDoAADA/MzPzPM3MTDsAAPA+ZmZUP5qZ2TxmZnA/AAAAAM3MbD3NzGw9ZmamPTMzMzwzM1M9zcwkPgAAAAAzMzU/AAAAAAAAAACamRk9AAAAPpqZtT7NzIw8ZmaWPc3MdD7NzJg+AAAAAAAAADwAAAAAMzMzPJqZYT6amZk7zcyIPgAAAAAAAMA9AADMPs3MzDoAAAAAAADAPJqZbz/NzFw/zcyIPs3MbD0AAAAAMzNxPzMzlz6amZk9AAAAAM3MzDozM4s+ZmamPJqZmTvNzGw9zcxuPzMzMzwAAAAAmpk5PWZmlj0AABo/zczMPM3MbD0zM0M/Zmb2PWZmBj3NzGw9AAAAPQAAAAAzM/M8zcwcPs3MzDpmZgY9AAAAAAAAAAAzM3M9zcxsPc3MbD0AAAA8AAAAAM3MVj/NzMw6ZmZQP83MbD3NzMw6mpn9PgAAAADNzOw9zcz8Pc3MbD3NzG4/MzMdP83MfD4zMwk/MzNTPc3MbD2amW0/AAAAADMzEz7NzEw7zczMOwAAAAAzM+M9AACgPjMzMzzNzGw9AAAAAM3MbD0AAAAAzcxsPQAASD9mZgY+MzNXP5qZAT/NzOw9ZmYOP2ZmZjxmZu4+ZmZmPzMz0z4AAAA+zcxsPWZmEj+amZk7ZmYGPZqZUz+amRk9MzOzPM3MbD3NzGw9zcxsPc3MWD+amfE+ZmbmPAAAAABmZlw/zcxMOwAAAAAzM3M9mpmZOzMzOT8zM/M8AABAPc3M8D4AAGA9zcxMPzMzMzyamTk9zcxMO5qZxT4AAJA9zcxsPWZmZjwAAGA9MzNDPs3MTDsAAAAAmplJPwAAAAAAAAAAAAAAAAAAWD4zM3E/AACQPc3MbD0AAAAAAAAAAAAAADxmZqY8MzNTPWZmpjwzM0M+MzMfPwAAAADNzMw6zcxsPc3MRD4AALA+zcwMPQAAID3NzMw7ZmZmPJqZRz+ama0+AAAAPM3MbD0AAAAAzcxsPWZm5jzNzMw7AAAAAGZmZjyamek+MzNtPwAA7D4AAAAAzcxsPZqZGT3NzBA/AAAAAM3MTDwAAAAAzcxsPc3Maj8AAAAAzcxsPTMzFT+amZk7ZmamPDMzaT9mZg4+MzM5P83MMD9mZhY+AAAAADMzmz4AALA9MzMrP2Zmbj7NzGw9ZmYKPwAAAADNzGw9ZmYqPzMzcz0zM7M9AAAAADMzoz5mZhY/zcxMO83MbD0AAAAAZmYmPQAAID4zM2k/AAAAAAAAAAAAAAAAmpnJPWZmJj4AAAAAzcxsPTMzSz4AAFY/MzNzPQAAAABmZqY9AAAAADMzIz/NzLA+MzNzPQAAAADNzCw/ZmYOPgAAAAAAAAAAAAAQPs3MbD0AAAAAMzMdP83MzDqamXk9mpktP83MUj8AAJA+AAAAAJqZkT4AAC4/MzPPPpqZYz8AAAAAAAAAAGZmMj+amZk9MzOvPgAAAAAAAMw+zcxEP83MWD8AAIg+mpmZPZqZVT9mZkg/mpmZO2ZmBj8AAAAAZmYmPTMzcz2amZk7AACQPTMzgz3NzGw9AAD8PgAAFj8AAAA8MzMLPgAA8D0AAAAAzczMOgAAAAAAABg+zcwMPc3MuD4zM7M8ZmZwPwAAAAAAAHA/AAAAAGZmZD+amT0/mplZPc3Mbj8AAAAAMzNxP2Zmhj1mZqY8MzMDPjMzoz3NzA4/AABAPQAAAADNzGw9AACAPc3MzDrNzGw9MzNxPwAAAADNzGw9AAAIPgAAHD/NzCw/AADAPAAAAAAAAAAAAAAAAGZmAj8AAAAAZmZEP2ZmBj3NzGw9AAAKP5qZRz9mZiI/AAAAADMzgz7NzFQ/ZmZmPM3MbD0AAAAAAAAAAAAAAABmZlw/AAAAAM3MbD4AAAAAMzNxP83MbD0zM3E/AABsP83MbD2amUE+MzMvP2ZmZj5mZoY9AACgPgAAAAAzM28/mpmZPAAAAD0zM0M+MzODPpqZRT/NzGw9AAAoPs3MzDsAAAAAAAAAAM3MQj8zM5c+AAAYPgAAAADNzHA/Zmb2PZqZ6T2amZk7zcykPs3MGj8AANQ+zcxsPTMzcz1mZmw/MzNxP83MbD0AAAAAzczMOs3MsD4AAAAAMzNzPc3MND7NzMw7AACgPZqZGT0AACA9zcxsPZqZGT7NzMw8ZmZwPwAAJj8AAAAAAAAAADMzAz8AAAAAZmYuPjMztz7NzFI/ZmZsP5qZaT7NzMw6zcwcPgAAAAAzM4M+zcxMPM3MzDqamVM/zcxsPQAAWD8AAIQ+zcxsPQAAAAAAAFg+zcyMPpqZLz/NzGw9zcwMPTMzUz0AAAAAAAAAAM3MbD0AAAAAmpnVPjMz8zwzMz8/zcxUPwAAwD3NzCY/zcxsPQAAAAAAAAA8ZmZsPwAAAAAAAAAAZmZCPwAAAACamRk8zcwEPgAAAAAAAAAAAAAAAJqZmTtmZmY+AACoPs3MTD3NzKw+AAAAAJqZ2TwzM2k/ZmZmPAAA4D2amRk8ZmaGPTMzOT/NzKw9zcyAPjMzgz0zMzM9zczMOwAAjD7NzNA+AAAAAAAA4D7NzMw6mpl5Pc3M/D3NzMw6zcxsPZqZmTsAAJA9AACAPQAAKj/NzBQ+AADwPQAAADzNzGw9AAAAAM3MHD6amak9ZmZOPs3MWj8AAIA9mpnlPgAAAAAAAAAAAAAoP2Zmtj4zM/M8MzNTPQAAkD1mZhY+ZmbCPgAAAAAAAAAAMzPzPTMzgz0AAAAAAAAAAGZmaD/NzGw9AAAAAAAAAADNzCw9zcxMPM3MzD1mZmY8AAAAPWZmpjwAAAAAAAAAAM3MbD3NzGw9zcwMPc3MJD4AAKA9mpkZPjMzcT+amZk8AAAAAM3MLD7NzGw9MzMTPs3MzDsAAAA9zcxwPzMziz4AAAAAAAAAAM3MzD1mZmY9mpkJPjMzMzwAAKg+AAAAAAAAcD4zM0s/AAAAAJqZmTzNzEw8AAAAAM3MTDsAAG4/zcxwPzMz7z6amRk8AAAAAAAAAAAAAIA8AACgPTMzMzyamcE+AAAAAAAAID3NzGw9MzMzPc3MbD0AAAAAMzOTPc3MjD7NzGw9AAAAPAAAAABmZrY9zcxsPWZmUD8AAAAAzcz8PWZmcD8zM3E/mpmZO83MbD0AABQ/zcxsPQAAAABmZoo+MzNbP5qZoT7NzGw9ZmZIP83MOD+amZE+AAAAAAAAkD1mZnA/AAAAAAAAEj/NzEw7AAAAAAAAZj/NzGw9zcxsPc3M7D3NzGw9zcxsPc3MzDszM+M9AACwPQAAAAAAAAAAZmYMPzMzszwAAAAAMzMDPpqZ6T0AALA9AAAAAAAAkD0zM5M9MzOzPM3MvD0AAAAAAAAAAM3MND7NzGw9ZmZIPwAAAADNzGw9ZmY2P83MzDrNzGw9zcwSPwAAAAAAAAAAAACoPgAAADwAAB4/AAAAADMzcT8AAAAAzcxMPQAADD8AAAAAAAAKPwAAAAAAAEo/AAAAAJqZmT3NzKA+zcysPTMzcz0AAAAAAAASP83MzDoAAAAAAAAAPM3MzDqamaE+AAAAAM3MZj8zM9M+AAAAAJqZnT4AAJA9AAAkP83MbD0zM3M9AAAAPAAAAADNzIw8zcyMPTMzwz1mZlY+MzNxPwAAAACame0+MzNlP83MbD0AAAAAZmaWPQAACj8AAAAAAACAPJqZGT0AAC4/MzOzPWZmHj4zM8c+AAAAAM3MzDoAAAAAMzNzPWZmtj0AAAAAZmbCPgAAID3NzAw9AAAAAAAAAABmZjo/zcxsPTMz8zwAAAAAzcwsPs3MRD4AAAAAAADkPpqZGT2ambk+AAAAAAAAAADNzIw8AAAAAM3MTj+amRk9mpmZO83MLD8AAGI/zczMO5qZiT2amZk7mplDP83MBD4zM0s+zcxsPc3McD+amXk9zcxsPc3MbD1mZmI/zcxsPQAAAABmZmY8zczMOgAAAADNzEw7mpkhP5qZaT8zM8M9mpl5PgAAAAAAAMA8mpldP83MbD0AADI/zcwsPgAAAD0AAAAAAAAAAGZmGD8AAAAAzcxMOwAAKD8zM/M8zcxMO83MDj8zM28/MzOjPQAAADwAAAAAmpmZOwAAAADNzGw9mpmZO83MSj/NzLA+AACwPTMzKT8zM2c/ZmZqP2Zmxj3NzGw9ZmYmPZqZ0T7NzIw8mpn5PQAAAABmZqY8zcxMPM3MbD1mZkY+zcwWP83MzD2amdk8AAAAPM3MzDtmZkY9zcyUPs3MID/NzGw9AAAAAAAAAAAAAJA9zcxsPTMzbz8AAAAAAAAWPwAAwD0zM3E/zcxsPWZmTj7NzEQ/AACwPmZmRj3NzEw7zczMOpqZmTszM3E/zcxMPJqZmTsAAAAAZmbWPc3MbD0AALA+zcxoP83MbD0AAGg/MzNpPwAAAAAzMzM9MzNzPQAAAABmZpY+mpnZPM3MWj8AAAAAzcxsPc3MzDszM3M9ZmYGPQAAADyamWk+AAAAAGZmpjwzM+s+zczMOwAAAADNzGw9ZmYIPwAAgDyamZk7AAAAAM3MzD0AACQ/zcxsPQAAyD4zM3E/ZmbmPM3MrD0AAAAAMzOLPmZm1j2amUU/mplRPgAAADwAAC4/MzP7Ps3MbD0zMzM8AAAAADMzwz0AAAAAZmbKPmZmRj0AAAAAmpmZO5qZKT4zM7M8zcxsPc3MbD0AAAAAZmZmPc3MbD0AAIA8zcw2PwAAcD8AAAAAZmamPc3MTDsAANA9mpntPgAAsD5mZmY9ZmaGPQAAcD8zM5M9zcxsPc3MTDtmZkY9MzNxPwAAAABmZmY9MzOzPAAAAAAAAGg+mpltP83MDD3NzGw9ZmZqP5qZOz+amYk+AAAAAAAAAAAzM78+zcxcPs3MzDozMxM9zcxsPTMz9z5mZrY9mpmpPc3MbD3NzAQ+AAAAAAAAAABmZkQ/MzMRPzMzMzxmZmY8zcxsPZqZHz9mZk4+ZmbmPQAA4D4AAEA9AAAAAAAAAAAzM58+ZmZCP5qZGT8zM1M9MzP3PgAAcD+amQk/AAAAADMzgz3NzGo/AAAAAJqZmTszM0s/mpkJPjMzsz3NzGw9MzPPPs3MDD3NzMw7AAAAAM3MbD1mZnA/AAAAAAAAAADNzIw8zcxEPwAAAADNzGI/MzODPWZmRj4AAGA9zcxsPTMzcT8zMyM/mpmZPAAAADzNzGw9zcxsPc3MDD0AAAA8MzPzPM3MbD1mZmA/AAAAAAAAvD6amRk9zcxsPc3MbD0AAAAAzcwwP5qZmT0AAAAAAAAAADMzDT+amTk9AAAAADMzcT8AAAAAzcxMOwAAADzNzGw9MzMzPQAAAAAAAAA8MzM7PgAAAABmZho/AAAAAGZmbj/NzGw9MzNzPgAAAABmZrY9ZmYmPc3MbD2amXk9ZmaGPmZm5jwAACg/ZmaGPTMz8zwAAAAAAAAAAM3MbD8zMxs+AAAuPwAAAACamd0+mpkZPGZmlj2amZk8mpnlPs3M3D6amZk9MzNxPwAAAABmZjY/mplpPzMzOT8AAIA8MzP/Ps3M3D0zM8M9zczMOwAAYD3NzGw9AAAAAM3MbD0AACY/AAAAAAAAgDwzM2E/zcxsPZqZyT0AAIA8AAAAAJqZiT2amV0/MzMzP5qZbT/NzMw8AAAAAAAAQD7NzGw9zcysPQAAAAAAAAAAmplZPWZmZj2amZ0+AACgPgAAAABmZkA/mpk5PwAAAAAAAAAAzcxsPc3MbD3NzGw9zcxsPZqZMT/NzGw9AAAAAM3MbD3NzAw/MzMJP5qZuT2amT8/AAAAAJqZmTvNzGw9mpkZPM3MtD6amQE+MzNTPTMzGz9mZqY9ZmbmPM3MjDzNzPQ+ZmZKPwAAAAAzM9M9AAAAAAAAAD0AAAAAAACAPc3MnD3NzNg+AAAAAAAAAADNzEw7AACAPAAAAADNzGw9AAAAAAAAAAAzM3s+AAAAAAAAAAAAAAAAzcwCP83MXD8zMzM8mpm5PQAAPD/NzLw9zcxsPQAAAAAAAAAAMzNzPZqZIT7NzMw6zcxMP83MjDzNzGw9AAAAAAAAMD5mZmY9ZmZEPwAAAAAzM3M9zczMOwAAQD0AAAAAZmZmPJqZiT0AAEg+MzMzPAAAAAAAAAAAMzPrPjMzUz0AAAA+zczMO83MzDozM3E/zcz8PWZmZjwAAAAAzczsPQAAAACamZk7AAAAAJqZYT8AADQ/AAAAAJqZWT6amZk7AACgPc3MTDuamc0+mpkJPpqZQT+amXk9ZmYqPzMzCz/NzDQ/AAAYPs3MjD2amWk/AAAAAAAAAABmZmY8AADYPgAAAACamck9MzMDPs3MbD0AAAAAAAAAAJqZiT0zM3M9MzOrPmZmTj4zM1c/AACwPQAAgDwzM1c/mpkpPpqZeT0AAAAAZmYgP2Zm0j7NzKw9MzNxP83MnD0AAAA9AADgPQAAZD/NzGw9zcxsPTMzMzzNzGw9AABoPzMzcz0AAAAAAAAAAAAAAABmZm4/AAAAAM3MbD0zMzM9zcwEP5qZUz8AAAAAzcxsPQAAAADNzMw6zcysPgAAgDxmZnY+zczMOpqZWz/NzBA/zczMOgAAAADNzEw/AAAAAM3MjD0zM20/AACQPs3MzDtmZmY8AAAAAGZmBj0AAAAAMzPTPTMzcz3NzDQ/mpmJPQAATj+amRc/AAAAAGZmAj/NzIw+ZmZmPAAAAAAAAAAAmpk9P2ZmAD/NzGw9MzMzPAAAAAAAAEA9MzMzPAAA0D0AAAAAZmYUPzMzMz6amZk7ZmYOPs3MJD8zM+M9AAAAAAAAaD4AABg+zczMOwAAAAAzM6s+MzM7Ps3MbD3NzGw9MzMJPwAAAAAAAAAAAAAAAAAAAADNzGw9zcwQP83MbD0AAAAAzcxsPWZm0j4AAAAAmpmZPWZmpjzNzHw+MzNxPwAAAABmZgY9mpnpPQAAADxmZmY/AAAAAM3MbD0AAAAAAABkP83MzDqamRk8AAAwPs3MbD8AAAAAAAAAAM3MzDrNzEw7zcxMO2ZmOj/NzGw9AACQPc3MbD2amV8/MzODPs3MBD8AACA9AAAAAAAAMD+amRE+zczMOgAAAAAAAAAAAAAAAAAAAAAzM6M9ZmYGPQAAAADNzEw7mpl5Pc3MDD2ambE+zcxsPQAAAADNzMw6zcwWPzMzcz0AAAAAZmaKPs3MbD0AAAAAAAAAAM3MbD0zMws+zcxsPQAAAADNzGw9mpkZPAAAADwAAAAAAAAAPM3MTDsAAAAAZmY4P83MQD8zM9c+zcygPjMzhz4AAAAAAACQPc3MbD3NzMw7MzMbP83MTDsAAAAAZmbWPTMzMz0zM4M9ZmYWPzMz9z7NzGw9zcxsPTMzbz8AAAAAAAAAAJqZWT3NzFw/AAAYPzMzQz4zM8M9AAAAAJqZbz/NzMw7zczcPs3MTD0AAIA9ZmamPM3MbD0AAAAAAADgPQAAAABmZi4+AAAAAAAAAAAzM2c/zcxMO83MbD0AAAAAMzNjP83MLD0zM7c+MzMJP2ZmNj6amYk9zcxsPTMzEz0zMws+AAAAAAAAAADNzGw9mpkRPgAAAAAzM7M9mpm5PgAAgDyamW8/zcwoPwAAAD2amQE+AAAAAJqZuT2amdk8zcwIPwAAAAAAAAAAMzMTPZqZ2TwAAAAAzczMOs3MTD0AAAAAAAAAAM3MbD0zM3E/mpmZOwAAAAAzM08/MzMzPc3MzDvNzMw6AAAAPDMzcz0AALA9MzOzPM3MzD0AAAAAZmYWPs3MzDpmZvo+MzMzPAAAAADNzGw9MzNDP83MTDsAAMA8ZmYuP5qZmT4AAJA9AAAAPAAAAADNzAw9AADAPDMzcz0AAAAAAAAAAJqZmT2amVE/AAAAAM3MbD0AAAAAZmZKP2Zm7j4AAAAAzcwsPQAAAADNzCg/mpmpPTMzcT8AAAA8AAAgPQAAAAAzM8M9MzNxP2ZmcD/NzGQ/AAAAAAAAAAAAAIA+mpmJPZqZmTvNzGw9AACwPc3MTDtmZi4+zcxWP83MRD7NzGw9MzOzPZqZ6T3NzGw9zcwkPs3MFD7NzMw6zcxsPQAAAAAzMzM8AACQPc3MLj8AAAAAAADAPQAAED4zMys+ZmYAPwAARj8zM3E/zczMOmZmYD8AAAAAmpkNP83MbD0AAAA/zcxsPTMzbT8zM3E/ZmZYP83MrD3NzEw7AAAAAJqZ+T0zM4M9AAAAAAAAAAAAAEQ/ZmaWPTMzMzxmZh4/zcw6PwAAwDxmZiY9zcxsPQAAAAAAAAAAzcxcP83MbD3NzGw9zcw6PwAAAABmZpY9zczMO83MbD0zM5M9ZmZmPQAAAAAzM4M9AAAAPGZm7j6amW0/AAAAAAAAAAAAAAAAmpmZOzMzszzNzCw9AAAAADMzszzNzEA/mpl5PZqZyT0zMws/ZmZEP83MtD7NzEw7zczMOs3MzDvNzD4/AAAAAM3MTDsAAAAAAAAAAJqZGTwzMyk/Zma2PpqZeT3NzDY/MzNxP83MbD3NzGw9ZmamPM3MTDyamZk7AAAAAJqZ3T4zM/M8AAAAAJqZbz+amZk7zcxsPc3MTDtmZuY8ZmbmPJqZqT2amRk8MzPPPs3MzDoAAMA8AAAAAAAAMj8AAAAAAACgPQAAAAAAAAAAAABePwAAAAAzM4M9MzNxPwAAsD0AAAAAAAAAPZqZiT0AAAAAAAAAAAAAAAAzM7M8ZmZmPmZmPD8AAAAAAAC8PmZmIj/NzGw9MzOzPAAAAABmZmY/AAAAAM3MbD0AAAAAZmZMPwAAAD2amRk8MzODPs3MLD4AAAAAMzOzPAAAcD8zMzM8mpkZPAAAAAAAAHA/zcxsPZqZOT0AAAAAAAAAAGZmpj4AAAAAmpkZPAAAYD0AAAAAMzNlPwAAADwzM3E/ZmaGPc3MZD8AAEA9mpnZPJqZbT8AAAAAAAAAAM3M7D3NzPQ+AACAPTMzcT8zM0s+AAAAAGZmDj8AAAAAAAAAAAAAAAAAAMA8zcxsPQAAAAAAAAAAAAAAAAAAAABmZjg/zcxwP83MjDxmZmY/mpkZPAAAAAAAAAAAAABIPmZmRj0AAAAAAAAAAM3MbD1mZnA/AAAAAGZmtj4AAIA8Zmb2Pc3MzDoAAAAAAAAAAAAA0D2amWE+MzNxP5qZgT4AAAAAAAAAAJqZWT7NzGw9ZmYeP2ZmZjwAAAAAmpn9PmZmtj1mZpY9MzMrPgAAAABmZmY8zczMOjMzST8zMzM8AAAAAM3MLD1mZtY9mplrP5qZuT0zM3E/AAAAAAAAAABmZjQ/AABcPwAAAADNzHA/mpmZOwAAAABmZlg/mpkpPjMzwz0AAAAAAAAAAM3MzDqamZk7AADMPgAAAACamdk9zczMPM3MbD0zMyM+AACQPTMzUz3NzEw7AACAPGZmtj3NzAQ+AAAAAAAAAADNzBw/zcxMOwAAGD5mZh4+ZmYWPpqZMT7NzMw8mpkZPs3MTDwAAAAAmpkdP2ZmDj4AAAAAMzNlP83MTD4AAMA8MzNxP83MbD1mZqY8ZmZsP83MbD1mZmY8AAAAADMzAT/NzEw7zcxuP83MTDwAAIA9MzOzPJqZmTszM1M9mpl5PTMzoz0AAAAAZmZGPmZmpjwAAAAAmpkZPQAAZD9mZnY+mpk5PQAAAABmZh4+zczMOgAAAACameU+AAAAAAAAAADNzGA/zczMOmZmcD8AAAAAZmZiP83MbD0AAAA9MzNxP5qZmTszM/M8MzOTPQAA8D0zM7M9ZmYuPs3MTDxmZmY8MzMbPmZmSj8AAGw/zcwkPs3MbD0AAAAAZmZwP83MzDvNzMw7mpmZOwAAAD0AAAAAAAAAADMzcT9mZtY+AAAAAM3M/D7NzEw7ZmZwP83MzDpmZoY9AAAAAM3MbD3NzEw7zcxIPwAAAAAzMzM9AAAAAAAAAADNzNw+mpntPgAAAACamRk8AAAAAAAAbj8zM3E/ZmZMP2ZmXj6amWM/zcxsPWZmZjwzM3E/MzNxPzMzAT+amZk7mpnZPTMzKz6amRk8zcwMPTMzCz4AAAAAAAAAAAAAAAAAAAAAmpnZPJqZiT0zM7M8zcxsPZqZ2TwAAAAAzczMOgAAAAAAAOA9zcxsPQAAAAAAAAAAAABCP5qZcT4AAAAAzcxsPQAAAAAAAAAAAAAAAGZmFD8zM9M9zczMOs3MKj9mZqo+AABAPTMzcz0AAAAAzcywPmZmpjxmZlQ/ZmYUP83MbD3NzGw9MzPTPc3MbD0AAGo/AAAAPAAAaD4AAAAAAAAAADMzRT+amck9zcxsPc3MTDszM/M8zcxsPWZmZjwAAAAAZmbmPJqZaT4zM2M+zcxMOwAAAACamXk9mpn5PgAAAAAzM3E/mpkvPwAA3D4AACg+ZmaGPTMz8z0zM20/AAAAAAAAAADNzD4/zcxMO83MSD8AAAAAAABgPc3MbD0zM5M9AABAPgAAAAAAAGw/AAAwPgAAAD4AAAAAmpmZO83MTDsAALA9ZmZoP83MdD7NzGw9zczMOgAAAAAAAMA8AAAAAJqZmTsAAAAAmpkNP5qZIz/NzCw/MzMnPwAAAAAzM2s+AAAAAM3MbD3NzMw6AAAAAAAAAACambU+zcxsPTMzTz9mZmY+ZmYgP83MbD2amdk9ZmZGPTMzkz4AAAAAMzOrPgAAAADNzMw6AABOPwAAZD8zM5M9zcyMPZqZNz+amRk9AAAAAAAAAADNzGw9zcz4Ps3MoD7NzMw8AAAAAAAAAADNzDg/AABeP83MbD0AAAAAMzMTPgAAAABmZiQ/zcwMPs3MzDrNzGw9AAAAPAAAAAAAAAAAAAAAADMzcz0AAAAAzcxsPQAAAADNzGw9zcxsPTMzCz5mZmY8zczMO5qZWT0AAAAAAAAAADMzaT/NzFQ+AAAAPJqZeT2amYU+ZmamPM3MDD3NzGw9zcz0Ps3MXD9mZgY+zcxOP83MbD3NzGw9AAAAAJqZQz/NzBI/MzP7PgAAwD3NzPw9zcxwP83MzDoAAAAAMzNdP2Zmaj9mZmY9MzPjPc3MbD2amRk9zcwkPjMzcT+ama0+mpmZPQAAAAAAAMg+zczcPc3MTDvNzGg/AAAAAM3MbD0zMxM9zcz8PWZmKj8zM2E/mplBPjMzMzwAAAAAmpmtPgAAAAAAAAAAAAAAAAAAAADNzEw9MzMpP83McD/NzGw9zczMOgAAAAAAAAAAzcxMPZqZAT6ambk9zczIPmZmxj4AAIw+mpmdPgAASD9mZkA/AACQPZqZGTzNzEw8zczMOgAAwDwzM2E/zcxsPQAARD8AAMA9zcxMO5qZWT7NzGw9AABAPc3MrD0AAAAAAAAAAJqZmTszM6s+zczMOmZmhj5mZjA/AADUPpqZmT3NzGw9MzO3PgAAAAAAAMA9ZmYuPs3MzDoAAAAAAADAPQAAYD1mZjI/mpmJPWZmUD+amZk7zcxMO83MzDoAAPw+MzPTPs3MzDvNzGw9mpmZOwAAAAAAAAAAzcxMOwAAGj/NzOw9AAAAAGZmQj9mZoY9mpmJPQAAAAAAAAAAMzNxP2ZmMD8zMxM+AAAAAAAAAADNzLA+mpmZO83MnD0AAAAAzcxsPZqZ9T7NzMw7zcxMPAAAAAAAAAAAMzNxPwAAAADNzCY/zcxMOwAAAAAzM5M9MzNpPwAAAABmZtY+zcwsPQAAKj/NzGw9MzPTPQAAAACamSk+zcxsPZqZmTvNzGw9MzMvP5qZGT2amdk9MzO3PjMzMzwAACA9mpkNP83MbD1mZiY9AAAAADMzZz/NzGw9zcxsPTMzcz3NzAY/mpmJPZqZbz/NzGw9MzNxP2ZmZj0AAAA+AAAAAM3MbD0zM9M9AAAAPAAAAAAAAAAAZmZwP5qZDT8AAPA9AAAAAJqZmTsAAAA+mpmpPgAAADzNzGw9mplJPs3McD8AAMA9ZmYePs3MzDrNzMw8zcysPgAAAACamf0+MzMTPTMzaz/NzIw8AAAAAJqZGTxmZh4+AAAAAGZmSj+amRk9ZmZqPwAAAAAzM3M+zcycPTMzIz/NzEw9zcxuP5qZmTyambk9zcxwPzMzMz3NzHw+zcxMPJqZMT7NzG4/AAAAAJqZOT0AAAAAZmYsP2ZmOj8zM4M9AAAAAM3MzDzNzMw7ZmZUP83MzDqamW8/zcysPjMzoz0zM3M9MzPzPM3MbD1mZiY9MzNzPQAAAADNzGw9zczMOwAAoD0AAAAAMzPzPM3McD8AAAAAAAAAAAAAAADNzGw9AAAAAJqZmTvNzGw9zczsPZqZPT8zM+c+mplZP83MbD0AAAAAMzNTPjMzDz9mZhw/zcxsPWZmAj/NzGw9zcxsPc3MbD0zMwU/zcxcP83MLD3NzGw9AAAAAAAA5D7NzBI/zcwCP5qZrT7NzGw9AAAAAAAAoD0AAAAAzcxsPTMzUz4AAAAAMzPDPQAAAADNzNw9AAAAAAAAVj8AAAAAAAAAPM3McD8AAAA8ZmaGPs3MjDwzM/M+AAAAAJqZGTzNzMw7AAAAAGZmZjwAAAAAAADgPQAAMD+amVk/ZmZKP83MbD2amek9zcxsPQAAAADNzGw9AADAPAAAQD8zM3E/AAAAAAAAAACamXk9zczMOjMzkz1mZtY9AAAAADMzjz4zMwM+AABYPwAAQD7NzEw7ZmZuPpqZGTwAAAA9AAAAPs3MbD1mZjg/mpmZPc3MzDzNzMw6zczoPs3MbD0zMxM9AADAPDMzcT8zM1M+ZmZmPTMzSz4zM3E/mpmZOwAAADzNzMw7zcwcPgAAoD3NzMw6zcxsPQAAAADNzMw6MzNNP83MbD0AAGg+MzMTPQAAAABmZuY8zcxEPmZmRD/NzMw6zczMOgAAAABmZiY+ZmbuPgAA/D4zM3M9AAAAAM3MzDrNzGw9AAAAAGZmID/NzGw9zcxMPM3MbD3NzMw7AAAAAM3MbD0AAAg/MzMzPWZmxj3NzMw6mpmZO2Zmtj0AAAAAZmYuPwAAAAAAAAAAzcy0PgAAAAAAAAAAAAAAAM3MbD0zM7M9ZmYePgAAAAAAAAAAAAAAPJqZmTuamUE+mpmZPQAAAADNzAw9ZmZwP83MzDvNzMw6AAAAAM3MbD0zM7M8AAAAAJqZWz/NzGw9AADAPQAAAABmZiI/zcxsPTMzPT/NzGw9mpl5PWZmZj0zM3s+ZmZmPQAAAAAzM6M9zcxsPZqZmTszM7M+zcwMPwAAAAAAAAAAzcyAPpqZWT0AAAAAzcw4P2ZmRj1mZmo/ZmYePs3MbD0zM/M+MzMTPs3MoD4AAAAAzcwsPgAAAAAzM2E/AAAAAAAAAABmZjY+mpmJPQAAAADNzGw9AAAAAAAAAABmZnY+AAAAAAAAAADNzGw9mplZPc3MbD0zMzc/zczMOpqZiT4AAAAAZmZUP5qZmT1mZjw/AAAAAJqZbz8zMz0/ZmbqPjMzOT+amZk7zcxsPWZmpjzNzEQ/AAAAAM3MXj8zM0c/ZmamPGZmGD8AAAA+MzOjPgAAAABmZq4+ZmaCPpqZUT5mZnA/AAAAAAAA+D4AAIA+zcxMOwAAYD3NzMw6zcxMPGZmZjyamdk8ZmbqPs3MbD2amYE+AAAAAM3MbD3NzEY/AAAAAAAAAADNzMw6AAAAAAAAAADNzMw7mpmZOzMzMz3NzIw9zcxMPQAAAAAAAAAAAAAAPZqZeT3NzGw9ZmZGPgAA0D1mZp4+MzP7PgAAwDwAAAAAzczMOwAADD8AAAAAmpkZPGZmZD8AAAA9AABUPwAAAADNzGw9zczMOwAAAAAAAAAAAAAAAM3MzDoAAAA9AAAAAM3M3D3NzGw9AAAAAAAAAACamRk8zcwsPQAAAADNzCQ+ZmYWPjMzTT8AAAAAzcxMOzMz8zyamdk9AAAAAM3MTDvNzGw9zcwYPwAAgD0AAAAAMzNxP83MDD7NzHQ+MzNTPZqZGTzNzEw7mpn1Ps3MbD0AAIA8zcxaP5qZmTvNzMw7AABSP83M5D4zMyU/AAAAADMzST8AAJA9ZmaGPc3MbD0zM3E/zcxsPZqZAT/NzFA/MzNxP83MbD0AAAAAzcwMPs3MbD0AAEg/AADAPQAASj/NzIw8ZmbmPQAAAADNzGw9zcxsPQAAAAAAALA9mpkZPDMzCz7NzMw6mpmJPc3MbD1mZmY8zcxsPQAAAADNzG4/Zma2PTMzMz3NzIw8zcxsPQAAoD0AAAAAAADAPc3MbD0AABA/mpl5PTMzMz4AAEI/MzNzPc3MbD0AAEQ/AAAAPDMzQz4zM3E/AAAAAAAAAACamZk7AAAAAAAAAAAzM2U/zcxsPc3MjDyamUc/AABIPs3MTDsAAAAAzcxgPwAAwD0AAAAAMzOjPpqZnT4AAAAAZmamPTMzYz5mZhY/AAAAAAAAAAAAAFA/zcxMOwAAAAAAAEo/zcxsPQAAbj/NzMw6mpk5Pc3MLD/NzEw8zcw8PgAARj8zM3M9AAAAAGZmNj+amXk9mpl5PmZmcD/NzGw9MzMTPZqZFz9mZk4+AAAAAM3MPj8AAAAAAAAYPgAAAAAzM1M+AAAAAAAAiD7NzGw9AABAPgAAAAAAAEA/AAAAAAAAAAAzM7M8AAAAAGZmRj0AAHA/AAAAADMzcT/NzIw8zcwkPmZmxj0AAGY/zcxsPc3MbD3NzCw9AAAAAAAAAD0AAAAAAAAAAAAAGD4AAEY/AAAuPwAAAADNzCQ+ZmZmPM3M1D7NzB4/ZmYKP83MTDyamYk9zczMOs3MbD0AAKg+zcxsPQAAoD0AAAAAzcxsPQAAAABmZuY8MzNbP2Zmpj0AAAg+AAAAAGZmBj0zM08/AAAAAAAAADyamT8/AAAAAM3MbD2amaE+mpkZPGZmGD8zM3E/AAAAAM3MzDoAAAAAzcxsPc3MND7NzIQ+AAAAAM3MbD8zM1s+MzNzPZqZQz8zM/M8AAAeP83M+D4AAAAAMzNxPzMzkz1mZjw/mpmJPWZmuj4AAAAAmpmZPDMzEz4zM3M9mpmJPjMzMzxmZgY/zcxMO2ZmED8AAAAAAAAYPwAAAADNzGw9mpm5Ps3MbD0zM10/mpk5Pc3MbD0AAAAAAAAAAM3MbD3NzGw/zcxsPc3MTDwAAAAAmpktPwAAmD6amc0+ZmZmPQAAAADNzJg+AABaP2ZmKj8zM6c+mpl5PQAAAADNzGw9zcxMOwAAAADNzGw9zczMOmZmNj7NzCw/MzPDPQAAAAAAAKA9Zma2PQAADD8AAG4/AAAIPs3MbD0AAAAAAAAAAAAAAAAzM3E/zcwyP5qZiT3NzGw9MzMnPzMzwz0zMxM9AAAAP5qZUT7NzMw7AAAgPc3MbD0zM7M8mpmZOwAAAAAAAAAAMzNpP2ZmRj0AAAAAzcyMPQAAAADNzGw9mpmZO2ZmCj8AAAAAZmbmPM3MbD3NzGw9AAAAAM3MRD4zMxM9AAAAAJqZWT3NzMw8AAAAAJqZmTsAANw+Zmb2Ps3MzDuamUk+AABAPc3MzD0AAAAAMzOTPQAAcD7NzEw7ZmZIP5qZ9T7NzGw9mpkZPAAAAAAAADI/ZmaWPc3MWj/NzMw7AAAAAM3MrD0AAAAAzcxsPTMz0z2amQk+zcy8PQAAAADNzGw9AAAAADMzMzwzMzM9MzOjPc3MjDzNzCo/AAAAAAAAAAAAAAAAZmbmPAAAAAAAAAAAAACAPQAAgDxmZvY9AAB4PgAAAABmZi4+MzODPs3MzDoAAAA+zcxmPwAAcD8AAAAAAABAPTMzUz1mZm4/zcxsPc3MbD0AAAA8mpkBP2Zmij5mZhg/AAAAAGZmXj6amZk8zczMPQAAZD9mZsY9AABoPpqZHz/NzEw8AAAAAAAAFj/NzMw6AAAAADMzYz7NzEw7mpmJPQAAAAAzM00/AAAAAAAAAADNzDY/AAAgPgAAAD0zM+8+MzNTPZqZUT/NzGw9Zma2PQAAAABmZig/AABcPzMzxz5mZoY9zcysPTMzgz0AAAAAzcxsPQAAAAAAAHg+AAAAAAAAAADNzG4/zcxsPQAAAAAzMzM8MzNxP5qZmT2amXk9MzO3PmZmpjyamXk9ZmYGPc3MbD0zM3M9zcxsPQAAADwAAAAAzczMO83MXj8AAAAAzcxsPc3MTDvNzGw9AAAAAAAAAAAAAEQ/zczEPgAACD4AAAAAAADQPWZmpj0AAAAAmpkZPDMztz4AAAAAAACAPAAAND/NzIw9mpllP83MSj/NzGw9AAAAAGZmbD8zM3M9mpnZPWZmTD8zM3E/ZmZuPzMzcT8AABw/zczMO83M7D7NzMw9zcxMO5qZuT0AAAAAAAAAAAAAAABmZro+MzPDPs3MbD0AAAAAAAAAAJqZ9T4zM3E/zcxSP83MWj+amdk8ZmbiPgAAAAAAAAAAMzPjPQAAAAAAAAAAAAAAAGZmHj/NzGw9zcxsPQAAID8AAAAAmpmZPQAAAADNzGw9zcxMO83MzDozM3E/zcxsPZqZsT4AAIA8ZmZQP2Zm0j7NzJw+zcw8PjMzEz2amUE+zczMOgAAVD/NzGw9AAAAADMzAz4zMyk/ZmaWPTMzcz0AAHA/AAAAAAAAAACamek9MzODPWZmpjxmZpY9AAAAAAAAED4zM5c+AACgPc3MjDyamR8/ZmYuPgAAAAAAAAAAzcycPZqZmTszM+M+zcxsPTMzcT/NzEo/AAAAAAAAAADNzGw9AABiP5qZmTvNzJw9zcxwP83MbD0AACY/MzOzPAAAAAAAAAAAmplnP83MzDqamUU/mpmZO2Zmlj3NzGw9mpmZPQAAAAAAAAAAAAAgPQAAgDwAABA+zcygPs3MbD2amV8/mpkFP5qZKT/NzGw9zcxsPwAAAADNzDw+zcxMPZqZAT6amYk+zcxMOwAAAADNzEw7mpl5PTMzSz7NzCg/mpmZOwAATj8AAAAAMzMzPAAASj8AAPg+AAAAAM3MbD3NzMw6mpkZPM3MbD0AALA9AAAAAM3MzDwAADo/mpkZPDMzpz6amf0+AAAAAAAAAABmZhA/AAAAAJqZ2T4AAF4/AABkP83MjDzNzMw6AACgPc3MzDpmZl4+AAAWP2ZmcD+amYE+mpktP5qZAT4AAAAAAAAAAAAAsD4AAAAAAAAAAM3MPj9mZi4/zcxMPGZmOD8zM3E/zcxsPZqZuT7NzJw9MzMTPZqZJT8AAAAAAAAyP83MYD9mZpY9zcwMPs3MzDrNzGw9MzPzPAAAID0AAMA8zcxsPQAAAADNzEw7AAAAAGZmhj3NzFI/MzM7Ps3MAD8AAAAAzcxsPTMzUz0AAAAAzcxsPQAAID0AAAAAMzNzPWZm5j0AAAAAMzNbP5qZAT6amZk8AADAPc3MjD0AAAAAAAAAADMzgz0zM3E/zcwePwAAgDzNzGw9ZmYqP5qZkT5mZmo/zcxWP83MrD3NzMw6zcxkPgAAAAAAAGw/AAAAAAAAeD6ameE+AAAAAGZmpj0AAMA+zcxsPTMzUz0zM/M8ZmZGPc3MGD9mZj4+AACAPM3M3D0AAAAAZmaGPQAAADzNzGw9mpkZPc3MTDyamVk9AADAPAAAAABmZmY8AAAAAGZm0j4AAGA/MzMzPgAAAABmZp4+Zmb+PmZmXD8AAIA9Zmb2PgAAAADNzMw7AAAAAM3MTDsAAAAAAAAAAAAAAADNzEo/AAA8P5qZeT0zM+s+MzMnP83MbD2amZk8zcxsPQAAAAAzM3M9AAAAAAAAAADNzMw6AAAAAAAAAADNzMw6mpl5PTMzAz6ameE+AACAPM3MbD3NzMw8zcxuPwAAXD8AAMA8ZmY6P5qZeT0AAAAAZmYePgAAAADNzEw7MzOzPAAAAAAzM5M9AAAAAAAAAACamZk7AAAAAAAAED4AAAAAmplNPwAAAAAAAAAAzcwsPQAAADwAAEg+AAAAAM3MbD0zM3s+AAAAADMz8z0AAAAAAAACPzMzcz1mZoY9AAAAAAAAAAAAAEA/AAAAAM3MbD3NzGw9MzNxPzMzhz6amSc/zcxsPQAAID7NzGw9mplJPwAAQD3NzCw9mpllP5qZmTvNzGw9ZmYsP83MbD3NzGw9AAAAAAAAgDyamVk9MzODPc3MbD1mZsY9mpk/PzMz8z2amVE/ZmZmPDMzcT9mZgY9AABOP5qZTz8AAAAAMzNxPzMzMzwAAAAAAAAAAM3MzDwAAAAAzczQPs3MbD2amRk9mpltP83MbD0AAAAAMzPjPWZmVj7NzGw9AABgPQAAAAAAAAAAAABIPwAAADwzM3s+AAAAAM3MzDrNzGw9MzNxP83MzDqamRk8MzMvPwAAwD0zM0M+zczMOwAAPD8zM6M9MzNTPc3MbD3NzGw9MzM7PmZmWD8zMxM9zcxsPc3MbD3NzGo/ZmZmPs3MbD0zM/M8MzNBP83MzDsAAAAAAAAAADMzRT/NzLw+zcxsPc3MbD2amZk7zczMOgAAAD2amZk7zcwsPs3MbD3NzIw9ZmZOPs3MbD0AAHA/zcxMPc3MbD2amUk+zcxsPQAAwD0AAAAAAAAAAGZmDj7NzGw9zcxwP5qZmTvNzEw7AAAAAM3MTDsAAAAAZma2Pc3MTDuamY0+MzP7Ps3MDD8AACA/zcxsPWZmRj4AAAAAmpkZPAAAAABmZuY+AAAAAM3MbD0zM4c+mpmJPgAAgDwAAIA8AAB4PgAAAADNzGw9AAAAAAAAAADNzGw9MzMTPQAAAAAzM3E/ZmY2PwAAMD8zM/M8zcwMPpqZiT2amRk8MzNxPwAAwD0AADI/AAAAADMz0z0AAMA8AAAAAAAAAADNzEw9zcwUP83MTD3NzGQ/MzMTPc3MbD0zM1M9ZmaKPmZmbj9mZvY9zcwsPZqZmTszM+c+AAAAPM3MbD2ambE+zcyMPc3MnD0AAAAAmpktPwAAUD8zMxE/MzPfPpqZAT8AADg/zczMOpqZIT8AAAAAmpkpPs3MbD0AADg/AAAAADMzMz1mZgQ/MzPzPc3MTDuamWE+AAAAAAAAAADNzMw6AAAAP83MzDpmZiY9ZmZmPM3MTDvNzLA+MzNxPzMzRz8AAPA9mpkZPc3MTDszM58+AAAAAM3MLD+amZk7MzOzPDMzvz7NzGw9AAAwPmZmsj4AAAAAzcxMOwAAADzNzEw8ZmY+PwAAADwAAAAAzcz8PQAAAACamT0/zcxsPc3MTDszM/8+MzMDPs3MbD1mZu4+zcyEPs3MbD0AAIA9MzMpPzMzcz2amS0/mpkDPwAAADwzM3M9MzNBP83MTDtmZiY9zczMOzMzMz3NzGw9AAAAAAAAAABmZgY9AAAAAM3MTDuamc0+AADAPAAAAADNzEw8mpkzP5qZOT0AAAAAzcxsPc3MbD3NzGg/zcwSPwAAAAAAAAAAAAAYPgAAbD9mZgg/ZmamPAAAAAAAAAA9AAAAAGZmxj0zM3M9AAAAAM3MbD0AAAAAAAAAAJqZjT4AAPg+AAAAAGZmHD8AACA9zcxsPTMzEz4AAAAAAAAAAAAAgDwAAAAAZmbaPgAASj8AAAAAAAAAAAAAOj/NzEw7AAAEP83MMj/NzGw9AACAPc3MjD0AAJw+mplJPgAAED4zM9M9AAAAAJqZeT7NzJw9zcxMOwAAAAAzMws+AAAAADMzAz7NzGw9ZmamPDMzYz8AAAAAAAAAAM3MzDqamfk9zcycPQAAAADNzMw6AABwP5qZmTvNzNw9ZmY2PpqZST5mZuY8zcwgPwAAAACamXk9zcy8PQAAMj/NzGw9zczoPs3MTDszM7M+MzNxP83MbD2amZk8AAAAAJqZGTyamZk7AABgP2ZmXj9mZlY/MzOrPjMzszyamdk8MzMTPWZmxj4AAAAAmpnJPQAAsD2amYk+MzNlP83MbD0AAAAAzcw8Ps3MzDvNzEw9ZmZGPZqZWT2amZk7zcxsPc3MbD0AAAAAzcygPgAAAADNzGw9zcxsPc3MzDoAAAAAMzNxPwAAAAAzMzM8mpmJPgAAAD0AAAAAMzMLPs3MTDvNzEQ+zczMOjMzaT8AAAAAAAAAAJqZaz8zMzM8zcxuPwAAOD5mZmY9AAAAAAAAAACamUs/mpmJPTMzVT9mZrY9zcxsPc3MRD8zMzc/mpmZPGZmhj0AAAAAzcxsPc3MbD1mZoY9AAAAAJqZQT4AAAAAAAAgPc3MbD0zMxM/zcysPc3MhD5mZqY8MzNJPwAAAADNzGw9AAAAAM3MbD2amVM/mpkRPjMzBz+amZk8mpnZPDMzcz2amak9ZmbmPAAAgD0AAAAAzcxsPTMzCz6amXE+MzOXPjMzMzwAAGA9MzOTPQAAwD5mZpY9zcxMOwAAAADNzFg/zczMPJqZ6T0zM9M9zcxUP5qZGT9mZiY/zczMOgAAAABmZqI+AAAAAAAAYD2amVk+AAAAAM3MTDtmZoY9ZmYGPTMzsz0zM3M9AAAAAJqZuT1mZl4/MzM9PwAAwDwAAAAAzcxwP83MbD0zM2s/AAAAAJqZqT0zMxs+zcy4Ps3MPD8zM8M9zcxsPc3MTD0AAAAAMzNTPc3MbD3NzEw7zczMOwAAQD3NzFQ/AAAAAAAAYD7NzMw8MzPzPAAAID4AAAAAzcwiP83MzDvNzEw7AAAAAJqZiT0zM3M9zczMOjMzOz4AAAAAzcxMPAAAAADNzEw7ZmYeP5qZeT1mZnA/AAAAAAAAADzNzMw6MzOfPgAAcD/NzGw9MzNxP5qZmTuamZk7ZmZmPJqZqT3NzNg+AAAAAAAAsD3NzCw9AAAAAM3MzDozM28/MzMzPM3MbD0zM3E/MzMzPAAAYD0AAHA/zcwsPpqZGT9mZhA/MzNTPQAAAAAAAAAAAAAAAM3MbD3NzAI/AACgPZqZ0T4AAIA9mplVPwAAAABmZrI+mplJPgAAAABmZkY9MzMbPgAAMD4AAAAAAAAAAGZmlj0AAAAAzcxsPQAAwD3NzGw9AAAAAGZmTD8AAAAAMzNtP5qZ+T0AALA+zcxsPWZmvj6ambk9zcw2PwAAAADNzMw6mpkZPM3MbD3NzMw6zcxsPQAAoD2amek+mplvPwAAbD9mZoY9AAAYPgAAAAAAAIA8zcxsPQAAAABmZm4+zcxsPQAAAAAzM9M9zczMOgAAsD0AAAAAzczMOjMzcT9mZrY+zcxMPpqZeT3NzDo/AACAPM3MbD0AAAAAAAAAPQAAAAAAAAAAAAAAADMzXT/NzMw7ZmYIPwAAoD0zM3E/AAA8PzMzNz/NzGw9zcwKPwAAAD4zM3E/AAAAAM3MTDvNzGw9zcyMPWZmTD/NzMw6mpkJPgAAeD5mZl4/MzMzPJqZJz/NzEw9zczMPAAAgDxmZqY8MzMzPZqZTz9mZmY8zczMO83MbD0zM28/AAAAAAAAAACamZk8zcwsPTMzoz0zMzE/MzNDPgAAcD8AAAAAzcxsPZqZGT0AAAAAMzMfP83MRj8AAAAAMzMTPc3MzDtmZmg/AADQPc3MzDsAAG4/AAAAAJqZ+T2amZk7AAAAAAAAXj8AAAAAMzMVP83MzDozMz8/mpmxPs3MzDsAAEg+zczMOjMzbT8zM3M9mpnZPAAAAABmZpI+zcxMPc3MbD0zMyU/AACQPZqZyT0AAGA/zcyQPjMzcT/NzMw6AAAAAM3MjDzNzMw7AAAUPzMzcz3NzKw9zcxsPQAAoD1mZuY8mpl5Pc3MbD1mZiY9zcxsPc3MzDwAAAAAZmbmPAAAAAAAAAAAzcxsPc3MbD0AACg+ZmZuPs3MzDoAAAAAZmY2PgAAAAAAAAAAmpmZOzMzcz0AALg+AAAAAJqZiT4AAAAAAAAAAJqZRz8AAAAAzcxsPWZmZjyamZk7AAAAAM3MTD+amck9zcxsPWZmcD/NzOQ+mpl5PQAAAACamdk+ZmZePgAAAAAzM7M8AAAAAM3MzDqamWk/AAAAAM3MbD3NzGw9AAAAAJqZGTzNzMw6zcxsPQAAADwAAIA9ZmYWPgAAAAAAAAAAAAAAAM3MbD0AAAAAzcxsPQAAAAAAAAAAZma2PQAAVD+amaU+AAAAAM3MbD3NzEw7ZmaWPWZmBj3NzGw9ZmZ2PgAALj+ameE+AAAAAAAAAD0zM1M+AAAAAGZmLj9mZkY/mpkZPAAAAADNzGw9AAAAAJqZGz/NzMw8MzNxPwAAiD7NzMw6AAAAAJqZaz/NzMw6AAAAAM3MfD4AAAAAZmZGPQAAgD0AAAA9MzO3PmZmpjwAAAAAzczMPJqZiT0zM3M9AAAAAM3MbD2amZk7zcxsPc3MbD3NzGw9AAAAAJqZtT4AAAAAzcxMO5qZ+T0AAHA/AACEPjMz8zyambk9AAA0P83MYj/NzMw6MzNxP5qZ2T0AAMA8AAAAAAAAAACamXk9AAAAAM3MzDrNzGw9mpl5PQAAQD3NzMw6mpkZPM3MzDrNzGo/ZmZuP83M6D6amQs/mpkZPTMzcz3NzGw9mpk9PzMz7z6amcE+zczMOmZmhj3NzCw9MzMnP5qZCT5mZg4+zcxMOwAAaD8zM5M9AAAAAM3MbD4AAAAAAAAePwAAeD7NzGw9AAAAAGZm9j0zM4M9AAAAAGZmbD8AAGY/MzNrPgAAwD3NzNQ+AAAAPGZmUD9mZnA/AAAAPc3M7D3NzIg+mplZP5qZmTuamek9zczMOwAA2D7NzGw9mpkZPs3MzDoAAAAAzcxMOwAAAAAAAAAAmpn5PQAAAACamSU/zcxsPc3MTDsAAKQ+AABAPQAAAADNzMw6zcxsPc3MbD3NzFI/mpmpPc3MYj9mZuY8zcz4PgAAAABmZjI/mpmZO83MVD+amRk8AAAAAJqZJz+amSM/zcxwPwAAAAAAALw+AAAAAJqZyT0AAAAAmpm1PpqZIT8zM5M9AACMPgAAAABmZh4+ZmbWPZqZqT3NzJg+AAAAAM3MbD3NzEw7zcxsPQAAAAAAAIA8AAAAAJqZmTuamXk9AAAAAJqZGTwAAAAAAAAAAAAAAAAAAAAAzcyoPgAAgDwAAAAAmpmZPQAAID2amRk8zcxMOwAAAACamSc/AABIPwAAAADNzEw8zcykPmZmtj7NzGw9AAAAAAAAAAAAAAAAAAAAAGZmZD8zM1M9ZmZIPwAAKD4AAAAAAACAPDMz8z3NzDw/ZmZCPwAAAAAAAAAAAAAAAAAAAADNzGw9mpmhPgAAAAAAAAAAAAAAADMzgz4AAAAAZmZmPAAAAAAzM7M+mpnZPDMz8zwzM98+AAAAADMzcT8AAAAAAAAAPGZm5jwAAAAAzcwkP5qZyT0AAAAAAACgPc3MbD6amRk8zcxMOwAARj8AAJA9AADgPc3MzDvNzGw9ZmbmPAAAAADNzGw9AAAAADMzbz9mZs4+zczMPpqZMT8zM4M9zczMOpqZqT3NzAw9AABOPwAAAABmZjY+AAAAAM3MTDzNzMw6MzNxP83McD/NzGw9zczMO2ZmpjyamZk9AAAAADMzRz8zM4M9AAAAAAAAAADNzGw9MzNpPwAAAACambk9zcxsPc3MbD2amSE+mpl5Ps3MbD0zM/M8mpkJPzMzcT8AAAAAmpkRPs3MTDwzM0U/AAAAAM3MbD+amXk+AAAAAAAAAADNzGw9zczMOwAAWD6amak9mplnPwAAAADNzGw9AAAAAAAAAAAzM3M9AAAAADMzcz3NzMw8AAA4PgAAwDwAAAA+AAAgPWZm9j0AAGA+AAAAPQAAAADNzMw6zcxsPQAAAAAAAAAAZmamPDMzszxmZtY9AACQPc3MbD0AAAA8AAAAAAAAAAAAAAA8MzMTPQAAKj/NzMw9zcxsPWZmnj4AAAAAZmY+Ps3MbD2amZk7AACQPc3MbD2amUU/AAAAAAAAADwAAAAAAAAAADMzsz0AACA+zcxMPGZm5j2amck9zcyMPTMz8zwzM0M+AAAAAAAAADwAAMA9zczMOs3MbD0zMys+ZmaiPmZmTj4AAAAAMzOjPs3MTDvNzDg/ZmYCPwAAbj8zM5s+ZmZmPGZm5jyamZk7mpnZPWZmrj6amdk8AAB4PgAAAACamXk9zcxMPDMzwz0AABo/zcxsPZqZMT7NzEw7AAAAAJqZUT/NzGw9AAAAAM3MzDrNzEw8mplJPgAAWD6amZE+MzOzPM3MzDozMxM+AAAAAAAAAAAAAAAAmpmJPZqZeT0AANA9AAAAAJqZGT0AAJA9zczMOs3MvD0AAAAAZmYmPs3MvD3NzEw7zcxsPc3MbD2amZk9AAAAPDMzEz6amU8/mpn5PgAAAD3NzIw8MzNzPQAAAABmZhY+AAAAAJqZOT6amTE+AAAAAM3McD/NzCI/AABOP83MYj/NzGw9zcxsPQAAAADNzGw9AAAAAM3MbD3NzGw9AAAAADMzbz8zM3E/MzNxPzMzMz0AAAAAAAAAAAAAAAAAAAAAZmZmPJqZiT0zM48+AABwPwAAAAAzMzs/AAAAADMzlz4zM3E/AAAAAGZmZj/NzMw8AAAAAAAAAADNzGw9AAAAAGZmgj4AAJA9AAAAAM3MzDsAAFg/AAAAAM3MzDuamSE/MzO3PgAAgD0AAAAAMzMjPs3MbD0zMy0/ZmYWP2Zmvj4AAAAAzcxsPQAAwDxmZmY9ZmbGPWZmtj3NzGw9AADQPc3MPj/NzGw9AAAAADMzYz+amck9zcxSP83MTDvNzMw9MzODPc3MTDzNzGw9ZmamPc3MbD0zMzM8zcxsPWZmCj8AAAAAAAA4Ps3MbD3NzMw6AAAAAGZmSD/NzDA/mpmJPc3MbD0AAAAAAAAAAAAAAADNzGw9ZmayPgAAAAAAAEA9zcwqP5qZGT4AAAAAAAAAAAAAAAAAAAA8AAAAAGZm5j0AAAAAAAAgPWZmcD8AAAAAzczMO83MTDsAAIA8MzNbPgAAbj8AAAAAZmaGPs3MND4AAAAAmplTPwAAAACamTk9MzNLPgAAAD4AAAAAmpnBPpqZqT7NzGw9ZmZmPAAAgDwAACY/AAAAADMzLz8AAAAAZmZ+PgAAgDwAAAAAZmZcPwAAAAAAAFg/Zma2PjMzcz0AAAAAmpkZPAAAAAAzM7s+ZmYmPQAAAAAAAAAAAAAAADMzET8zMy0/AAAAAAAAADzNzMw6AAAAAM3Mbj8zM7M9zcxsPQAAAADNzGw9MzMzPJqZ4T4AAAAAzcwcPzMz8zzNzMw6AAAoPgAAaD4zM6M9ZmamPJqZ6T7NzMw9AAAAAAAA7D6amTk+zcy0Ps3MiD7NzCw+AAAAAAAAUD4AAAA9mpk3P83MBD/NzMw6AADIPgAACD4AAAAAzcxMO83MzDvNzKw9zcyMPAAAAADNzIw8MzMzPzMzXz/NzMw6ZmYePwAAAADNzMw6zcxsPWZmzj4AAIA9zcxsPQAAAAAAAPQ+AAAAAAAAAAAAAAAAMzOzPAAAAADNzBw+MzM/P83MbD2amXk9AAAAPM3MbD0AAMA8mplvP2Zmtj3NzMw6AADsPgAAAAAAAAAAzcwAP5qZmTvNzGw9mpnZPQAAAAAAAIA8zcxMO5qZWT8AAPg+MzNxPwAAXj8zM+M+zczMOs3MsD6amRk+AACgPZqZmTuamW0/zcxsPTMzszyamZk8AAAAAAAAAADNzMw6zcycPWZmlj0zM3E/zcxsPQAAAAAzM6M9AADAPAAAAAAzMzM9ZmYmPWZmhj3NzGw9AADQPc3MLD6amfk+mpmZPs3MbD1mZtY+zczMOs3Mbj8zMzM+ZmbWPc3MbD0AAAAAzcxsPc3MzDpmZoY9MzNxP5qZzT5mZuY8AAAAADMzSz4AAAAAzczMOgAAED/NzGw9mpnVPgAARD/NzEw7mpkNPwAAAADNzGw9MzNLPgAAAADNzMw8mpl5PQAAgDzNzGw9ZmYWPzMzAz4AAMA8AAAoPwAAAAAAAAAAAABAPjMzgz0AAAAAzcyMPTMzVz8zMws+mplZPWZmZD+amYk+zczMO5qZPT/NzEw7zczMOpqZCz/NzGw9zczMOs3MTDsAAEA9mpkNPzMzRz8AAAAAzczsPpqZGT0AAAAAAAAAAAAAAABmZn4+zcw4P2Zmlj1mZp4+zcxMO2ZmTj4AAAAAmpm5PWZmdj4AAAAAAADAPAAAkD3NzLw9AAAAAM3MbD1mZvY9AAC8PpqZiT2amXk9AAAAAAAAAAAAAAAAAAAAAGZmpj1mZlI/MzPDPQAAAABmZj4+AAAAAAAAAAAAAAAAzcxsPc3MzDtmZnA/zcw+PzMzsz0AAAAAzcw6P83MbD0AAAAAAAAAAAAAAACamdk8zczMOs3MWj+amRk8AAAAAGZmLj7NzGw9MzOjPQAAID0AAIA9zcxsPwAAPj8AAAAAzcwSPzMzszwzM/M8zcxsPQAAED8zMzM8zczMPs3Maj+amS8/mpkZPGZmlj3NzEw7AAAAAJqZKT9mZoY9AADQPZqZmTszMzs/AABwPs3MTDvNzKA+zczMO83MvD0AAFI/MzNxPwAAAACamak9MzNTPs3MTDvNzPg+ZmZmPs3MbD0AAAAAMzNxP83MYj9mZho/zcwcPmZmZjzNzEw7zcxsPTMz4z3NzGw9ZmZmPGZmZjzNzHA/ZmaiPgAAAACamSk/zcxsPc3MzDpmZuY9AACgPgAAqD4AAAAAMzNTPQAAVD8zM7M8AAAAAM3MbD0AAAAAzczMPDMzKz4AAAAAAAAAAGZmPj8AAAA8AAAAAJqZRz8AAAAAAAAAPDMzcT8AAAAAAAAAAGZmvj4AAIA9MzOzPM3MbD2amS0/ZmbWPQAAQD2amRk9AAAAADMzcT9mZlQ/AAAAAM3MTDwAAAA9MzOjPTMzcz3NzNw9AAAAAAAAAACamWE+mplrP2ZmUj8AAAAAAADAPGZmhj4AALA9MzNxP2ZmLj8zMyM+ZmZmPAAAAAAAAAAAAADAPAAAAABmZmY8zcyMPpqZET/NzMw6zcxsPWZmxj3NzGw9zcxsPTMzoz1mZuY9AAAKPwAAAADNzEw7mpmZO5qZuT0AAAAAAAAAAM3MFD/NzGw9zcxMPWZm9j0AAAAAAAAAAGZm8j7NzGw9AAAAAAAACj8AACg+AAAAADMzszwzM3M9MzNxP83MnD0AAAAAAAAAPgAAAADNzEw8AABAPZqZ4T7NzGw9mpmZOwAAAACamRU/MzMJPwAAAADNzBA/MzMbPgAAAAAAAAAAAACAPc3MbD0AAAAAMzMBPwAAAACamZk7mpl5PTMzmz4AADA+AAAWPwAAQD3NzGw9MzNBP83McD+amWE+MzMzPAAA3D7NzGw9MzMhPwAAAD2amak9AAAAAM3M7D4AACA9zcxsPQAAeD6amZk9MzOzPDMzSz7NzEw8zczMOs3MbD3NzGw9zcxsPWZmmj6amXk9ZmaOPpqZQT4AAAA8AAAAAAAAVD8AAFA+zcygPgAAAAAAAAAAzcxsPc3MTD8zM9M+AAAAAGZmDj+amZk8AAAAAM3MzDszM4M9AAAAAM3MbD3NzJw9mpnpPWZm1j4AAAAAMzMTPTMz0z2amW8/zcw6PzMzoz0AAAAAAAAAADMzGT/NzGg/AAAAAM3MzDqamQk+zcxsPTMzkz0AADA/mpkPPzMzNT/NzCI/AAAAAJqZGTwzMzM9ZmaGPQAAAADNzMw+mpmZOwAAAADNzDI/mpkZPmZmpj1mZgY9AAAAAM3MGj8zM7M8AAAAAAAAWD4AAOQ+zczMOwAAQD8AAAAAMzNfPwAAQD3NzOw+AAAAPgAAAD1mZkA/AAAAAGZmZjyamVk+MzNvP5qZmTwAAAAAzcwMPmZmBD8AAGA9MzPfPgAAWD8zM68+mpkRPs3MbD0AAE4/AADAPGZmVD8AAAAAMzP3Ps3MPD4AAAAAmpkhPgAAAAAAAAAAmpk5PmZmZjyamak9zcwkPgAAID2amTc/mpmJPQAAAADNzGw9MzNPP83MTDvNzGw9mpnNPgAAAAAAAAAAzcwsPc3MbD1mZpo+ZmY+PwAAAADNzGw9AABgPTMzMzyamQk/ZmYyP2Zm5jwAAAAAZmYyPwAAAABmZqY8zcxsPZqZiT0AAJA+AACgPTMzbT8zM8M9zcwAPzMzsz1mZkI/mpmZOwAAAACamRk8AAAAAAAAAADNzMw6ZmaWPTMzcT8zM2c/zcxsPTMzMT8AAF4/zcyMPAAAAADNzEw7zcxqP83MzDoAAAAAMzNRP5qZST8zM8M9zcxMO5qZRT/NzFw/AAAAADMz8zwAAAAAAAAAAM3MzD1mZn4+AAAAAAAA6D7NzIw8ZmYmPQAAAAAAAAAAzcw8PzMzIz7NzF4/AAAAAAAAgDwzM3E/zcxsPc3MfD4AAAAAmpkJPs3MnD0AAMA8AAAAAM3McD8AAAAAmpk5PWZmVD/NzGw9mpltPwAAAACamR8/AAAAAGZmhj0zM/M8AAAAAM3MbD0AAFA/MzPbPmZmZj1mZqY8AAAAADMz/z4zM3E/ZmaWPc3MbD1mZlg/AABAPTMz5z7NzEY/zcy8Ps3MqD7NzGw+mplbP83McD9mZmY/zcxsPQAAvD4zMzM8AAAAAM3MbD3NzIw8AADQPQAAAADNzGw9AAAAAAAAAACamQ0/AAAAAJqZAT6amdk8mpkXPwAAAAAAAGA9mpmZOwAAAACamS0/zcwIP83MzDvNzMw6zcywPs3MTD3NzPg+mpk5PQAAAAAzMzM8AABAPQAAnD6amXk9AAAAAAAAAAAzM7M8MzMbPzMzQz/NzGw9zczMO5qZET8AAAAAzczsPc3M7D2amfk9MzNrPwAA4D3NzOw9AAAAAM3MbD3NzEw7ZmY2PwAAAADNzEw7ZmbmPM3MjDzNzGw9AAAAAGZmBj0zM/M8AAAAAAAALj8AAAAAAAAAAAAAAAAAAAAAMzNhP83MbD3NzGA/AADAPDMzMz0AAEI/zcxsPc3MbD1mZnA/AAA0P2ZmRD8AAAAAAAAAAAAAAAAzM20/mpmZO2ZmBj7NzEw8MzNfPwAAAAAzM1s+AAAAAM3MbD3NzGg/ZmaGPQAAgD3NzGo/zcxcPgAAkD6amVk9AACAPc3MbD0AAIA9AAAAPAAAADwzM8M9zcxMO5qZKT7NzGw9AADAPAAAAAAAAAAAAAAAAAAAAAAzMxk/ZmYePs3MOD+amVM/AAAAAM3MBD4AAHg+zczMO83McD8AAAAAAAAAAAAAAADNzMw6zcxsPZqZGTzNzGw9zcwAPzMzEz2amVM/MzNzPZqZmTzNzGw9AAAAAAAAAAAzM+M9zcxsPc3Maj8zMyU/zcxwPwAAZj/NzMw6MzNxP2ZmZjyamR0/MzNjPwAAAAAAAAAAmpmFPjMzJT8AAAAAMzODPgAAID8AALA9AAB4PmZmRD+ambE+mpltPwAAAABmZiY9zcxwP5qZeT7NzGw9AAAAAM3MbD3NzGw9zcxsPQAAAADNzEw9mpnhPgAAAADNzGw9MzPTPTMzEz2amdk8MzMzPM3MbD2amZk7zcxsPQAAAAAzM3E/mpmlPpqZeT2amZk9AAAAADMzcT8AAAAAzczMOs3MGj+amV0/MzPzPgAAAADNzIw9MzOzPJqZeT6amRk+MzNTPWZmTj7NzCY/zczMOs3MbD3NzEw7AAAAAGZmbj8zMw8/mpmZO2ZmCD/NzBA/AAAAPGZmJj2amZk8AAAAAM3MTDsAAAAAzczMO2ZmcD/NzJw9mpmVPjMz8zzNzEI/AAAAAGZmIj8AAAAAmpldPzMzcz0AABg+MzMXP83MbD3NzGA/MzNTPgAAAD3NzKw9AAAAAAAAAAAAAAAAAAAAAM3MbD0zM/M9Zmb6Ps3MzDrNzBg/mpmZO83MbD1mZqY9AADAPc3MzDozMwM+zcxGP5qZKT9mZgY9MzNdPwAAAADNzGw9zcxsPc3MbD1mZko/zcxsPWZmHj7NzF4/zczMOgAAAAAAAAA9AAAAAM3McD8AAAAAZmbWPQAAgD2amXk9AACAPc3MbD0AAMA8zcwMPjMzcT8zMxM9ZmamPGZmhj3NzBo/MzMzPAAAAAAAAAA8AAAAPM3MnD0AAAA8AAA+PwAAAADNzMw6ZmbWPQAAwDwAAAAAmpkbP2ZmWj+ama0+mpkrP2Zmlj2amZk7AADAPJqZOT/NzMw6AACAPc3MbD0AAAAAAAAAAJqZ7T4zM3E/Zma2PZqZFz8AAAA8AAAAADMzcT+amRM/MzMzPGZmxj0AAAAAzcxMOzMzYz5mZmY8MzMBP5qZOT2amdk8ZmZuPwAAAAAAACA9AABKP83MTDwAAAAAAAAAADMzEz8zM3E/AAAAAM3MzDpmZtY9MzOTPQAAAAAAAAAAAAAAAJqZWT2amRE+AABYPs3MzDoAAAAAzcxEPgAAgD0AAAAAAAAUP83MbD0zM0M+AAAAADMzMzxmZqY8AAC8PpqZKT4AAAAAAAAYPpqZmT3NzGw9AAAAAAAAbj9mZpY9mpkJPs3MdD5mZg4+AAAAAM3MhD4AAAAAzczMPAAAAACamZk7AAAAAM3MbD0AAAAAAAAAAGZmhj0AAAAAzczMPJqZUT4AAMA9zczMOpqZ2T3NzGw9zcxsPTMzszzNzMw6MzNrP5qZmTuamRk+ZmayPmZmOj+amZk9MzNDPgAAAAAAAAAAzcxsPZqZWT8zMwE/zcysPc3MnD7NzCQ/ZmY2P2ZmHj4AAAAAzcxsPc3Maj9mZiY9AAAAAJqZCT4AAAAAzcxMPGZmTj/NzGw9ZmYwP83MbD3NzGw9ZmZAP2ZmpjzNzPA+mpntPjMzKT/NzGw9zcxsPc3MzDqamVk+AAAAAM3MbD2amdk8ZmZAP83MbD3NzIw8AAA6P83MjD2amSs/ZmamPM3MzDozM1M9AAAAAAAAAAAAAAAAAAAAADMzcz1mZkQ/ZmbmPM3MTDsAAAA8mpmZO5qZ2TyamRk8zcxsPQAAADzNzGw9zczMOgAAAAAAAEg/AAAAAM3MzDozM3E/MzMBPwAAAD3NzGw9AAAAADMz6z4AAIQ+AAAAADMzBT/NzGw9mpkXP83MbD2amZk9zcxsPQAAAADNzGw9MzOzPAAAeD4AAAAAzcxsPTMz9z7NzFw/zczMOs3MjDyamZk7AAAAADMzcT8AAAAAmpmZPAAAoD0zM3E/mpmZOwAAAAAAAAAAMzPnPgAAMD9mZkY9MzNTPc3MzDszM9c+zczMO5qZmTzNzIw9zcxsPc3MbD3NzGw9zcxsPQAAAAAAAOA9zcxsPQAAAAAzM7M8AABGPwAAID3NzGw9zcwgP83MTDzNzGw9AAAAAJqZAT4zM28/mpk5PgAAAAAAAA4/MzOjPQAAAAAAAAAAAAAAAM3MVD8zMx8/AAAAAM3MbD0zM4M9AAAAAJqZaT8AAAAAAAAAAM3MTDsAAGA/zczMPAAAgD2amU0/AAAAAM3MDD3NzKQ+AAAAAJqZYT8AAGQ/ZmZwP5qZDz8zM2s+MzNxP83MDD7NzEw8AAAAAAAAAAAzM2c/AAAAADMzQT+amZk8AAAAAAAAAAAzM3E/AAAAADMzMzwAAAAAzcycPs3MbD1mZu4+zczMOs3MbD1mZm4+MzNzPZqZaT8AAAAAAAAAAAAAKD4AAAAAAABgP83MzD0zM1U/AAAAADMzMz7NzEw8AABsP83MzDrNzGw9mpmZOzMz0z4zM/M+zczMOmZmZjzNzKA+mpk5PQAAAAAAAMg+mpn5PWZmbj8AAAAAmpkZP2ZmRj6amWc/AAAAAAAAAAAAAAAAmplvPwAAAAAAAAAAmpkFP83MJD4AAAAAAAAAAM3MaD8AAAAAAAAQPmZmlj0AAAAAMzMzPAAAAAAAAAAAAAAAAJqZBz/NzEw8AAAAAM3MDD3NzEY/AACAPM3MTDzNzMw7mpkZPAAAAAAAAAAAmpmZPZqZiT3NzMw6zcwkPwAAAABmZko/zcxsPc3MbD0zM3E/zcxsPQAAAABmZrI+AAAAAJqZWT1mZj4/mplZPc3MVD8zMxs+AABUP5qZ6T0zM7M9MzPTPs3MzDpmZvY9zcxGPzMzMz0AAIQ+mpmZPAAAADxmZuY8zcxsP83MiD5mZlo/AAAAAGZm5j0AAAAAAAAAAAAAAAAAAAAAzcxsPWZmoj4zM3E/ZmZmPJqZmTvNzGw9AAAAAM3MbD2amW0/AAAAAJqZiT0AAAAAzcxMPZqZGTwAAAAAAACAPQAAQD0zMwk/zcxMO83MQD9mZoY9AAAAAAAAaD/NzMw6ZmayPgAAAACamVE/AADAPGZmTj5mZk4+ZmY4P2Zm8j7NzGw9MzNxP83M7D3NzFA/mpmRPpqZBT/NzGw9Zma6PjMzszzNzMw6AACwPTMzcT8AAGA9ZmZmP83MjD0AAGQ/AAASPwAAAAAAAAAAmpmZO5qZBT/NzMw7zczMO5qZOT0AAAAAAAAAAM3MTDwAAAAAAAAAAAAASj8zM3M9ZmamPAAAAAAAAAI/AACAPAAAAADNzIw9MzPDPZqZaT4AAAAAMzNvPwAAAAAAAAAAMzMTPc3MjD0zMxE/zcxsPQAAAAAAAAAAAAAAAAAASj/NzGw9MzODPs3MBD4zM00/ZmYOPs3MDD0AAAAAAAAAAM3MBj/NzMw6MzNxP83MbD0AAAAAAAAAAJqZmTuamXk9zcyMPAAA4D3NzGw9zcxsPQAAAABmZj4+AAAAAAAAwDzNzEw9MzODPc3M7D4zM3E/AAAgP83MJD9mZuY9zcxsPQAAAAAzM3E/AAAAAAAAAAAAAAAAZmbmPM3MND7NzGo/zcxsPc3MbD0AAAAAmplVPzMzkz3NzMw8zcxMO5qZWT3NzOw9mplJPmZmZjwAACA9AAAAAM3M/D0zM/M+mpm9PgAAAADNzGw9zcxsPQAAAAAAAAAAAABYPgAAAAAzMzE/AAAAAAAAAABmZpY+mpkZPM3MTDwAAIA9AACUPgAAAAAAAAAAMzNzPWZmZjwzM8c+AABAPZqZeT2amSE/zcwMPpqZIT7NzGw9zcxYP83MzDrNzJw+zczcPc3MzDoAAAAAAAAAAAAAAD0AAIA9MzMvPzMzcT8AAMA9AAAAAAAAAACamXk9zcxsPc3MzDvNzGw9zczMOs3MbD0AAAAAMzNxPzMzcz2amZk7ZmYGPQAAAAAAABw/AAAAADMzcT8AAE4/mpldPwAAAADNzGw9mpnJPQAAOD4AAIw+AAAAADMzcT8AAAAAzcxsPQAAAACamZk7MzMhP5qZ2T0AAAAAZmZmPTMzSz/NzEQ+zcxsPQAAAADNzGw9ZmZEPwAAAACamRk8AAAAAM3MzDwzM8M9zczMOjMzmz4AAAAAAAAoPwAAAABmZgA/MzNxP83MzDqamXE+AAAAADMzkz0AAAAAZma2PQAAAADNzJA+zcyMPM3MzDrNzMw6zcxsPZqZGT0zM+c+mpmZPAAAAABmZmY8ZmZsPwAAAAAAAKA9ZmYGPgAA0D3NzAw9MzPjPZqZmTtmZnA/zcxsPc3MzDsAAAAAzcycPWZmaj8zMzM8ZmZmPDMzcz2amWc/mpl5PQAAOD6amdk8ZmYmPTMzxz4AAAAAMzNTPpqZUz8AAAAAMzNzPQAAAADNzGw9zcygPs3MbD0zMy0/zcyMPAAAAADNzMw6mpnJPQAAAAAAAAAAzcxsPc3MbD3NzBI/mpltPwAAAAAAAAAAzcwePwAAAADNzLg+mplfPzMzIz4AAAAAAAAAAAAAAAAzM8c+AAAAAM3MzDsAAAAAzcxMOwAAAABmZjY+MzMLPgAAAABmZlA/mpkNP83M7D2amZk7ZmZePs3MPD8AAAAAMzNzPQAAsD0AAAAAmplvP5qZmTsAAAAAzczMOjMzlz7NzHA/zczMOjMz8zwAAAA8MzNxPzMzMzwAAAAAMzOHPs3MzDrNzEw7AAAAADMzMzwAAKA9MzMTPgAAAAAAAAAAzcxsPQAAAADNzGw9MzOzPJqZmTxmZl4+AAAAAJqZeT0AAJA+zcxsPWZmJD8AAAAAzcxsPQAAAADNzGw9zcysPc3MTDszM2s+AAAAPDMzcT/NzCw9AAAAAM3MLD+amfk9ZmZkPwAAsD2amRk8mpmZO2ZmZj0zM3E/zczUPgAAAACamRk8AAAAAJqZeT1mZmY9zcxsPc3MkD4AAFw/zcxcPs3MBD5mZm4/AAAAPAAAAAAAAAA8zcxsPQAAYD/NzGw9zczMOpqZTz8zMzM8zczMOpqZST4AAAAAMzMhP83MzDvNzGw9mpkTP5qZET4AAAAAZmZWPgAAAAAAAAAAAAAAPGZm5jzNzGw9AAAGPwAAADwAAAAAAADAPJqZmTvNzGw9ZmZMPzMzcz3NzBA/mpmZOwAAAACamSs/AAAAAAAAAAAAAGA+AAAAAAAA4D4AACo/zcw0PpqZDz9mZrI+zcxsPTMzcz0AAAAAAAAAAAAAAACamZk7zcxMO83McD/NzGw9mpmJPc3MbD3NzGw9AAAAAAAAAAAzM1s/MzNNP83MnD0AAAAAAAAAAJqZmTwAANA9mplZPTMzkz4AAAAAAAAAAAAAID5mZmY9zczMOmZmRj0zM68+MzNxP83MRj8AADA+AAAAAM3MbD6amTc/zcxsPTMzMzxmZiA/ZmamPM3MbD0AAAAAAAAAAGZmVj7NzPw9AAAAAAAAgDzNzPQ+zczMOjMzmz4AAAAAMzODPc3MHj8AAAAAmpkpPgAAAADNzGw9zczMPAAAAAAAAAAAAAAAAAAAAAAAAAAAzcxsPZqZmT0AALA9zcxsPQAAAAAAAAAAZmYGP2ZmZjzNzCQ+AAAAAM3MTDvNzGw9MzOHPpqZmTxmZmA/zczMPgAAADwAAAAAzcxsPc3MLD8zM1U/AAAAAAAAAAAAAAAAAAAAAAAAsD1mZjg/zcxsPc3MbD2amXk9AABsP83MbD0AADI/ZmaGPTMzOz4zM1E/zcxsPc3MzDzNzGw9AAAAPAAAgDxmZhQ/AAD8PgAAgD3NzEw7zcxsPQAAAAAzM4M9mpkZPDMzMz8AAAAAMzNxP2ZmDj+amSc/MzOzPTMzcT/NzEw7mpmJPTMzIz4zM3E/zcwsP83MzDoAAAAAAAAAPGZmZjwAAAAAAACgPQAAQD7NzEw7mplZPQAAAADNzGw9MzMzPgAAWD4AAAAAAAAAAM3MUD9mZgY9zcyYPs3MzDoAAIA9AACAPAAAAADNzGw9AAAAAJqZxT6amZk9zcwkPpqZuT5mZmY8AABoPmZm5jwzM/M9mpmpPc3Mbj/NzIw8mpmZOwAAQj8AAIA9MzMpPzMzcT/NzGw9ZmbuPgAAAACamWU/AAAAAM3MjD4zM0c/MzMzPM3M6D4zM3E/AAAAAM3MbD0AAAAAZmZmPQAAAAAzM/M8MzNxPwAAAADNzBA/MzNjPs3MTDvNzMw7zcw6PwAAAADNzGw9zcycPZqZUz8AAAAAAACAPQAAAD0zM3E/AAAAADMzcT/NzMw6zczMOs3MTDvNzMw6mpkZPM3McD8zM+M9MzMjPpqZaT8AAAAAmplvP83MTDszMzM8AAAAAAAA0D0zM1M9mplLPzMzuz4zM1M9AAAAAGZmQj/NzBQ+MzMzPAAA4D4AAAAAzcxsPZqZmT6amZk7zczMPM3MjDxmZsY9mpmZPM3MfD5mZmY/zcwsPQAAAADNzGQ+AAAAAGZm5jwzMxs+zcxMPs3MbD3NzCw9mplNPwAAAAAAAAAAAADgPTMzcT8AAAAAMzPDPZqZiT0AAAAAAAAAPAAAAACamVs/zcxsPQAAAABmZlY+AAAYP5qZeT2amU8/MzPzPM3MzDpmZtY9ZmaOPmZmZj0zMws+ZmZMPwAAQD3NzGw9zcxsPc3MTDwAACw/AAAAAAAAwDzNzHw+zczMOzMzoz0zM9M9AAAAAAAAAACamXk9zcxsPQAAAACamSk/mpmZOwAAAABmZnA/zcxsPQAAgD0AAAAAAAAsP5qZmT2amYk9MzMTPQAAAD0zM7M9zcyMPM3MYj/NzMw6mpkpPwAAYD0AAAAAZmbGPTMzNT/NzB4/MzNzPc3MqD4AAAAAmpndPs3MkD4AAAAAAAAAADMzcz0zM+s+AAAAAAAAoD4zMw8/AAAAAAAAAAAAAAA8mplbP83MTDtmZgo/AAAgPgAAAAAzM3E/MzMzPM3MbD3NzMw7zczMOs3MTDwzM4M9zcwcPpqZuT0AAAAAmpmZOwAAsD3NzGw9mpk5PTMzsz1mZmY8AABAPgAAAAAAAFg/zcxsPQAAXj+amRk8AAAAAAAAAADNzGw9mpkdPwAAAAAAAAAAzczMOs3MTDtmZpI+AAAAAAAAAAAAAAAAAAAAAGZmZjwAAAAAzcxsPQAAcD4AADA/AAAAAM3MzDtmZjw/AABYPgAAAACamRk9mpkZPAAAgD0AAAAAAACAPM3MrD0zM7M8zcxMPc3MLj8AABQ/AAAAAAAAAADNzGw9zcxsPQAAAADNzMw7zcycPZqZ4T4AAAAAzczcPgAAAADNzGw9mpkBPs3MbD0zMwk/mpmNPmZm5jzNzGw9mpmZOzMzMzwzMxM9AAAAADMzEz3NzGw9AAAAAM3MzDuamTk9zcxsPc3MzDqamQk/zcxsPWZmcD8AAAAAMzMzPM3MzDvNzDQ+ZmamPM3MTDszM2U/mplTP83MzDuamW8/zcxsPc3MVj/NzAo/mplRP5qZyT0zM3E/AAAAADMzMz3NzGw9AABgP83MbD0AAAAAAAAAAAAAuD4AAAAAMzNxP83MTj+amZk8zcwQPwAAAACamRE/AAAAAM3MjD4zMyM+zcxsPc3MbD2amQE+zcxcPzMzMzyamdk+zcwUPjMzMzwAAAAAAAAAAAAAAADNzEw7AAAAAM3MXD7NzMw7zcyMPGZmBj3NzGw9AABgPgAAAACamRk9MzMrPgAAAADNzGw9zcz8PpqZ2TwzM/M8ZmaGPTMzcT9mZoI+AAAAADMzgz2amRk9mpkPPzMz8zyamXk9AACAPQAAAAAAAAAAAACAPGZmbj/NzGw9AADYPgAAAADNzCw9MzMDPgAAAAAAAAAAmpkJPgAABj+ambE+zcxMPAAAAABmZuo+MzPzPM3MbD3NzJw+AABYPzMz8zwAAAAAZmZmPGZm1j3NzEw9AAAAADMzcT8AAAAAzcxsPQAAAAAzM6M9ZmaKPgAAZD+amXk9mpm9PmZmDj8AAAAAAAAAAAAAAAAAAIA9mpkZPJqZ2TzNzGw9zcxMO2ZmPj7NzMw6zcyMPAAAAADNzEw7zcysPZqZAz8zMy0/zcxsPQAAWj/NzAw9mpm5PgAAAABmZtY9ZmamPAAAAABmZl4/zcxsPQAAAADNzMw7mpkhP83MbD3NzGw9AAAgPTMz8zzNzGw9MzMlP83MTDvNzMw6zczMPTMzWz9mZmo/AAAAADMzszxmZmw/AAAAAAAAAAAAAAAAZmbmPM3MbD0AAAAAAAAAAAAAAAAAAAAAmpndPgAAAABmZho/AAAAAJqZqT0AAAAAzcxsPc3MbD2ambE+AAAAAM3MnD3NzGw9AAAAAAAAAACamZk7AAAAAM3MED/NzGw9mpnZPJqZWz8AANA9zczMOgAAoD4AAAAAmpltPwAAAADNzMw6zczMOpqZaz/NzGw9AAAAAM3MbD1mZgY9AAAAPWZm5jxmZmY8AACgPWZmWj8AAAAAmpn5PTMzWz6amWU/zcyIPpqZIz/NzHQ+AACgPWZmxj0zM4c+MzOzPDMzcT8AAPQ+AABoPs3MbD3NzGw9zcxsPQAAAAAAAAA9AAAAAAAAAABmZkY9AAAAAAAAAABmZlg/zcxMPJqZBT8zM7M9zcxsPc3MbD0zMxE/mpm5PZqZQz/NzGw9AAAAAM3MvD0AAAAAzcz8Pc3MTDsAAAAAZmYqPwAAAADNzHQ+zcy8PZqZmTtmZgY9AAAAADMzszyamdk9ZmYGPZqZqT2amQE+AAAAAM3M+D7NzG4/mplZP83MVD6amRk9AAAYPs3M/D7NzMw6mpmZOzMzRT9mZgY9zcwmPwAAAAAzM8c+zcxKPwAAAAAAAB4/AAAAAM3MbD0zM3E/AAAAAAAAAACamYk9AAAAPc3MbD2amRU/AAAAADMzjz4AAAAAAACAPQAAtD4zMws+zczEPgAAAAAAAAAAAAAePwAAAAAAAAAAzcwqPwAAADwAAAAAZmYmPc3MXD4AAAAAzczMOgAAAACamak+AAAAADMzAz6amRk8AAAAAJqZGT3NzMw6AAAAAM3MNj8AAAAAzcxsPWZmpj3NzGw9MzPzPQAAAADNzGw9zczMOmZmDD9mZmY9mplpPmZmoj6amRE+ZmZGPQAAAAAzM/M9AADsPs3MzDwAAAAAzcxsPTMzwz2amTk9MzNxP5qZMT9mZmY/AAAAAAAAAAAzM58+zczwPgAAAACamXk9AAAAAAAAmD5mZmY8mplJP83MjDzNzGw9AAAAAM3MbD0AAAAAzcxsPZqZ2TyamWs/ZmZ2Ps3MzDrNzGw9AACAPc3MbD3NzKw+zcxsPQAAbj/NzEw7AAAAAJqZmT1mZn4+zczMPZqZGT6amak9mpmpPc3MHD8AAAAAAAAAAJqZGz/NzEQ/zcxaPwAAgDwzMyM+ZmYQPzMzMz1mZsI+zcyMPAAAQD0AAC4/ZmZmPM3MzDozM/M8zcxMOwAAYj8AAAw/AACQPc3MzDrNzGw9MzOzPM3MbD1mZmY9ZmY2PwAAAADNzEw8zcxsPQAAAAAzM3E/mpmZO2ZmFD9mZpY9zczMOjMzGz6amYE+zcxsPQAAAAAzM7M9AAAgPc3Mbj/NzGw9zcwUP83MbD3NzNw9AAAAAM3MbD3NzGw9zcxsPc3MTDtmZmY8mpnZPAAAAAAzM+s+AAAAAGZmJj0zMzM8zcycPc3MbD1mZgY9zcy8PWZmHj8AAAAAzcxMPM3MbD0AAOw+AAAAAGZmZjwzM/M8AAAAAAAAAADNzGQ/MzOTPZqZmTuamRk8mpk3P5qZmTwAABo/AACAPQAAAADNzMw6ZmZmPGZm9j0AAIw+AAAAAAAAAACamYk9mplpPmZmXD9mZiI/MzMLP5qZmTwAAAA8zcxsPQAAAADNzGw9zcxMOwAAAAAAAAAAZmZmPjMzcT9mZuY8zcxsPZqZUT+amRk8AAAAAAAAAADNzPQ+AABgPgAAQD8AAAAAzcxMPDMzBT8AAAAAAADAPM3MdD7NzGw9MzOjPc3MbD3NzCQ+zcwsP5qZ2T0AAAAAMzNBP5qZGT2amRE+AAAAAAAAAAAAAAAAzcywPjMz0z0AAAA8AACwPQAAAAAAAAAAzcwoPwAAAAAAABA+ZmaSPmZmTj7NzJw9mpnVPpqZMT4AAAAAzcxmP83MTDsAAAA8mpk5PwAAAAAAAIA8mpkZPM3MLD0AAAAAAAAAADMzlz4AAJA9AAAAAM3MbD2amZk8MzOTPmZmlj2amXk9mpmZOzMzszxmZmY9AAAAAM3MzDvNzMw7ZmYGPgAAAABmZgY9AAAAAM3MzDsAAAAAMzNbPzMzcT/NzMw6ZmYGPWZmBj3NzGw9AADAPAAAAADNzGw9ZmYmPWZmZjxmZrY9MzMzPM3MbD2amek+AABcPwAAAADNzJw9zcxsPWZmZj0AAAAAAABAPWZm5jzNzGw9ZmYmPTMzaT8AAAAAZmamPc3MvD2amTs/zczMPc3MXD6amZk7mplZPQAAwDxmZpY9AAAAAGZmZjwAAAAAAAAAAAAAgDyamZk8AAAAAAAAAADNzE4/zcwSP5qZmTsAAAAAmpkJPwAAgD4AAIA8mpkhPjMzEz0AAAA8MzMjPgAAAAAAAAAAMzMdP5qZUT8AAAAAMzOzPc3MzDozM2U/AACAPTMzMz3NzEw+zczMOgAAAAAAAAAAZmamPc3McD8AAAAAmpmdPmZmNj7NzLw9AAAAAAAAAADNzGw9mpljP83M6D4zM9M9MzOfPpqZmTuamek+MzOXPjMz3z4AANA+mpl5Ps3MXD+amdk8MzMzPJqZmTtmZuY8MzNzPQAAYD1mZmY8AAAAAGZmZjzNzGw9zcyMPc3MnD0AAAAAZmYGPQAAAAAAAJw+zcwUPgAAAADNzDQ+zczMPAAAADwAAAAAZmbOPmZmbD+amRk+mplZPWZm5j0AAHA/mplnPwAAAABmZpI+zcwWP83MbD2amWs/zczMO5qZmTszM4M+MzMHP2ZmZjwAACI/mpmJPWZm5jxmZlA/zcxMO2ZmJj5mZkQ/AAAAAAAAAD3NzHw+mpmZPAAAgDwAAIA9AAAAAJqZMT8zM3E/AAAAAAAAAAAAAAAAmpk5PZqZjT6amRk8AAAAAAAAAAAAAAAAZmbWPQAAAADNzGw9MzNnPwAAGD6amck9mpkTP5qZGTzNzKw+AACQPc3MTDtmZgY9zcwUPwAAAAAAAKw+AACQPZqZeT4AAAAAmpmZPM3MbD0zMxM9ZmbmPJqZeT3NzEw7mpkpPwAAAACamdk9zcxsPQAAAD+amWs/zczMOgAAAADNzGw9zcxwPwAAAAAAAAAAzcwsPgAAAAAzM0c/AAAAAM3MGj8AAAAAAACQPWZmPj7NzEA/zcxMO5qZmTvNzMw6mpkZPGZmhj3NzMw6zcxsPc3MDD1mZjQ/zcy8PmZmLj8AAAAAAAAAAM3MhD4AAAAAZmbePpqZTT8zM1M9Zmb2PZqZUT/NzGw9AACwPZqZVT8zM7M8mpmJPTMzwz1mZj4/MzMjP83MTDvNzGw9zcyEPmZmtj3NzGw9AAAAPc3M/D2amQE+AAD4Ps3MzDvNzAQ/zczMOs3MbD0zMzU/AAAgPc3MzDpmZgQ/MzO7PjMzMzzNzMw6mpnZPM3MzDqamZk8zczMOmZmxj0AALA9MzPzPAAAADzNzMw6ZmYmPjMzAz4AAAAAzczMPGZmZjzNzNA+mpljPwAAAAAAAAAAMzNnP2Zmtj3NzGw9MzOjPc3MzDoAAIA9zcxMOwAAAADNzGw9AAAAAAAAAAAzM7M8zcxsPwAAIj+amQU/MzO7Ps3Maj8AAAAAAAAAAJqZIT+amUE/ZmZwPzMzxz4AAAAAzcxsPc3MbD0zMw8/AAAAAAAAAADNzMw6AADoPmZm5jwAAAAAZmYcPwAAAADNzCw9MzOrPmZmuj4AAAAAAAAAAJqZSz8zM3M+AAAAAJqZCT6amZk7mpnpPQAAAABmZpo+MzMtPzMzcz3NzMw6zcyMPc3MzDuamUU/zcxsPQAAAAAAAAAAzcxGPzMzcT9mZmQ/AAAAAAAAAAAAAAAAAACAPAAAAADNzGQ+mpmZOwAAAAAzM3E/mpl5PQAAAACamRk8AAAAAM3MzDpmZn4+AAAAAAAAQD7NzMQ+zcxEPs3MzDsAACA9zczMOgAAAAAAAAAAAAAAAJqZOz/NzF4/ZmbmPmZmSj8zM1s+AAAAAAAAAADNzEw8ZmYmPQAAAADNzGw9AAAAAAAAAAAAAAAAzcxsPTMzcT8zMzM8zcwMPQAAAAAAAAAAMzNzPQAAAAAAAAAAzczMOmZmDj4AAAAAZmamPWZm5jzNzMw8AAAAAM3MzDyamZk7zcxqP5qZmT3NzGw9AAAWPwAAID2amS0/MzMLPmZmZjwzM0U/ZmamPQAAAADNzNw9ZmZmPDMzMzwAAEA9MzMpPzMzlz4AAMA8MzNxPzMzszwAAAA8AAAAAM3MLD7NzBw+AABoPgAAAAAzMxM+MzM9PzMzKz5mZgY9ZmbmPDMzaT8AALA9ZmZ+PgAAAADNzDQ+zcxsPWZmBj4AAAAAMzOXPgAAAADNzEw8zcxEPs3MbD3NzGw9AAAAAAAAkD0AAAAAAAAAAJqZGT3NzGw9zcxsPc3MzDtmZko/MzNxP2ZmFD8AAAAAAAAAAM3M3D0AAAA8zcxsPWZmRj0zM7M8MzNBP83MzDpmZiY9AAAsP83MbD2amTE+MzNxPwAAAAAzMzM8MzOTPQAASD4zM3E/AAA4P83MTDvNzAA/mpmpPQAAADwzMxM9mpk5Pc3MzDsAAGA9zcxMOwAAAD4AAAAAMzNpPzMzOz4AAAAAmpm5PQAAAAAzMzM9AAAqP83MbD3NzGw9mpkZPc3M4D7NzMw6AAAAAGZmLj9mZmY9ZmYuPgAAAADNzEw7AAAAPQAAeD6amTE+AAAAAAAAVD8AAAAAMzOTPs3MzDpmZmw/MzOPPgAAAAAAAAAAMzNdP2Zmoj5mZhY+mpklPwAAAABmZuY9MzODPTMzoz3NzEw7AAAAAAAA/D4zM7M9MzNLPwAAQj/NzGw9ZmZ+PgAAFD/NzMw7AAAAAJqZuT3NzGw9AAAAAGZmpj4AAAAAAAAAAM3McD8AAPA9mpk7P83Maj8AAAAAzcycPZqZWT7NzMw7MzOzPM3MbD3NzMw6mpmZPQAAAAAAAAAAAAAAAJqZmTsAAAAAMzNRPwAAOj8AAAAAMzNLPwAAAAAAAAAAAAAAAAAAAADNzMw6AABGPzMzEz0AAAAAAAAgPWZmBj3NzMw6AAAAAM3MTj/NzNQ+mpn5PgAAAAAAAAAAAAAAAJqZeT7NzMw6zcxsPQAAAADNzG4/zczMOpqZAT8AAIA+mpkrPzMzXz9mZiI/ZmZuPwAAAADNzIw8zcxMOzMzlz4AAAAAMzNVPwAAAAAAAAAAZmZIPzMzbz8AAAAAAAAAAAAAkD0AAAAAZmamPM3MLD0AAJA9AAAAAAAAAAAzM3E/zczMOjMzEz7NzJQ+zcz8PQAAQD4AAAAAZmbmPQAAAADNzAw/AAAAAAAAAAAzM3E/zcxsPQAAAAAAAAAAAAAAPGZmZjwzM2E/AAAgPQAAxD7NzDw+AAAAAGZmZjyamZk7AAAAAAAAAAAAABo/Zma2PWZmKD8zMys+AAAYPgAAAAAAAAAAmplvP83MTDuamZk8AAAAAM3M/D0AABg/MzPzPJqZeT4zMxU/zcxsPQAAAADNzKw+ZmZsP2Zmhj0AAFo/zczMOgAAAABmZrY9zcxMOwAAbD8AAAAAAAAAAAAAAADNzGw9AAAAAAAAAADNzIw8ZmamPM3McD8AAAAAmpkhPgAAAAAAAAAAMzPHPgAAAAAAAC4/zcxsPc3MbD2amVk9AAAAAM3MTDszMxM9AAAAADMzwz3NzF4/zcxsPc3MTDuambU+zczMOgAAAAAAAAAAMzMxPwAAAAAzMws+AAAAAAAACD7NzGw9zcy8Pc3MbD2amV0/mpmZPc3MzDozMzE/AAAAAJqZcT7NzIg+zcw8PgAA0D2amZk8MzNvP83MbD3NzGw9MzPzPc3MbD0AACg/zcxMPQAAAAAAAAAAzcwaP83MzDyamW8/ZmYGPc3MbD2amW8/zcxsPWZm5jxmZqY9AAAAAJqZwT6amTE/AAAAAAAA8D0zM7M8AAAAAJqZmTszMws+MzPbPpqZ/T5mZsY9zcxsPQAAAACamTk9zcwMPmZmJj4zM6s+AAAAAGZmhj3NzEw7ZmY2P2ZmJj0AAAAAAAAAAM3MDD3NzD4/AAAAPDMzxz6amRk8zczMOgAAAAAAAAAAzcxsPc3MbD1mZpI+ZmZGPQAAAABmZhY/zcxsPTMzIz5mZqY8mpnZPc3MbD1mZko/zczMPAAAADwzM2c/zcxmPwAAAACambk9AAAAADMz8z0AALA9mpkZPM3MzDpmZsY+AAAAAGZm8j7NzGw9AADQPQAAbj8AAAAAZmbyPpqZvT4AAJQ+mpktPwAAEj8AAAAAzcwsPgAAID0zMw0/AAAYPgAAAAAAAAAAzcxsPQAAAAAAAAAAzcxsPc3MjDxmZgI/AACAPDMzcT8AAAAAzcxsPZqZXT/NzEw7AABwPzMzSz4zM3E/AAAIPpqZOT3NzBY/MzPjPc3MLD3NzGw9zcyoPgAAQD3NzMw7AAAAAGZmmj4AAAAAAAAAAAAAAj8AAAAAAAAAAM3MzDsAAAAAZmY+PpqZcT6amSU/zcz0PpqZQT8AAAAAzcxsPQAAAADNzMw8AAAAAM3MLD0zM3s+zcxsPc3MjDwAAAAAAAAAADMz8zzNzKw9MzNNP2ZmpjwAAAAAZmYmPTMzMzwAAAAAAACAPAAAAADNzGw9AABgPZqZeT1mZuY9ZmZmPAAAAADNzGw9MzMZP83MbD2amZk8zcxsPc3MbD0AABA+zcw8P83MbD3NzGw9MzMTPjMzMzwzMxM+AABIPjMzAz4AALA9AACAPZqZUz9mZhI/zcz8Pc3MBD8zMzM8MzNxP2Zmhj2amRk8AABeP5qZ7T5mZo4+mpmlPgAAAABmZso+mpltPzMz8zwAAAA9mpmZPAAAAAAAAAAAMzMbPgAAAAAAAAAAMzOjPQAAGD/NzGw9AAAAAJqZTz8AAAAAAABgPTMzcz3NzEw9AAAAAAAAGD6amWE/zcw4PzMzcT8AAAAAmpnxPgAAADzNzGg/zcxMOzMzIT8AAAAAAAAAAM3MzDszM3E/ZmYKP5qZDz8AAAAAZmZiP83MbD0AAAAAAAAAAM3MbD1mZmw/ZmbaPs3MbD2amXk9zcwiP2Zmtj4zM3E/zcygPgAAAAAAAAAAAAAAAM3McD8zM2c/mplNP83MzDrNzMw9mpkJPjMzFT8AAAAAAAAAAAAAAADNzGw9AAAAPAAAgD0zM1M+zczMOgAAWj+amVk9AABAPgAAAADNzGw9mpmpPc3MzDqamZk7zczMOjMzcT/NzMw6zcw8PpqZ+T0AAOA9MzNxPwAAAADNzMw7mpnNPmZmYj+amXk9zcxaPwAAAAAAAIw+MzMzPAAAzD4AAFY/ZmYuPgAAIj8AAAA8mpmZO83MbD0AAGA9MzNxPwAAAAAAAAAAMzMfP2ZmaD8zM3E/mpmZOwAAgDwAAAAAmpl5PWZmZjwAAAAAmpmdPjMzRT8zMzM8MzNjP83MbD0zM0c/zcx8PmZmOj/NzBQ/zcxoPwAAAADNzEw8zcxsPWZmgj4AALA9AAAuP83MzDoAAOw+ZmaWPWZmmj7NzGw9zczMOgAAQD0AAAAAzcxqPwAAQj9mZqY9ZmamPWZmJj8zM3E/zcxEPjMzMz3NzIw8zcyMPM3MbD2amZk8ZmZmPM3MfD4AAAAAAAAAAJqZRT8zM0k/zcxsPQAAwDwAAAA8mpmJPZqZaT6ama0+AAAgPQAAwD3NzMw6AABgPQAAaj8AAAAAmpmpPQAAID4AAIA8zcxMOzMzGT8AADw/AACAPGZmZjwzM4M9mpk5PpqZOT0zM1M9AAAgPWZmDj4AALg+zcwkPpqZOT0AAAAAMzPTPjMzcT+amZk9MzNTPTMz8zzNzMw7MzNvP5qZmTuambk9zcxMPAAAYD4zM7s+zcxsPQAAYD3NzMw6ZmZwP5qZuT1mZmY/AAAAAAAAAAAAAAAAMzPDPc3MTDszM3E/mpnBPgAAQD/NzGw9mpkZPM3MSj/NzEA/mpkBPgAAAABmZqY8AAAAPgAAgD2amUM/ZmZmPAAAAAAAAAA9AABAPjMzgz0AAKA9AAAoPwAAkD2amak9mpnVPgAAAAAAAAAAzczMOpqZqT0AAGw/AAAAADMzIz4AAAAAMzNTPTMzzz7NzGw9zcxuPwAAQD2amZk7AAAAAJqZHz8zMy8/mpk5PQAAAAAzM3M9AAAAP2ZmZD8AAAAAmpnJPc3MzDpmZkY9mpkZPAAAAAAAAAAAmpkZPJqZYz8AAIA8AAAAAM3MbD3NzGw9mpntPgAAAABmZqY9MzNdP83MbD1mZsY9AAAGPzMzcT9mZuY9mpmZO83MbD3NzGw9AAAAAGZmcD8AAAAAzcxsPQAAAABmZvo+zcxsPZqZmTsAAAAAMzMTPWZm5j0AAAAAzcxMO5qZeT2amd0+ZmamPDMzwz6amdk8mpm5Pc3MbD0zMzM8AAAAAM3MzDwAAAAAmpkJP83MzDoAAKA9zcxsPjMzOz7NzMw6AAAAAM3MTDuamfE+mplRPmZmBj0zM3E/AAAAAAAAAADNzMw7zcysPQAAAAAzM7M9ZmbmPAAAADwAAAAAmpldPwAAADwAAB4/ZmYiPwAAAAAAAAA8MzM7P2ZmRD+amRs/mplvP83MTDtmZmY9ZmamPGZmRj0zM5M+zcxYPzMzAz6amQE/zczMOmZmBj7NzGw9zcwQPwAAAABmZq4+zcxkPjMz8zwzM3E/AADQPjMzcz0AAAAAZmZGPQAAKj/NzGw9AAAAAAAAzD7NzEw9AADwPc3McD/NzGw9AAAAADMzFz+amUU/ZmYGPc3MzDoAAAAAzcxsPTMzaz4AAEA9zcy4PgAAAAAAAOQ+MzMzPAAAAAAzM8s+AAAAAAAA5D4AAHA/zcxsPWZmEj/NzHA/mpl5Pc3MDD9mZmI/AACAPAAAAADNzGw9AACAPs3MzDtmZnY+MzNtP83MzDsAAAAAzcz8PgAAAAAAADg+AADAPAAAADwAAAAAzcxuP83MbD1mZgY9zcxsPQAAAACamf0+zcxsPQAAAADNzGw9AAAAAJqZHT8zM3E/AAAAAAAAKj/NzIw8MzNTPZqZmTwAAAAAzczMOgAAAADNzEw7zcxsPZqZmTwAAAAAzczEPgAAAAAAAHA/MzMDP83MbD3NzGw9AABmP83MTDsAAAAAAAAAADMzszwAAAAAAAAAAM3MjD0AAAAAAACgPgAAAAAzM9M9zcxsPQAA4D0AAAAAZmY2PmZmRj4AAAAAmplvP2Zmtj6amRM/mpk7P5qZmTzNzGw9AACAPQAANj9mZoY9mpk5PTMzUz0zMxs+ZmZGPc3MbD0zM3E/zcxsPQAAAAAAAAAAzcycPQAAAAAAAAAAzcycPpqZGTzNzGw9ZmZmPQAAAAAAAAAAZmbOPs3M/D0AAFY/AAAAADMzcT8AAAAAMzNxPwAAQD0AAAg+zcw8Ps3MbD3NzNw9ZmbqPgAAAAAAAMA8mpnZPWZmRj0zM6M9MzPDPQAAAACamdk+AAC4PgAAAAAAAKw+MzPvPjMzCz4AACA/AAAAAM3MjDwzMzM8ZmYyP2ZmZjzNzGw9MzM9PwAAAABmZhY+zczMOgAAAADNzGw9AAAIPmZm7j4AADI/zcxOPwAAAAAAAEA9AABgPQAAAAAAAAAAzcxsPQAAPj8AAAAAAACwPQAAUD5mZmQ/MzPTPTMzgz0zM4M9AAAAAGZmpjzNzMw7zcxsPZqZPz8AAFg/mpkjPwAAAADNzBg/MzMzPWZmZjwzM2s/AAAAPJqZmTwzM2s+AAAAADMzkz0zM7M9MzNbPzMz8zzNzIw8MzODPQAAADwAAAAAAAAkP83MTDsAAAAAAAAAAGZmbj/NzBw/MzNzPQAAAABmZrY9ZmZGPZqZ2T0zMxc/ZmZMP5qZOT0AAOA9AAAAPJqZYT4zM9s+AAAAADMzMzwzM/M8zcwWP2Zm8j4AAAA9mpmZO2Zm5j2amQk+zcxsPwAAwDwzMzM8zcwUPpqZWT/NzEw9MzNzPTMzcT8AAAAAmplhPgAAAAAzMzM8mplvP83MBD4AAGg/AAAAAM3MbD0zM3M9mpldP83MPj8zM58+MzOzPAAAAD4AAAAAAAAAAM3MbD0AAPQ+zcxMOzMzcT+amZk8MzOzPWZmvj5mZjQ/mpk5PmZmLD+amRM/AACAPDMzgz2amdk8zcxsPWZmcD/NzGw9Zmb+PjMzcT/NzMw7ZmZmP83MbD2ambk9zcxsPQAAAAAzMws/MzPTPWZmuj4AAAAAAAAAAM3MbD1mZkY/AAAAADMzlz7NzGA/zcyMPGZm9j0AALQ+zcx0PgAAAADNzGw9ZmZmPGZm4j4AAAAAAAAAAAAAAAAAAAAAzczMPDMzTT+amXk9ZmZoPwAAAACamRk8zcxsPTMzNz8zM7M8zcxsPTMzrz6amZk8MzMzPM3MbD0AAAAAAAAAAM3MbD1mZqY8zcxsPTMzuz6amZk7AACAPM3MbD2amRk8mpkZPDMz+z4zM3E/zcz8PgAAAABmZkY9zcxsPWZmCD8zMxM+MzNxP2Zmdj4zM8c+zcw8PgAAAADNzIw8zcxsPTMzMzwzMzM8AAAAAM3M0D7NzMw8AAAAAGZmBj0AAAAAmpkZPZqZeT2amW8/mpm5PQAACj9mZqo+zcxsPzMz1z4AAGA9AADwPgAAAADNzMw8MzMlP5qZeT1mZrY9AAAAAAAAAAAAAKA9mpl5PQAAAAAAAAAAAAAgPTMzcT8AACA9mpnZPAAAAD3NzDQ+zcwUPmZmBj0AAMA8zcxMPWZmCD/NzMw6zcxsPZqZmT0zM8M+ZmbmPc3MbD3NzEA/mpkzP5qZOT2amRk8AAAAAAAAAADNzGw9AAAAAAAAAACamRk8MzOjPWZmij6amXk+mplvPwAAQj8AAAAAmpnZPc3MLD6amdU+ZmYyP83MzDoAAIA8zczMOpqZBz/NzGw9mplDPzMzcT8AAAA8mplRPwAAAAAzMyU/AABoP2ZmBj6amS8/zcxsPgAAAAAAAJA+MzMNPzMzAz7NzGw9zcxsPQAAYD3NzGw9MzMNPzMzEz1mZhQ/AAAAADMzcT9mZgY+mpkZPmZmcD/NzGw9AAAAAAAAAAAAAAAAAAAAAGZmZj0AAAA8AAAAADMz5z7NzFQ+ZmaGPZqZqT3NzBg/MzPTPTMzSz7NzFw+mpl5PWZmWD8AAGo/MzNxPwAAgDwzMws+ZmZmPDMzQz7NzEw7MzMdPwAAAAAAACA+AAAAAM3MzDxmZgY+AAAAAGZmhj0AAAAAzcxMPc3MTDuamZk8zcxMPs3MLD3NzMw6ZmZGPgAAAADNzMw6zcyMPM3MbD0AAOA9ZmYQPzMzHT9mZnA/AAAAAAAAAADNzJw+ZmaSPgAAAADNzGw9mpktP2Zmaj/NzMw7AACkPgAAAACamWs/MzPzPM3MzDrNzGw9mpmJPZqZcT7NzMw6zcxkP83MbD0AABg+ZmamPDMzaz7NzAw9zczMOgAAAAAzM3M9mpkZPAAAAADNzGw9AAAAAAAAwDwAAIw+ZmZQP2Zm0j4AAAAAZmZePjMz0z0zM3M+zcxMO5qZUz9mZmY/zcxsPZqZmTwAAAAAAAAAAM3MzDrNzHA/zcxsPTMz4z2amZk7mpmZOwAAAADNzLA+MzNxP5qZMT4AALA9MzMTPQAAADwzMwU/ZmbmPgAAwDwAAAAAZmamPc3MXj8AAAAAZmYmP5qZ5T4zMyM+AAAAAGZmMj/NzIw9AACAPQAAAABmZgQ/AAAAAJqZSz+amUM/AAAAAM3McD8zM3M9AAAAAJqZGTwAAIA8AAAAAAAAAAAAAAAAzcyMPAAAVj/NzGw9MzMzPJqZuT3NzGw9ZmZmPTMzszyamdk+zczMOpqZGTwAAAAAAAAAAJqZyT3NzGw9AABmP5qZ2TwAABo/mpmZO2Zmtj0AAAAAzcxsPQAAAADNzEw7zczMO83MbD0AAAAAZmYWPzMz4z2amTs/AAAAPAAAAABmZuI+zcxsPQAAAAAzM3M9AAAAADMzZz/NzGw9mpmZO83MbD1mZmw/MzPTPZqZMz/NzE4/zcy8PQAAAAAAAAAAMzN7PjMz3z4zM5c+AAAAAAAASD7NzEw7mpkRP5qZTz+amZE+AAC0PjMzoz0AAAAAAACwPc3MbD1mZjY+mplZPc3MzDoAABI/AAAAAAAAAAAAAAA8AAAAAAAAAABmZqY8zczMOs3MbD3NzEw8zcwsPZqZ/T4zM8c+AAAAADMzsz0AAAAAMzNzPWZm2j4zM28/ZmbmPAAAAAAAAAAAAABgPc3MTDsAAAg/mpnJPWZmXD8AAAAAmplpP5qZGTzNzGw9zcwsPs3MzDoAAAA8zcxsPc3MMj+amXE+AAAAAAAAAAAAAAAAZmZEP83MDj8zM3E/zcxsPc3MbD1mZl4+MzNLPs3M/D5mZv4+AAAAAM3MzDuamak9zczMOs3MDD3NzG4/ZmYQP83MbD0AAJA9ZmYGPTMzcT8AAAAAzcxMO5qZWT3NzCQ+mpn5PQAAAAAAAAA8ZmYuPs3MbD1mZnY+MzOzPGZmbj9mZu4+zczMOzMz8zxmZjY+AABcP2ZmZj3NzMw6zczMOjMzcT+amWk+mpmZO83MbD2amZk7AAAAAM3MbD2amXk9AAAAAM3MRj8AAAAAmpmpPc3MRD7NzGw9ZmZoPzMzQT/NzKw9AAAAAAAA4D0AAAAAZmZuP83MbD0AAAAAAAAAAGZmpj1mZvo+mpntPgAAsD0AAAAAzcxMO83MTDtmZqY9AAAAAM3MbD0AAMA9zcxsPWZmOD8zM3E/mplJPjMzoz4AAGA9AABePzMzgz0AAAAAZmaGPc3MhD4zM/M9AAAAAAAAVD8AAAAAAAAAPAAAAAAAAAAAMzM9P83MbD0AAIA9AAAAAJqZ/T4AAAAAMzNtP2Zmxj2amRk8mpnJPQAAAAAAAAAAAABmPzMzszzNzMw6mpk7P83MbD3NzEw7AACYPs3MbD0AAGo/AADAPDMzcT9mZmY8AAAAAAAAAACamdk+AABcPwAAAAAAAAAAmpnJPc3MsD7NzGw9zczMOs3MzDozM3E/AAAAAM3MbD2amdk8mpmZPAAAAABmZmY9mpmZPM3MbD0zM1s/AAAAAAAAAADNzGw9MzMDP83MTDzNzNQ+zcxsPWZmhj2amXk9MzNHP83MbD0AAAAAAAAAAM3MbD1mZqY8zczQPgAAAAAzMwM+MzPzPM3MbD3NzIw8zcxsPZqZaT8AAAAAMzMjPgAADj/NzGw9ZmZMPwAAAACamak9AAAAPDMzkz4AAAAAMzMJP5qZmTuamZU+Zmb2PQAAAACamT0/zcy8PZqZGTzNzHA/AAAAPWZmxj4AAAAAAAAAAJqZcT4AAE4/AAAAADMzUz3NzBQ+zcxsPQAAAADNzMw6AAAAAM3MBD4AAAAAAAAAAM3MbD0zM7c+ZmZmPc3MbD0AAAAAzcxsPZqZNz8AAAAAMzMzPJqZXz8AAAAAAAAwP83McD8AAAAAmpmZPZqZmT0AAGA9ZmbGPZqZIT7NzFw/mpmpPZqZmTzNzMw6MzPzPAAAED5mZvY9MzMjPgAAADwAAAAAAAAgPc3MHD7NzEw7zcxsPTMzEz3NzMw6MzOTPQAAAADNzMw6AAAQP83MbD0AABo/MzNxP5qZOT3NzMw6AAAAADMzMzwzM1c/ZmZmPQAAAAAzM3E/AAAAAAAABD+amXk9zcxCP83MbD3NzGw9ZmY2Ps3MnD2amWM/AADAPs3M7D0zMx8/mpk3PwAAAADNzMw6AAAAAAAAAADNzGw9AAAAAAAAAAAAAAAAAAAAAAAAAADNzGw9ZmYGPZqZmTsAAAAAMzOzPM3MbD0AABo/zcwCPzMzcT9mZl4+ZmaGPc3MzDpmZqY8AAAAAM3MbD2amVk9ZmamPDMzszwAAJw+AADAPGZmpjzNzEw8AADAPGZmRD/NzCw9MzM7Ps3MbD0AAAAAMzM1P2ZmNj7NzMw6AAAAAM3MzDrNzGw9MzNzPc3MbD0AAAAAAAAAAJqZSz9mZkA/MzMFPzMzszwAAIA9mpkrPwAAAAAAALw+zcxsPQAAAAAAAHg+mpmZOwAAgDwAAAAAAAAAAAAAAAAzM3E/mpkJPs3MOj/NzGw9MzPTPgAAAAAzM5c+AAAAAGZmJj0AAAAAmpmBPpqZAT4AANA9MzODPQAAAACamZk8AAAAADMzMzyamXk9AACQPgAAAAAAAAAAAAAAP83MbD0AAAAAmpmZO83MbD0AAAA9mpnZPJqZAT7NzGw9MzOjPQAA3D7NzEw9AAAAAM3MnD1mZmY8MzOTPZqZET4zM4c+AADQPQAAAAAzM3M9mpkZPAAAhD4AACg+MzNzPQAAAADNzIw9AABQPs3MbD0zM4M9ZmaaPgAAAAAAAAAAzcxsPWZmND8AAEo/zcwEPpqZVz+amVk+AABuP2Zm5j2amYk9ZmamPQAAAAAAAAg+zczMPAAAAAAAAHA/AACwPc3MbD0AAAAAmpm5PjMzkz1mZgY+mpkZPJqZMT4AAAAAMzMDPgAAAAAAAAA8MzNxPwAAAAAAAAAAmpkZPDMzkz4zMzM9AAAAAM3MTDtmZuY8zcwsPc3MwD7NzEw7AACAPAAAAADNzBY/mpmFPs3MzDoAAAAAzcxsPQAAAABmZtY9zczMPJqZaT+amVk9mpkZPAAAkD1mZjI/zcxsPTMzMz0zM1M9zcxsPc3MzDoAAAAAzcxsPc3MaD8AACo/zczYPmZmMj+amZk7zcxsPQAAsD0AAAAAAAAAAJqZbT/NzEw7AAAAAAAAbj8AAAAAmpkZPAAAAAAAAAI/zcxsPZqZSz8AAAAAmpk5PZqZ1T7NzG4/mpmZPDMzcT8AAAAAMzMzPAAAAACamak9MzOrPjMzFT9mZhY+AAA8P5qZWT3NzGw9AAAAPc3MzDoAAFg/mpmZPQAAoD2amRk8AAAAPAAAAAAAACg+AAAAAAAAAACamQE/zcxsPQAAID1mZgY9zcxsPc3MzDrNzMw6zcxQP5qZKT7NzAI/MzNzPQAAeD6amd0+zcwsPTMzKT8AAAAAzcycPQAAwDwAAAAAzcxMO83McD8zM3E/mpmZO83MbD0AAAA+AAAAAGZmJj0zM6M9AABgPZqZAT8AAAAAzcxsPQAAADzNzEw7MzPTPc3McD9mZhY+zcxsPc3MXD+amVs/zcxoP83MjDwAAAAAAAAAAGZmCj8AAAAAzczsPpqZMT5mZnA/MzODPQAAUD7NzMw7zczMOgAAAAAzMzM8AACAPAAAAAAzMzk/AAAAADMzTz8zM3E/MzOXPs3MbD0AAAAAmplZPwAAAAAAAAAAmpl5PQAAAADNzGw9zczgPgAAAAAAAAAAMzNzPQAAAAAAAAAAAADAPM3MMD/NzMw6mpmZOwAAAACamdk+ZmYWPs3MbD0AAAAAMzNTPwAAAAAAAAAAAAAAAAAAAAAAAAAAMzNxPwAAAADNzGw9zcwEPjMzxz4zMzM9AACAPAAAAADNzEw8AAAAAAAAQD0AAAAAzczMOjMz1z7NzMw6mpmFPpqZeT0AAEo/AACAPJqZrT7NzMw6mpmZO2Zm5j2ambk9ZmY2PmZmsj4zM/M8zcycPZqZSz8zM58+ZmZGPZqZGTwAAAA8zcxEPwAAAAAAAFo/AAAAAGZmCj8AAAAAzcxsPWZmdj4zMys+mpkRPpqZ2TyamS8/zcxsPQAAgDwAAAAAAAAAAM3MbD2amZk7MzN7PgAAAAAAAB4/zcxMO83MpD4AAKA9AACAPM3MzDoAAAAAzcxMOwAAAADNzNA+zcxOP2Zm9j7NzMw8zcxMPJqZ6T4AAAA8MzMjPs3MTDsAAAAAZmZCPzMzAz4AAAAAzcxsPWZmtj0AAJA9zcxsPQAAAADNzGg/zcxsPTMzcT/NzEw9ZmZqPwAAED8zM4s+zczMOgAAAAAAAGg+MzMzPAAA0D0AAAAAMzObPgAAADzNzGY/zczMOpqZmTvNzMw6zcxsPTMz0z3NzMw6AAAAAM3MjDzNzIg+AAAAADMzMz4AAOA9zcxMO83MbD0AAAAAzcxMPAAAUD4AAAAAAABoPjMzaz/NzGw9MzNtPwAAgDwAAAA8ZmZ+Ps3M/D0AAAI/mpkRPwAAAACamZk8mplZPc3MzDrNzGo/AAAAAGZmNj9mZmY8mpmZO83MrD3NzGw9AACAPM3MTDsAAAAAZmYmPgAAAADNzPw9zcw0PpqZuT0AAAAAmplZPs3McD8AAAAAzcxaPzMzcT8AAAAAZmbmPJqZqT1mZh4+MzMLPgAAADwAAEA9AAAAAAAAmD4AAAAAzczQPs3MbD0zM3M9MzNzPc3MYj8AAIg+ZmZuP2Zmpj4zM3E/AAAAAAAAID1mZtY+AAAAAAAAAABmZjI/AAACP83MLD3NzGw9AAAoPgAAAABmZtY9AAAAPTMzAz7NzMw6MzP/PpqZkT5mZmY8mpmpPQAAwDwAAGA9Zmb2PQAAHD8AAAAAAAAAPs3MbD3NzMw7mpmZPQAA+D4zM0s/zcyMPAAAAADNzDI/ZmYOPs3M0D6amXk9AAAAAM3MbD3NzMw6AACQPQAAAAAAAAA8mpkRPpqZCT4zMzM9AACwPTMzszwAAAAAzcxMO83MaD8AAAAAzcxsPwAAAAAAANA9AAAAAAAAAABmZtY9AAAAAGZmRj1mZiY/MzMFPwAAAAAAAAAAzcxMO83MzDrNzOw9mplXP83MDD3NzIw8MzOzPDMz8zwzMx0/ZmY6P83MTDvNzGw9AAAAAM3MyD6amTk9zcwePwAAAACamSM/zcxsPQAAAADNzIw9ZmYmPQAAAABmZl4+zcxMPM3MTD4AALA+AAAAAGZmpjzNzDg/AAAAAM3MzDoAAAAAzcxMPJqZeT0AAAAAzcxgP83MlD4zM8M+AAAAAM3MTDsAACI/ZmZmPJqZEz8AAAAAZmZGPQAAAADNzEw7zczMOpqZnT4AAAAAAAAAAAAAAAAzMzM+AABAPQAAAAAAAHg+AACAPJqZGTxmZqY9zczMOs3MzDpmZm4/zcysPQAAAADNzIA+mpn5PpqZWT3NzBg/AAAAAGZmZjyamVk9ZmauPs3MrD0AAAAAmpnJPTMzHT8AAAAAzczMOjMzkz0zM5M9mpl5PTMzsz4AAAAAzcxsPQAAADwAAAAAAAAIPs3MWD8zM1s/zcz8PQAAsD3NzGw9zcxsPQAAAADNzGw9AAAAAM3MzDrNzHA/AAAAAGZmhj0zM3E/AAAAAGZmDj7NzKw+zcyMPAAA0D2amTk9mpmZOwAAAAAAAAAAMzMbPjMzAz9mZkY9ZmaGPQAAAADNzGw9MzMTPWZmJj0AAAAAMzN7PgAAAACamZk7zcxsPc3MbD0zM3E/AAAAAM3MzDzNzMw6AAAAADMzMz4AAAAAMzOzPM3MbD3NzGA/mplRP83MbD0AAAAAMzPzPDMzZz+amYk9AAAAAM3MbD0AAEA9ZmbWPZqZ2T3NzMw8zczMO5qZaT/NzMw7zcxsPc3MbD3NzAw9zcxsPQAAAABmZlo/MzODPgAAAADNzAw9AAAAAM3MzDoAAAAAMzOjPQAAAABmZqY+ZmYEP5qZmTvNzEw9mplTPzMzNT/NzMQ+mpnNPs3MbD1mZmY8zcxsPZqZST4zM3E/mpmZPM3Maj8AAAAAmpkZPAAAAADNzAw/MzMzPM3MzDozM6M9AAAAAM3MbD2amf0+AAAAADMzcz0AAAAAzczMOpqZmTwzM3M9zcwQPwAAAADNzMw7zcxsPWZmAD/NzMw7mpnpPQAAAACamTE+zcxsPWZm6j5mZlw/zcxsPQAAAAAAAAAAMzMTPWZmZj0zM3M9zcxsPTMzYT8AAEg/zczMOgAAwDwAAAAAAAAAAJqZST/NzIw8zczMOgAAgDwAAAAAAAAQPs3McD/NzJw9MzNzPTMzcz0zMyE/AAAAPJqZmTvNzGw9zcxsPc3MbD3NzAw9zcxsPTMzOz7NzMw6zcxsPWZm1j3NzBQ+mplXPwAAAAAAAAAAAAAAAM3MbD2amRM/zcyMPZqZGT3NzGw9AAAAADMz8zzNzGw9AAAAAJqZJz8zM/M8zcwsPpqZUT+amVs/AAAAAAAAgDwAAAAAAAAAAJqZGTxmZmY9AAAAAJqZmTuamSM/MzODPc3MED8AAAAAAAAAAAAAeD7NzHA/AAA4PwAA0D0AAAAAAABmPzMzcT8AAAAAAAAAAM3MbD0AAAAAzcxsPQAAAAAAAAAAzcxsPZqZXz/NzBo/AAAAAJqZuT3NzOw9AAAAAGZmmj4zM3E/ZmY0P83MzDoAAAA8zcxMOzMzcz0zM+8+AAAAAAAAAACamW0/MzPjPQAAADwzM8M+AAAAAAAAAACambU+MzMrP83MbD0AAJA+zcxsPZqZmTtmZq4+zcywPgAAAAAAAFw/zcxMPM3MbD3NzIw9MzNxPwAAAADNzGw9zcyMPQAAHD8AAAA8AAAAAAAAUD/NzEw7zcxsPQAAAAAAAAAAzcxMO83MbD3NzCw9AAAAAGZmtj1mZiY+zcw0Ps3M7D0zM4M9AAAAAM3MzD4AAAAAmpmJPc3MZj8AAAAAmpkBPgAAAAAAAAAAAABgPc3MbD2amek9mpmFPgAAAAAzM7M9zcxsPc3MbD3NzGw9zczMPQAAAAAAAAAAAAAAAM3MzDozM+s+AAAAAM3MTD0zM4M+mpmZO5qZDT+amSM/MzMDPjMzQz6amYk+zczMOwAAAADNzIw8zczMOs3MTDvNzMw7zcxsPQAAaD8AAAAAmpmZPGZmZjwAAAAAzcxMOwAAAADNzEw7zcxMOwAAAAAAAAAAZmZmPDMzsz0AAAAAAAAAADMz8zwAAAAAzcwsPWZmUD8AAAAAzczMOmZmwj4zMyc/AABIPgAAAAAAACA9mpmdPgAAAAAAAAA8AAAAADMz7z6amQE+MzM7PjMzSz+amVk+mpmZOwAAwDwzMzM9AAAAAAAAAABmZiY9AAAAAJqZCT4AAEA9mpm5PZqZ2TyamVU/zcxsPc3M/D0AAAAAAAAAAM3MzDvNzGw9AAAAAAAAAAAAAAAAzcxuPwAAwDzNzBI/ZmYGPmZmlj0AAAAAZmamPAAAAADNzGw9zcwUPgAAAABmZhA/zczQPpqZGTzNzGw9AAAAAAAAsD0AACA9zcy8Pc3MzDoAAIA+AAAAPAAAAADNzMw8ZmbGPs3MbD0zM7M8ZmaGPgAAAABmZlg/AAAAAGZmVj4AAAAAAAAAAJqZ+T3NzIA+zcxsPTMzwz0AAAAAZmZGPQAAgD7NzMw8AAAAAM3MbD2amRk8zcxsPQAAwDwAAAAAMzMfPzMziz4AAMA9AABsP5qZ2T0AAAAAAAAAADMzVz8AAAAAAAAAADMz0z0AAAAAAAAAAM3MBD4AACA9zcxMO83MHj8AAAAAzcxsPQAADj/NzGw9AAAAAAAAAAAzMyM/AAAAAAAAwD0AAHA/AABmP83MTDwAAAAAAAAAAAAAAAAzM6c+MzNzPZqZwT7NzMw6mpnJPc3MbD0AAAAAAAAAAAAAAACamZk8zcxsPQAAAABmZmY/mpm5Pc3MbD2amWs/zcxUPwAAsD0AAAAAmplnP2ZmBj2ama0+ZmZmPTMz3z4AAAAAzcxsPTMzaz4zMwE/ZmZwP83MzDpmZgY+MzM7Ps3MzDrNzMw6zcwEPs3MdD4AAAAAAAAAAAAAAADNzJw9AAAAAAAAADwzMzU/AAAAAAAAbj9mZgg/AAAAADMzUz2amV8/mpk5PgAAAACamZk7AAAAAJqZLz+amWE+mpmZPZqZUz/NzMw6MzNDPs3MbD3NzHA/Zma2PTMzEz7NzEw7mpkHPwAAAAAAAMg+mplRPjMzcz6amRU/MzOzPWZmWj/NzKQ+AACAPGZmBj2amU8/AAAgPmZmTj4AAAA9MzNzPjMzWT9mZiY9AAAAAAAAAACamTk9ZmamPJqZmTwzMzM9zcxIPwAAAADNzMw7ZmZmPM3MzDoAAAA9zcxMPM3MbD3NzJw9AAAAAGZmRj1mZiQ/zcyMPGZmZj4AAAAAMzPDPQAASj/NzGw9AAAAAM3MjDwAAAAAAABoP2Zmpj1mZkI/zcwMPwAAAAAAAKA9AAAAAAAAAAAAAAAAmpnRPs3MbD2amRk/zcxMOwAAAADNzEw8AAAAAGZmpjzNzMw6mpmZOzMzcz0AAEQ/AAAAAAAAAAAAAAAAAAAAADMzST8zM6c+AAAAAM3MbD0AAAAAzcxsPQAAAADNzMw7AAAAAJqZWT3NzEw7AAAAAAAAAADNzGw9AAAAAM3MjDwAAAAAZmZoPwAAkD4zM/c+AAAAPGZmJj4AAGg+zcxsPZqZiT0zM9M9AAAAAAAAAAAAAAAAmpltPwAAAAAAAAAAAAAAAM3MbD0AAIA+mpmJPc3MHD7NzEw7mpkZPTMz6z6amZk8zcxsPc3MzDwAAAAAmpmZPAAAADzNzGw9AAAAAAAAAAAzM4M9mpkZPc3MbD0zM3M9AAAAPc3MbD0AAIA8mpkXPwAAAADNzGw9MzMTPQAAbj/NzMw8MzNjPgAAADwAAAAAzczMOgAAAAAzMws/AAAAAAAAAAAzM2M+ZmZmPQAAAAAAAAAAmpl5PTMzszwzMys/ZmaWPZqZeT0zMyk/zcysPc3MBD7NzGw/MzNbPpqZQT5mZsY9MzMTPZqZuT3NzGw9mpkZPAAAAABmZmY8mpm1PpqZ2TyamZk7mpkTP5qZ2T2amck9AAAAAAAAgDxmZnA/AADAPM3MTDsAAAAAZmYmPTMzbz+amRk9AAAAAM3MWj/NzMw6AAAAAM3MbD0AAEA+zcxsPWZmSj8zMzM9AAAAAAAAwDxmZgY+mpk1PwAAAACamRk8zcxMO83MnD4zM7M8zcxwPwAAAAAAAAAAzcxsPQAAOD7NzPw9MzNTPTMzMz0AAAAAAAAAAM3MbD1mZqY8mplXPwAAAAAzM5c+MzNvPzMzcT8AAAAAAAAAAAAAAAAAAIA9zcxsPTMzsz6amdk8zcxsPQAAcD/NzGw9MzMTPZqZmTzNzIw+zcw8PjMzcz1mZkw/MzOjPTMzcT/NzGo/ZmamPDMzcT9mZpY9AAAAAM3MLD9mZuY8MzNxPzMz2z7NzGQ+ZmYmPs3MbD2amUk/MzNzPgAAHD8AACw/AAAAADMzEz0AAAAAAAAAAM3MrD0zM7M8ZmbGPc3MDD0AAAAAZmYePwAAAADNzBg/MzPDPc3MTD8zM08/zcwWP83MTDsAAAAAMzMTPjMz8zyamZE+mplTP83MvD2amUE+MzNBPzMzAz7NzGw9zczMOjMzJT8AAAAAzczMOpqZUT8AAAAAzcxsPQAAAADNzGw9zcwUPgAAAADNzEw7AAAAAAAAAAAAAIA9MzPTPQAAAAAzM3E/ZmZMP5qZeT0zM6M9zcxsPQAAAAAAAAg+AAAAAAAAAAAzMwE/zczMPAAAAAAAACw/zcxsPTMzNT8AAAAAmplTP2Zm5jyamZk9mpkZPGZmVD8zM1U/mplvP5qZYT+amV0/MzNfPwAAAABmZtY9mpk5PpqZDT8AAEA9zcxcPwAAAADNzMw6ZmZmPgAA0D3NzJw9zcxEP5qZGTyamXk9AABIP5qZ/T4AANg+ZmYAP5qZmTtmZkQ/AAAAAAAAAADNzOw9MzNDPpqZwT5mZiY9AAAAAAAAAAAzM/M8zcyIPgAAbD/NzBw+MzOTPQAAOD8zM+M9ZmZ+PjMzcT/NzMw9mpl5PWZmPj4zM3M9ZmZCP83MbD3NzDg/zczMOjMzMzwAAIA8zczkPpqZ2TzNzEw8mpl5PTMzcz0zMwM+AADcPmZmDj4AAAAAAAAAAAAAAADNzOw9zczMOgAAAAAzMzM9mpkNP83MZD5mZlo/mpmZPpqZeT1mZj4/ZmZuPgAAAACamZk+zcxMPAAAAAAAAIA8ZmZmPpqZGTyamVk9ZmZqP2Zmvj4AAAAAzcxUPmZm9j0AAAAAzcxsPQAAtD4AAAAAAAAAPAAAAAAAAAAAAAAAAAAAAADNzMw8AACAPZqZvT5mZn4+zczMOgAAAADNzGw9MzNrPzMzUz+amRk8zcycPQAAQj8zM1M9zcyMPc3M0D7NzGw9AAAAAAAAAAAAAAAAmpmZO5qZ2TwAABg+AAAAAAAAAADNzGw9MzPzPM3MrD0AAAAAAAAAAJqZ2T4zM3M9mpnZPQAAAADNzGw9mpkNP83MbD2amZk7AACAPJqZuT2amcU+MzMTPc3M/D0AAAAAAAAAAAAAAABmZn4+MzMzPDMzmz7NzGQ/ZmYEP5qZqT1mZqY8MzMTPWZm6j6amRk/zczMOgAAAADNzGw9zcyMPZqZmTtmZiY9MzMdPwAAOD5mZmY9zczcPQAA8D4AACI/ZmZ2PgAAAAAAAAAAAAA4PjMzwz1mZkY9zcz8PQAAUD/NzGw9AAAAAJqZGTwAAAAAAAAQPs3MzDrNzGw9MzNnP83MrD0AAAAAMzNxP83MbD0AAAAAzcxKP83MyD7NzGw9zcycPc3MbD3NzMw6MzNBP83MUD8AAAAAZmZGPQAAID4AAAAAzcxMOzMzgz0AAMA8AAAAAM3MbD3NzA4/ZmZmPGZmYD8zM3M9mpl5Pc3MbD0zMxM9AACAPM3MzDrNzGw9zcxMO83MmD6amYk9MzPzPZqZQT5mZgw/MzO/PgAAcD8zM3E/AAA4P2ZmOj8AAIA8MzOzPM3MzDszM/c+zcxMO5qZNz/NzGw9AAAAAAAAAADNzGw9zczMO2ZmWD8zM1s/AAAAAAAAAAAAAAAAzcxsPQAAAACamZk8ZmZmPTMzXT/NzMw6zcxMO83MbD0zM0s/AAAAAJqZmTuamd0+AAAAAAAAAADNzMw6AACgPs3M3D1mZkI/mpkRPgAAWD8AAAAAAAAAAGZmlj1mZuY8mpmZPM3MzDsAALA9zcxMO5qZ2TzNzDw/zcxsPc3MzDuamV0/MzPTPWZmkj6amWM/zczMPAAAwD0zM3M+AACoPgAAAABmZvo+AAAAAJqZOz8AAAAAmpkZPDMzszzNzHA/mpkZPAAAAABmZjQ/zczMOs3MbD0AAAAAAAAAAAAAAACamWk/MzMzPM3MYj8AAGY/mplDPwAALj8AAFg/mplbPzMzsz4AAAA8AAAAPTMzKz/NzJA+zcxMPGZmZjyamYk9AAAAPM3MbD2ame0+MzMDPgAAAACamXE+AAAAAGZmaD8AAAAAmpmZO5qZYz8AAAAAmpk9P83MzDqamTk9MzNxP83MzDrNzGw9AAAAAJqZZT8AAAAAzcxMOzMzgz0AAAAAAAAAAAAA8D0AAAAAzcxsPZqZIT7NzHA/MzOjPQAAAAAAAAAAAAAAAAAAkD3NzGw9AAAAPQAAAAAAAAAAmpmVPmZmRj0AAIA9AAAAADMzMzxmZk4/zczsPs3MTDvNzHA/MzMTPc3MTDsAAIA8ZmZwPwAA+D4zMxs+MzOjPZqZ6T4AAIA8MzM7PmZmSD8zM2s+ZmZwPwAAAADNzMw6zcxMO5qZOT3NzGw9MzNrPgAAAAAAAAAAAAAAAJqZqT0zM4M9AAAAAAAAsD1mZqI+zczMOgAAAAAAAAAAMzNFPzMz0z0AAAAAMzPjPc3MzDvNzGw9AAAAAAAAADyamVE+zcxMPWZmZjwAAPA+AAAAADMzTT8zM3E/AAAAPAAAAADNzGw9AAAAADMzszwAADA+zcxsPWZmRj0zM3M9AAAKP83MzDoAAAAAzcyMPAAAAACamW8/mpnJPWZmpj0AAAAAzczMPQAAAABmZmY8MzNzPQAAAABmZlw/zcxsPQAAAAAAAEA9zczMPGZmXj8AAKA9zcxsPZqZXz+amZk7MzPDPc3MzDrNzDQ/zcxCPwAAAADNzMw6MzNdPwAAAADNzEw7zcycPZqZGT/NzEw7AAAAAGZmJj0AAAAAZmYYPwAAAABmZig/MzOzPDMzcT/NzGw9AAAAAAAAAABmZoY9MzNzPWZmbD/NzGw9AAAAAAAAAADNzGw9AAAAAM3MbD0AAAAAMzMlPwAAAAAAAAAAAAAAADMzcT/NzGw9",
          "dtype": "f4"
         },
         "xaxis": "x2",
         "yaxis": "y2"
        },
        {
         "colorscale": [
          [
           0,
           "rgb(5,48,97)"
          ],
          [
           0.1,
           "rgb(33,102,172)"
          ],
          [
           0.2,
           "rgb(67,147,195)"
          ],
          [
           0.3,
           "rgb(146,197,222)"
          ],
          [
           0.4,
           "rgb(209,229,240)"
          ],
          [
           0.5,
           "rgb(247,247,247)"
          ],
          [
           0.6,
           "rgb(253,219,199)"
          ],
          [
           0.7,
           "rgb(244,165,130)"
          ],
          [
           0.8,
           "rgb(214,96,77)"
          ],
          [
           0.9,
           "rgb(178,24,43)"
          ],
          [
           1,
           "rgb(103,0,31)"
          ]
         ],
         "name": "Correlation",
         "type": "heatmap",
         "x": [
          "F2366",
          "F1816",
          "F2521",
          "F727",
          "F788",
          "F2579",
          "F1176",
          "F2625",
          "F413",
          "F2285",
          "F1164",
          "F1013",
          "F1436",
          "F1530",
          "F2715",
          "F2436",
          "F2049",
          "F1746",
          "F2714",
          "F560"
         ],
         "xaxis": "x3",
         "y": [
          "F2366",
          "F1816",
          "F2521",
          "F727",
          "F788",
          "F2579",
          "F1176",
          "F2625",
          "F413",
          "F2285",
          "F1164",
          "F1013",
          "F1436",
          "F1530",
          "F2715",
          "F2436",
          "F2049",
          "F1746",
          "F2714",
          "F560"
         ],
         "yaxis": "y3",
         "z": {
          "bdata": "AACAPwAAgD8AAIA/AACAPwAAgD8AAIA/AACAPwAAgD8AAIA/AACAPwAAgD8AAIA/AACAPwAAgD8AAIA/AACAP93/fz/d/38/3f9/P93/fz8AAIA/AACAPwAAgD8AAIA/AACAPwAAgD8AAIA/AACAPwAAgD8AAIA/AACAPwAAgD8AAIA/AACAPwAAgD8AAIA/3f9/P93/fz/d/38/3f9/PwAAgD8AAIA/AACAPwAAgD8AAIA/AACAPwAAgD8AAIA/AACAPwAAgD8AAIA/AACAPwAAgD8AAIA/AACAPwAAgD/d/38/3f9/P93/fz/d/38/AACAPwAAgD8AAIA/AACAPwAAgD8AAIA/AACAPwAAgD8AAIA/AACAPwAAgD8AAIA/AACAPwAAgD8AAIA/AACAP93/fz/d/38/3f9/P93/fz8AAIA/AACAPwAAgD8AAIA/AACAPwAAgD8AAIA/AACAPwAAgD8AAIA/AACAPwAAgD8AAIA/AACAPwAAgD8AAIA/3f9/P93/fz/d/38/3f9/PwAAgD8AAIA/AACAPwAAgD8AAIA/AACAPwAAgD8AAIA/AACAPwAAgD8AAIA/AACAPwAAgD8AAIA/AACAPwAAgD/d/38/3f9/P93/fz/d/38/AACAPwAAgD8AAIA/AACAPwAAgD8AAIA/AACAPwAAgD8AAIA/AACAPwAAgD8AAIA/AACAPwAAgD8AAIA/AACAP93/fz/d/38/3f9/P93/fz8AAIA/AACAPwAAgD8AAIA/AACAPwAAgD8AAIA/AACAPwAAgD8AAIA/AACAPwAAgD8AAIA/AACAPwAAgD8AAIA/3f9/P93/fz/d/38/3f9/PwAAgD8AAIA/AACAPwAAgD8AAIA/AACAPwAAgD8AAIA/AACAPwAAgD8AAIA/AACAPwAAgD8AAIA/AACAPwAAgD/d/38/3f9/P93/fz/d/38/AACAPwAAgD8AAIA/AACAPwAAgD8AAIA/AACAPwAAgD8AAIA/AACAPwAAgD8AAIA/AACAPwAAgD8AAIA/AACAP93/fz/d/38/3f9/P93/fz8AAIA/AACAPwAAgD8AAIA/AACAPwAAgD8AAIA/AACAPwAAgD8AAIA/AACAPwAAgD8AAIA/AACAPwAAgD8AAIA/3f9/P93/fz/d/38/3f9/PwAAgD8AAIA/AACAPwAAgD8AAIA/AACAPwAAgD8AAIA/AACAPwAAgD8AAIA/AACAPwAAgD8AAIA/AACAPwAAgD/d/38/3f9/P93/fz/d/38/AACAPwAAgD8AAIA/AACAPwAAgD8AAIA/AACAPwAAgD8AAIA/AACAPwAAgD8AAIA/AACAPwAAgD8AAIA/AACAP93/fz/d/38/3f9/P93/fz8AAIA/AACAPwAAgD8AAIA/AACAPwAAgD8AAIA/AACAPwAAgD8AAIA/AACAPwAAgD8AAIA/AACAPwAAgD8AAIA/3f9/P93/fz/d/38/3f9/PwAAgD8AAIA/AACAPwAAgD8AAIA/AACAPwAAgD8AAIA/AACAPwAAgD8AAIA/AACAPwAAgD8AAIA/AACAPwAAgD/d/38/3f9/P93/fz/d/38/AACAPwAAgD8AAIA/AACAPwAAgD8AAIA/AACAPwAAgD8AAIA/AACAPwAAgD8AAIA/AACAPwAAgD8AAIA/AACAP93/fz/d/38/3f9/P93/fz8AAIA/AACAPwAAgD8AAIA/AACAPwAAgD8AAIA/AACAPwAAgD8AAIA/AACAPwAAgD8AAIA/AACAPwAAgD8AAIA/AACAPwAAgD8AAIA/AACAPwAAgD8AAIA/AACAPwAAgD8AAIA/AACAPwAAgD8AAIA/AACAPwAAgD8AAIA/AACAPwAAgD8AAIA/AACAPwAAgD8AAIA/AACAPwAAgD8AAIA/AACAPwAAgD8AAIA/AACAPwAAgD8AAIA/AACAPwAAgD8AAIA/AACAPwAAgD8AAIA/AACAPwAAgD8AAIA/AACAPwAAgD8AAIA/AACAPwAAgD8AAIA/AACAPwAAgD8AAIA/AACAPwAAgD8AAIA/AACAPwAAgD8AAIA/AACAPwAAgD8AAIA/AACAPwAAgD8AAIA/AACAPwAAgD8AAIA/AACAPw==",
          "dtype": "f4",
          "shape": "20, 20"
         },
         "zmid": 0
        },
        {
         "hovertemplate": "Feature %{text}<br>Rate: %{x:.3f}<br>Mean: %{y:.3f}",
         "marker": {
          "color": "green",
          "opacity": 0.6,
          "size": 8
         },
         "mode": "markers",
         "name": "Features",
         "text": [
          "Feature 2366",
          "Feature 1816",
          "Feature 2521",
          "Feature 727",
          "Feature 788",
          "Feature 2579",
          "Feature 1176",
          "Feature 2625",
          "Feature 413",
          "Feature 2285",
          "Feature 1164",
          "Feature 1013",
          "Feature 1436",
          "Feature 1530",
          "Feature 2715",
          "Feature 2436",
          "Feature 2049",
          "Feature 1746",
          "Feature 2714",
          "Feature 560",
          "Feature 428",
          "Feature 897",
          "Feature 2686",
          "Feature 785",
          "Feature 1206",
          "Feature 1242",
          "Feature 1703",
          "Feature 1495",
          "Feature 511",
          "Feature 1878",
          "Feature 2000",
          "Feature 2556",
          "Feature 1655",
          "Feature 2783",
          "Feature 244",
          "Feature 2466",
          "Feature 1664",
          "Feature 2510",
          "Feature 1208",
          "Feature 2334",
          "Feature 2375",
          "Feature 2911",
          "Feature 851",
          "Feature 2142",
          "Feature 2664",
          "Feature 3003",
          "Feature 2708",
          "Feature 2329",
          "Feature 1840",
          "Feature 1384"
         ],
         "type": "scatter",
         "x": [
          0.942187488079071,
          0.942187488079071,
          0.942187488079071,
          0.942187488079071,
          0.942187488079071,
          0.942187488079071,
          0.942187488079071,
          0.942187488079071,
          0.942187488079071,
          0.942187488079071,
          0.942187488079071,
          0.942187488079071,
          0.942187488079071,
          0.942187488079071,
          0.942187488079071,
          0.942187488079071,
          0.942187488079071,
          0.942187488079071,
          0.942187488079071,
          0.942187488079071,
          0.942187488079071,
          0.942187488079071,
          0.942187488079071,
          0.942187488079071,
          0.942187488079071,
          0.942187488079071,
          0.942187488079071,
          0.942187488079071,
          0.942187488079071,
          0.942187488079071,
          0.942187488079071,
          0.942187488079071,
          0.942187488079071,
          0.942187488079071,
          0.942187488079071,
          0.942187488079071,
          0.942187488079071,
          0.942187488079071,
          0.942187488079071,
          0.942187488079071,
          0.942187488079071,
          0.942187488079071,
          0.942187488079071,
          0.942187488079071,
          0.942187488079071,
          0.942187488079071,
          0.942187488079071,
          0.942187488079071,
          0.942187488079071,
          0.942187488079071
         ],
         "xaxis": "x4",
         "y": {
          "bdata": "sxTePjHkjT7t6+Q+6FbCPhvMyz4II9w+h9gGP4Wsrj5FMNE+LbXvPqnPpz7xYcI+oAGxPqqR4j5FX74+ZSjfPi0Kxj5e/sM+RF4QP/5DlT7r5Zs+DBTFPo5g4D4aHKk+8H28PnvI0D5Td+M+oozJPlYg1j4mGKM+cHHSPoDgnD4K99Y+hn77PqE1Aj8q2Nc+WFr1PtJQqj56lLI+rvzePrRaxD4a1bA+EBLPPhIiuD5p+Ms+ULPOPjM22z6rNpI+IMfZPtsj7T4=",
          "dtype": "f4"
         },
         "yaxis": "y4"
        }
       ],
       "layout": {
        "annotations": [
         {
          "font": {
           "size": 16
          },
          "showarrow": false,
          "text": "Feature Activation Rates",
          "x": 0.225,
          "xanchor": "center",
          "xref": "paper",
          "y": 1,
          "yanchor": "bottom",
          "yref": "paper"
         },
         {
          "font": {
           "size": 16
          },
          "showarrow": false,
          "text": "Feature Activation Distribution",
          "x": 0.775,
          "xanchor": "center",
          "xref": "paper",
          "y": 1,
          "yanchor": "bottom",
          "yref": "paper"
         },
         {
          "font": {
           "size": 16
          },
          "showarrow": false,
          "text": "Feature Co-activation Heatmap",
          "x": 0.225,
          "xanchor": "center",
          "xref": "paper",
          "y": 0.375,
          "yanchor": "bottom",
          "yref": "paper"
         },
         {
          "font": {
           "size": 16
          },
          "showarrow": false,
          "text": "Sparsity vs Activation Strength",
          "x": 0.775,
          "xanchor": "center",
          "xref": "paper",
          "y": 0.375,
          "yanchor": "bottom",
          "yref": "paper"
         }
        ],
        "height": 800,
        "showlegend": false,
        "template": {
         "data": {
          "bar": [
           {
            "error_x": {
             "color": "#2a3f5f"
            },
            "error_y": {
             "color": "#2a3f5f"
            },
            "marker": {
             "line": {
              "color": "#E5ECF6",
              "width": 0.5
             },
             "pattern": {
              "fillmode": "overlay",
              "size": 10,
              "solidity": 0.2
             }
            },
            "type": "bar"
           }
          ],
          "barpolar": [
           {
            "marker": {
             "line": {
              "color": "#E5ECF6",
              "width": 0.5
             },
             "pattern": {
              "fillmode": "overlay",
              "size": 10,
              "solidity": 0.2
             }
            },
            "type": "barpolar"
           }
          ],
          "carpet": [
           {
            "aaxis": {
             "endlinecolor": "#2a3f5f",
             "gridcolor": "white",
             "linecolor": "white",
             "minorgridcolor": "white",
             "startlinecolor": "#2a3f5f"
            },
            "baxis": {
             "endlinecolor": "#2a3f5f",
             "gridcolor": "white",
             "linecolor": "white",
             "minorgridcolor": "white",
             "startlinecolor": "#2a3f5f"
            },
            "type": "carpet"
           }
          ],
          "choropleth": [
           {
            "colorbar": {
             "outlinewidth": 0,
             "ticks": ""
            },
            "type": "choropleth"
           }
          ],
          "contour": [
           {
            "colorbar": {
             "outlinewidth": 0,
             "ticks": ""
            },
            "colorscale": [
             [
              0,
              "#0d0887"
             ],
             [
              0.1111111111111111,
              "#46039f"
             ],
             [
              0.2222222222222222,
              "#7201a8"
             ],
             [
              0.3333333333333333,
              "#9c179e"
             ],
             [
              0.4444444444444444,
              "#bd3786"
             ],
             [
              0.5555555555555556,
              "#d8576b"
             ],
             [
              0.6666666666666666,
              "#ed7953"
             ],
             [
              0.7777777777777778,
              "#fb9f3a"
             ],
             [
              0.8888888888888888,
              "#fdca26"
             ],
             [
              1,
              "#f0f921"
             ]
            ],
            "type": "contour"
           }
          ],
          "contourcarpet": [
           {
            "colorbar": {
             "outlinewidth": 0,
             "ticks": ""
            },
            "type": "contourcarpet"
           }
          ],
          "heatmap": [
           {
            "colorbar": {
             "outlinewidth": 0,
             "ticks": ""
            },
            "colorscale": [
             [
              0,
              "#0d0887"
             ],
             [
              0.1111111111111111,
              "#46039f"
             ],
             [
              0.2222222222222222,
              "#7201a8"
             ],
             [
              0.3333333333333333,
              "#9c179e"
             ],
             [
              0.4444444444444444,
              "#bd3786"
             ],
             [
              0.5555555555555556,
              "#d8576b"
             ],
             [
              0.6666666666666666,
              "#ed7953"
             ],
             [
              0.7777777777777778,
              "#fb9f3a"
             ],
             [
              0.8888888888888888,
              "#fdca26"
             ],
             [
              1,
              "#f0f921"
             ]
            ],
            "type": "heatmap"
           }
          ],
          "histogram": [
           {
            "marker": {
             "pattern": {
              "fillmode": "overlay",
              "size": 10,
              "solidity": 0.2
             }
            },
            "type": "histogram"
           }
          ],
          "histogram2d": [
           {
            "colorbar": {
             "outlinewidth": 0,
             "ticks": ""
            },
            "colorscale": [
             [
              0,
              "#0d0887"
             ],
             [
              0.1111111111111111,
              "#46039f"
             ],
             [
              0.2222222222222222,
              "#7201a8"
             ],
             [
              0.3333333333333333,
              "#9c179e"
             ],
             [
              0.4444444444444444,
              "#bd3786"
             ],
             [
              0.5555555555555556,
              "#d8576b"
             ],
             [
              0.6666666666666666,
              "#ed7953"
             ],
             [
              0.7777777777777778,
              "#fb9f3a"
             ],
             [
              0.8888888888888888,
              "#fdca26"
             ],
             [
              1,
              "#f0f921"
             ]
            ],
            "type": "histogram2d"
           }
          ],
          "histogram2dcontour": [
           {
            "colorbar": {
             "outlinewidth": 0,
             "ticks": ""
            },
            "colorscale": [
             [
              0,
              "#0d0887"
             ],
             [
              0.1111111111111111,
              "#46039f"
             ],
             [
              0.2222222222222222,
              "#7201a8"
             ],
             [
              0.3333333333333333,
              "#9c179e"
             ],
             [
              0.4444444444444444,
              "#bd3786"
             ],
             [
              0.5555555555555556,
              "#d8576b"
             ],
             [
              0.6666666666666666,
              "#ed7953"
             ],
             [
              0.7777777777777778,
              "#fb9f3a"
             ],
             [
              0.8888888888888888,
              "#fdca26"
             ],
             [
              1,
              "#f0f921"
             ]
            ],
            "type": "histogram2dcontour"
           }
          ],
          "mesh3d": [
           {
            "colorbar": {
             "outlinewidth": 0,
             "ticks": ""
            },
            "type": "mesh3d"
           }
          ],
          "parcoords": [
           {
            "line": {
             "colorbar": {
              "outlinewidth": 0,
              "ticks": ""
             }
            },
            "type": "parcoords"
           }
          ],
          "pie": [
           {
            "automargin": true,
            "type": "pie"
           }
          ],
          "scatter": [
           {
            "fillpattern": {
             "fillmode": "overlay",
             "size": 10,
             "solidity": 0.2
            },
            "type": "scatter"
           }
          ],
          "scatter3d": [
           {
            "line": {
             "colorbar": {
              "outlinewidth": 0,
              "ticks": ""
             }
            },
            "marker": {
             "colorbar": {
              "outlinewidth": 0,
              "ticks": ""
             }
            },
            "type": "scatter3d"
           }
          ],
          "scattercarpet": [
           {
            "marker": {
             "colorbar": {
              "outlinewidth": 0,
              "ticks": ""
             }
            },
            "type": "scattercarpet"
           }
          ],
          "scattergeo": [
           {
            "marker": {
             "colorbar": {
              "outlinewidth": 0,
              "ticks": ""
             }
            },
            "type": "scattergeo"
           }
          ],
          "scattergl": [
           {
            "marker": {
             "colorbar": {
              "outlinewidth": 0,
              "ticks": ""
             }
            },
            "type": "scattergl"
           }
          ],
          "scattermap": [
           {
            "marker": {
             "colorbar": {
              "outlinewidth": 0,
              "ticks": ""
             }
            },
            "type": "scattermap"
           }
          ],
          "scattermapbox": [
           {
            "marker": {
             "colorbar": {
              "outlinewidth": 0,
              "ticks": ""
             }
            },
            "type": "scattermapbox"
           }
          ],
          "scatterpolar": [
           {
            "marker": {
             "colorbar": {
              "outlinewidth": 0,
              "ticks": ""
             }
            },
            "type": "scatterpolar"
           }
          ],
          "scatterpolargl": [
           {
            "marker": {
             "colorbar": {
              "outlinewidth": 0,
              "ticks": ""
             }
            },
            "type": "scatterpolargl"
           }
          ],
          "scatterternary": [
           {
            "marker": {
             "colorbar": {
              "outlinewidth": 0,
              "ticks": ""
             }
            },
            "type": "scatterternary"
           }
          ],
          "surface": [
           {
            "colorbar": {
             "outlinewidth": 0,
             "ticks": ""
            },
            "colorscale": [
             [
              0,
              "#0d0887"
             ],
             [
              0.1111111111111111,
              "#46039f"
             ],
             [
              0.2222222222222222,
              "#7201a8"
             ],
             [
              0.3333333333333333,
              "#9c179e"
             ],
             [
              0.4444444444444444,
              "#bd3786"
             ],
             [
              0.5555555555555556,
              "#d8576b"
             ],
             [
              0.6666666666666666,
              "#ed7953"
             ],
             [
              0.7777777777777778,
              "#fb9f3a"
             ],
             [
              0.8888888888888888,
              "#fdca26"
             ],
             [
              1,
              "#f0f921"
             ]
            ],
            "type": "surface"
           }
          ],
          "table": [
           {
            "cells": {
             "fill": {
              "color": "#EBF0F8"
             },
             "line": {
              "color": "white"
             }
            },
            "header": {
             "fill": {
              "color": "#C8D4E3"
             },
             "line": {
              "color": "white"
             }
            },
            "type": "table"
           }
          ]
         },
         "layout": {
          "annotationdefaults": {
           "arrowcolor": "#2a3f5f",
           "arrowhead": 0,
           "arrowwidth": 1
          },
          "autotypenumbers": "strict",
          "coloraxis": {
           "colorbar": {
            "outlinewidth": 0,
            "ticks": ""
           }
          },
          "colorscale": {
           "diverging": [
            [
             0,
             "#8e0152"
            ],
            [
             0.1,
             "#c51b7d"
            ],
            [
             0.2,
             "#de77ae"
            ],
            [
             0.3,
             "#f1b6da"
            ],
            [
             0.4,
             "#fde0ef"
            ],
            [
             0.5,
             "#f7f7f7"
            ],
            [
             0.6,
             "#e6f5d0"
            ],
            [
             0.7,
             "#b8e186"
            ],
            [
             0.8,
             "#7fbc41"
            ],
            [
             0.9,
             "#4d9221"
            ],
            [
             1,
             "#276419"
            ]
           ],
           "sequential": [
            [
             0,
             "#0d0887"
            ],
            [
             0.1111111111111111,
             "#46039f"
            ],
            [
             0.2222222222222222,
             "#7201a8"
            ],
            [
             0.3333333333333333,
             "#9c179e"
            ],
            [
             0.4444444444444444,
             "#bd3786"
            ],
            [
             0.5555555555555556,
             "#d8576b"
            ],
            [
             0.6666666666666666,
             "#ed7953"
            ],
            [
             0.7777777777777778,
             "#fb9f3a"
            ],
            [
             0.8888888888888888,
             "#fdca26"
            ],
            [
             1,
             "#f0f921"
            ]
           ],
           "sequentialminus": [
            [
             0,
             "#0d0887"
            ],
            [
             0.1111111111111111,
             "#46039f"
            ],
            [
             0.2222222222222222,
             "#7201a8"
            ],
            [
             0.3333333333333333,
             "#9c179e"
            ],
            [
             0.4444444444444444,
             "#bd3786"
            ],
            [
             0.5555555555555556,
             "#d8576b"
            ],
            [
             0.6666666666666666,
             "#ed7953"
            ],
            [
             0.7777777777777778,
             "#fb9f3a"
            ],
            [
             0.8888888888888888,
             "#fdca26"
            ],
            [
             1,
             "#f0f921"
            ]
           ]
          },
          "colorway": [
           "#636efa",
           "#EF553B",
           "#00cc96",
           "#ab63fa",
           "#FFA15A",
           "#19d3f3",
           "#FF6692",
           "#B6E880",
           "#FF97FF",
           "#FECB52"
          ],
          "font": {
           "color": "#2a3f5f"
          },
          "geo": {
           "bgcolor": "white",
           "lakecolor": "white",
           "landcolor": "#E5ECF6",
           "showlakes": true,
           "showland": true,
           "subunitcolor": "white"
          },
          "hoverlabel": {
           "align": "left"
          },
          "hovermode": "closest",
          "mapbox": {
           "style": "light"
          },
          "paper_bgcolor": "white",
          "plot_bgcolor": "#E5ECF6",
          "polar": {
           "angularaxis": {
            "gridcolor": "white",
            "linecolor": "white",
            "ticks": ""
           },
           "bgcolor": "#E5ECF6",
           "radialaxis": {
            "gridcolor": "white",
            "linecolor": "white",
            "ticks": ""
           }
          },
          "scene": {
           "xaxis": {
            "backgroundcolor": "#E5ECF6",
            "gridcolor": "white",
            "gridwidth": 2,
            "linecolor": "white",
            "showbackground": true,
            "ticks": "",
            "zerolinecolor": "white"
           },
           "yaxis": {
            "backgroundcolor": "#E5ECF6",
            "gridcolor": "white",
            "gridwidth": 2,
            "linecolor": "white",
            "showbackground": true,
            "ticks": "",
            "zerolinecolor": "white"
           },
           "zaxis": {
            "backgroundcolor": "#E5ECF6",
            "gridcolor": "white",
            "gridwidth": 2,
            "linecolor": "white",
            "showbackground": true,
            "ticks": "",
            "zerolinecolor": "white"
           }
          },
          "shapedefaults": {
           "line": {
            "color": "#2a3f5f"
           }
          },
          "ternary": {
           "aaxis": {
            "gridcolor": "white",
            "linecolor": "white",
            "ticks": ""
           },
           "baxis": {
            "gridcolor": "white",
            "linecolor": "white",
            "ticks": ""
           },
           "bgcolor": "#E5ECF6",
           "caxis": {
            "gridcolor": "white",
            "linecolor": "white",
            "ticks": ""
           }
          },
          "title": {
           "x": 0.05
          },
          "xaxis": {
           "automargin": true,
           "gridcolor": "white",
           "linecolor": "white",
           "ticks": "",
           "title": {
            "standoff": 15
           },
           "zerolinecolor": "white",
           "zerolinewidth": 2
          },
          "yaxis": {
           "automargin": true,
           "gridcolor": "white",
           "linecolor": "white",
           "ticks": "",
           "title": {
            "standoff": 15
           },
           "zerolinecolor": "white",
           "zerolinewidth": 2
          }
         }
        },
        "title": {
         "text": "Sparse Autoencoder Feature Analysis"
        },
        "xaxis": {
         "anchor": "y",
         "domain": [
          0,
          0.45
         ],
         "title": {
          "text": "Features"
         }
        },
        "xaxis2": {
         "anchor": "y2",
         "domain": [
          0.55,
          1
         ],
         "title": {
          "text": "Activation Rate"
         }
        },
        "xaxis3": {
         "anchor": "y3",
         "domain": [
          0,
          0.45
         ]
        },
        "xaxis4": {
         "anchor": "y4",
         "domain": [
          0.55,
          1
         ],
         "title": {
          "text": "Activation Rate"
         }
        },
        "yaxis": {
         "anchor": "x",
         "domain": [
          0.625,
          1
         ],
         "title": {
          "text": "Activation Rate"
         }
        },
        "yaxis2": {
         "anchor": "x2",
         "domain": [
          0.625,
          1
         ],
         "title": {
          "text": "Count"
         }
        },
        "yaxis3": {
         "anchor": "x3",
         "domain": [
          0,
          0.375
         ]
        },
        "yaxis4": {
         "anchor": "x4",
         "domain": [
          0,
          0.375
         ],
         "title": {
          "text": "Mean Activation"
         }
        }
       }
      }
     },
     "metadata": {},
     "output_type": "display_data"
    }
   ],
   "source": [
    "# Visualize feature activation patterns\n",
    "def visualize_feature_activations(interpreter, top_k=50):\n",
    "    \"\"\"Create visualizations of feature activation patterns\"\"\"\n",
    "    \n",
    "    # Get top features\n",
    "    feature_indices, activation_rates = interpreter.get_top_features('activation_rate', top_k)\n",
    "    \n",
    "    # Create subplots\n",
    "    fig = make_subplots(\n",
    "        rows=2, cols=2,\n",
    "        subplot_titles=[\n",
    "            'Feature Activation Rates',\n",
    "            'Feature Activation Distribution',\n",
    "            'Feature Co-activation Heatmap',\n",
    "            'Sparsity vs Activation Strength'\n",
    "        ],\n",
    "        specs=[[{\"secondary_y\": False}, {\"secondary_y\": False}],\n",
    "               [{\"secondary_y\": False}, {\"secondary_y\": False}]]\n",
    "    )\n",
    "    \n",
    "    # 1. Feature activation rates bar chart\n",
    "    fig.add_trace(\n",
    "        go.Bar(\n",
    "            x=[f\"F{i}\" for i in feature_indices[:20]],\n",
    "            y=activation_rates[:20],\n",
    "            name=\"Activation Rate\",\n",
    "            marker_color='skyblue'\n",
    "        ),\n",
    "        row=1, col=1\n",
    "    )\n",
    "    \n",
    "    # 2. Activation rate distribution\n",
    "    all_rates = interpreter.feature_activation_rates.numpy()\n",
    "    fig.add_trace(\n",
    "        go.Histogram(\n",
    "            x=all_rates,\n",
    "            nbinsx=50,\n",
    "            name=\"Distribution\",\n",
    "            marker_color='lightcoral'\n",
    "        ),\n",
    "        row=1, col=2\n",
    "    )\n",
    "    \n",
    "    # 3. Feature co-activation heatmap (top 20 features)\n",
    "    top_20_features = interpreter.active_features[:, feature_indices[:20]]\n",
    "    # Convert boolean to float for correlation computation\n",
    "    top_20_features_float = top_20_features.float()\n",
    "    \n",
    "    # Check if we have enough variation to compute correlation\n",
    "    if top_20_features_float.shape[0] > 1 and top_20_features_float.std(dim=0).min() > 0:\n",
    "        coactivation_matrix = torch.corrcoef(top_20_features_float.T).numpy()\n",
    "        # Handle NaN values that might arise from zero variance features\n",
    "        coactivation_matrix = np.nan_to_num(coactivation_matrix, nan=0.0)\n",
    "    else:\n",
    "        # Fallback: create identity matrix if correlation can't be computed\n",
    "        coactivation_matrix = np.eye(20)\n",
    "    \n",
    "    fig.add_trace(\n",
    "        go.Heatmap(\n",
    "            z=coactivation_matrix,\n",
    "            x=[f\"F{i}\" for i in feature_indices[:20]],\n",
    "            y=[f\"F{i}\" for i in feature_indices[:20]],\n",
    "            colorscale='RdBu_r',\n",
    "            zmid=0,\n",
    "            name=\"Correlation\"\n",
    "        ),\n",
    "        row=2, col=1\n",
    "    )\n",
    "    \n",
    "    # 4. Sparsity vs activation strength scatter\n",
    "    mean_activations = interpreter.feature_mean_activations[feature_indices[:top_k]].numpy()\n",
    "    fig.add_trace(\n",
    "        go.Scatter(\n",
    "            x=activation_rates,\n",
    "            y=mean_activations,\n",
    "            mode='markers',\n",
    "            name=\"Features\",\n",
    "            marker=dict(size=8, color='green', opacity=0.6),\n",
    "            text=[f\"Feature {i}\" for i in feature_indices],\n",
    "            hovertemplate=\"Feature %{text}<br>Rate: %{x:.3f}<br>Mean: %{y:.3f}\"\n",
    "        ),\n",
    "        row=2, col=2\n",
    "    )\n",
    "    \n",
    "    # Update layout\n",
    "    fig.update_layout(\n",
    "        height=800,\n",
    "        title_text=\"Sparse Autoencoder Feature Analysis\",\n",
    "        showlegend=False\n",
    "    )\n",
    "    \n",
    "    # Update axis labels\n",
    "    fig.update_xaxes(title_text=\"Features\", row=1, col=1)\n",
    "    fig.update_yaxes(title_text=\"Activation Rate\", row=1, col=1)\n",
    "    \n",
    "    fig.update_xaxes(title_text=\"Activation Rate\", row=1, col=2)\n",
    "    fig.update_yaxes(title_text=\"Count\", row=1, col=2)\n",
    "    \n",
    "    fig.update_xaxes(title_text=\"Activation Rate\", row=2, col=2)\n",
    "    fig.update_yaxes(title_text=\"Mean Activation\", row=2, col=2)\n",
    "    \n",
    "    fig.show()\n",
    "    \n",
    "    return fig\n",
    "\n",
    "# Create feature visualizations\n",
    "visualization_fig = visualize_feature_activations(interpreter, top_k=50)"
   ]
  },
  {
   "cell_type": "markdown",
   "metadata": {},
   "source": [
    "## 9. Detailed Feature Interpretability Report\n",
    "\n",
    "This section provides a comprehensive human-readable analysis of what the sparse autoencoder has learned."
   ]
  },
  {
   "cell_type": "code",
   "execution_count": 12,
   "metadata": {},
   "outputs": [
    {
     "name": "stdout",
     "output_type": "stream",
     "text": [
      "\n",
      "================================================================================\n",
      "SPARSE AUTOENCODER INTERPRETABILITY REPORT\n",
      "Llama3.2-3B-Instruct Layer 5 Analysis\n",
      "================================================================================\n",
      "\n",
      "SUMMARY STATISTICS:\n",
      "• Total learned features: 12,288\n",
      "• Active features (>1% activation): 8,322 (67.7%)\n",
      "• Highly active features (>10% activation): 4,441 (36.1%)\n",
      "• Average sparsity: 0.2048 (20.48%)\n",
      "\n",
      "\n",
      "DISCOVERED FEATURE CATEGORIES:\n",
      "\n",
      "\n",
      "📊 SYNTACTIC PATTERNS (15 features):\n",
      "   • Feature 1013: Likely represents: Definitional or explanatory statements\n",
      "     Activation rate: 94.22%\n",
      "     Example: 'Photosynthesis is the process by which plants convert light ...'\n",
      "\n",
      "   • Feature  413: Likely represents: Definitional or explanatory statements\n",
      "     Activation rate: 94.22%\n",
      "     Example: 'Photosynthesis is the process by which plants convert light ...'\n",
      "\n",
      "   • Feature  897: Likely represents: Definitional or explanatory statements\n",
      "     Activation rate: 94.22%\n",
      "     Example: 'Photosynthesis is the process by which plants convert light ...'\n",
      "\n",
      "\n",
      "KEY INTERPRETABILITY INSIGHTS:\n",
      "\n",
      "\n",
      "🔬 SEMANTIC SPECIALIZATION: Layer 5 shows evidence of semantic specialization, with distinct features for different conceptual domains (science, mathematics, history, etc.).\n",
      "\n",
      "🧠 ABSTRACTION LEVEL: Features at this layer appear to encode mid-level abstractions - more specific than early layers but less task-specific than final layers.\n",
      "\n",
      "🔗 FEATURE SPARSITY: The learned features demonstrate good sparsity, suggesting they capture distinct, non-overlapping concepts rather than distributed representations.\n",
      "\n",
      "📝 LINGUISTIC STRUCTURE: Some features appear to capture syntactic patterns (definitional statements, complex sentences) alongside semantic content.\n",
      "\n",
      "🎯 INTERPRETABLE CONCEPTS: Many features can be mapped to human-interpretable concepts, supporting the hypothesis that neural networks learn compositional representations.\n",
      "\n",
      "IMPLICATIONS FOR MECHANISTIC INTERPRETABILITY:\n",
      "\n",
      "\n",
      "1. FEATURE DECOMPOSITION: Sparse autoencoders successfully decompose polysemantic neurons into more interpretable, monosemantic features.\n",
      "\n",
      "2. HIERARCHICAL REPRESENTATION: Layer 5 serves as a crucial intermediate layer, bridging low-level linguistic features with high-level semantic understanding.\n",
      "\n",
      "3. CONCEPT FORMATION: The model appears to form distinct representations for different domains of knowledge, suggesting systematic concept organization.\n",
      "\n",
      "4. INTERPRETABILITY SCALE: This approach can potentially scale to understand larger models by analyzing their layer-wise representations.\n",
      "\n",
      "5. SAFETY IMPLICATIONS: Understanding these intermediate representations could help in detecting harmful or biased reasoning patterns.\n",
      "\n",
      "LIMITATIONS AND FUTURE DIRECTIONS:\n",
      "\n",
      "\n",
      "• Limited dataset size - analysis based on a small set of diverse examples\n",
      "• Interpretation heuristics are rule-based and could benefit from more sophisticated analysis\n",
      "• Single layer analysis - full understanding requires multi-layer investigation\n",
      "• Feature interactions and compositions not fully explored\n",
      "• Quantitative validation of interpretations needed through controlled experiments\n",
      "\n",
      "================================================================================\n"
     ]
    }
   ],
   "source": [
    "def generate_interpretability_report(interpreter, feature_interpretations):\n",
    "    \"\"\"Generate a comprehensive interpretability report\"\"\"\n",
    "    \n",
    "    report = []\n",
    "    report.append(\"\\n\" + \"=\"*80)\n",
    "    report.append(\"SPARSE AUTOENCODER INTERPRETABILITY REPORT\")\n",
    "    report.append(\"Llama3.2-3B-Instruct Layer 5 Analysis\")\n",
    "    report.append(\"=\"*80 + \"\\n\")\n",
    "    \n",
    "    # Summary statistics\n",
    "    total_features = len(interpreter.feature_activation_rates)\n",
    "    active_features = (interpreter.feature_activation_rates > 0.01).sum().item()\n",
    "    highly_active = (interpreter.feature_activation_rates > 0.1).sum().item()\n",
    "    \n",
    "    report.append(\"SUMMARY STATISTICS:\")\n",
    "    report.append(f\"• Total learned features: {total_features:,}\")\n",
    "    report.append(f\"• Active features (>1% activation): {active_features:,} ({active_features/total_features*100:.1f}%)\")\n",
    "    report.append(f\"• Highly active features (>10% activation): {highly_active:,} ({highly_active/total_features*100:.1f}%)\")\n",
    "    report.append(f\"• Average sparsity: {interpreter.feature_activation_rates.mean():.4f} ({interpreter.feature_activation_rates.mean()*100:.2f}%)\")\n",
    "    report.append(\"\\n\")\n",
    "    \n",
    "    # Feature categories\n",
    "    categories = defaultdict(list)\n",
    "    for interp in feature_interpretations:\n",
    "        if 'Science' in interp['interpretation']:\n",
    "            categories['Scientific Concepts'].append(interp)\n",
    "        elif 'Mathematics' in interp['interpretation']:\n",
    "            categories['Mathematical Concepts'].append(interp)\n",
    "        elif 'History' in interp['interpretation']:\n",
    "            categories['Historical Concepts'].append(interp)\n",
    "        elif 'Emotions' in interp['interpretation'] or 'Psychology' in interp['interpretation']:\n",
    "            categories['Emotional/Psychological'].append(interp)\n",
    "        elif 'Technology' in interp['interpretation']:\n",
    "            categories['Technology'].append(interp)\n",
    "        elif 'Philosophy' in interp['interpretation']:\n",
    "            categories['Philosophical Concepts'].append(interp)\n",
    "        elif 'Language' in interp['interpretation']:\n",
    "            categories['Linguistic Features'].append(interp)\n",
    "        elif 'Social' in interp['interpretation']:\n",
    "            categories['Social Concepts'].append(interp)\n",
    "        elif 'definitional' in interp['interpretation'].lower():\n",
    "            categories['Syntactic Patterns'].append(interp)\n",
    "        else:\n",
    "            categories['Abstract/General'].append(interp)\n",
    "    \n",
    "    report.append(\"DISCOVERED FEATURE CATEGORIES:\")\n",
    "    report.append(\"\\n\")\n",
    "    \n",
    "    for category, features in categories.items():\n",
    "        if features:\n",
    "            report.append(f\"📊 {category.upper()} ({len(features)} features):\")\n",
    "            for feat in features[:3]:  # Show top 3 in each category\n",
    "                report.append(f\"   • Feature {feat['feature_idx']:4d}: {feat['interpretation']}\")\n",
    "                report.append(f\"     Activation rate: {feat['activation_rate']*100:.2f}%\")\n",
    "                if feat['examples']:\n",
    "                    report.append(f\"     Example: '{feat['examples'][0]['text'][:60]}...'\")\n",
    "                report.append(\"\")\n",
    "            report.append(\"\")\n",
    "    \n",
    "    # Key insights\n",
    "    report.append(\"KEY INTERPRETABILITY INSIGHTS:\")\n",
    "    report.append(\"\\n\")\n",
    "    \n",
    "    insights = [\n",
    "        \"🔬 SEMANTIC SPECIALIZATION: Layer 5 shows evidence of semantic specialization, with distinct features for different conceptual domains (science, mathematics, history, etc.).\",\n",
    "        \n",
    "        \"🧠 ABSTRACTION LEVEL: Features at this layer appear to encode mid-level abstractions - more specific than early layers but less task-specific than final layers.\",\n",
    "        \n",
    "        \"🔗 FEATURE SPARSITY: The learned features demonstrate good sparsity, suggesting they capture distinct, non-overlapping concepts rather than distributed representations.\",\n",
    "        \n",
    "        \"📝 LINGUISTIC STRUCTURE: Some features appear to capture syntactic patterns (definitional statements, complex sentences) alongside semantic content.\",\n",
    "        \n",
    "        \"🎯 INTERPRETABLE CONCEPTS: Many features can be mapped to human-interpretable concepts, supporting the hypothesis that neural networks learn compositional representations.\"\n",
    "    ]\n",
    "    \n",
    "    for insight in insights:\n",
    "        report.append(insight)\n",
    "        report.append(\"\")\n",
    "    \n",
    "    # Implications\n",
    "    report.append(\"IMPLICATIONS FOR MECHANISTIC INTERPRETABILITY:\")\n",
    "    report.append(\"\\n\")\n",
    "    \n",
    "    implications = [\n",
    "        \"1. FEATURE DECOMPOSITION: Sparse autoencoders successfully decompose polysemantic neurons into more interpretable, monosemantic features.\",\n",
    "        \n",
    "        \"2. HIERARCHICAL REPRESENTATION: Layer 5 serves as a crucial intermediate layer, bridging low-level linguistic features with high-level semantic understanding.\",\n",
    "        \n",
    "        \"3. CONCEPT FORMATION: The model appears to form distinct representations for different domains of knowledge, suggesting systematic concept organization.\",\n",
    "        \n",
    "        \"4. INTERPRETABILITY SCALE: This approach can potentially scale to understand larger models by analyzing their layer-wise representations.\",\n",
    "        \n",
    "        \"5. SAFETY IMPLICATIONS: Understanding these intermediate representations could help in detecting harmful or biased reasoning patterns.\"\n",
    "    ]\n",
    "    \n",
    "    for impl in implications:\n",
    "        report.append(impl)\n",
    "        report.append(\"\")\n",
    "    \n",
    "    # Limitations and future work\n",
    "    report.append(\"LIMITATIONS AND FUTURE DIRECTIONS:\")\n",
    "    report.append(\"\\n\")\n",
    "    \n",
    "    limitations = [\n",
    "        \"• Limited dataset size - analysis based on a small set of diverse examples\",\n",
    "        \"• Interpretation heuristics are rule-based and could benefit from more sophisticated analysis\",\n",
    "        \"• Single layer analysis - full understanding requires multi-layer investigation\",\n",
    "        \"• Feature interactions and compositions not fully explored\",\n",
    "        \"• Quantitative validation of interpretations needed through controlled experiments\"\n",
    "    ]\n",
    "    \n",
    "    for limit in limitations:\n",
    "        report.append(limit)\n",
    "    \n",
    "    report.append(\"\\n\" + \"=\"*80)\n",
    "    \n",
    "    return \"\\n\".join(report)\n",
    "\n",
    "# Generate and display the comprehensive report\n",
    "interpretability_report = generate_interpretability_report(interpreter, feature_interpretations)\n",
    "print(interpretability_report)"
   ]
  },
  {
   "cell_type": "markdown",
   "metadata": {},
   "source": [
    "## 10. Advanced Analysis: Feature Interactions and Compositions"
   ]
  },
  {
   "cell_type": "code",
   "execution_count": 13,
   "metadata": {},
   "outputs": [
    {
     "name": "stdout",
     "output_type": "stream",
     "text": [
      "\n",
      "============================================================\n",
      "FEATURE INTERACTION ANALYSIS\n",
      "============================================================\n",
      "\n",
      "STRONGEST FEATURE CO-ACTIVATIONS:\n",
      "1. Features 727 & 785: 603.0 co-activations\n",
      "   Feature 727: Likely represents: Definitional or explanatory statements\n",
      "   Feature 785: Likely represents: Definitional or explanatory statements\n",
      "\n",
      "2. Features 851 & 1206: 603.0 co-activations\n",
      "   Feature 851: Likely represents: Definitional or explanatory statements\n",
      "   Feature 1206: Likely represents: Definitional or explanatory statements\n",
      "\n",
      "3. Features 851 & 1530: 603.0 co-activations\n",
      "   Feature 851: Likely represents: Definitional or explanatory statements\n",
      "   Feature 1530: Unknown\n",
      "\n",
      "4. Features 851 & 1208: 603.0 co-activations\n",
      "   Feature 851: Likely represents: Definitional or explanatory statements\n",
      "   Feature 1208: Likely represents: Definitional or explanatory statements\n",
      "\n",
      "5. Features 851 & 785: 603.0 co-activations\n",
      "   Feature 851: Likely represents: Definitional or explanatory statements\n",
      "   Feature 785: Likely represents: Definitional or explanatory statements\n",
      "\n",
      "6. Features 851 & 560: 603.0 co-activations\n",
      "   Feature 851: Likely represents: Definitional or explanatory statements\n",
      "   Feature 560: Likely represents: Definitional or explanatory statements\n",
      "\n",
      "7. Features 727 & 560: 603.0 co-activations\n",
      "   Feature 727: Likely represents: Definitional or explanatory statements\n",
      "   Feature 560: Likely represents: Definitional or explanatory statements\n",
      "\n",
      "8. Features 727 & 1206: 603.0 co-activations\n",
      "   Feature 727: Likely represents: Definitional or explanatory statements\n",
      "   Feature 1206: Likely represents: Definitional or explanatory statements\n",
      "\n",
      "9. Features 727 & 511: 603.0 co-activations\n",
      "   Feature 727: Likely represents: Definitional or explanatory statements\n",
      "   Feature 511: Likely represents: Definitional or explanatory statements\n",
      "\n",
      "10. Features 727 & 1436: 603.0 co-activations\n",
      "   Feature 727: Likely represents: Definitional or explanatory statements\n",
      "   Feature 1436: Unknown\n",
      "\n",
      "\n",
      "FEATURE COMPOSITION PATTERNS:\n",
      "Found 603 samples activating 3+ features\n",
      "\n",
      "Sample 1 activates features: [1176, 244, 1384, 788, 897, 1242, 727, 1495, 1013, 1164, 413, 428, 851, 511, 1436, 1206, 1530, 1208, 785, 560]\n",
      "Associated text: 'Photosynthesis is the process by which plants convert light energy into chemical...'\n",
      "\n",
      "Sample 2 activates features: [1176, 244, 1384, 788, 897, 1242, 727, 1495, 1013, 1164, 413, 428, 851, 511, 1436, 1206, 1530, 1208, 785, 560]\n",
      "Associated text: 'Photosynthesis is the process by which plants convert light energy into chemical...'\n",
      "\n",
      "Sample 3 activates features: [1176, 244, 1384, 788, 897, 1242, 727, 1495, 1013, 1164, 413, 428, 851, 511, 1436, 1206, 1530, 1208, 785, 560]\n",
      "Associated text: 'Photosynthesis is the process by which plants convert light energy into chemical...'\n",
      "\n",
      "Sample 4 activates features: [1176, 244, 1384, 788, 897, 1242, 727, 1495, 1013, 1164, 413, 428, 851, 511, 1436, 1206, 1530, 1208, 785, 560]\n",
      "Associated text: 'Photosynthesis is the process by which plants convert light energy into chemical...'\n",
      "\n",
      "Sample 5 activates features: [1176, 244, 1384, 788, 897, 1242, 727, 1495, 1013, 1164, 413, 428, 851, 511, 1436, 1206, 1530, 1208, 785, 560]\n",
      "Associated text: 'Photosynthesis is the process by which plants convert light energy into chemical...'\n"
     ]
    }
   ],
   "source": [
    "def analyze_feature_interactions(interpreter, top_k=20):\n",
    "    \"\"\"Analyze how features interact and compose\"\"\"\n",
    "    \n",
    "    print(\"\\n\" + \"=\"*60)\n",
    "    print(\"FEATURE INTERACTION ANALYSIS\")\n",
    "    print(\"=\"*60)\n",
    "    \n",
    "    # Get top features\n",
    "    feature_indices, _ = interpreter.get_top_features('activation_rate', top_k)\n",
    "    \n",
    "    # Calculate co-activation patterns\n",
    "    top_features_active = interpreter.active_features[:, feature_indices]\n",
    "    \n",
    "    # Find frequently co-activating feature pairs\n",
    "    coactivation_counts = torch.zeros(top_k, top_k)\n",
    "    for i in range(top_k):\n",
    "        for j in range(i+1, top_k):\n",
    "            coactivation = (top_features_active[:, i] & top_features_active[:, j]).sum()\n",
    "            coactivation_counts[i, j] = coactivation\n",
    "            coactivation_counts[j, i] = coactivation\n",
    "    \n",
    "    # Find strongest interactions\n",
    "    upper_tri = torch.triu(coactivation_counts, diagonal=1)\n",
    "    flat_upper = upper_tri.flatten()\n",
    "    \n",
    "    # Only get top coactivations if there are any non-zero values\n",
    "    non_zero_indices = torch.nonzero(flat_upper).flatten()\n",
    "    if len(non_zero_indices) > 0:\n",
    "        top_coactivations = torch.topk(flat_upper, k=min(10, len(non_zero_indices)))\n",
    "        \n",
    "        print(\"\\nSTRONGEST FEATURE CO-ACTIVATIONS:\")\n",
    "        for i, (count, idx) in enumerate(zip(top_coactivations.values, top_coactivations.indices)):\n",
    "            if count > 0:\n",
    "                row = idx // top_k\n",
    "                col = idx % top_k\n",
    "                feat1_idx = feature_indices[row]\n",
    "                feat2_idx = feature_indices[col]\n",
    "                \n",
    "                print(f\"{i+1}. Features {feat1_idx} & {feat2_idx}: {count} co-activations\")\n",
    "                \n",
    "                # Try to interpret the interaction\n",
    "                feat1_interp = next((fi['interpretation'] for fi in feature_interpretations \n",
    "                                   if fi['feature_idx'] == feat1_idx), \"Unknown\")\n",
    "                feat2_interp = next((fi['interpretation'] for fi in feature_interpretations \n",
    "                                   if fi['feature_idx'] == feat2_idx), \"Unknown\")\n",
    "                \n",
    "                print(f\"   Feature {feat1_idx}: {feat1_interp}\")\n",
    "                print(f\"   Feature {feat2_idx}: {feat2_interp}\")\n",
    "                print()\n",
    "    else:\n",
    "        print(\"\\nNo significant feature co-activations found.\")\n",
    "    \n",
    "    # Analyze feature compositions\n",
    "    print(\"\\nFEATURE COMPOSITION PATTERNS:\")\n",
    "    \n",
    "    # Find samples that activate multiple features\n",
    "    multi_feature_samples = (top_features_active.sum(dim=1) >= 3)\n",
    "    if multi_feature_samples.sum() > 0:\n",
    "        print(f\"Found {multi_feature_samples.sum()} samples activating 3+ features\")\n",
    "        \n",
    "        # Analyze a few examples\n",
    "        multi_indices = torch.where(multi_feature_samples)[0][:5]\n",
    "        for i, sample_idx in enumerate(multi_indices):\n",
    "            active_feats = torch.where(top_features_active[sample_idx])[0]\n",
    "            active_feat_ids = [feature_indices[f] for f in active_feats]\n",
    "            \n",
    "            print(f\"\\nSample {i+1} activates features: {active_feat_ids}\")\n",
    "            # Approximate text mapping (simplified)\n",
    "            text_idx = min(sample_idx.item() // 50, len(interpreter.text_samples) - 1)\n",
    "            print(f\"Associated text: '{interpreter.text_samples[text_idx][:80]}...'\")\n",
    "    else:\n",
    "        print(\"No samples found that activate 3+ features simultaneously.\")\n",
    "    \n",
    "    return coactivation_counts\n",
    "\n",
    "# Analyze feature interactions\n",
    "coactivation_matrix = analyze_feature_interactions(interpreter, top_k=20)"
   ]
  },
  {
   "cell_type": "markdown",
   "metadata": {},
   "source": [
    "## 11. Final Summary and Human-Readable Conclusions\n",
    "\n",
    "This section provides the most important takeaways in plain language."
   ]
  },
  {
   "cell_type": "code",
   "execution_count": null,
   "metadata": {},
   "outputs": [],
   "source": [
    "def create_final_summary():\n",
    "    \"\"\"Create a final, human-readable summary of findings\"\"\"\n",
    "    \n",
    "    summary = []\n",
    "    summary.append(\"\\n\" + \"🎯\" * 30)\n",
    "    summary.append(\"WHAT DID WE LEARN ABOUT LLAMA3.2-3B LAYER 5?\")\n",
    "    summary.append(\"Analysis of BBC News Dataset Representations\")\n",
    "    summary.append(\"🎯\" * 30 + \"\\n\")\n",
    "    \n",
    "    findings = [\n",
    "        (\"🧠 NEWS DOMAIN ORGANIZATION\", \n",
    "         \"Layer 5 organizes news content into distinct conceptual categories. The model has learned separate 'neural circuits' for business, sports, technology, entertainment, and politics. This suggests the model doesn't just process text patterns - it builds structured knowledge representations that mirror real-world topic domains.\"),\n",
    "        \n",
    "        (\"🔍 INTERPRETABLE FEATURES\", \n",
    "         \"We successfully identified features that activate for specific news topics and linguistic patterns. Instead of mysterious 'black box' neurons, we found features that clearly correspond to concepts like 'business terminology', 'sports events', or 'political processes'. This is a major breakthrough for understanding how language models process news content.\"),\n",
    "        \n",
    "        (\"⚡ SPARSE ACTIVATION\", \n",
    "         \"Most features remain inactive most of the time (sparse activation), meaning the model uses a selective 'sparse code' where only topic-relevant features activate for each news article. This efficient representation allows the model to distinguish between different news domains without unnecessary computational overhead.\"),\n",
    "        \n",
    "        (\"🏗️ HIERARCHICAL NEWS PROCESSING\", \n",
    "         \"Layer 5 serves as a crucial intermediate layer for news understanding - it has moved beyond basic word recognition to identify semantic themes and topic categories, but hasn't yet specialized for specific downstream tasks. It acts as a 'news concept warehouse' where the model stores its understanding of different journalistic domains.\"),\n",
    "        \n",
    "        (\"🔗 CROSS-DOMAIN INTERACTIONS\", \n",
    "         \"Features don't work in isolation - they combine when processing complex news stories that span multiple domains. For instance, a story about a tech company's stock performance might activate both technology and business features, creating rich representations that capture the multifaceted nature of real-world news.\"),\n",
    "        \n",
    "        (\"📚 JOURNALISTIC KNOWLEDGE REPRESENTATION\", \n",
    "         \"The model appears to have learned journalistic conventions and topic structures. Related news concepts cluster together, and the model can distinguish between different types of news content (factual reporting vs. opinion, sports vs. politics, etc.). This suggests sophisticated domain-specific knowledge organization.\"),\n",
    "        \n",
    "        (\"🎯 IMPLICATIONS FOR NEWS AI\", \n",
    "         \"Understanding these internal representations is crucial for news AI applications. By seeing how the model organizes and processes different news topics, we can better predict its behavior for tasks like news classification, summarization, and fact-checking, and identify potential biases in news domain representation.\")\n",
    "    ]\n",
    "    \n",
    "    for title, description in findings:\n",
    "        summary.append(f\"{title}:\")\n",
    "        summary.append(f\"{description}\\n\")\n",
    "    \n",
    "    summary.append(\"💡 KEY INSIGHT FOR NEWS AI UNDERSTANDING:\")\n",
    "    summary.append(\"\")\n",
    "    summary.append(\"Think of Layer 5 as the model's 'news desk' - just as a human news editor has organized knowledge about different beats (politics, sports, business, etc.), this layer contains specialized 'topic modules' that activate when processing relevant news content. The sparse autoencoder revealed these hidden editorial modules, showing us that the model has internalized the structure of news domains and can selectively activate appropriate knowledge for different types of stories.\")\n",
    "    summary.append(\"\")\n",
    "    \n",
    "    summary.append(\"🔮 WHAT THIS MEANS FOR NEWS AI APPLICATIONS:\")\n",
    "    summary.append(\"\")\n",
    "    summary.append(\"• We can build more accurate news classification systems by targeting specific features\")\n",
    "    summary.append(\"• We can improve news recommendation by understanding topic representations\")\n",
    "    summary.append(\"• We can detect topic drift and bias by examining learned news domain features\")\n",
    "    summary.append(\"• We can build more nuanced news summarization that respects domain conventions\")\n",
    "    summary.append(\"• We can create interpretable news AI that journalists and editors can understand and trust\")\n",
    "    \n",
    "    summary.append(\"\\n\" + \"=\"*60)\n",
    "    summary.append(\"This experiment demonstrates that language models learn sophisticated, interpretable representations of news domains. By using the BBC News dataset, we've shown that Layer 5 of Llama3.2-3B contains specialized knowledge structures that mirror how humans organize and understand different types of news content - a crucial insight for building trustworthy news AI systems.\")\n",
    "    summary.append(\"=\"*60)\n",
    "    \n",
    "    return \"\\n\".join(summary)\n",
    "\n",
    "# Display final summary\n",
    "final_summary = create_final_summary()\n",
    "print(final_summary)\n",
    "\n",
    "# Save results with BBC News dataset information\n",
    "results = {\n",
    "    'dataset_info': {\n",
    "        'name': 'BBC News (SetFit/bbc-news)',\n",
    "        'total_articles': len(text_samples),\n",
    "        'categories': list(set(sample_labels)),\n",
    "        'samples_per_category': samples_per_category\n",
    "    },\n",
    "    'model_info': {\n",
    "        'model_path': model_path,\n",
    "        'layer_analyzed': 5,\n",
    "        'hidden_size': INPUT_DIM,\n",
    "        'sae_expansion_factor': HIDDEN_DIM / INPUT_DIM\n",
    "    },\n",
    "    'training_results': training_history,\n",
    "    'feature_interpretations': feature_interpretations,\n",
    "    'summary_statistics': {\n",
    "        'total_features': len(interpreter.feature_activation_rates),\n",
    "        'active_features': (interpreter.feature_activation_rates > 0.01).sum().item(),\n",
    "        'highly_active_features': (interpreter.feature_activation_rates > 0.1).sum().item(),\n",
    "        'average_sparsity': interpreter.feature_activation_rates.mean().item()\n",
    "    }\n",
    "}\n",
    "\n",
    "# Save to JSON for future analysis\n",
    "with open('sae_bbc_news_analysis_results.json', 'w') as f:\n",
    "    json.dump(results, f, indent=2, default=str)\n",
    "\n",
    "print(\"\\n✅ BBC News Analysis complete! Results saved to 'sae_bbc_news_analysis_results.json'\")\n",
    "print(f\"📊 Model saved as 'best_sae_model.pth'\")\n",
    "print(f\"🧠 Discovered {len(feature_interpretations)} interpretable features in Layer 5\")\n",
    "print(f\"📰 Analyzed {len(text_samples)} BBC News articles across {len(set(sample_labels))} categories\")"
   ]
  },
  {
   "cell_type": "markdown",
   "metadata": {},
   "source": [
    "## Conclusion\n",
    "\n",
    "This notebook demonstrates how sparse autoencoders can be used to understand the internal representations of language models. By training a sparse autoencoder on Layer 5 activations of Llama3.2-3B-Instruct, we've:\n",
    "\n",
    "1. **Discovered interpretable features** that correspond to specific concepts and knowledge domains\n",
    "2. **Revealed the model's knowledge organization** at an intermediate processing layer\n",
    "3. **Identified feature interactions** that show how complex concepts are composed\n",
    "4. **Provided human-readable insights** into how the model processes and represents information\n",
    "\n",
    "This approach, pioneered by researchers like Neel Nanda and the Anthropic team, represents a significant step forward in making AI systems more interpretable and trustworthy. By understanding what our models learn and how they process information, we can build better, safer, and more reliable AI systems.\n",
    "\n",
    "The techniques demonstrated here can be scaled to larger models and different layers, providing a powerful toolkit for mechanistic interpretability research."
   ]
  }
 ],
 "metadata": {
  "kernelspec": {
   "display_name": "MechInter (Python 3.12)",
   "language": "python",
   "name": "mechinter-venv"
  },
  "language_info": {
   "codemirror_mode": {
    "name": "ipython",
    "version": 3
   },
   "file_extension": ".py",
   "mimetype": "text/x-python",
   "name": "python",
   "nbconvert_exporter": "python",
   "pygments_lexer": "ipython3",
   "version": "3.12.7"
  }
 },
 "nbformat": 4,
 "nbformat_minor": 4
}
