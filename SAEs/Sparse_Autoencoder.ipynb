{
  "cells": [
    {
      "cell_type": "code",
      "execution_count": 1,
      "metadata": {
        "colab": {
          "base_uri": "https://localhost:8080/"
        },
        "id": "6uagRYLkCC6_",
        "outputId": "9c398944-0c90-41c7-f493-5b7f0a303595"
      },
      "outputs": [],
      "source": [
        "import transformer_lens\n",
        "from transformer_lens import HookedTransformer, utils\n",
        "import torch\n",
        "import numpy as np\n",
        "import gradio as gr\n",
        "import pprint\n",
        "import json\n",
        "import torch.nn as nn\n",
        "import torch.nn.functional as F\n",
        "from datasets import load_dataset\n",
        "from huggingface_hub import HfApi\n",
        "from IPython.display import HTML\n",
        "from functools import partial\n",
        "import tqdm.notebook as tqdm\n",
        "import plotly.express as px\n",
        "import pandas as pd"
      ]
    },
    {
      "cell_type": "markdown",
      "metadata": {
        "id": "iXl91Y1dAtyT"
      },
      "source": [
        "## Defining the Autoencoder"
      ]
    },
    {
      "cell_type": "code",
      "execution_count": 2,
      "metadata": {
        "id": "qCF9odNdAvKX"
      },
      "outputs": [],
      "source": [
        "cfg = {\n",
        "    \"seed\": 49,\n",
        "    \"batch_size\": 4096,\n",
        "    \"buffer_mult\": 384,\n",
        "    \"lr\": 1e-4,\n",
        "    \"num_tokens\": int(2e9),\n",
        "    \"l1_coeff\": 3e-4,\n",
        "    \"beta1\": 0.9,\n",
        "    \"beta2\": 0.99,\n",
        "    \"dict_mult\": 8,\n",
        "    \"seq_len\": 128,\n",
        "    \"d_mlp\": 2048,\n",
        "    \"enc_dtype\":\"fp32\",\n",
        "    \"remove_rare_dir\": False,\n",
        "}\n",
        "cfg[\"model_batch_size\"] = 64\n",
        "cfg[\"buffer_size\"] = cfg[\"batch_size\"] * cfg[\"buffer_mult\"]\n",
        "cfg[\"buffer_batches\"] = cfg[\"buffer_size\"] // cfg[\"seq_len\"]"
      ]
    },
    {
      "cell_type": "code",
      "execution_count": 3,
      "metadata": {
        "id": "Kn1E_44gCa-Z"
      },
      "outputs": [],
      "source": [
        "DTYPES = {\"fp32\": torch.float32, \"fp16\": torch.float16, \"bf16\": torch.bfloat16}\n",
        "class AutoEncoder(nn.Module):\n",
        "    def __init__(self, cfg):\n",
        "        super().__init__()\n",
        "        d_hidden = cfg[\"d_mlp\"] * cfg[\"dict_mult\"]\n",
        "        d_mlp = cfg[\"d_mlp\"]\n",
        "        l1_coeff = cfg[\"l1_coeff\"]\n",
        "        dtype = DTYPES[cfg[\"enc_dtype\"]]\n",
        "        torch.manual_seed(cfg[\"seed\"])\n",
        "        self.W_enc = nn.Parameter(torch.nn.init.kaiming_uniform_(torch.empty(d_mlp, d_hidden, dtype=dtype)))\n",
        "        self.W_dec = nn.Parameter(torch.nn.init.kaiming_uniform_(torch.empty(d_hidden, d_mlp, dtype=dtype)))\n",
        "        self.b_enc = nn.Parameter(torch.zeros(d_hidden, dtype=dtype))\n",
        "        self.b_dec = nn.Parameter(torch.zeros(d_mlp, dtype=dtype))\n",
        "\n",
        "        self.W_dec.data[:] = self.W_dec / self.W_dec.norm(dim=-1, keepdim=True)\n",
        "\n",
        "        self.d_hidden = d_hidden\n",
        "        self.l1_coeff = l1_coeff\n",
        "\n",
        "        self.to(\"cuda\")\n",
        "\n",
        "    def forward(self, x):\n",
        "        x_cent = x - self.b_dec\n",
        "        acts = F.relu(x_cent @ self.W_enc + self.b_enc)\n",
        "        x_reconstruct = acts @ self.W_dec + self.b_dec\n",
        "        l2_loss = (x_reconstruct.float() - x.float()).pow(2).sum(-1).mean(0)\n",
        "        l1_loss = self.l1_coeff * (acts.float().abs().sum())\n",
        "        loss = l2_loss + l1_loss\n",
        "        return loss, x_reconstruct, acts, l2_loss, l1_loss\n",
        "\n",
        "    @torch.no_grad()\n",
        "    def remove_parallel_component_of_grads(self):\n",
        "        W_dec_normed = self.W_dec / self.W_dec.norm(dim=-1, keepdim=True)\n",
        "        W_dec_grad_proj = (self.W_dec.grad * W_dec_normed).sum(-1, keepdim=True) * W_dec_normed\n",
        "        self.W_dec.grad -= W_dec_grad_proj\n",
        "\n",
        "    # def get_version(self):\n",
        "    #     return 1+max([int(file.name.split(\".\")[0]) for file in list(SAVE_DIR.iterdir()) if \"pt\" in str(file)])\n",
        "\n",
        "    # def save(self):\n",
        "    #     version = self.get_version()\n",
        "    #     torch.save(self.state_dict(), SAVE_DIR/(str(version)+\".pt\"))\n",
        "    #     with open(SAVE_DIR/(str(version)+\"_cfg.json\"), \"w\") as f:\n",
        "    #         json.dump(cfg, f)\n",
        "    #     print(\"Saved as version\", version)\n",
        "\n",
        "    # def load(cls, version):\n",
        "    #     cfg = (json.load(open(SAVE_DIR/(str(version)+\"_cfg.json\"), \"r\")))\n",
        "    #     pprint.pprint(cfg)\n",
        "    #     self = cls(cfg=cfg)\n",
        "    #     self.load_state_dict(torch.load(SAVE_DIR/(str(version)+\".pt\")))\n",
        "    #     return self\n",
        "\n",
        "    @classmethod\n",
        "    def load_from_hf(cls, version):\n",
        "        \"\"\"\n",
        "        Loads the saved autoencoder from HuggingFace.\n",
        "\n",
        "        Version is expected to be an int, or \"run1\" or \"run2\"\n",
        "\n",
        "        version 25 is the final checkpoint of the first autoencoder run,\n",
        "        version 47 is the final checkpoint of the second autoencoder run.\n",
        "        \"\"\"\n",
        "        if version==\"run1\":\n",
        "            version = 25\n",
        "        elif version==\"run2\":\n",
        "            version = 47\n",
        "\n",
        "        cfg = utils.download_file_from_hf(\"NeelNanda/sparse_autoencoder\", f\"{version}_cfg.json\")\n",
        "        pprint.pprint(cfg)\n",
        "        self = cls(cfg=cfg)\n",
        "        self.load_state_dict(utils.download_file_from_hf(\"NeelNanda/sparse_autoencoder\", f\"{version}.pt\", force_is_torch=True))\n",
        "        return self\n"
      ]
    },
    {
      "cell_type": "markdown",
      "metadata": {
        "id": "ysejlJ4ZLrl7"
      },
      "source": [
        "## Utils"
      ]
    },
    {
      "cell_type": "markdown",
      "metadata": {
        "id": "gjpJCFxGLtoK"
      },
      "source": [
        "### Get Reconstruction Loss"
      ]
    },
    {
      "cell_type": "code",
      "execution_count": 4,
      "metadata": {
        "id": "pXH4pos0LvAs"
      },
      "outputs": [],
      "source": [
        "def replacement_hook(mlp_post, hook, encoder):\n",
        "    mlp_post_reconstr = encoder(mlp_post)[1]\n",
        "    return mlp_post_reconstr\n",
        "\n",
        "def mean_ablate_hook(mlp_post, hook):\n",
        "    mlp_post[:] = mlp_post.mean([0, 1])\n",
        "    return mlp_post\n",
        "\n",
        "def zero_ablate_hook(mlp_post, hook):\n",
        "    mlp_post[:] = 0.\n",
        "    return mlp_post\n",
        "\n",
        "@torch.no_grad()\n",
        "def get_recons_loss(num_batches=5, local_encoder=None):\n",
        "    if local_encoder is None:\n",
        "        local_encoder = encoder\n",
        "    loss_list = []\n",
        "    for i in range(num_batches):\n",
        "        tokens = all_tokens[torch.randperm(len(all_tokens))[:cfg[\"model_batch_size\"]]]\n",
        "        loss = model(tokens, return_type=\"loss\")\n",
        "        recons_loss = model.run_with_hooks(tokens, return_type=\"loss\", fwd_hooks=[(utils.get_act_name(\"post\", 0), partial(replacement_hook, encoder=local_encoder))])\n",
        "        # mean_abl_loss = model.run_with_hooks(tokens, return_type=\"loss\", fwd_hooks=[(utils.get_act_name(\"post\", 0), mean_ablate_hook)])\n",
        "        zero_abl_loss = model.run_with_hooks(tokens, return_type=\"loss\", fwd_hooks=[(utils.get_act_name(\"post\", 0), zero_ablate_hook)])\n",
        "        loss_list.append((loss, recons_loss, zero_abl_loss))\n",
        "    losses = torch.tensor(loss_list)\n",
        "    loss, recons_loss, zero_abl_loss = losses.mean(0).tolist()\n",
        "\n",
        "    print(f\"loss: {loss:.4f}, recons_loss: {recons_loss:.4f}, zero_abl_loss: {zero_abl_loss:.4f}\")\n",
        "    score = ((zero_abl_loss - recons_loss)/(zero_abl_loss - loss))\n",
        "    print(f\"Reconstruction Score: {score:.2%}\")\n",
        "    # print(f\"{((zero_abl_loss - mean_abl_loss)/(zero_abl_loss - loss)).item():.2%}\")\n",
        "    return score, loss, recons_loss, zero_abl_loss"
      ]
    },
    {
      "cell_type": "markdown",
      "metadata": {
        "id": "7vz9UyVGBdWX"
      },
      "source": [
        "### Get Frequencies"
      ]
    },
    {
      "cell_type": "code",
      "execution_count": 5,
      "metadata": {
        "id": "NeslkII9Bqa3"
      },
      "outputs": [],
      "source": [
        "# Frequency\n",
        "@torch.no_grad()\n",
        "def get_freqs(num_batches=25, local_encoder=None):\n",
        "    if local_encoder is None:\n",
        "        local_encoder = encoder\n",
        "    act_freq_scores = torch.zeros(local_encoder.d_hidden, dtype=torch.float32).cuda()\n",
        "    total = 0\n",
        "    for i in tqdm.trange(num_batches):\n",
        "        tokens = all_tokens[torch.randperm(len(all_tokens))[:cfg[\"model_batch_size\"]]]\n",
        "\n",
        "        _, cache = model.run_with_cache(tokens, stop_at_layer=1, names_filter=utils.get_act_name(\"post\", 0))\n",
        "        mlp_acts = cache[utils.get_act_name(\"post\", 0)]\n",
        "        mlp_acts = mlp_acts.reshape(-1, d_mlp)\n",
        "\n",
        "        hidden = local_encoder(mlp_acts)[2]\n",
        "\n",
        "        act_freq_scores += (hidden > 0).sum(0)\n",
        "        total+=hidden.shape[0]\n",
        "    act_freq_scores /= total\n",
        "    num_dead = (act_freq_scores==0).float().mean()\n",
        "    print(\"Num dead\", num_dead)\n",
        "    return act_freq_scores"
      ]
    },
    {
      "cell_type": "markdown",
      "metadata": {
        "id": "7ZiWeLhaBrFK"
      },
      "source": [
        "## Visualise Feature Utils"
      ]
    },
    {
      "cell_type": "code",
      "execution_count": 6,
      "metadata": {
        "id": "zkOsX7DvBs0u"
      },
      "outputs": [],
      "source": [
        "from html import escape\n",
        "import colorsys\n",
        "\n",
        "from IPython.display import display\n",
        "\n",
        "SPACE = \"·\"\n",
        "NEWLINE=\"↩\"\n",
        "TAB = \"→\"\n",
        "\n",
        "def create_html(strings, values, max_value=None, saturation=0.5, allow_different_length=False, return_string=False):\n",
        "    # escape strings to deal with tabs, newlines, etc.\n",
        "    escaped_strings = [escape(s, quote=True) for s in strings]\n",
        "    processed_strings = [\n",
        "        s.replace(\"\\n\", f\"{NEWLINE}<br/>\").replace(\"\\t\", f\"{TAB}&emsp;\").replace(\" \", \"&nbsp;\")\n",
        "        for s in escaped_strings\n",
        "    ]\n",
        "\n",
        "    if isinstance(values, torch.Tensor) and len(values.shape)>1:\n",
        "        values = values.flatten().tolist()\n",
        "\n",
        "    if not allow_different_length:\n",
        "        assert len(processed_strings) == len(values)\n",
        "\n",
        "    # scale values\n",
        "    if max_value is None:\n",
        "        max_value = max(max(values), -min(values))+1e-3\n",
        "    scaled_values = [v / max_value * saturation for v in values]\n",
        "\n",
        "    # create html\n",
        "    html = \"\"\n",
        "    for i, s in enumerate(processed_strings):\n",
        "        if i<len(scaled_values):\n",
        "            v = scaled_values[i]\n",
        "        else:\n",
        "            v = 0\n",
        "        if v < 0:\n",
        "            hue = 0  # hue for red in HSV\n",
        "        else:\n",
        "            hue = 0.66  # hue for blue in HSV\n",
        "        rgb_color = colorsys.hsv_to_rgb(\n",
        "            hue, v, 1\n",
        "        )  # hsv color with hue 0.66 (blue), saturation as v, value 1\n",
        "        hex_color = \"#%02x%02x%02x\" % (\n",
        "            int(rgb_color[0] * 255),\n",
        "            int(rgb_color[1] * 255),\n",
        "            int(rgb_color[2] * 255),\n",
        "        )\n",
        "        html += f'<span style=\"background-color: {hex_color}; border: 1px solid lightgray; font-size: 16px; border-radius: 3px;\">{s}</span>'\n",
        "    if return_string:\n",
        "        return html\n",
        "    else:\n",
        "        display(HTML(html))\n",
        "\n",
        "def basic_feature_vis(text, feature_index, max_val=0):\n",
        "    feature_in = encoder.W_enc[:, feature_index]\n",
        "    feature_bias = encoder.b_enc[feature_index]\n",
        "    _, cache = model.run_with_cache(text, stop_at_layer=1, names_filter=utils.get_act_name(\"post\", 0))\n",
        "    mlp_acts = cache[utils.get_act_name(\"post\", 0)][0]\n",
        "    feature_acts = F.relu((mlp_acts - encoder.b_dec) @ feature_in + feature_bias)\n",
        "    if max_val==0:\n",
        "        max_val = max(1e-7, feature_acts.max().item())\n",
        "        # print(max_val)\n",
        "    # if min_val==0:\n",
        "    #     min_val = min(-1e-7, feature_acts.min().item())\n",
        "    return basic_token_vis_make_str(text, feature_acts, max_val)\n",
        "def basic_token_vis_make_str(strings, values, max_val=None):\n",
        "    if not isinstance(strings, list):\n",
        "        strings = model.to_str_tokens(strings)\n",
        "    values = utils.to_numpy(values)\n",
        "    if max_val is None:\n",
        "        max_val = values.max()\n",
        "    # if min_val is None:\n",
        "    #     min_val = values.min()\n",
        "    header_string = f\"<h4>Max Range <b>{values.max():.4f}</b> Min Range: <b>{values.min():.4f}</b></h4>\"\n",
        "    header_string += f\"<h4>Set Max Range <b>{max_val:.4f}</b></h4>\"\n",
        "    # values[values>0] = values[values>0]/ma|x_val\n",
        "    # values[values<0] = values[values<0]/abs(min_val)\n",
        "    body_string = create_html(strings, values, max_value=max_val, return_string=True)\n",
        "    return header_string + body_string\n",
        "# display(HTML(basic_token_vis_make_str(tokens[0, :10], mlp_acts[0, :10, 7], 0.1)))\n",
        "# # %%\n",
        "# The `with gr.Blocks() as demo:` syntax just creates a variable called demo containing all these components\n",
        "import gradio as gr\n",
        "try:\n",
        "    demos[0].close()\n",
        "except:\n",
        "    pass\n",
        "demos = [None]\n",
        "def make_feature_vis_gradio(feature_id, starting_text=None, batch=None, pos=None):\n",
        "    if starting_text is None:\n",
        "        starting_text = model.to_string(all_tokens[batch, 1:pos+1])\n",
        "    try:\n",
        "        demos[0].close()\n",
        "    except:\n",
        "        pass\n",
        "    with gr.Blocks() as demo:\n",
        "        gr.HTML(value=f\"Hacky Interactive Neuroscope for gelu-1l\")\n",
        "        # The input elements\n",
        "        with gr.Row():\n",
        "            with gr.Column():\n",
        "                text = gr.Textbox(label=\"Text\", value=starting_text)\n",
        "                # Precision=0 makes it an int, otherwise it's a float\n",
        "                # Value sets the initial default value\n",
        "                feature_index = gr.Number(\n",
        "                    label=\"Feature Index\", value=feature_id, precision=0\n",
        "                )\n",
        "                # # If empty, these two map to None\n",
        "                max_val = gr.Number(label=\"Max Value\", value=None)\n",
        "                # min_val = gr.Number(label=\"Min Value\", value=None)\n",
        "                inputs = [text, feature_index, max_val]\n",
        "        with gr.Row():\n",
        "            with gr.Column():\n",
        "                # The output element\n",
        "                out = gr.HTML(label=\"Neuron Acts\", value=basic_feature_vis(starting_text, feature_id))\n",
        "        for inp in inputs:\n",
        "            inp.change(basic_feature_vis, inputs, out)\n",
        "    demo.launch(share=True)\n",
        "    demos[0] = demo"
      ]
    },
    {
      "cell_type": "markdown",
      "metadata": {
        "id": "xgSWkew4SYWz"
      },
      "source": [
        "### Inspecting Top Logits"
      ]
    },
    {
      "cell_type": "code",
      "execution_count": 7,
      "metadata": {
        "id": "zzY9rOh-SaUm"
      },
      "outputs": [],
      "source": [
        "SPACE = \"·\"\n",
        "NEWLINE=\"↩\"\n",
        "TAB = \"→\"\n",
        "def process_token(s):\n",
        "    if isinstance(s, torch.Tensor):\n",
        "        s = s.item()\n",
        "    if isinstance(s, np.int64):\n",
        "        s = s.item()\n",
        "    if isinstance(s, int):\n",
        "        s = model.to_string(s)\n",
        "    s = s.replace(\" \", SPACE)\n",
        "    s = s.replace(\"\\n\", NEWLINE+\"\\n\")\n",
        "    s = s.replace(\"\\t\", TAB)\n",
        "    return s\n",
        "\n",
        "def process_tokens(l):\n",
        "    if isinstance(l, str):\n",
        "        l = model.to_str_tokens(l)\n",
        "    elif isinstance(l, torch.Tensor) and len(l.shape)>1:\n",
        "        l = l.squeeze(0)\n",
        "    return [process_token(s) for s in l]\n",
        "\n",
        "def process_tokens_index(l):\n",
        "    if isinstance(l, str):\n",
        "        l = model.to_str_tokens(l)\n",
        "    elif isinstance(l, torch.Tensor) and len(l.shape)>1:\n",
        "        l = l.squeeze(0)\n",
        "    return [f\"{process_token(s)}/{i}\" for i,s in enumerate(l)]\n",
        "\n",
        "def create_vocab_df(logit_vec, make_probs=False, full_vocab=None):\n",
        "    if full_vocab is None:\n",
        "        full_vocab = process_tokens(model.to_str_tokens(torch.arange(model.cfg.d_vocab)))\n",
        "    vocab_df = pd.DataFrame({\"token\": full_vocab, \"logit\": utils.to_numpy(logit_vec)})\n",
        "    if make_probs:\n",
        "        vocab_df[\"log_prob\"] = utils.to_numpy(logit_vec.log_softmax(dim=-1))\n",
        "        vocab_df[\"prob\"] = utils.to_numpy(logit_vec.softmax(dim=-1))\n",
        "    return vocab_df.sort_values(\"logit\", ascending=False)"
      ]
    },
    {
      "cell_type": "markdown",
      "metadata": {
        "id": "ZqU0S8NcT-Aj"
      },
      "source": [
        "### Make Token DataFrame"
      ]
    },
    {
      "cell_type": "code",
      "execution_count": 8,
      "metadata": {
        "id": "ISRtTzfJT_x2"
      },
      "outputs": [],
      "source": [
        "def list_flatten(nested_list):\n",
        "    return [x for y in nested_list for x in y]\n",
        "def make_token_df(tokens, len_prefix=5, len_suffix=1):\n",
        "    str_tokens = [process_tokens(model.to_str_tokens(t)) for t in tokens]\n",
        "    unique_token = [[f\"{s}/{i}\" for i, s in enumerate(str_tok)] for str_tok in str_tokens]\n",
        "\n",
        "    context = []\n",
        "    batch = []\n",
        "    pos = []\n",
        "    label = []\n",
        "    for b in range(tokens.shape[0]):\n",
        "        # context.append([])\n",
        "        # batch.append([])\n",
        "        # pos.append([])\n",
        "        # label.append([])\n",
        "        for p in range(tokens.shape[1]):\n",
        "            prefix = \"\".join(str_tokens[b][max(0, p-len_prefix):p])\n",
        "            if p==tokens.shape[1]-1:\n",
        "                suffix = \"\"\n",
        "            else:\n",
        "                suffix = \"\".join(str_tokens[b][p+1:min(tokens.shape[1]-1, p+1+len_suffix)])\n",
        "            current = str_tokens[b][p]\n",
        "            context.append(f\"{prefix}|{current}|{suffix}\")\n",
        "            batch.append(b)\n",
        "            pos.append(p)\n",
        "            label.append(f\"{b}/{p}\")\n",
        "    # print(len(batch), len(pos), len(context), len(label))\n",
        "    return pd.DataFrame(dict(\n",
        "        str_tokens=list_flatten(str_tokens),\n",
        "        unique_token=list_flatten(unique_token),\n",
        "        context=context,\n",
        "        batch=batch,\n",
        "        pos=pos,\n",
        "        label=label,\n",
        "    ))"
      ]
    },
    {
      "cell_type": "markdown",
      "metadata": {
        "id": "riilpvs-CgoQ"
      },
      "source": [
        "## Loading the Model"
      ]
    },
    {
      "cell_type": "code",
      "execution_count": 9,
      "metadata": {
        "colab": {
          "base_uri": "https://localhost:8080/",
          "height": 212,
          "referenced_widgets": [
            "6afea295cb324522b28ecd9040f86b21",
            "f4e5d31d2b21475fabaa3c98eb47d31f",
            "8a8b04fdfe4b400489cf331b7493d258",
            "f346a95ca2324e429bc6ba49a1a1999a",
            "e0bb2d0642db4fef834560a57e6ec733",
            "5aed3e0bccd24d2688ec508a1bf4a8bc",
            "47dd81a428d74f0e9f0c5d77acb40e7d",
            "3e027ebedf9b49d092bdb011b137edb3",
            "22ddc68cd9d04ebaa4dee403f33583c9",
            "c04998a0ee0548d78fbe33ef72a23901",
            "37b8850d44bc4b9d9819079f56fa9921",
            "84d72d6cc00c48e48ec70ae98c81b6f3",
            "e67c8e408c274b5996309cac6154f0e3",
            "0124ab5c40e7458687e0f0b7d869e603",
            "928c1e7aaf8f44ac8760d39c7bef4657",
            "37c214a6ce4646c787f32cc9699d148e",
            "0569dbfe505b48e2adef1f2c764561ba",
            "94b8ca70660f451192a61fb9c27f2263",
            "dc0e6b496c9742839abffb791a7afcc2",
            "2e478b6ba6db46008a16dbf305cc7439",
            "6eedbefefb3344b09d87ae930782d79e",
            "975578216c6d4252a66d47064134915e",
            "91fdc24aa889468797314c3394164dbe",
            "0f08c07d7bb645a39e55c7b290ab1aaf",
            "c7c357ed33ce46a8a37022f321ff6ba2",
            "faef0771115a443595ec941d15a8d42c",
            "01cdaf6749e140f4bc2424f3e2de5f91",
            "61da91935d404a91a8932b968034bd84",
            "e69b0d838bf44ea5bf86b60c811efa95",
            "3d42216452274726a35dd588b86341bf",
            "40871289fe174fb688d388474a2cfeef",
            "d65f7ef8a6ab4545b5bd78e47638f07d",
            "19bd5fdeb81348ba923bff381b02aaec",
            "2e32f22ea38f47b7b80e1d78ac0ae62d",
            "942b697e76bc4d108371eb29e6456e3f",
            "6a8e1f179fff4e0b88b7ba1ae2ea9e14",
            "25243a97e7b548d1be5e22c1ea5cebd6",
            "dfc5e65329264906b1eae469287b826b",
            "7ef51705d7ff4bf1a9e604b2a853aa8d",
            "cdd727bf082744598cad5e39d219e276",
            "c374abbcb33f464b919e2e9014612f4a",
            "c8dc5b5fa64740d38d361295dc1f1f48",
            "a4ac310a05ae458d89e78c64ca6fb61f",
            "d2fa4a4d342948a68e5a18d2eb9cd6b4",
            "6d0964e190ac4b318c4a847fc731b9cc",
            "69be0541a37c445baee88e14f8dca24a",
            "8ee812449f8646bf9d78facc867afde0",
            "009c7da5712445bc9c37f8c1d35fd6bd",
            "85f4a4e4864b45cbae9d069f193b6360",
            "77d34365b2b7443d863689ae97325133",
            "0e1d451e298f487ea55efee30dbdeac7",
            "07f802314b9e4e44b1b2150d144a7b8a",
            "360a5973f8314c4c8152f3e8ad60ca2e",
            "5360edb02095451a9be9989feb1d43be",
            "d50f48bb69dc45c8b3bc0622a68db0a1"
          ]
        },
        "id": "_2LkEWyACgP8",
        "outputId": "16121e5e-7f43-4595-aa82-da5a9c232782"
      },
      "outputs": [
        {
          "data": {
            "application/vnd.jupyter.widget-view+json": {
              "model_id": "fc6670e504484aec9867fd1f0a60e9e9",
              "version_major": 2,
              "version_minor": 0
            },
            "text/plain": [
              "./model_final.pth:   0%|          | 0.00/213M [00:00<?, ?B/s]"
            ]
          },
          "metadata": {},
          "output_type": "display_data"
        },
        {
          "data": {
            "application/vnd.jupyter.widget-view+json": {
              "model_id": "225c5e86ab7746079d7be1fcf4191378",
              "version_major": 2,
              "version_minor": 0
            },
            "text/plain": [
              "tokenizer_config.json:   0%|          | 0.00/51.0 [00:00<?, ?B/s]"
            ]
          },
          "metadata": {},
          "output_type": "display_data"
        },
        {
          "data": {
            "application/vnd.jupyter.widget-view+json": {
              "model_id": "8f45ff7392894c3094bef7432d2bf210",
              "version_major": 2,
              "version_minor": 0
            },
            "text/plain": [
              "tokenizer.json: 0.00B [00:00, ?B/s]"
            ]
          },
          "metadata": {},
          "output_type": "display_data"
        },
        {
          "data": {
            "application/vnd.jupyter.widget-view+json": {
              "model_id": "e93e828d29da42d7baa15a3944710f54",
              "version_major": 2,
              "version_minor": 0
            },
            "text/plain": [
              "special_tokens_map.json:   0%|          | 0.00/81.0 [00:00<?, ?B/s]"
            ]
          },
          "metadata": {},
          "output_type": "display_data"
        },
        {
          "name": "stderr",
          "output_type": "stream",
          "text": [
            "huggingface/tokenizers: The current process just got forked, after parallelism has already been used. Disabling parallelism to avoid deadlocks...\n",
            "To disable this warning, you can either:\n",
            "\t- Avoid using `tokenizers` before the fork if possible\n",
            "\t- Explicitly set the environment variable TOKENIZERS_PARALLELISM=(true | false)\n",
            "huggingface/tokenizers: The current process just got forked, after parallelism has already been used. Disabling parallelism to avoid deadlocks...\n",
            "To disable this warning, you can either:\n",
            "\t- Avoid using `tokenizers` before the fork if possible\n",
            "\t- Explicitly set the environment variable TOKENIZERS_PARALLELISM=(true | false)\n"
          ]
        },
        {
          "name": "stdout",
          "output_type": "stream",
          "text": [
            "Loaded pretrained model gelu-1l into HookedTransformer\n",
            "Changing model dtype to torch.float32\n"
          ]
        }
      ],
      "source": [
        "model = HookedTransformer.from_pretrained(\"gelu-1l\").to(DTYPES[cfg[\"enc_dtype\"]])\n",
        "n_layers = model.cfg.n_layers\n",
        "d_model = model.cfg.d_model\n",
        "n_heads = model.cfg.n_heads\n",
        "d_head = model.cfg.d_head\n",
        "d_mlp = model.cfg.d_mlp\n",
        "d_vocab = model.cfg.d_vocab"
      ]
    },
    {
      "cell_type": "markdown",
      "metadata": {
        "id": "N3D_0qDmBY5K"
      },
      "source": [
        "## Loading Data"
      ]
    },
    {
      "cell_type": "code",
      "execution_count": 10,
      "metadata": {
        "colab": {
          "base_uri": "https://localhost:8080/",
          "height": 209,
          "referenced_widgets": [
            "e9b011cac93d4636b520785557fc4aa8",
            "b4d8fb8c60024a1a90fb2f5718524d91",
            "b5896ade476a4d5aa216d64ba7092c99",
            "c290e214643f44eb87797fd6a6d514f3",
            "877d9d7b85a6467f9dc8d4c125aa5a9d",
            "6e7a03e4dbb648fe9590465a21f4ec05",
            "ed939872e0a840159ff0fb7d55c6f7dc",
            "66b9ec04176b42ec8ba78fdbfea59ba3",
            "41ef1de6512b4edc8f05882a7efff800",
            "72c92c8e2b7146b2b12dd1651371e9f0",
            "958b12b6e3cc4fe49e8a8681158c19b8",
            "a46e3c9b14f8484ca1e89b7bd69605db",
            "ac34d3e7cd684ddb975b82338c803ec9",
            "b9cd142e7e5b4fff9f8e1e91e6ae6c52",
            "c72c60f1cbbd46059423983f7197c577",
            "5c58103e2fb749cbbab5e5a1b3a5d405",
            "0f7559bbac3740cdb99e6e56db5d7a09",
            "30494965c3fd4a959b6b6c83da6a0f27",
            "b0adc59ec8c344b3932372b979e2c0ff",
            "324071a3cfe748e68305fa099b700c6a",
            "38385d6c9ad64196a8c1fa1ec5f90227",
            "b4bf79dd989f4a3bbd2a6f4a62dd6ff9",
            "609f41f15b32401f8e55f8b793552f7d",
            "c892d460dd614503856de88bf4c41b24",
            "b3c204155fa94f0b8c0342e5d64a5dc5",
            "ec109ea08a4e457ca279a554a8536dfd",
            "a1c6a9369b9b420ab1495e61ef81853f",
            "98844d26bb7f477a84efd3cd405199e1",
            "37dd193c4cd74392adfc4ce09e506e69",
            "1b83bbfddac2409ab25c320f21eb4972",
            "fcadf0b612444a95a9636339e7b0eea9",
            "d7dc43bc40d7492abb753382f79360cb",
            "5f0d865300874d3787f4d303976b0f02",
            "f14a9c7ca4a042fa907e6b4b3a4feda7",
            "657da4e2116342889c06f51e8a22f021",
            "34d88189a7c74c94be791f25a78d2dea",
            "a7c86b6f250a47e584e76b48b7acb0a1",
            "4b476580071d424f866971cc529319da",
            "bd7b7bcac4c248d7afb8a009e5d7fd1c",
            "b0cf90e4ca974d8c98b3bfc82dad4e36",
            "705d537c067a44139a54c7eff75b893e",
            "1aae7e1320c9497a943a1dd019d8dbeb",
            "2e7e969a023043a0b62ea18624e2233d",
            "d70bc554aaea42dbbcad538f6c69e7ce",
            "2844ca97c5eb416b91a19bb1785fffb7",
            "ff155cdc671449db9a28e1fd282a06c6",
            "93cc6f0afe8342969eb9bf31efb7b056",
            "a29f83b57eec49d0aacb06dcc2350124",
            "aa2b71396bc94c728a8e0d808f0f3570",
            "be2fea8dc01a4bf7a2be2127f834b0a0",
            "fff405b6fc56479baceb3ec5716f9561",
            "3d40a74ed36148e6869aa8804009b422",
            "916f49ba8c754e9a83ae283bb7756707",
            "4b63db57ac264573b5632d7e756fe7bb",
            "a451c958f5ff40f9902bccaebf1757d7",
            "2be3726cfb0842e7ac334841dbcd9d1e",
            "63a280d05b7d4b6bbe1bc949a2b57d8d",
            "f69035c24d3349d7a07b9a301092b02e",
            "b1b4f6ab555b4fd2be52200652b2608e",
            "af72416e2f654d88a3d96c8b4c7c3922",
            "4cb9f497bc4342809f0bcf332de70a5c",
            "01d34dc8c30c4df8b23fbdfd3427dbf7",
            "31d3b3a63c5248268b40b731cc933a77",
            "a77a99e46bdd441281db18fd5389d89f",
            "39c643d3e8184286a01d40aad8ca26e5",
            "869f85a26ee6424ababe9138ce3cc2de"
          ]
        },
        "id": "2TiJcyRWF3wn",
        "outputId": "a21f6789-51e1-4e43-e949-2975b1437ac8"
      },
      "outputs": [
        {
          "data": {
            "application/vnd.jupyter.widget-view+json": {
              "model_id": "7bb7bc8e1fa34ded995a55875a332177",
              "version_major": 2,
              "version_minor": 0
            },
            "text/plain": [
              "README.md:   0%|          | 0.00/754 [00:00<?, ?B/s]"
            ]
          },
          "metadata": {},
          "output_type": "display_data"
        },
        {
          "data": {
            "application/vnd.jupyter.widget-view+json": {
              "model_id": "2221bb2d57104716a8ac74aef5f1bbdf",
              "version_major": 2,
              "version_minor": 0
            },
            "text/plain": [
              "data/train-00000-of-00001-97684e149eb4d6(…):   0%|          | 0.00/42.8M [00:00<?, ?B/s]"
            ]
          },
          "metadata": {},
          "output_type": "display_data"
        },
        {
          "data": {
            "application/vnd.jupyter.widget-view+json": {
              "model_id": "cc93e8b92d2544e59c389365dff9da9a",
              "version_major": 2,
              "version_minor": 0
            },
            "text/plain": [
              "Generating train split:   0%|          | 0/20000 [00:00<?, ? examples/s]"
            ]
          },
          "metadata": {},
          "output_type": "display_data"
        },
        {
          "data": {
            "application/vnd.jupyter.widget-view+json": {
              "model_id": "a4591a80353b45ea81b7f8214ad81a99",
              "version_major": 2,
              "version_minor": 0
            },
            "text/plain": [
              "Map (num_proc=10):   0%|          | 0/20000 [00:00<?, ? examples/s]"
            ]
          },
          "metadata": {},
          "output_type": "display_data"
        }
      ],
      "source": [
        "data = load_dataset(\"NeelNanda/c4-code-20k\", split=\"train\")\n",
        "tokenized_data = utils.tokenize_and_concatenate(data, model.tokenizer, max_length=128)\n",
        "tokenized_data = tokenized_data.shuffle(42)\n",
        "all_tokens = tokenized_data[\"tokens\"]"
      ]
    },
    {
      "cell_type": "markdown",
      "metadata": {
        "id": "MYrIYDEfBtbL"
      },
      "source": [
        "# Analysis"
      ]
    },
    {
      "cell_type": "markdown",
      "metadata": {
        "id": "3JfuCFyCFjGG"
      },
      "source": [
        "## Loading the Autoencoder\n",
        "\n",
        "There are two runs on separate random seeds, along with a bunch of intermediate checkpoints"
      ]
    },
    {
      "cell_type": "code",
      "execution_count": 11,
      "metadata": {
        "colab": {
          "base_uri": "https://localhost:8080/",
          "height": 341,
          "referenced_widgets": [
            "1ecbaecca5ea4d34816ba18c303e53d4",
            "a7923757619545f2beb85c258b4e12be",
            "b727375284c04542b992321e966473e1",
            "980b3ecdd6784f06a60edde548c28e87",
            "1ee4c2b07dd84341a87b01a42a71db6a",
            "90907ced12c54655bc1b1863a90dc081",
            "3ddd38d5d75c47628eb35e3a1d55d681",
            "a5e3fe0da81b4a7b9a8e1a8ee30d0b96",
            "30c93bd7cf0d4f0596cc54d630a96da2",
            "0860378535334db6a4120cf7be55fef4",
            "af92c00c21404b73a563ee9be3ebdaad",
            "57c9dc275c794f90b642bd4af341dcb8",
            "7b329dafc2db41d096b75fff14da8b74",
            "bfa7c56a70af47dda5f33e0a82f85a8c",
            "12c3debb4ab040998aea9813354adaa8",
            "b798a0cc17284c74b3d68d1af40128a4",
            "9bd54d66ec7b4d289bff2716f3a43c4f",
            "c6339ef0fc8c4b8b8f6b19b6005f3830",
            "cdaaa545ce974de7a2f74a0d9dab6a02",
            "3b90b9c7cea9468286a9f26c45bfb8d2",
            "a2628319d7934541ae9a8ecff70dfa57",
            "f5bcb4df22bc4472a8ec5983e00955f9"
          ]
        },
        "id": "Yyuf42IGFku3",
        "outputId": "5afff06e-528c-42db-a736-f0de8c1b7b93"
      },
      "outputs": [
        {
          "data": {
            "application/vnd.jupyter.widget-view+json": {
              "model_id": "7835a3c1f3914480b73621840e7c8be8",
              "version_major": 2,
              "version_minor": 0
            },
            "text/plain": [
              "25_cfg.json:   0%|          | 0.00/283 [00:00<?, ?B/s]"
            ]
          },
          "metadata": {},
          "output_type": "display_data"
        },
        {
          "name": "stdout",
          "output_type": "stream",
          "text": [
            "{'batch_size': 4096,\n",
            " 'beta1': 0.9,\n",
            " 'beta2': 0.99,\n",
            " 'buffer_batches': 12288,\n",
            " 'buffer_mult': 384,\n",
            " 'buffer_size': 1572864,\n",
            " 'd_mlp': 2048,\n",
            " 'dict_mult': 8,\n",
            " 'enc_dtype': 'fp32',\n",
            " 'l1_coeff': 0.0003,\n",
            " 'lr': 0.0001,\n",
            " 'model_batch_size': 512,\n",
            " 'num_tokens': 2000000000,\n",
            " 'seed': 52,\n",
            " 'seq_len': 128}\n"
          ]
        },
        {
          "data": {
            "application/vnd.jupyter.widget-view+json": {
              "model_id": "e5d9693cbb0c4a189a7ea5d887b6aecd",
              "version_major": 2,
              "version_minor": 0
            },
            "text/plain": [
              "./25.pt:   0%|          | 0.00/269M [00:00<?, ?B/s]"
            ]
          },
          "metadata": {},
          "output_type": "display_data"
        }
      ],
      "source": [
        "auto_encoder_run = \"run1\" # @param [\"run1\", \"run2\"]\n",
        "encoder = AutoEncoder.load_from_hf(auto_encoder_run)"
      ]
    },
    {
      "cell_type": "markdown",
      "metadata": {
        "id": "hmgJ6u2hBvLu"
      },
      "source": [
        "## Using the Autoencoder"
      ]
    },
    {
      "cell_type": "markdown",
      "metadata": {
        "id": "SP9qP-SiM0Sk"
      },
      "source": [
        "We run the model and replace the MLP activations with those reconstructed from the autoencoder, and get 91% loss recovered"
      ]
    },
    {
      "cell_type": "code",
      "execution_count": 12,
      "metadata": {
        "colab": {
          "base_uri": "https://localhost:8080/"
        },
        "id": "YWlP-98EBygL",
        "outputId": "47b67612-4ec1-4865-9ab0-bbb907684a2f"
      },
      "outputs": [
        {
          "name": "stdout",
          "output_type": "stream",
          "text": [
            "loss: 3.2546, recons_loss: 3.7507, zero_abl_loss: 8.8403\n",
            "Reconstruction Score: 91.12%\n"
          ]
        }
      ],
      "source": [
        "_ = get_recons_loss(num_batches=5, local_encoder=encoder)"
      ]
    },
    {
      "cell_type": "markdown",
      "metadata": {
        "id": "x9Iok8SZB4fg"
      },
      "source": [
        "## Rare Features Are All The Same"
      ]
    },
    {
      "cell_type": "markdown",
      "metadata": {
        "id": "skvpaPClM7Nb"
      },
      "source": [
        "For each feature we can get the frequency at which it's non-zero (per token, averaged across a bunch of batches), and plot a histogram"
      ]
    },
    {
      "cell_type": "code",
      "execution_count": 13,
      "metadata": {
        "colab": {
          "base_uri": "https://localhost:8080/",
          "height": 66,
          "referenced_widgets": [
            "3b9af725d6094c23943526189315fe4f",
            "d6b8373110964061a8b23dca466fd815",
            "d15957af734f40c3ade79a820f46e738",
            "99eb6d848c394327ad435ebac304b3bf",
            "0a84f24f4a884528b6815df631e62d0b",
            "3a67d311bc0f409e8aaf54fb84f7eee8",
            "f1dfb2044e93406cb37900ed1440ed5f",
            "4d03aadc3fcb4f128d329f124f4f8fec",
            "5bcd73f8820e46ba83ee5c0f576b5f18",
            "0d82018d445d4db0a92acdd050189171",
            "2e0cc66ed35b431fab7d15ffa55a79f2"
          ]
        },
        "id": "5SECGnWLNAlg",
        "outputId": "013bbbd2-7609-4e83-88dc-93289c03c621"
      },
      "outputs": [
        {
          "data": {
            "application/vnd.jupyter.widget-view+json": {
              "model_id": "9267483ff7d24a05bb42d9617ad86e24",
              "version_major": 2,
              "version_minor": 0
            },
            "text/plain": [
              "  0%|          | 0/50 [00:00<?, ?it/s]"
            ]
          },
          "metadata": {},
          "output_type": "display_data"
        },
        {
          "name": "stdout",
          "output_type": "stream",
          "text": [
            "Num dead tensor(0., device='cuda:0')\n"
          ]
        }
      ],
      "source": [
        "freqs = get_freqs(num_batches = 50, local_encoder = encoder)"
      ]
    },
    {
      "cell_type": "code",
      "execution_count": 14,
      "metadata": {
        "colab": {
          "base_uri": "https://localhost:8080/",
          "height": 542
        },
        "id": "_Zn7g7WgNTQD",
        "outputId": "861aec63-ab37-49ec-8834-fb87d71454e2"
      },
      "outputs": [
        {
          "data": {
            "application/vnd.plotly.v1+json": {
              "config": {
                "plotlyServerURL": "https://plot.ly"
              },
              "data": [
                {
                  "bingroup": "x",
                  "histnorm": "percent",
                  "hovertemplate": "variable=0<br>value=%{x}<br>percent=%{y}<extra></extra>",
                  "legendgroup": "0",
                  "marker": {
                    "color": "#636efa",
                    "pattern": {
                      "shape": ""
                    }
                  },
                  "name": "0",
                  "orientation": "v",
                  "showlegend": true,
                  "type": "histogram",
                  "x": {
                    "bdata": "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",
                    "dtype": "f4"
                  },
                  "xaxis": "x",
                  "yaxis": "y"
                }
              ],
              "layout": {
                "barmode": "relative",
                "legend": {
                  "title": {
                    "text": "variable"
                  },
                  "tracegroupgap": 0
                },
                "template": {
                  "data": {
                    "bar": [
                      {
                        "error_x": {
                          "color": "#2a3f5f"
                        },
                        "error_y": {
                          "color": "#2a3f5f"
                        },
                        "marker": {
                          "line": {
                            "color": "#E5ECF6",
                            "width": 0.5
                          },
                          "pattern": {
                            "fillmode": "overlay",
                            "size": 10,
                            "solidity": 0.2
                          }
                        },
                        "type": "bar"
                      }
                    ],
                    "barpolar": [
                      {
                        "marker": {
                          "line": {
                            "color": "#E5ECF6",
                            "width": 0.5
                          },
                          "pattern": {
                            "fillmode": "overlay",
                            "size": 10,
                            "solidity": 0.2
                          }
                        },
                        "type": "barpolar"
                      }
                    ],
                    "carpet": [
                      {
                        "aaxis": {
                          "endlinecolor": "#2a3f5f",
                          "gridcolor": "white",
                          "linecolor": "white",
                          "minorgridcolor": "white",
                          "startlinecolor": "#2a3f5f"
                        },
                        "baxis": {
                          "endlinecolor": "#2a3f5f",
                          "gridcolor": "white",
                          "linecolor": "white",
                          "minorgridcolor": "white",
                          "startlinecolor": "#2a3f5f"
                        },
                        "type": "carpet"
                      }
                    ],
                    "choropleth": [
                      {
                        "colorbar": {
                          "outlinewidth": 0,
                          "ticks": ""
                        },
                        "type": "choropleth"
                      }
                    ],
                    "contour": [
                      {
                        "colorbar": {
                          "outlinewidth": 0,
                          "ticks": ""
                        },
                        "colorscale": [
                          [
                            0,
                            "#0d0887"
                          ],
                          [
                            0.1111111111111111,
                            "#46039f"
                          ],
                          [
                            0.2222222222222222,
                            "#7201a8"
                          ],
                          [
                            0.3333333333333333,
                            "#9c179e"
                          ],
                          [
                            0.4444444444444444,
                            "#bd3786"
                          ],
                          [
                            0.5555555555555556,
                            "#d8576b"
                          ],
                          [
                            0.6666666666666666,
                            "#ed7953"
                          ],
                          [
                            0.7777777777777778,
                            "#fb9f3a"
                          ],
                          [
                            0.8888888888888888,
                            "#fdca26"
                          ],
                          [
                            1,
                            "#f0f921"
                          ]
                        ],
                        "type": "contour"
                      }
                    ],
                    "contourcarpet": [
                      {
                        "colorbar": {
                          "outlinewidth": 0,
                          "ticks": ""
                        },
                        "type": "contourcarpet"
                      }
                    ],
                    "heatmap": [
                      {
                        "colorbar": {
                          "outlinewidth": 0,
                          "ticks": ""
                        },
                        "colorscale": [
                          [
                            0,
                            "#0d0887"
                          ],
                          [
                            0.1111111111111111,
                            "#46039f"
                          ],
                          [
                            0.2222222222222222,
                            "#7201a8"
                          ],
                          [
                            0.3333333333333333,
                            "#9c179e"
                          ],
                          [
                            0.4444444444444444,
                            "#bd3786"
                          ],
                          [
                            0.5555555555555556,
                            "#d8576b"
                          ],
                          [
                            0.6666666666666666,
                            "#ed7953"
                          ],
                          [
                            0.7777777777777778,
                            "#fb9f3a"
                          ],
                          [
                            0.8888888888888888,
                            "#fdca26"
                          ],
                          [
                            1,
                            "#f0f921"
                          ]
                        ],
                        "type": "heatmap"
                      }
                    ],
                    "histogram": [
                      {
                        "marker": {
                          "pattern": {
                            "fillmode": "overlay",
                            "size": 10,
                            "solidity": 0.2
                          }
                        },
                        "type": "histogram"
                      }
                    ],
                    "histogram2d": [
                      {
                        "colorbar": {
                          "outlinewidth": 0,
                          "ticks": ""
                        },
                        "colorscale": [
                          [
                            0,
                            "#0d0887"
                          ],
                          [
                            0.1111111111111111,
                            "#46039f"
                          ],
                          [
                            0.2222222222222222,
                            "#7201a8"
                          ],
                          [
                            0.3333333333333333,
                            "#9c179e"
                          ],
                          [
                            0.4444444444444444,
                            "#bd3786"
                          ],
                          [
                            0.5555555555555556,
                            "#d8576b"
                          ],
                          [
                            0.6666666666666666,
                            "#ed7953"
                          ],
                          [
                            0.7777777777777778,
                            "#fb9f3a"
                          ],
                          [
                            0.8888888888888888,
                            "#fdca26"
                          ],
                          [
                            1,
                            "#f0f921"
                          ]
                        ],
                        "type": "histogram2d"
                      }
                    ],
                    "histogram2dcontour": [
                      {
                        "colorbar": {
                          "outlinewidth": 0,
                          "ticks": ""
                        },
                        "colorscale": [
                          [
                            0,
                            "#0d0887"
                          ],
                          [
                            0.1111111111111111,
                            "#46039f"
                          ],
                          [
                            0.2222222222222222,
                            "#7201a8"
                          ],
                          [
                            0.3333333333333333,
                            "#9c179e"
                          ],
                          [
                            0.4444444444444444,
                            "#bd3786"
                          ],
                          [
                            0.5555555555555556,
                            "#d8576b"
                          ],
                          [
                            0.6666666666666666,
                            "#ed7953"
                          ],
                          [
                            0.7777777777777778,
                            "#fb9f3a"
                          ],
                          [
                            0.8888888888888888,
                            "#fdca26"
                          ],
                          [
                            1,
                            "#f0f921"
                          ]
                        ],
                        "type": "histogram2dcontour"
                      }
                    ],
                    "mesh3d": [
                      {
                        "colorbar": {
                          "outlinewidth": 0,
                          "ticks": ""
                        },
                        "type": "mesh3d"
                      }
                    ],
                    "parcoords": [
                      {
                        "line": {
                          "colorbar": {
                            "outlinewidth": 0,
                            "ticks": ""
                          }
                        },
                        "type": "parcoords"
                      }
                    ],
                    "pie": [
                      {
                        "automargin": true,
                        "type": "pie"
                      }
                    ],
                    "scatter": [
                      {
                        "fillpattern": {
                          "fillmode": "overlay",
                          "size": 10,
                          "solidity": 0.2
                        },
                        "type": "scatter"
                      }
                    ],
                    "scatter3d": [
                      {
                        "line": {
                          "colorbar": {
                            "outlinewidth": 0,
                            "ticks": ""
                          }
                        },
                        "marker": {
                          "colorbar": {
                            "outlinewidth": 0,
                            "ticks": ""
                          }
                        },
                        "type": "scatter3d"
                      }
                    ],
                    "scattercarpet": [
                      {
                        "marker": {
                          "colorbar": {
                            "outlinewidth": 0,
                            "ticks": ""
                          }
                        },
                        "type": "scattercarpet"
                      }
                    ],
                    "scattergeo": [
                      {
                        "marker": {
                          "colorbar": {
                            "outlinewidth": 0,
                            "ticks": ""
                          }
                        },
                        "type": "scattergeo"
                      }
                    ],
                    "scattergl": [
                      {
                        "marker": {
                          "colorbar": {
                            "outlinewidth": 0,
                            "ticks": ""
                          }
                        },
                        "type": "scattergl"
                      }
                    ],
                    "scattermap": [
                      {
                        "marker": {
                          "colorbar": {
                            "outlinewidth": 0,
                            "ticks": ""
                          }
                        },
                        "type": "scattermap"
                      }
                    ],
                    "scattermapbox": [
                      {
                        "marker": {
                          "colorbar": {
                            "outlinewidth": 0,
                            "ticks": ""
                          }
                        },
                        "type": "scattermapbox"
                      }
                    ],
                    "scatterpolar": [
                      {
                        "marker": {
                          "colorbar": {
                            "outlinewidth": 0,
                            "ticks": ""
                          }
                        },
                        "type": "scatterpolar"
                      }
                    ],
                    "scatterpolargl": [
                      {
                        "marker": {
                          "colorbar": {
                            "outlinewidth": 0,
                            "ticks": ""
                          }
                        },
                        "type": "scatterpolargl"
                      }
                    ],
                    "scatterternary": [
                      {
                        "marker": {
                          "colorbar": {
                            "outlinewidth": 0,
                            "ticks": ""
                          }
                        },
                        "type": "scatterternary"
                      }
                    ],
                    "surface": [
                      {
                        "colorbar": {
                          "outlinewidth": 0,
                          "ticks": ""
                        },
                        "colorscale": [
                          [
                            0,
                            "#0d0887"
                          ],
                          [
                            0.1111111111111111,
                            "#46039f"
                          ],
                          [
                            0.2222222222222222,
                            "#7201a8"
                          ],
                          [
                            0.3333333333333333,
                            "#9c179e"
                          ],
                          [
                            0.4444444444444444,
                            "#bd3786"
                          ],
                          [
                            0.5555555555555556,
                            "#d8576b"
                          ],
                          [
                            0.6666666666666666,
                            "#ed7953"
                          ],
                          [
                            0.7777777777777778,
                            "#fb9f3a"
                          ],
                          [
                            0.8888888888888888,
                            "#fdca26"
                          ],
                          [
                            1,
                            "#f0f921"
                          ]
                        ],
                        "type": "surface"
                      }
                    ],
                    "table": [
                      {
                        "cells": {
                          "fill": {
                            "color": "#EBF0F8"
                          },
                          "line": {
                            "color": "white"
                          }
                        },
                        "header": {
                          "fill": {
                            "color": "#C8D4E3"
                          },
                          "line": {
                            "color": "white"
                          }
                        },
                        "type": "table"
                      }
                    ]
                  },
                  "layout": {
                    "annotationdefaults": {
                      "arrowcolor": "#2a3f5f",
                      "arrowhead": 0,
                      "arrowwidth": 1
                    },
                    "autotypenumbers": "strict",
                    "coloraxis": {
                      "colorbar": {
                        "outlinewidth": 0,
                        "ticks": ""
                      }
                    },
                    "colorscale": {
                      "diverging": [
                        [
                          0,
                          "#8e0152"
                        ],
                        [
                          0.1,
                          "#c51b7d"
                        ],
                        [
                          0.2,
                          "#de77ae"
                        ],
                        [
                          0.3,
                          "#f1b6da"
                        ],
                        [
                          0.4,
                          "#fde0ef"
                        ],
                        [
                          0.5,
                          "#f7f7f7"
                        ],
                        [
                          0.6,
                          "#e6f5d0"
                        ],
                        [
                          0.7,
                          "#b8e186"
                        ],
                        [
                          0.8,
                          "#7fbc41"
                        ],
                        [
                          0.9,
                          "#4d9221"
                        ],
                        [
                          1,
                          "#276419"
                        ]
                      ],
                      "sequential": [
                        [
                          0,
                          "#0d0887"
                        ],
                        [
                          0.1111111111111111,
                          "#46039f"
                        ],
                        [
                          0.2222222222222222,
                          "#7201a8"
                        ],
                        [
                          0.3333333333333333,
                          "#9c179e"
                        ],
                        [
                          0.4444444444444444,
                          "#bd3786"
                        ],
                        [
                          0.5555555555555556,
                          "#d8576b"
                        ],
                        [
                          0.6666666666666666,
                          "#ed7953"
                        ],
                        [
                          0.7777777777777778,
                          "#fb9f3a"
                        ],
                        [
                          0.8888888888888888,
                          "#fdca26"
                        ],
                        [
                          1,
                          "#f0f921"
                        ]
                      ],
                      "sequentialminus": [
                        [
                          0,
                          "#0d0887"
                        ],
                        [
                          0.1111111111111111,
                          "#46039f"
                        ],
                        [
                          0.2222222222222222,
                          "#7201a8"
                        ],
                        [
                          0.3333333333333333,
                          "#9c179e"
                        ],
                        [
                          0.4444444444444444,
                          "#bd3786"
                        ],
                        [
                          0.5555555555555556,
                          "#d8576b"
                        ],
                        [
                          0.6666666666666666,
                          "#ed7953"
                        ],
                        [
                          0.7777777777777778,
                          "#fb9f3a"
                        ],
                        [
                          0.8888888888888888,
                          "#fdca26"
                        ],
                        [
                          1,
                          "#f0f921"
                        ]
                      ]
                    },
                    "colorway": [
                      "#636efa",
                      "#EF553B",
                      "#00cc96",
                      "#ab63fa",
                      "#FFA15A",
                      "#19d3f3",
                      "#FF6692",
                      "#B6E880",
                      "#FF97FF",
                      "#FECB52"
                    ],
                    "font": {
                      "color": "#2a3f5f"
                    },
                    "geo": {
                      "bgcolor": "white",
                      "lakecolor": "white",
                      "landcolor": "#E5ECF6",
                      "showlakes": true,
                      "showland": true,
                      "subunitcolor": "white"
                    },
                    "hoverlabel": {
                      "align": "left"
                    },
                    "hovermode": "closest",
                    "mapbox": {
                      "style": "light"
                    },
                    "paper_bgcolor": "white",
                    "plot_bgcolor": "#E5ECF6",
                    "polar": {
                      "angularaxis": {
                        "gridcolor": "white",
                        "linecolor": "white",
                        "ticks": ""
                      },
                      "bgcolor": "#E5ECF6",
                      "radialaxis": {
                        "gridcolor": "white",
                        "linecolor": "white",
                        "ticks": ""
                      }
                    },
                    "scene": {
                      "xaxis": {
                        "backgroundcolor": "#E5ECF6",
                        "gridcolor": "white",
                        "gridwidth": 2,
                        "linecolor": "white",
                        "showbackground": true,
                        "ticks": "",
                        "zerolinecolor": "white"
                      },
                      "yaxis": {
                        "backgroundcolor": "#E5ECF6",
                        "gridcolor": "white",
                        "gridwidth": 2,
                        "linecolor": "white",
                        "showbackground": true,
                        "ticks": "",
                        "zerolinecolor": "white"
                      },
                      "zaxis": {
                        "backgroundcolor": "#E5ECF6",
                        "gridcolor": "white",
                        "gridwidth": 2,
                        "linecolor": "white",
                        "showbackground": true,
                        "ticks": "",
                        "zerolinecolor": "white"
                      }
                    },
                    "shapedefaults": {
                      "line": {
                        "color": "#2a3f5f"
                      }
                    },
                    "ternary": {
                      "aaxis": {
                        "gridcolor": "white",
                        "linecolor": "white",
                        "ticks": ""
                      },
                      "baxis": {
                        "gridcolor": "white",
                        "linecolor": "white",
                        "ticks": ""
                      },
                      "bgcolor": "#E5ECF6",
                      "caxis": {
                        "gridcolor": "white",
                        "linecolor": "white",
                        "ticks": ""
                      }
                    },
                    "title": {
                      "x": 0.05
                    },
                    "xaxis": {
                      "automargin": true,
                      "gridcolor": "white",
                      "linecolor": "white",
                      "ticks": "",
                      "title": {
                        "standoff": 15
                      },
                      "zerolinecolor": "white",
                      "zerolinewidth": 2
                    },
                    "yaxis": {
                      "automargin": true,
                      "gridcolor": "white",
                      "linecolor": "white",
                      "ticks": "",
                      "title": {
                        "standoff": 15
                      },
                      "zerolinecolor": "white",
                      "zerolinewidth": 2
                    }
                  }
                },
                "title": {
                  "text": "Log Frequency of Features"
                },
                "xaxis": {
                  "anchor": "y",
                  "domain": [
                    0,
                    1
                  ],
                  "title": {
                    "text": "value"
                  }
                },
                "yaxis": {
                  "anchor": "x",
                  "domain": [
                    0,
                    1
                  ],
                  "title": {
                    "text": "percent"
                  }
                }
              }
            }
          },
          "metadata": {},
          "output_type": "display_data"
        }
      ],
      "source": [
        "# Add 1e-6.5 so that dead features show up as log_freq -6.5\n",
        "log_freq = (freqs + 10**-6.5).log10()\n",
        "px.histogram(utils.to_numpy(log_freq), title=\"Log Frequency of Features\", histnorm='percent')"
      ]
    },
    {
      "cell_type": "markdown",
      "metadata": {
        "id": "c612eWjYNpdv"
      },
      "source": [
        "We see that it's clearly bimodal! Let's define rare features as those with freq < 1e-4, and look at the cosine sim of each feature with the average rare feature - we see that almost all rare features correspond to this feature!"
      ]
    },
    {
      "cell_type": "code",
      "execution_count": 15,
      "metadata": {
        "colab": {
          "base_uri": "https://localhost:8080/",
          "height": 542
        },
        "id": "GbM9UZsJN0Uy",
        "outputId": "1abfd558-b7b3-4da6-b8de-24aac49d2242"
      },
      "outputs": [
        {
          "data": {
            "application/vnd.plotly.v1+json": {
              "config": {
                "plotlyServerURL": "https://plot.ly"
              },
              "data": [
                {
                  "bingroup": "x",
                  "histnorm": "percent",
                  "hovertemplate": "is_rare=True<br>cosine_sim=%{x}<br>percent=%{y}<extra></extra>",
                  "legendgroup": "True",
                  "marker": {
                    "color": "#636efa",
                    "opacity": 0.5,
                    "pattern": {
                      "shape": ""
                    }
                  },
                  "name": "True",
                  "orientation": "v",
                  "showlegend": true,
                  "type": "histogram",
                  "x": {
                    "bdata": "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",
                    "dtype": "f4"
                  },
                  "xaxis": "x",
                  "yaxis": "y"
                },
                {
                  "hovertemplate": "is_rare=True<br>cosine_sim=%{x}<extra></extra>",
                  "legendgroup": "True",
                  "marker": {
                    "color": "#636efa"
                  },
                  "name": "True",
                  "notched": true,
                  "showlegend": false,
                  "type": "box",
                  "x": {
                    "bdata": "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",
                    "dtype": "f4"
                  },
                  "xaxis": "x2",
                  "yaxis": "y2"
                },
                {
                  "bingroup": "x",
                  "histnorm": "percent",
                  "hovertemplate": "is_rare=False<br>cosine_sim=%{x}<br>percent=%{y}<extra></extra>",
                  "legendgroup": "False",
                  "marker": {
                    "color": "#EF553B",
                    "opacity": 0.5,
                    "pattern": {
                      "shape": ""
                    }
                  },
                  "name": "False",
                  "orientation": "v",
                  "showlegend": true,
                  "type": "histogram",
                  "x": {
                    "bdata": "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",
                    "dtype": "f4"
                  },
                  "xaxis": "x",
                  "yaxis": "y"
                },
                {
                  "hovertemplate": "is_rare=False<br>cosine_sim=%{x}<extra></extra>",
                  "legendgroup": "False",
                  "marker": {
                    "color": "#EF553B"
                  },
                  "name": "False",
                  "notched": true,
                  "showlegend": false,
                  "type": "box",
                  "x": {
                    "bdata": "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",
                    "dtype": "f4"
                  },
                  "xaxis": "x2",
                  "yaxis": "y2"
                }
              ],
              "layout": {
                "barmode": "overlay",
                "legend": {
                  "title": {
                    "text": "is_rare"
                  },
                  "tracegroupgap": 0
                },
                "template": {
                  "data": {
                    "bar": [
                      {
                        "error_x": {
                          "color": "#2a3f5f"
                        },
                        "error_y": {
                          "color": "#2a3f5f"
                        },
                        "marker": {
                          "line": {
                            "color": "#E5ECF6",
                            "width": 0.5
                          },
                          "pattern": {
                            "fillmode": "overlay",
                            "size": 10,
                            "solidity": 0.2
                          }
                        },
                        "type": "bar"
                      }
                    ],
                    "barpolar": [
                      {
                        "marker": {
                          "line": {
                            "color": "#E5ECF6",
                            "width": 0.5
                          },
                          "pattern": {
                            "fillmode": "overlay",
                            "size": 10,
                            "solidity": 0.2
                          }
                        },
                        "type": "barpolar"
                      }
                    ],
                    "carpet": [
                      {
                        "aaxis": {
                          "endlinecolor": "#2a3f5f",
                          "gridcolor": "white",
                          "linecolor": "white",
                          "minorgridcolor": "white",
                          "startlinecolor": "#2a3f5f"
                        },
                        "baxis": {
                          "endlinecolor": "#2a3f5f",
                          "gridcolor": "white",
                          "linecolor": "white",
                          "minorgridcolor": "white",
                          "startlinecolor": "#2a3f5f"
                        },
                        "type": "carpet"
                      }
                    ],
                    "choropleth": [
                      {
                        "colorbar": {
                          "outlinewidth": 0,
                          "ticks": ""
                        },
                        "type": "choropleth"
                      }
                    ],
                    "contour": [
                      {
                        "colorbar": {
                          "outlinewidth": 0,
                          "ticks": ""
                        },
                        "colorscale": [
                          [
                            0,
                            "#0d0887"
                          ],
                          [
                            0.1111111111111111,
                            "#46039f"
                          ],
                          [
                            0.2222222222222222,
                            "#7201a8"
                          ],
                          [
                            0.3333333333333333,
                            "#9c179e"
                          ],
                          [
                            0.4444444444444444,
                            "#bd3786"
                          ],
                          [
                            0.5555555555555556,
                            "#d8576b"
                          ],
                          [
                            0.6666666666666666,
                            "#ed7953"
                          ],
                          [
                            0.7777777777777778,
                            "#fb9f3a"
                          ],
                          [
                            0.8888888888888888,
                            "#fdca26"
                          ],
                          [
                            1,
                            "#f0f921"
                          ]
                        ],
                        "type": "contour"
                      }
                    ],
                    "contourcarpet": [
                      {
                        "colorbar": {
                          "outlinewidth": 0,
                          "ticks": ""
                        },
                        "type": "contourcarpet"
                      }
                    ],
                    "heatmap": [
                      {
                        "colorbar": {
                          "outlinewidth": 0,
                          "ticks": ""
                        },
                        "colorscale": [
                          [
                            0,
                            "#0d0887"
                          ],
                          [
                            0.1111111111111111,
                            "#46039f"
                          ],
                          [
                            0.2222222222222222,
                            "#7201a8"
                          ],
                          [
                            0.3333333333333333,
                            "#9c179e"
                          ],
                          [
                            0.4444444444444444,
                            "#bd3786"
                          ],
                          [
                            0.5555555555555556,
                            "#d8576b"
                          ],
                          [
                            0.6666666666666666,
                            "#ed7953"
                          ],
                          [
                            0.7777777777777778,
                            "#fb9f3a"
                          ],
                          [
                            0.8888888888888888,
                            "#fdca26"
                          ],
                          [
                            1,
                            "#f0f921"
                          ]
                        ],
                        "type": "heatmap"
                      }
                    ],
                    "histogram": [
                      {
                        "marker": {
                          "pattern": {
                            "fillmode": "overlay",
                            "size": 10,
                            "solidity": 0.2
                          }
                        },
                        "type": "histogram"
                      }
                    ],
                    "histogram2d": [
                      {
                        "colorbar": {
                          "outlinewidth": 0,
                          "ticks": ""
                        },
                        "colorscale": [
                          [
                            0,
                            "#0d0887"
                          ],
                          [
                            0.1111111111111111,
                            "#46039f"
                          ],
                          [
                            0.2222222222222222,
                            "#7201a8"
                          ],
                          [
                            0.3333333333333333,
                            "#9c179e"
                          ],
                          [
                            0.4444444444444444,
                            "#bd3786"
                          ],
                          [
                            0.5555555555555556,
                            "#d8576b"
                          ],
                          [
                            0.6666666666666666,
                            "#ed7953"
                          ],
                          [
                            0.7777777777777778,
                            "#fb9f3a"
                          ],
                          [
                            0.8888888888888888,
                            "#fdca26"
                          ],
                          [
                            1,
                            "#f0f921"
                          ]
                        ],
                        "type": "histogram2d"
                      }
                    ],
                    "histogram2dcontour": [
                      {
                        "colorbar": {
                          "outlinewidth": 0,
                          "ticks": ""
                        },
                        "colorscale": [
                          [
                            0,
                            "#0d0887"
                          ],
                          [
                            0.1111111111111111,
                            "#46039f"
                          ],
                          [
                            0.2222222222222222,
                            "#7201a8"
                          ],
                          [
                            0.3333333333333333,
                            "#9c179e"
                          ],
                          [
                            0.4444444444444444,
                            "#bd3786"
                          ],
                          [
                            0.5555555555555556,
                            "#d8576b"
                          ],
                          [
                            0.6666666666666666,
                            "#ed7953"
                          ],
                          [
                            0.7777777777777778,
                            "#fb9f3a"
                          ],
                          [
                            0.8888888888888888,
                            "#fdca26"
                          ],
                          [
                            1,
                            "#f0f921"
                          ]
                        ],
                        "type": "histogram2dcontour"
                      }
                    ],
                    "mesh3d": [
                      {
                        "colorbar": {
                          "outlinewidth": 0,
                          "ticks": ""
                        },
                        "type": "mesh3d"
                      }
                    ],
                    "parcoords": [
                      {
                        "line": {
                          "colorbar": {
                            "outlinewidth": 0,
                            "ticks": ""
                          }
                        },
                        "type": "parcoords"
                      }
                    ],
                    "pie": [
                      {
                        "automargin": true,
                        "type": "pie"
                      }
                    ],
                    "scatter": [
                      {
                        "fillpattern": {
                          "fillmode": "overlay",
                          "size": 10,
                          "solidity": 0.2
                        },
                        "type": "scatter"
                      }
                    ],
                    "scatter3d": [
                      {
                        "line": {
                          "colorbar": {
                            "outlinewidth": 0,
                            "ticks": ""
                          }
                        },
                        "marker": {
                          "colorbar": {
                            "outlinewidth": 0,
                            "ticks": ""
                          }
                        },
                        "type": "scatter3d"
                      }
                    ],
                    "scattercarpet": [
                      {
                        "marker": {
                          "colorbar": {
                            "outlinewidth": 0,
                            "ticks": ""
                          }
                        },
                        "type": "scattercarpet"
                      }
                    ],
                    "scattergeo": [
                      {
                        "marker": {
                          "colorbar": {
                            "outlinewidth": 0,
                            "ticks": ""
                          }
                        },
                        "type": "scattergeo"
                      }
                    ],
                    "scattergl": [
                      {
                        "marker": {
                          "colorbar": {
                            "outlinewidth": 0,
                            "ticks": ""
                          }
                        },
                        "type": "scattergl"
                      }
                    ],
                    "scattermap": [
                      {
                        "marker": {
                          "colorbar": {
                            "outlinewidth": 0,
                            "ticks": ""
                          }
                        },
                        "type": "scattermap"
                      }
                    ],
                    "scattermapbox": [
                      {
                        "marker": {
                          "colorbar": {
                            "outlinewidth": 0,
                            "ticks": ""
                          }
                        },
                        "type": "scattermapbox"
                      }
                    ],
                    "scatterpolar": [
                      {
                        "marker": {
                          "colorbar": {
                            "outlinewidth": 0,
                            "ticks": ""
                          }
                        },
                        "type": "scatterpolar"
                      }
                    ],
                    "scatterpolargl": [
                      {
                        "marker": {
                          "colorbar": {
                            "outlinewidth": 0,
                            "ticks": ""
                          }
                        },
                        "type": "scatterpolargl"
                      }
                    ],
                    "scatterternary": [
                      {
                        "marker": {
                          "colorbar": {
                            "outlinewidth": 0,
                            "ticks": ""
                          }
                        },
                        "type": "scatterternary"
                      }
                    ],
                    "surface": [
                      {
                        "colorbar": {
                          "outlinewidth": 0,
                          "ticks": ""
                        },
                        "colorscale": [
                          [
                            0,
                            "#0d0887"
                          ],
                          [
                            0.1111111111111111,
                            "#46039f"
                          ],
                          [
                            0.2222222222222222,
                            "#7201a8"
                          ],
                          [
                            0.3333333333333333,
                            "#9c179e"
                          ],
                          [
                            0.4444444444444444,
                            "#bd3786"
                          ],
                          [
                            0.5555555555555556,
                            "#d8576b"
                          ],
                          [
                            0.6666666666666666,
                            "#ed7953"
                          ],
                          [
                            0.7777777777777778,
                            "#fb9f3a"
                          ],
                          [
                            0.8888888888888888,
                            "#fdca26"
                          ],
                          [
                            1,
                            "#f0f921"
                          ]
                        ],
                        "type": "surface"
                      }
                    ],
                    "table": [
                      {
                        "cells": {
                          "fill": {
                            "color": "#EBF0F8"
                          },
                          "line": {
                            "color": "white"
                          }
                        },
                        "header": {
                          "fill": {
                            "color": "#C8D4E3"
                          },
                          "line": {
                            "color": "white"
                          }
                        },
                        "type": "table"
                      }
                    ]
                  },
                  "layout": {
                    "annotationdefaults": {
                      "arrowcolor": "#2a3f5f",
                      "arrowhead": 0,
                      "arrowwidth": 1
                    },
                    "autotypenumbers": "strict",
                    "coloraxis": {
                      "colorbar": {
                        "outlinewidth": 0,
                        "ticks": ""
                      }
                    },
                    "colorscale": {
                      "diverging": [
                        [
                          0,
                          "#8e0152"
                        ],
                        [
                          0.1,
                          "#c51b7d"
                        ],
                        [
                          0.2,
                          "#de77ae"
                        ],
                        [
                          0.3,
                          "#f1b6da"
                        ],
                        [
                          0.4,
                          "#fde0ef"
                        ],
                        [
                          0.5,
                          "#f7f7f7"
                        ],
                        [
                          0.6,
                          "#e6f5d0"
                        ],
                        [
                          0.7,
                          "#b8e186"
                        ],
                        [
                          0.8,
                          "#7fbc41"
                        ],
                        [
                          0.9,
                          "#4d9221"
                        ],
                        [
                          1,
                          "#276419"
                        ]
                      ],
                      "sequential": [
                        [
                          0,
                          "#0d0887"
                        ],
                        [
                          0.1111111111111111,
                          "#46039f"
                        ],
                        [
                          0.2222222222222222,
                          "#7201a8"
                        ],
                        [
                          0.3333333333333333,
                          "#9c179e"
                        ],
                        [
                          0.4444444444444444,
                          "#bd3786"
                        ],
                        [
                          0.5555555555555556,
                          "#d8576b"
                        ],
                        [
                          0.6666666666666666,
                          "#ed7953"
                        ],
                        [
                          0.7777777777777778,
                          "#fb9f3a"
                        ],
                        [
                          0.8888888888888888,
                          "#fdca26"
                        ],
                        [
                          1,
                          "#f0f921"
                        ]
                      ],
                      "sequentialminus": [
                        [
                          0,
                          "#0d0887"
                        ],
                        [
                          0.1111111111111111,
                          "#46039f"
                        ],
                        [
                          0.2222222222222222,
                          "#7201a8"
                        ],
                        [
                          0.3333333333333333,
                          "#9c179e"
                        ],
                        [
                          0.4444444444444444,
                          "#bd3786"
                        ],
                        [
                          0.5555555555555556,
                          "#d8576b"
                        ],
                        [
                          0.6666666666666666,
                          "#ed7953"
                        ],
                        [
                          0.7777777777777778,
                          "#fb9f3a"
                        ],
                        [
                          0.8888888888888888,
                          "#fdca26"
                        ],
                        [
                          1,
                          "#f0f921"
                        ]
                      ]
                    },
                    "colorway": [
                      "#636efa",
                      "#EF553B",
                      "#00cc96",
                      "#ab63fa",
                      "#FFA15A",
                      "#19d3f3",
                      "#FF6692",
                      "#B6E880",
                      "#FF97FF",
                      "#FECB52"
                    ],
                    "font": {
                      "color": "#2a3f5f"
                    },
                    "geo": {
                      "bgcolor": "white",
                      "lakecolor": "white",
                      "landcolor": "#E5ECF6",
                      "showlakes": true,
                      "showland": true,
                      "subunitcolor": "white"
                    },
                    "hoverlabel": {
                      "align": "left"
                    },
                    "hovermode": "closest",
                    "mapbox": {
                      "style": "light"
                    },
                    "paper_bgcolor": "white",
                    "plot_bgcolor": "#E5ECF6",
                    "polar": {
                      "angularaxis": {
                        "gridcolor": "white",
                        "linecolor": "white",
                        "ticks": ""
                      },
                      "bgcolor": "#E5ECF6",
                      "radialaxis": {
                        "gridcolor": "white",
                        "linecolor": "white",
                        "ticks": ""
                      }
                    },
                    "scene": {
                      "xaxis": {
                        "backgroundcolor": "#E5ECF6",
                        "gridcolor": "white",
                        "gridwidth": 2,
                        "linecolor": "white",
                        "showbackground": true,
                        "ticks": "",
                        "zerolinecolor": "white"
                      },
                      "yaxis": {
                        "backgroundcolor": "#E5ECF6",
                        "gridcolor": "white",
                        "gridwidth": 2,
                        "linecolor": "white",
                        "showbackground": true,
                        "ticks": "",
                        "zerolinecolor": "white"
                      },
                      "zaxis": {
                        "backgroundcolor": "#E5ECF6",
                        "gridcolor": "white",
                        "gridwidth": 2,
                        "linecolor": "white",
                        "showbackground": true,
                        "ticks": "",
                        "zerolinecolor": "white"
                      }
                    },
                    "shapedefaults": {
                      "line": {
                        "color": "#2a3f5f"
                      }
                    },
                    "ternary": {
                      "aaxis": {
                        "gridcolor": "white",
                        "linecolor": "white",
                        "ticks": ""
                      },
                      "baxis": {
                        "gridcolor": "white",
                        "linecolor": "white",
                        "ticks": ""
                      },
                      "bgcolor": "#E5ECF6",
                      "caxis": {
                        "gridcolor": "white",
                        "linecolor": "white",
                        "ticks": ""
                      }
                    },
                    "title": {
                      "x": 0.05
                    },
                    "xaxis": {
                      "automargin": true,
                      "gridcolor": "white",
                      "linecolor": "white",
                      "ticks": "",
                      "title": {
                        "standoff": 15
                      },
                      "zerolinecolor": "white",
                      "zerolinewidth": 2
                    },
                    "yaxis": {
                      "automargin": true,
                      "gridcolor": "white",
                      "linecolor": "white",
                      "ticks": "",
                      "title": {
                        "standoff": 15
                      },
                      "zerolinecolor": "white",
                      "zerolinewidth": 2
                    }
                  }
                },
                "title": {
                  "text": "Cosine Sim with Ave Rare Feature"
                },
                "xaxis": {
                  "anchor": "y",
                  "domain": [
                    0,
                    1
                  ],
                  "title": {
                    "text": "cosine_sim"
                  }
                },
                "xaxis2": {
                  "anchor": "y2",
                  "domain": [
                    0,
                    1
                  ],
                  "matches": "x",
                  "showgrid": true,
                  "showticklabels": false
                },
                "yaxis": {
                  "anchor": "x",
                  "domain": [
                    0,
                    0.7326
                  ],
                  "title": {
                    "text": "percent"
                  }
                },
                "yaxis2": {
                  "anchor": "x2",
                  "domain": [
                    0.7426,
                    1
                  ],
                  "matches": "y2",
                  "showgrid": false,
                  "showline": false,
                  "showticklabels": false,
                  "ticks": ""
                }
              }
            }
          },
          "metadata": {},
          "output_type": "display_data"
        }
      ],
      "source": [
        "is_rare = freqs < 1e-4\n",
        "rare_enc = encoder.W_enc[:, is_rare]\n",
        "rare_mean = rare_enc.mean(-1)\n",
        "px.histogram(utils.to_numpy(rare_mean @ encoder.W_enc / rare_mean.norm() / encoder.W_enc.norm(dim=0)), title=\"Cosine Sim with Ave Rare Feature\", color=utils.to_numpy(is_rare), labels={\"color\": \"is_rare\", \"count\": \"percent\", \"value\": \"cosine_sim\"}, marginal=\"box\", histnorm=\"percent\", barmode='overlay')"
      ]
    },
    {
      "cell_type": "markdown",
      "metadata": {
        "id": "eZCqUIB9Bzx_"
      },
      "source": [
        "## Interpreting A Feature"
      ]
    },
    {
      "cell_type": "markdown",
      "metadata": {
        "id": "3m_u8-zXRW2J"
      },
      "source": [
        "Let's go and investigate a non rare feature, feature 7"
      ]
    },
    {
      "cell_type": "code",
      "execution_count": 16,
      "metadata": {
        "colab": {
          "base_uri": "https://localhost:8080/"
        },
        "id": "_HrsTqVIUKC0",
        "outputId": "4ca6af7e-b43f-49e1-aafc-bf187e017874"
      },
      "outputs": [
        {
          "name": "stdout",
          "output_type": "stream",
          "text": [
            "Feature freq: 0.0029\n"
          ]
        }
      ],
      "source": [
        "feature_id = 7 # @param {type:\"number\"}\n",
        "batch_size = 128 # @param {type:\"number\"}\n",
        "\n",
        "print(f\"Feature freq: {freqs[7].item():.4f}\")"
      ]
    },
    {
      "cell_type": "markdown",
      "metadata": {
        "id": "AYoGLyl2VpA-"
      },
      "source": [
        "Let's run the model on some text and then use the autoencoder to process the MLP activations"
      ]
    },
    {
      "cell_type": "code",
      "execution_count": 17,
      "metadata": {
        "colab": {
          "base_uri": "https://localhost:8080/"
        },
        "id": "TBKY9P_PULJs",
        "outputId": "90cd4f3c-12ff-4869-8915-dc62420958f4"
      },
      "outputs": [
        {
          "name": "stdout",
          "output_type": "stream",
          "text": [
            "hidden_acts.shape torch.Size([16384, 16384])\n"
          ]
        }
      ],
      "source": [
        "tokens = all_tokens[:batch_size]\n",
        "_, cache = model.run_with_cache(tokens, stop_at_layer=1, names_filter=utils.get_act_name(\"post\", 0))\n",
        "mlp_acts = cache[utils.get_act_name(\"post\", 0)]\n",
        "mlp_acts_flattened = mlp_acts.reshape(-1, cfg[\"d_mlp\"])\n",
        "loss, x_reconstruct, hidden_acts, l2_loss, l1_loss = encoder(mlp_acts_flattened)\n",
        "# This is equivalent to:\n",
        "# hidden_acts = F.relu((mlp_acts_flattened - encoder.b_dec) @ encoder.W_enc + encoder.b_enc)\n",
        "print(\"hidden_acts.shape\", hidden_acts.shape)"
      ]
    },
    {
      "cell_type": "markdown",
      "metadata": {
        "id": "D0-vxYAIVtxv"
      },
      "source": [
        "We can now sort and display the top tokens, and we see that this feature activates on text like \" and I\" (ditto for other connectives and pronouns)! It seems interpretable!\n",
        "\n",
        "**Aside:** Note on how to read the context column:\n",
        "\n",
        "A line like \"·himself·as·democratic·socialist·and|·he|·favors\" means that the preceding 5 tokens are \" himself as democratic socialist and\", the current token is \" he\" and the next token is \" favors\".  · are spaces, ↩ is a newline.\n",
        "\n",
        "This gets a bit confusing for this feature, since the pipe separators look a lot like a capital I\n"
      ]
    },
    {
      "cell_type": "code",
      "execution_count": 18,
      "metadata": {
        "colab": {
          "base_uri": "https://localhost:8080/",
          "height": 694
        },
        "id": "6LQet6vaU60H",
        "outputId": "85614b5d-7999-4d13-9834-14c5309aa27f"
      },
      "outputs": [
        {
          "data": {
            "text/html": [
              "<style type=\"text/css\">\n",
              "#T_4f992_row0_col3, #T_4f992_row3_col3, #T_4f992_row7_col3, #T_4f992_row9_col3, #T_4f992_row12_col3 {\n",
              "  background-color: #a2c1ff;\n",
              "  color: #000000;\n",
              "}\n",
              "#T_4f992_row0_col4, #T_4f992_row6_col4 {\n",
              "  background-color: #df634e;\n",
              "  color: #f1f1f1;\n",
              "}\n",
              "#T_4f992_row0_col6, #T_4f992_row8_col4, #T_4f992_row16_col3, #T_4f992_row17_col3 {\n",
              "  background-color: #b40426;\n",
              "  color: #f1f1f1;\n",
              "}\n",
              "#T_4f992_row1_col3 {\n",
              "  background-color: #f7b093;\n",
              "  color: #000000;\n",
              "}\n",
              "#T_4f992_row1_col4, #T_4f992_row2_col4 {\n",
              "  background-color: #4055c8;\n",
              "  color: #f1f1f1;\n",
              "}\n",
              "#T_4f992_row1_col6 {\n",
              "  background-color: #f6a283;\n",
              "  color: #000000;\n",
              "}\n",
              "#T_4f992_row2_col3 {\n",
              "  background-color: #e0654f;\n",
              "  color: #f1f1f1;\n",
              "}\n",
              "#T_4f992_row2_col6 {\n",
              "  background-color: #f2cab5;\n",
              "  color: #000000;\n",
              "}\n",
              "#T_4f992_row3_col4 {\n",
              "  background-color: #7b9ff9;\n",
              "  color: #f1f1f1;\n",
              "}\n",
              "#T_4f992_row3_col6 {\n",
              "  background-color: #ebd3c6;\n",
              "  color: #000000;\n",
              "}\n",
              "#T_4f992_row4_col3, #T_4f992_row8_col3 {\n",
              "  background-color: #6485ec;\n",
              "  color: #f1f1f1;\n",
              "}\n",
              "#T_4f992_row4_col4, #T_4f992_row9_col4 {\n",
              "  background-color: #dd5f4b;\n",
              "  color: #f1f1f1;\n",
              "}\n",
              "#T_4f992_row4_col6 {\n",
              "  background-color: #93b5fe;\n",
              "  color: #000000;\n",
              "}\n",
              "#T_4f992_row5_col3, #T_4f992_row13_col3 {\n",
              "  background-color: #86a9fc;\n",
              "  color: #f1f1f1;\n",
              "}\n",
              "#T_4f992_row5_col4 {\n",
              "  background-color: #ea7b60;\n",
              "  color: #f1f1f1;\n",
              "}\n",
              "#T_4f992_row5_col6 {\n",
              "  background-color: #81a4fb;\n",
              "  color: #f1f1f1;\n",
              "}\n",
              "#T_4f992_row6_col3 {\n",
              "  background-color: #e8d6cc;\n",
              "  color: #000000;\n",
              "}\n",
              "#T_4f992_row6_col6 {\n",
              "  background-color: #6a8bef;\n",
              "  color: #f1f1f1;\n",
              "}\n",
              "#T_4f992_row7_col4, #T_4f992_row14_col3 {\n",
              "  background-color: #80a3fa;\n",
              "  color: #f1f1f1;\n",
              "}\n",
              "#T_4f992_row7_col6 {\n",
              "  background-color: #6282ea;\n",
              "  color: #f1f1f1;\n",
              "}\n",
              "#T_4f992_row8_col6 {\n",
              "  background-color: #5e7de7;\n",
              "  color: #f1f1f1;\n",
              "}\n",
              "#T_4f992_row9_col6 {\n",
              "  background-color: #5d7ce6;\n",
              "  color: #f1f1f1;\n",
              "}\n",
              "#T_4f992_row10_col3 {\n",
              "  background-color: #3d50c3;\n",
              "  color: #f1f1f1;\n",
              "}\n",
              "#T_4f992_row10_col4 {\n",
              "  background-color: #f7b497;\n",
              "  color: #000000;\n",
              "}\n",
              "#T_4f992_row10_col6 {\n",
              "  background-color: #5470de;\n",
              "  color: #f1f1f1;\n",
              "}\n",
              "#T_4f992_row11_col3 {\n",
              "  background-color: #c5d6f2;\n",
              "  color: #000000;\n",
              "}\n",
              "#T_4f992_row11_col4 {\n",
              "  background-color: #efcebd;\n",
              "  color: #000000;\n",
              "}\n",
              "#T_4f992_row11_col6 {\n",
              "  background-color: #4a63d3;\n",
              "  color: #f1f1f1;\n",
              "}\n",
              "#T_4f992_row12_col4 {\n",
              "  background-color: #f18d6f;\n",
              "  color: #f1f1f1;\n",
              "}\n",
              "#T_4f992_row12_col6, #T_4f992_row18_col3 {\n",
              "  background-color: #4961d2;\n",
              "  color: #f1f1f1;\n",
              "}\n",
              "#T_4f992_row13_col4 {\n",
              "  background-color: #e67259;\n",
              "  color: #f1f1f1;\n",
              "}\n",
              "#T_4f992_row13_col6 {\n",
              "  background-color: #455cce;\n",
              "  color: #f1f1f1;\n",
              "}\n",
              "#T_4f992_row14_col4 {\n",
              "  background-color: #d0473d;\n",
              "  color: #f1f1f1;\n",
              "}\n",
              "#T_4f992_row14_col6 {\n",
              "  background-color: #4358cb;\n",
              "  color: #f1f1f1;\n",
              "}\n",
              "#T_4f992_row15_col3 {\n",
              "  background-color: #f7ad90;\n",
              "  color: #000000;\n",
              "}\n",
              "#T_4f992_row15_col4 {\n",
              "  background-color: #e6d7cf;\n",
              "  color: #000000;\n",
              "}\n",
              "#T_4f992_row15_col6, #T_4f992_row16_col6 {\n",
              "  background-color: #4257c9;\n",
              "  color: #f1f1f1;\n",
              "}\n",
              "#T_4f992_row16_col4 {\n",
              "  background-color: #e26952;\n",
              "  color: #f1f1f1;\n",
              "}\n",
              "#T_4f992_row17_col4 {\n",
              "  background-color: #b5cdfa;\n",
              "  color: #000000;\n",
              "}\n",
              "#T_4f992_row17_col6 {\n",
              "  background-color: #3e51c5;\n",
              "  color: #f1f1f1;\n",
              "}\n",
              "#T_4f992_row18_col4, #T_4f992_row19_col3, #T_4f992_row19_col6 {\n",
              "  background-color: #3b4cc0;\n",
              "  color: #f1f1f1;\n",
              "}\n",
              "#T_4f992_row18_col6 {\n",
              "  background-color: #3c4ec2;\n",
              "  color: #f1f1f1;\n",
              "}\n",
              "#T_4f992_row19_col4 {\n",
              "  background-color: #5673e0;\n",
              "  color: #f1f1f1;\n",
              "}\n",
              "</style>\n",
              "<table id=\"T_4f992\">\n",
              "  <thead>\n",
              "    <tr>\n",
              "      <th class=\"blank level0\" >&nbsp;</th>\n",
              "      <th id=\"T_4f992_level0_col0\" class=\"col_heading level0 col0\" >str_tokens</th>\n",
              "      <th id=\"T_4f992_level0_col1\" class=\"col_heading level0 col1\" >unique_token</th>\n",
              "      <th id=\"T_4f992_level0_col2\" class=\"col_heading level0 col2\" >context</th>\n",
              "      <th id=\"T_4f992_level0_col3\" class=\"col_heading level0 col3\" >batch</th>\n",
              "      <th id=\"T_4f992_level0_col4\" class=\"col_heading level0 col4\" >pos</th>\n",
              "      <th id=\"T_4f992_level0_col5\" class=\"col_heading level0 col5\" >label</th>\n",
              "      <th id=\"T_4f992_level0_col6\" class=\"col_heading level0 col6\" >feature</th>\n",
              "    </tr>\n",
              "  </thead>\n",
              "  <tbody>\n",
              "    <tr>\n",
              "      <th id=\"T_4f992_level0_row0\" class=\"row_heading level0 row0\" >6617</th>\n",
              "      <td id=\"T_4f992_row0_col0\" class=\"data row0 col0\" >·you</td>\n",
              "      <td id=\"T_4f992_row0_col1\" class=\"data row0 col1\" >·you/89</td>\n",
              "      <td id=\"T_4f992_row0_col2\" class=\"data row0 col2\" >·Don·Jaime·I·and|·you|·will</td>\n",
              "      <td id=\"T_4f992_row0_col3\" class=\"data row0 col3\" >51</td>\n",
              "      <td id=\"T_4f992_row0_col4\" class=\"data row0 col4\" >89</td>\n",
              "      <td id=\"T_4f992_row0_col5\" class=\"data row0 col5\" >51/89</td>\n",
              "      <td id=\"T_4f992_row0_col6\" class=\"data row0 col6\" >1.560131</td>\n",
              "    </tr>\n",
              "    <tr>\n",
              "      <th id=\"T_4f992_level0_row1\" class=\"row_heading level0 row1\" >11525</th>\n",
              "      <td id=\"T_4f992_row1_col0\" class=\"data row1 col0\" >·it</td>\n",
              "      <td id=\"T_4f992_row1_col1\" class=\"data row1 col1\" >·it/5</td>\n",
              "      <td id=\"T_4f992_row1_col2\" class=\"data row1 col2\" ><|BOS|>in·is·True·and|·it|·is</td>\n",
              "      <td id=\"T_4f992_row1_col3\" class=\"data row1 col3\" >90</td>\n",
              "      <td id=\"T_4f992_row1_col4\" class=\"data row1 col4\" >5</td>\n",
              "      <td id=\"T_4f992_row1_col5\" class=\"data row1 col5\" >90/5</td>\n",
              "      <td id=\"T_4f992_row1_col6\" class=\"data row1 col6\" >1.155805</td>\n",
              "    </tr>\n",
              "    <tr>\n",
              "      <th id=\"T_4f992_level0_row2\" class=\"row_heading level0 row2\" >13829</th>\n",
              "      <td id=\"T_4f992_row2_col0\" class=\"data row2 col0\" >·it</td>\n",
              "      <td id=\"T_4f992_row2_col1\" class=\"data row2 col1\" >·it/5</td>\n",
              "      <td id=\"T_4f992_row2_col2\" class=\"data row2 col2\" ><|BOS|>·image·file,·and|·it|·should</td>\n",
              "      <td id=\"T_4f992_row2_col3\" class=\"data row2 col3\" >108</td>\n",
              "      <td id=\"T_4f992_row2_col4\" class=\"data row2 col4\" >5</td>\n",
              "      <td id=\"T_4f992_row2_col5\" class=\"data row2 col5\" >108/5</td>\n",
              "      <td id=\"T_4f992_row2_col6\" class=\"data row2 col6\" >0.965699</td>\n",
              "    </tr>\n",
              "    <tr>\n",
              "      <th id=\"T_4f992_level0_row3\" class=\"row_heading level0 row3\" >6551</th>\n",
              "      <td id=\"T_4f992_row3_col0\" class=\"data row3 col0\" >·it</td>\n",
              "      <td id=\"T_4f992_row3_col1\" class=\"data row3 col1\" >·it/23</td>\n",
              "      <td id=\"T_4f992_row3_col2\" class=\"data row3 col2\" >·meets·the·new·one·and|·it|’</td>\n",
              "      <td id=\"T_4f992_row3_col3\" class=\"data row3 col3\" >51</td>\n",
              "      <td id=\"T_4f992_row3_col4\" class=\"data row3 col4\" >23</td>\n",
              "      <td id=\"T_4f992_row3_col5\" class=\"data row3 col5\" >51/23</td>\n",
              "      <td id=\"T_4f992_row3_col6\" class=\"data row3 col6\" >0.900989</td>\n",
              "    </tr>\n",
              "    <tr>\n",
              "      <th id=\"T_4f992_level0_row4\" class=\"row_heading level0 row4\" >4314</th>\n",
              "      <td id=\"T_4f992_row4_col0\" class=\"data row4 col0\" >·she</td>\n",
              "      <td id=\"T_4f992_row4_col1\" class=\"data row4 col1\" >·she/90</td>\n",
              "      <td id=\"T_4f992_row4_col2\" class=\"data row4 col2\" >·life,·growing·up,|·she|·was</td>\n",
              "      <td id=\"T_4f992_row4_col3\" class=\"data row4 col3\" >33</td>\n",
              "      <td id=\"T_4f992_row4_col4\" class=\"data row4 col4\" >90</td>\n",
              "      <td id=\"T_4f992_row4_col5\" class=\"data row4 col5\" >33/90</td>\n",
              "      <td id=\"T_4f992_row4_col6\" class=\"data row4 col6\" >0.463120</td>\n",
              "    </tr>\n",
              "    <tr>\n",
              "      <th id=\"T_4f992_level0_row5\" class=\"row_heading level0 row5\" >5588</th>\n",
              "      <td id=\"T_4f992_row5_col0\" class=\"data row5 col0\" >·he</td>\n",
              "      <td id=\"T_4f992_row5_col1\" class=\"data row5 col1\" >·he/84</td>\n",
              "      <td id=\"T_4f992_row5_col2\" class=\"data row5 col2\" >·through·grace·—·and·now|·he|·shares</td>\n",
              "      <td id=\"T_4f992_row5_col3\" class=\"data row5 col3\" >43</td>\n",
              "      <td id=\"T_4f992_row5_col4\" class=\"data row5 col4\" >84</td>\n",
              "      <td id=\"T_4f992_row5_col5\" class=\"data row5 col5\" >43/84</td>\n",
              "      <td id=\"T_4f992_row5_col6\" class=\"data row5 col6\" >0.385578</td>\n",
              "    </tr>\n",
              "    <tr>\n",
              "      <th id=\"T_4f992_level0_row6\" class=\"row_heading level0 row6\" >9689</th>\n",
              "      <td id=\"T_4f992_row6_col0\" class=\"data row6 col0\" >·what</td>\n",
              "      <td id=\"T_4f992_row6_col1\" class=\"data row6 col1\" >·what/89</td>\n",
              "      <td id=\"T_4f992_row6_col2\" class=\"data row6 col2\" >·to·perceive·buyer·behavior·and|·what|·it</td>\n",
              "      <td id=\"T_4f992_row6_col3\" class=\"data row6 col3\" >75</td>\n",
              "      <td id=\"T_4f992_row6_col4\" class=\"data row6 col4\" >89</td>\n",
              "      <td id=\"T_4f992_row6_col5\" class=\"data row6 col5\" >75/89</td>\n",
              "      <td id=\"T_4f992_row6_col6\" class=\"data row6 col6\" >0.290015</td>\n",
              "    </tr>\n",
              "    <tr>\n",
              "      <th id=\"T_4f992_level0_row7\" class=\"row_heading level0 row7\" >6552</th>\n",
              "      <td id=\"T_4f992_row7_col0\" class=\"data row7 col0\" >’</td>\n",
              "      <td id=\"T_4f992_row7_col1\" class=\"data row7 col1\" >’/24</td>\n",
              "      <td id=\"T_4f992_row7_col2\" class=\"data row7 col2\" >·the·new·one·and·it|’|s</td>\n",
              "      <td id=\"T_4f992_row7_col3\" class=\"data row7 col3\" >51</td>\n",
              "      <td id=\"T_4f992_row7_col4\" class=\"data row7 col4\" >24</td>\n",
              "      <td id=\"T_4f992_row7_col5\" class=\"data row7 col5\" >51/24</td>\n",
              "      <td id=\"T_4f992_row7_col6\" class=\"data row7 col6\" >0.253980</td>\n",
              "    </tr>\n",
              "    <tr>\n",
              "      <th id=\"T_4f992_level0_row8\" class=\"row_heading level0 row8\" >4326</th>\n",
              "      <td id=\"T_4f992_row8_col0\" class=\"data row8 col0\" >·hog</td>\n",
              "      <td id=\"T_4f992_row8_col1\" class=\"data row8 col1\" >·hog/102</td>\n",
              "      <td id=\"T_4f992_row8_col2\" class=\"data row8 col2\" >’s·row·crop·and|·hog|·farm</td>\n",
              "      <td id=\"T_4f992_row8_col3\" class=\"data row8 col3\" >33</td>\n",
              "      <td id=\"T_4f992_row8_col4\" class=\"data row8 col4\" >102</td>\n",
              "      <td id=\"T_4f992_row8_col5\" class=\"data row8 col5\" >33/102</td>\n",
              "      <td id=\"T_4f992_row8_col6\" class=\"data row8 col6\" >0.233893</td>\n",
              "    </tr>\n",
              "    <tr>\n",
              "      <th id=\"T_4f992_level0_row9\" class=\"row_heading level0 row9\" >6618</th>\n",
              "      <td id=\"T_4f992_row9_col0\" class=\"data row9 col0\" >·will</td>\n",
              "      <td id=\"T_4f992_row9_col1\" class=\"data row9 col1\" >·will/90</td>\n",
              "      <td id=\"T_4f992_row9_col2\" class=\"data row9 col2\" >·Jaime·I·and·you|·will|·arrive</td>\n",
              "      <td id=\"T_4f992_row9_col3\" class=\"data row9 col3\" >51</td>\n",
              "      <td id=\"T_4f992_row9_col4\" class=\"data row9 col4\" >90</td>\n",
              "      <td id=\"T_4f992_row9_col5\" class=\"data row9 col5\" >51/90</td>\n",
              "      <td id=\"T_4f992_row9_col6\" class=\"data row9 col6\" >0.229746</td>\n",
              "    </tr>\n",
              "    <tr>\n",
              "      <th id=\"T_4f992_level0_row10\" class=\"row_heading level0 row10\" >2630</th>\n",
              "      <td id=\"T_4f992_row10_col0\" class=\"data row10 col0\" >·instead</td>\n",
              "      <td id=\"T_4f992_row10_col1\" class=\"data row10 col1\" >·instead/70</td>\n",
              "      <td id=\"T_4f992_row10_col2\" class=\"data row10 col2\" >·for·several·months,·and|·instead|·started</td>\n",
              "      <td id=\"T_4f992_row10_col3\" class=\"data row10 col3\" >20</td>\n",
              "      <td id=\"T_4f992_row10_col4\" class=\"data row10 col4\" >70</td>\n",
              "      <td id=\"T_4f992_row10_col5\" class=\"data row10 col5\" >20/70</td>\n",
              "      <td id=\"T_4f992_row10_col6\" class=\"data row10 col6\" >0.189971</td>\n",
              "    </tr>\n",
              "    <tr>\n",
              "      <th id=\"T_4f992_level0_row11\" class=\"row_heading level0 row11\" >7997</th>\n",
              "      <td id=\"T_4f992_row11_col0\" class=\"data row11 col0\" >·Sh</td>\n",
              "      <td id=\"T_4f992_row11_col1\" class=\"data row11 col1\" >·Sh/61</td>\n",
              "      <td id=\"T_4f992_row11_col2\" class=\"data row11 col2\" >·of·the·Orisa·and|·Sh|outer</td>\n",
              "      <td id=\"T_4f992_row11_col3\" class=\"data row11 col3\" >62</td>\n",
              "      <td id=\"T_4f992_row11_col4\" class=\"data row11 col4\" >61</td>\n",
              "      <td id=\"T_4f992_row11_col5\" class=\"data row11 col5\" >62/61</td>\n",
              "      <td id=\"T_4f992_row11_col6\" class=\"data row11 col6\" >0.144183</td>\n",
              "    </tr>\n",
              "    <tr>\n",
              "      <th id=\"T_4f992_level0_row12\" class=\"row_heading level0 row12\" >6608</th>\n",
              "      <td id=\"T_4f992_row12_col0\" class=\"data row12 col0\" >·I</td>\n",
              "      <td id=\"T_4f992_row12_col1\" class=\"data row12 col1\" >·I/80</td>\n",
              "      <td id=\"T_4f992_row12_col2\" class=\"data row12 col2\" >·Calle·Alfonso|·I|·or</td>\n",
              "      <td id=\"T_4f992_row12_col3\" class=\"data row12 col3\" >51</td>\n",
              "      <td id=\"T_4f992_row12_col4\" class=\"data row12 col4\" >80</td>\n",
              "      <td id=\"T_4f992_row12_col5\" class=\"data row12 col5\" >51/80</td>\n",
              "      <td id=\"T_4f992_row12_col6\" class=\"data row12 col6\" >0.137361</td>\n",
              "    </tr>\n",
              "    <tr>\n",
              "      <th id=\"T_4f992_level0_row13\" class=\"row_heading level0 row13\" >5590</th>\n",
              "      <td id=\"T_4f992_row13_col0\" class=\"data row13 col0\" >·that</td>\n",
              "      <td id=\"T_4f992_row13_col1\" class=\"data row13 col1\" >·that/86</td>\n",
              "      <td id=\"T_4f992_row13_col2\" class=\"data row13 col2\" >·—·and·now·he·shares|·that|·story</td>\n",
              "      <td id=\"T_4f992_row13_col3\" class=\"data row13 col3\" >43</td>\n",
              "      <td id=\"T_4f992_row13_col4\" class=\"data row13 col4\" >86</td>\n",
              "      <td id=\"T_4f992_row13_col5\" class=\"data row13 col5\" >43/86</td>\n",
              "      <td id=\"T_4f992_row13_col6\" class=\"data row13 col6\" >0.119275</td>\n",
              "    </tr>\n",
              "    <tr>\n",
              "      <th id=\"T_4f992_level0_row14\" class=\"row_heading level0 row14\" >5342</th>\n",
              "      <td id=\"T_4f992_row14_col0\" class=\"data row14 col0\" >·locals</td>\n",
              "      <td id=\"T_4f992_row14_col1\" class=\"data row14 col1\" >·locals/94</td>\n",
              "      <td id=\"T_4f992_row14_col2\" class=\"data row14 col2\" >timeout')↩\n",
              "↩\n",
              "········params·=|·locals|()</td>\n",
              "      <td id=\"T_4f992_row14_col3\" class=\"data row14 col3\" >41</td>\n",
              "      <td id=\"T_4f992_row14_col4\" class=\"data row14 col4\" >94</td>\n",
              "      <td id=\"T_4f992_row14_col5\" class=\"data row14 col5\" >41/94</td>\n",
              "      <td id=\"T_4f992_row14_col6\" class=\"data row14 col6\" >0.105788</td>\n",
              "    </tr>\n",
              "    <tr>\n",
              "      <th id=\"T_4f992_level0_row15\" class=\"row_heading level0 row15\" >11704</th>\n",
              "      <td id=\"T_4f992_row15_col0\" class=\"data row15 col0\" >·I</td>\n",
              "      <td id=\"T_4f992_row15_col1\" class=\"data row15 col1\" >·I/56</td>\n",
              "      <td id=\"T_4f992_row15_col2\" class=\"data row15 col2\" >.qltk·import|·I|cons</td>\n",
              "      <td id=\"T_4f992_row15_col3\" class=\"data row15 col3\" >91</td>\n",
              "      <td id=\"T_4f992_row15_col4\" class=\"data row15 col4\" >56</td>\n",
              "      <td id=\"T_4f992_row15_col5\" class=\"data row15 col5\" >91/56</td>\n",
              "      <td id=\"T_4f992_row15_col6\" class=\"data row15 col6\" >0.100755</td>\n",
              "    </tr>\n",
              "    <tr>\n",
              "      <th id=\"T_4f992_level0_row16\" class=\"row_heading level0 row16\" >15704</th>\n",
              "      <td id=\"T_4f992_row16_col0\" class=\"data row16 col0\" >·i</td>\n",
              "      <td id=\"T_4f992_row16_col1\" class=\"data row16 col1\" >·i/88</td>\n",
              "      <td id=\"T_4f992_row16_col2\" class=\"data row16 col2\" >,·'robot',|·i|.</td>\n",
              "      <td id=\"T_4f992_row16_col3\" class=\"data row16 col3\" >122</td>\n",
              "      <td id=\"T_4f992_row16_col4\" class=\"data row16 col4\" >88</td>\n",
              "      <td id=\"T_4f992_row16_col5\" class=\"data row16 col5\" >122/88</td>\n",
              "      <td id=\"T_4f992_row16_col6\" class=\"data row16 col6\" >0.100257</td>\n",
              "    </tr>\n",
              "    <tr>\n",
              "      <th id=\"T_4f992_level0_row17\" class=\"row_heading level0 row17\" >15655</th>\n",
              "      <td id=\"T_4f992_row17_col0\" class=\"data row17 col0\" >·i</td>\n",
              "      <td id=\"T_4f992_row17_col1\" class=\"data row17 col1\" >·i/39</td>\n",
              "      <td id=\"T_4f992_row17_col2\" class=\"data row17 col2\" >pose[1]·-|·i|.</td>\n",
              "      <td id=\"T_4f992_row17_col3\" class=\"data row17 col3\" >122</td>\n",
              "      <td id=\"T_4f992_row17_col4\" class=\"data row17 col4\" >39</td>\n",
              "      <td id=\"T_4f992_row17_col5\" class=\"data row17 col5\" >122/39</td>\n",
              "      <td id=\"T_4f992_row17_col6\" class=\"data row17 col6\" >0.086542</td>\n",
              "    </tr>\n",
              "    <tr>\n",
              "      <th id=\"T_4f992_level0_row18\" class=\"row_heading level0 row18\" >3075</th>\n",
              "      <td id=\"T_4f992_row18_col0\" class=\"data row18 col0\" >I</td>\n",
              "      <td id=\"T_4f992_row18_col1\" class=\"data row18 col1\" >I/3</td>\n",
              "      <td id=\"T_4f992_row18_col2\" class=\"data row18 col2\" ><|BOS|>ps[|I|nex</td>\n",
              "      <td id=\"T_4f992_row18_col3\" class=\"data row18 col3\" >24</td>\n",
              "      <td id=\"T_4f992_row18_col4\" class=\"data row18 col4\" >3</td>\n",
              "      <td id=\"T_4f992_row18_col5\" class=\"data row18 col5\" >24/3</td>\n",
              "      <td id=\"T_4f992_row18_col6\" class=\"data row18 col6\" >0.070442</td>\n",
              "    </tr>\n",
              "    <tr>\n",
              "      <th id=\"T_4f992_level0_row19\" class=\"row_heading level0 row19\" >2444</th>\n",
              "      <td id=\"T_4f992_row19_col0\" class=\"data row19 col0\" >·md</td>\n",
              "      <td id=\"T_4f992_row19_col1\" class=\"data row19 col1\" >·md/12</td>\n",
              "      <td id=\"T_4f992_row19_col2\" class=\"data row19 col2\" >·=·is_file·and|·md|5</td>\n",
              "      <td id=\"T_4f992_row19_col3\" class=\"data row19 col3\" >19</td>\n",
              "      <td id=\"T_4f992_row19_col4\" class=\"data row19 col4\" >12</td>\n",
              "      <td id=\"T_4f992_row19_col5\" class=\"data row19 col5\" >19/12</td>\n",
              "      <td id=\"T_4f992_row19_col6\" class=\"data row19 col6\" >0.063386</td>\n",
              "    </tr>\n",
              "  </tbody>\n",
              "</table>\n"
            ],
            "text/plain": [
              "<pandas.io.formats.style.Styler at 0x7bf2c554f050>"
            ]
          },
          "execution_count": 18,
          "metadata": {},
          "output_type": "execute_result"
        }
      ],
      "source": [
        "token_df = make_token_df(tokens)\n",
        "token_df[\"feature\"] = utils.to_numpy(hidden_acts[:, feature_id])\n",
        "token_df.sort_values(\"feature\", ascending=False).head(20).style.background_gradient(\"coolwarm\")"
      ]
    },
    {
      "cell_type": "markdown",
      "metadata": {
        "id": "H_SsYbIhWm43"
      },
      "source": [
        "It's easy to misread evidence like the above, so it's useful to take some text and edit it and see how this changes the model's activations. Here's a hacky interactive tool to play around with some text."
      ]
    },
    {
      "cell_type": "code",
      "execution_count": 19,
      "metadata": {
        "colab": {
          "base_uri": "https://localhost:8080/"
        },
        "id": "xHWCNBe81qAV",
        "outputId": "70c6b81e-cbe9-4cd0-b80a-3548a61d072e"
      },
      "outputs": [
        {
          "data": {
            "text/plain": [
              "HookedTransformerConfig:\n",
              "{'NTK_by_parts_factor': 8.0,\n",
              " 'NTK_by_parts_high_freq_factor': 4.0,\n",
              " 'NTK_by_parts_low_freq_factor': 1.0,\n",
              " 'act_fn': 'gelu',\n",
              " 'attention_dir': 'causal',\n",
              " 'attn_only': False,\n",
              " 'attn_scale': np.float64(8.0),\n",
              " 'attn_scores_soft_cap': -1.0,\n",
              " 'attn_types': None,\n",
              " 'checkpoint_index': None,\n",
              " 'checkpoint_label_type': None,\n",
              " 'checkpoint_value': None,\n",
              " 'd_head': 64,\n",
              " 'd_mlp': 2048,\n",
              " 'd_model': 512,\n",
              " 'd_vocab': 48262,\n",
              " 'd_vocab_out': 48262,\n",
              " 'decoder_start_token_id': None,\n",
              " 'default_prepend_bos': True,\n",
              " 'device': device(type='cuda'),\n",
              " 'dtype': torch.float32,\n",
              " 'eps': 1e-05,\n",
              " 'experts_per_token': None,\n",
              " 'final_rms': False,\n",
              " 'from_checkpoint': False,\n",
              " 'gated_mlp': False,\n",
              " 'init_mode': 'gpt2',\n",
              " 'init_weights': False,\n",
              " 'initializer_range': np.float64(0.035355339059327376),\n",
              " 'load_in_4bit': False,\n",
              " 'model_name': 'GELU_1L512W_C4_Code',\n",
              " 'n_ctx': 1024,\n",
              " 'n_devices': 1,\n",
              " 'n_heads': 8,\n",
              " 'n_key_value_heads': None,\n",
              " 'n_layers': 1,\n",
              " 'n_params': 3145728,\n",
              " 'normalization_type': 'LNPre',\n",
              " 'num_experts': None,\n",
              " 'original_architecture': 'neel',\n",
              " 'output_logits_soft_cap': -1.0,\n",
              " 'parallel_attn_mlp': False,\n",
              " 'positional_embedding_type': 'standard',\n",
              " 'post_embedding_ln': False,\n",
              " 'relative_attention_max_distance': None,\n",
              " 'relative_attention_num_buckets': None,\n",
              " 'rotary_adjacent_pairs': False,\n",
              " 'rotary_base': 10000,\n",
              " 'rotary_dim': None,\n",
              " 'scale_attn_by_inverse_layer_idx': False,\n",
              " 'seed': None,\n",
              " 'tie_word_embeddings': False,\n",
              " 'tokenizer_name': 'NeelNanda/gpt-neox-tokenizer-digits',\n",
              " 'tokenizer_prepends_bos': False,\n",
              " 'trust_remote_code': False,\n",
              " 'ungroup_grouped_query_attention': False,\n",
              " 'use_NTK_by_parts_rope': False,\n",
              " 'use_attn_in': False,\n",
              " 'use_attn_result': False,\n",
              " 'use_attn_scale': True,\n",
              " 'use_hook_mlp_in': False,\n",
              " 'use_hook_tokens': False,\n",
              " 'use_local_attn': False,\n",
              " 'use_normalization_before_and_after': False,\n",
              " 'use_split_qkv_input': False,\n",
              " 'window_size': None}"
            ]
          },
          "execution_count": 19,
          "metadata": {},
          "output_type": "execute_result"
        }
      ],
      "source": [
        "model.cfg"
      ]
    },
    {
      "cell_type": "code",
      "execution_count": 20,
      "metadata": {
        "colab": {
          "base_uri": "https://localhost:8080/"
        },
        "id": "wx6MkfEk0osY",
        "outputId": "05acefec-274a-4d5b-8b26-46f6cd3b3741"
      },
      "outputs": [
        {
          "name": "stdout",
          "output_type": "stream",
          "text": [
            "tensor([[    1,   510,   338,    26,    27,    27, 17846,   306, 22621, 25060,\n",
            "          5962,   369,  2828,   328,  4452,   813,    14,   338,    26,    27,\n",
            "            27,    16,   380,  8558, 34001,    14,  7060, 27032,    14,   369,\n",
            "          1283,    15, 15430,    16,   380, 10540,  9448,  7060,  3497,  2204,\n",
            "           294,    16, 11564, 24709,  7060, 10978,    16, 10978,  1856,   407,\n",
            "           248,  6101,   274,   338,    27,    21,    14,    25,    19,    22,\n",
            "           282,   338,    27,    19,    14,    21,    21,    19,    16,   380,\n",
            "          6101,   369, 14459,   328,  9643,   274, 23044,  8879,    14,   532,\n",
            "           254,  5816,   274,   444,  9628,    14,  2101,  5574,   265,   343,\n",
            "           355,    15,  6644,  2204,   294,  2672,    14, 17551,   254,   898,\n",
            "            16,  9659, 35835,  3297, 13625,    14,   532,  1063,   615,  9106,\n",
            "           807,  1280,    14,  3497,  2204,   294,   369,  4950,   407,   272,\n",
            "          7011, 44280,   314,  7833, 34609,    11,   328,  4109,   495,    18,\n",
            "            14,   338,    27,    18,    18,    16, 10540,  2897,   265,  2151,\n",
            "         12652,   282, 13895,   254,  5962,   282,  3497,  2204,   294,    14,\n",
            "         10978,   369,   372,  7140,    14,   286,  3497,  2204,   294,   369,\n",
            "         28718,   713,  3780,   328,  4109,   495,    19,    16,   750,  4811,\n",
            "           328,  4929,   495,    16,   380, 31212, 13791,   274, 17846,    14,\n",
            "           500,    16,   331,    16,   411,    16, 17101,  3836,    14,  3285,\n",
            "         13791,    14,   286, 11432,  1055, 10978,   276,  1278,    16, 17101,\n",
            "          3836,  1856,   328,  4408,    14,   286, 10978, 17909,   282, 14215,\n",
            "            14,  4563,   273,  5109,   348,   272,  7376,   546,    16,   380,\n",
            "           756,  7529, 12726,   276,  4458,   343,   254,  9550,   497,  1938,\n",
            "           269,   472, 11101,    29,   254, 44280,   434,  6315,  4417,   248,\n",
            "         16442]], device='cuda:0')\n"
          ]
        }
      ],
      "source": [
        "s = \"The 1899 Kentucky gubernatorial election was held on November 7, 1899. The Republican incumbent, William Bradley, was term-limited. The Democrats chose William Goebel. Republicans nominated William Taylor. Taylor won by a vote of 193,714 to 191,331. The vote was challenged on grounds of voter fraud, but the Board of Elections, though stocked with pro-Goebel members, certified the result. Democratic legislators began investigations, but before their committee could report, Goebel was shot by an unknown assassin (event pictured) on January 30, 1900. Democrats voided enough votes to swing the election to Goebel, Taylor was deposed, and Goebel was sworn into office on January 31. He died on February 3. The lieutenant governor of Kentucky, J. C. W. Beckham, became governor, and battled Taylor in court. Beckham won on appeal, and Taylor fled to Indiana, fearing arrest as an accomplice. The only persons convicted in connection with the killing were later pardoned; the assassin's identity remains a mystery\"\n",
        "t = model.to_tokens(s)\n",
        "print(t)"
      ]
    },
    {
      "cell_type": "code",
      "execution_count": null,
      "metadata": {
        "colab": {
          "base_uri": "https://localhost:8080/",
          "height": 750
        },
        "id": "HbgjmwTnQman",
        "outputId": "51b0203e-d13d-4910-c0e9-298368881800"
      },
      "outputs": [
        {
          "name": "stderr",
          "output_type": "stream",
          "text": [
            "/usr/local/lib/python3.10/dist-packages/gradio/blocks.py:889: UserWarning:\n",
            "\n",
            "api_name basic_feature_vis already exists, using basic_feature_vis_1\n",
            "\n",
            "/usr/local/lib/python3.10/dist-packages/gradio/blocks.py:889: UserWarning:\n",
            "\n",
            "api_name basic_feature_vis already exists, using basic_feature_vis_2\n",
            "\n"
          ]
        },
        {
          "name": "stdout",
          "output_type": "stream",
          "text": [
            "Colab notebook detected. To show errors in colab notebook, set debug=True in launch()\n",
            "Running on public URL: https://30db3ce14ace3d332d.gradio.live\n",
            "\n",
            "This share link expires in 72 hours. For free permanent hosting and GPU upgrades, run `gradio deploy` from Terminal to deploy to Spaces (https://huggingface.co/spaces)\n"
          ]
        },
        {
          "data": {
            "text/html": [
              "<div><iframe src=\"https://30db3ce14ace3d332d.gradio.live\" width=\"100%\" height=\"500\" allow=\"autoplay; camera; microphone; clipboard-read; clipboard-write;\" frameborder=\"0\" allowfullscreen></iframe></div>"
            ],
            "text/plain": [
              "<IPython.core.display.HTML object>"
            ]
          },
          "metadata": {},
          "output_type": "display_data"
        }
      ],
      "source": [
        "\n",
        "starting_text = \"Hero and I will head to Samantha and Mark's, then he and she will. Then I or you\" # @param {type:\"string\"}\n",
        "make_feature_vis_gradio(feature_id, starting_text)"
      ]
    },
    {
      "cell_type": "markdown",
      "metadata": {
        "id": "MjquxRjkQlpq"
      },
      "source": [
        "A final piece of evidence: This is a one layer model, so the neurons can only matter by directly impacting the final logits! We can directly look at how the decoder weights for this feature affect the logits, and see that it boosts `'ll`! This checks out, I and he'll etc is a common construction."
      ]
    },
    {
      "cell_type": "code",
      "execution_count": 21,
      "metadata": {
        "colab": {
          "base_uri": "https://localhost:8080/",
          "height": 677
        },
        "id": "JUtGmqx8Si-G",
        "outputId": "9bdc7924-cce0-46b4-f38e-13315ff7891f"
      },
      "outputs": [
        {
          "data": {
            "text/html": [
              "<style type=\"text/css\">\n",
              "#T_f0b69_row0_col1 {\n",
              "  background-color: #b40426;\n",
              "  color: #f1f1f1;\n",
              "}\n",
              "#T_f0b69_row1_col1 {\n",
              "  background-color: #d6dce4;\n",
              "  color: #000000;\n",
              "}\n",
              "#T_f0b69_row2_col1, #T_f0b69_row3_col1 {\n",
              "  background-color: #c4d5f3;\n",
              "  color: #000000;\n",
              "}\n",
              "#T_f0b69_row4_col1 {\n",
              "  background-color: #bcd2f7;\n",
              "  color: #000000;\n",
              "}\n",
              "#T_f0b69_row5_col1 {\n",
              "  background-color: #aec9fc;\n",
              "  color: #000000;\n",
              "}\n",
              "#T_f0b69_row6_col1 {\n",
              "  background-color: #93b5fe;\n",
              "  color: #000000;\n",
              "}\n",
              "#T_f0b69_row7_col1 {\n",
              "  background-color: #7da0f9;\n",
              "  color: #f1f1f1;\n",
              "}\n",
              "#T_f0b69_row8_col1 {\n",
              "  background-color: #7a9df8;\n",
              "  color: #f1f1f1;\n",
              "}\n",
              "#T_f0b69_row9_col1 {\n",
              "  background-color: #688aef;\n",
              "  color: #f1f1f1;\n",
              "}\n",
              "#T_f0b69_row10_col1 {\n",
              "  background-color: #5977e3;\n",
              "  color: #f1f1f1;\n",
              "}\n",
              "#T_f0b69_row11_col1 {\n",
              "  background-color: #4a63d3;\n",
              "  color: #f1f1f1;\n",
              "}\n",
              "#T_f0b69_row12_col1, #T_f0b69_row13_col1 {\n",
              "  background-color: #4961d2;\n",
              "  color: #f1f1f1;\n",
              "}\n",
              "#T_f0b69_row14_col1, #T_f0b69_row15_col1 {\n",
              "  background-color: #465ecf;\n",
              "  color: #f1f1f1;\n",
              "}\n",
              "#T_f0b69_row16_col1 {\n",
              "  background-color: #4257c9;\n",
              "  color: #f1f1f1;\n",
              "}\n",
              "#T_f0b69_row17_col1 {\n",
              "  background-color: #3f53c6;\n",
              "  color: #f1f1f1;\n",
              "}\n",
              "#T_f0b69_row18_col1 {\n",
              "  background-color: #3e51c5;\n",
              "  color: #f1f1f1;\n",
              "}\n",
              "#T_f0b69_row19_col1 {\n",
              "  background-color: #3b4cc0;\n",
              "  color: #f1f1f1;\n",
              "}\n",
              "</style>\n",
              "<table id=\"T_f0b69\">\n",
              "  <thead>\n",
              "    <tr>\n",
              "      <th class=\"blank level0\" >&nbsp;</th>\n",
              "      <th id=\"T_f0b69_level0_col0\" class=\"col_heading level0 col0\" >token</th>\n",
              "      <th id=\"T_f0b69_level0_col1\" class=\"col_heading level0 col1\" >logit</th>\n",
              "    </tr>\n",
              "  </thead>\n",
              "  <tbody>\n",
              "    <tr>\n",
              "      <th id=\"T_f0b69_level0_row0\" class=\"row_heading level0 row0\" >1782</th>\n",
              "      <td id=\"T_f0b69_row0_col0\" class=\"data row0 col0\" >'ll</td>\n",
              "      <td id=\"T_f0b69_row0_col1\" class=\"data row0 col1\" >1.875001</td>\n",
              "    </tr>\n",
              "    <tr>\n",
              "      <th id=\"T_f0b69_level0_row1\" class=\"row_heading level0 row1\" >6835</th>\n",
              "      <td id=\"T_f0b69_row1_col0\" class=\"data row1 col0\" >eding</td>\n",
              "      <td id=\"T_f0b69_row1_col1\" class=\"data row1 col1\" >1.558904</td>\n",
              "    </tr>\n",
              "    <tr>\n",
              "      <th id=\"T_f0b69_level0_row2\" class=\"row_heading level0 row2\" >5440</th>\n",
              "      <td id=\"T_f0b69_row2_col0\" class=\"data row2 col0\" >·certainly</td>\n",
              "      <td id=\"T_f0b69_row2_col1\" class=\"data row2 col1\" >1.522172</td>\n",
              "    </tr>\n",
              "    <tr>\n",
              "      <th id=\"T_f0b69_level0_row3\" class=\"row_heading level0 row3\" >3409</th>\n",
              "      <td id=\"T_f0b69_row3_col0\" class=\"data row3 col0\" >·hope</td>\n",
              "      <td id=\"T_f0b69_row3_col1\" class=\"data row3 col1\" >1.521111</td>\n",
              "    </tr>\n",
              "    <tr>\n",
              "      <th id=\"T_f0b69_level0_row4\" class=\"row_heading level0 row4\" >29310</th>\n",
              "      <td id=\"T_f0b69_row4_col0\" class=\"data row4 col0\" >OULD</td>\n",
              "      <td id=\"T_f0b69_row4_col1\" class=\"data row4 col1\" >1.508625</td>\n",
              "    </tr>\n",
              "    <tr>\n",
              "      <th id=\"T_f0b69_level0_row5\" class=\"row_heading level0 row5\" >4931</th>\n",
              "      <td id=\"T_f0b69_row5_col0\" class=\"data row5 col0\" >·wouldn</td>\n",
              "      <td id=\"T_f0b69_row5_col1\" class=\"data row5 col1\" >1.483282</td>\n",
              "    </tr>\n",
              "    <tr>\n",
              "      <th id=\"T_f0b69_level0_row6\" class=\"row_heading level0 row6\" >44469</th>\n",
              "      <td id=\"T_f0b69_row6_col0\" class=\"data row6 col0\" >cheon</td>\n",
              "      <td id=\"T_f0b69_row6_col1\" class=\"data row6 col1\" >1.435624</td>\n",
              "    </tr>\n",
              "    <tr>\n",
              "      <th id=\"T_f0b69_level0_row7\" class=\"row_heading level0 row7\" >7754</th>\n",
              "      <td id=\"T_f0b69_row7_col0\" class=\"data row7 col0\" >·definitely</td>\n",
              "      <td id=\"T_f0b69_row7_col1\" class=\"data row7 col1\" >1.397461</td>\n",
              "    </tr>\n",
              "    <tr>\n",
              "      <th id=\"T_f0b69_level0_row8\" class=\"row_heading level0 row8\" >1606</th>\n",
              "      <td id=\"T_f0b69_row8_col0\" class=\"data row8 col0\" >·seem</td>\n",
              "      <td id=\"T_f0b69_row8_col1\" class=\"data row8 col1\" >1.394357</td>\n",
              "    </tr>\n",
              "    <tr>\n",
              "      <th id=\"T_f0b69_level0_row9\" class=\"row_heading level0 row9\" >41304</th>\n",
              "      <td id=\"T_f0b69_row9_col0\" class=\"data row9 col0\" >·sincerely</td>\n",
              "      <td id=\"T_f0b69_row9_col1\" class=\"data row9 col1\" >1.363966</td>\n",
              "    </tr>\n",
              "    <tr>\n",
              "      <th id=\"T_f0b69_level0_row10\" class=\"row_heading level0 row10\" >31207</th>\n",
              "      <td id=\"T_f0b69_row10_col0\" class=\"data row10 col0\" >·hesitate</td>\n",
              "      <td id=\"T_f0b69_row10_col1\" class=\"data row10 col1\" >1.334400</td>\n",
              "    </tr>\n",
              "    <tr>\n",
              "      <th id=\"T_f0b69_level0_row11\" class=\"row_heading level0 row11\" >30315</th>\n",
              "      <td id=\"T_f0b69_row11_col0\" class=\"data row11 col0\" >·wont</td>\n",
              "      <td id=\"T_f0b69_row11_col1\" class=\"data row11 col1\" >1.306969</td>\n",
              "    </tr>\n",
              "    <tr>\n",
              "      <th id=\"T_f0b69_level0_row12\" class=\"row_heading level0 row12\" >30456</th>\n",
              "      <td id=\"T_f0b69_row12_col0\" class=\"data row12 col0\" >·amazed</td>\n",
              "      <td id=\"T_f0b69_row12_col1\" class=\"data row12 col1\" >1.303999</td>\n",
              "    </tr>\n",
              "    <tr>\n",
              "      <th id=\"T_f0b69_level0_row13\" class=\"row_heading level0 row13\" >45679</th>\n",
              "      <td id=\"T_f0b69_row13_col0\" class=\"data row13 col0\" >atas</td>\n",
              "      <td id=\"T_f0b69_row13_col1\" class=\"data row13 col1\" >1.303976</td>\n",
              "    </tr>\n",
              "    <tr>\n",
              "      <th id=\"T_f0b69_level0_row14\" class=\"row_heading level0 row14\" >8788</th>\n",
              "      <td id=\"T_f0b69_row14_col0\" class=\"data row14 col0\" >·promise</td>\n",
              "      <td id=\"T_f0b69_row14_col1\" class=\"data row14 col1\" >1.300051</td>\n",
              "    </tr>\n",
              "    <tr>\n",
              "      <th id=\"T_f0b69_level0_row15\" class=\"row_heading level0 row15\" >16882</th>\n",
              "      <td id=\"T_f0b69_row15_col0\" class=\"data row15 col0\" >eled</td>\n",
              "      <td id=\"T_f0b69_row15_col1\" class=\"data row15 col1\" >1.298415</td>\n",
              "    </tr>\n",
              "    <tr>\n",
              "      <th id=\"T_f0b69_level0_row16\" class=\"row_heading level0 row16\" >9744</th>\n",
              "      <td id=\"T_f0b69_row16_col0\" class=\"data row16 col0\" >ctic</td>\n",
              "      <td id=\"T_f0b69_row16_col1\" class=\"data row16 col1\" >1.291340</td>\n",
              "    </tr>\n",
              "    <tr>\n",
              "      <th id=\"T_f0b69_level0_row17\" class=\"row_heading level0 row17\" >1328</th>\n",
              "      <td id=\"T_f0b69_row17_col0\" class=\"data row17 col0\" >'m</td>\n",
              "      <td id=\"T_f0b69_row17_col1\" class=\"data row17 col1\" >1.285987</td>\n",
              "    </tr>\n",
              "    <tr>\n",
              "      <th id=\"T_f0b69_level0_row18\" class=\"row_heading level0 row18\" >12175</th>\n",
              "      <td id=\"T_f0b69_row18_col0\" class=\"data row18 col0\" >·pray</td>\n",
              "      <td id=\"T_f0b69_row18_col1\" class=\"data row18 col1\" >1.283974</td>\n",
              "    </tr>\n",
              "    <tr>\n",
              "      <th id=\"T_f0b69_level0_row19\" class=\"row_heading level0 row19\" >12563</th>\n",
              "      <td id=\"T_f0b69_row19_col0\" class=\"data row19 col0\" >·laughed</td>\n",
              "      <td id=\"T_f0b69_row19_col1\" class=\"data row19 col1\" >1.274961</td>\n",
              "    </tr>\n",
              "  </tbody>\n",
              "</table>\n"
            ],
            "text/plain": [
              "<pandas.io.formats.style.Styler at 0x7bf2c5aef740>"
            ]
          },
          "execution_count": 21,
          "metadata": {},
          "output_type": "execute_result"
        }
      ],
      "source": [
        "logit_effect = encoder.W_dec[feature_id] @ model.W_out[0] @ model.W_U\n",
        "create_vocab_df(logit_effect).head(20).style.background_gradient(\"coolwarm\")"
      ]
    },
    {
      "cell_type": "code",
      "execution_count": null,
      "metadata": {
        "id": "LBb6AwBLSoQU"
      },
      "outputs": [],
      "source": []
    }
  ],
  "metadata": {
    "accelerator": "GPU",
    "colab": {
      "gpuType": "T4",
      "provenance": []
    },
    "kernelspec": {
      "display_name": "GPT-2",
      "language": "python",
      "name": "python3"
    },
    "language_info": {
      "codemirror_mode": {
        "name": "ipython",
        "version": 3
      },
      "file_extension": ".py",
      "mimetype": "text/x-python",
      "name": "python",
      "nbconvert_exporter": "python",
      "pygments_lexer": "ipython3",
      "version": "3.12.7"
    },
    "widgets": {
      "application/vnd.jupyter.widget-state+json": {
        "009c7da5712445bc9c37f8c1d35fd6bd": {
          "model_module": "@jupyter-widgets/controls",
          "model_module_version": "1.5.0",
          "model_name": "HTMLModel",
          "state": {
            "_dom_classes": [],
            "_model_module": "@jupyter-widgets/controls",
            "_model_module_version": "1.5.0",
            "_model_name": "HTMLModel",
            "_view_count": null,
            "_view_module": "@jupyter-widgets/controls",
            "_view_module_version": "1.5.0",
            "_view_name": "HTMLView",
            "description": "",
            "description_tooltip": null,
            "layout": "IPY_MODEL_5360edb02095451a9be9989feb1d43be",
            "placeholder": "​",
            "style": "IPY_MODEL_d50f48bb69dc45c8b3bc0622a68db0a1",
            "value": " 81.0/81.0 [00:00&lt;00:00, 5.82kB/s]"
          }
        },
        "0124ab5c40e7458687e0f0b7d869e603": {
          "model_module": "@jupyter-widgets/controls",
          "model_module_version": "1.5.0",
          "model_name": "FloatProgressModel",
          "state": {
            "_dom_classes": [],
            "_model_module": "@jupyter-widgets/controls",
            "_model_module_version": "1.5.0",
            "_model_name": "FloatProgressModel",
            "_view_count": null,
            "_view_module": "@jupyter-widgets/controls",
            "_view_module_version": "1.5.0",
            "_view_name": "ProgressView",
            "bar_style": "success",
            "description": "",
            "description_tooltip": null,
            "layout": "IPY_MODEL_dc0e6b496c9742839abffb791a7afcc2",
            "max": 213447904,
            "min": 0,
            "orientation": "horizontal",
            "style": "IPY_MODEL_2e478b6ba6db46008a16dbf305cc7439",
            "value": 213447904
          }
        },
        "01cdaf6749e140f4bc2424f3e2de5f91": {
          "model_module": "@jupyter-widgets/base",
          "model_module_version": "1.2.0",
          "model_name": "LayoutModel",
          "state": {
            "_model_module": "@jupyter-widgets/base",
            "_model_module_version": "1.2.0",
            "_model_name": "LayoutModel",
            "_view_count": null,
            "_view_module": "@jupyter-widgets/base",
            "_view_module_version": "1.2.0",
            "_view_name": "LayoutView",
            "align_content": null,
            "align_items": null,
            "align_self": null,
            "border": null,
            "bottom": null,
            "display": null,
            "flex": null,
            "flex_flow": null,
            "grid_area": null,
            "grid_auto_columns": null,
            "grid_auto_flow": null,
            "grid_auto_rows": null,
            "grid_column": null,
            "grid_gap": null,
            "grid_row": null,
            "grid_template_areas": null,
            "grid_template_columns": null,
            "grid_template_rows": null,
            "height": null,
            "justify_content": null,
            "justify_items": null,
            "left": null,
            "margin": null,
            "max_height": null,
            "max_width": null,
            "min_height": null,
            "min_width": null,
            "object_fit": null,
            "object_position": null,
            "order": null,
            "overflow": null,
            "overflow_x": null,
            "overflow_y": null,
            "padding": null,
            "right": null,
            "top": null,
            "visibility": null,
            "width": null
          }
        },
        "01d34dc8c30c4df8b23fbdfd3427dbf7": {
          "model_module": "@jupyter-widgets/controls",
          "model_module_version": "1.5.0",
          "model_name": "DescriptionStyleModel",
          "state": {
            "_model_module": "@jupyter-widgets/controls",
            "_model_module_version": "1.5.0",
            "_model_name": "DescriptionStyleModel",
            "_view_count": null,
            "_view_module": "@jupyter-widgets/base",
            "_view_module_version": "1.2.0",
            "_view_name": "StyleView",
            "description_width": ""
          }
        },
        "0569dbfe505b48e2adef1f2c764561ba": {
          "model_module": "@jupyter-widgets/base",
          "model_module_version": "1.2.0",
          "model_name": "LayoutModel",
          "state": {
            "_model_module": "@jupyter-widgets/base",
            "_model_module_version": "1.2.0",
            "_model_name": "LayoutModel",
            "_view_count": null,
            "_view_module": "@jupyter-widgets/base",
            "_view_module_version": "1.2.0",
            "_view_name": "LayoutView",
            "align_content": null,
            "align_items": null,
            "align_self": null,
            "border": null,
            "bottom": null,
            "display": null,
            "flex": null,
            "flex_flow": null,
            "grid_area": null,
            "grid_auto_columns": null,
            "grid_auto_flow": null,
            "grid_auto_rows": null,
            "grid_column": null,
            "grid_gap": null,
            "grid_row": null,
            "grid_template_areas": null,
            "grid_template_columns": null,
            "grid_template_rows": null,
            "height": null,
            "justify_content": null,
            "justify_items": null,
            "left": null,
            "margin": null,
            "max_height": null,
            "max_width": null,
            "min_height": null,
            "min_width": null,
            "object_fit": null,
            "object_position": null,
            "order": null,
            "overflow": null,
            "overflow_x": null,
            "overflow_y": null,
            "padding": null,
            "right": null,
            "top": null,
            "visibility": null,
            "width": null
          }
        },
        "07f802314b9e4e44b1b2150d144a7b8a": {
          "model_module": "@jupyter-widgets/base",
          "model_module_version": "1.2.0",
          "model_name": "LayoutModel",
          "state": {
            "_model_module": "@jupyter-widgets/base",
            "_model_module_version": "1.2.0",
            "_model_name": "LayoutModel",
            "_view_count": null,
            "_view_module": "@jupyter-widgets/base",
            "_view_module_version": "1.2.0",
            "_view_name": "LayoutView",
            "align_content": null,
            "align_items": null,
            "align_self": null,
            "border": null,
            "bottom": null,
            "display": null,
            "flex": null,
            "flex_flow": null,
            "grid_area": null,
            "grid_auto_columns": null,
            "grid_auto_flow": null,
            "grid_auto_rows": null,
            "grid_column": null,
            "grid_gap": null,
            "grid_row": null,
            "grid_template_areas": null,
            "grid_template_columns": null,
            "grid_template_rows": null,
            "height": null,
            "justify_content": null,
            "justify_items": null,
            "left": null,
            "margin": null,
            "max_height": null,
            "max_width": null,
            "min_height": null,
            "min_width": null,
            "object_fit": null,
            "object_position": null,
            "order": null,
            "overflow": null,
            "overflow_x": null,
            "overflow_y": null,
            "padding": null,
            "right": null,
            "top": null,
            "visibility": null,
            "width": null
          }
        },
        "0860378535334db6a4120cf7be55fef4": {
          "model_module": "@jupyter-widgets/base",
          "model_module_version": "1.2.0",
          "model_name": "LayoutModel",
          "state": {
            "_model_module": "@jupyter-widgets/base",
            "_model_module_version": "1.2.0",
            "_model_name": "LayoutModel",
            "_view_count": null,
            "_view_module": "@jupyter-widgets/base",
            "_view_module_version": "1.2.0",
            "_view_name": "LayoutView",
            "align_content": null,
            "align_items": null,
            "align_self": null,
            "border": null,
            "bottom": null,
            "display": null,
            "flex": null,
            "flex_flow": null,
            "grid_area": null,
            "grid_auto_columns": null,
            "grid_auto_flow": null,
            "grid_auto_rows": null,
            "grid_column": null,
            "grid_gap": null,
            "grid_row": null,
            "grid_template_areas": null,
            "grid_template_columns": null,
            "grid_template_rows": null,
            "height": null,
            "justify_content": null,
            "justify_items": null,
            "left": null,
            "margin": null,
            "max_height": null,
            "max_width": null,
            "min_height": null,
            "min_width": null,
            "object_fit": null,
            "object_position": null,
            "order": null,
            "overflow": null,
            "overflow_x": null,
            "overflow_y": null,
            "padding": null,
            "right": null,
            "top": null,
            "visibility": null,
            "width": null
          }
        },
        "0a84f24f4a884528b6815df631e62d0b": {
          "model_module": "@jupyter-widgets/base",
          "model_module_version": "1.2.0",
          "model_name": "LayoutModel",
          "state": {
            "_model_module": "@jupyter-widgets/base",
            "_model_module_version": "1.2.0",
            "_model_name": "LayoutModel",
            "_view_count": null,
            "_view_module": "@jupyter-widgets/base",
            "_view_module_version": "1.2.0",
            "_view_name": "LayoutView",
            "align_content": null,
            "align_items": null,
            "align_self": null,
            "border": null,
            "bottom": null,
            "display": null,
            "flex": null,
            "flex_flow": null,
            "grid_area": null,
            "grid_auto_columns": null,
            "grid_auto_flow": null,
            "grid_auto_rows": null,
            "grid_column": null,
            "grid_gap": null,
            "grid_row": null,
            "grid_template_areas": null,
            "grid_template_columns": null,
            "grid_template_rows": null,
            "height": null,
            "justify_content": null,
            "justify_items": null,
            "left": null,
            "margin": null,
            "max_height": null,
            "max_width": null,
            "min_height": null,
            "min_width": null,
            "object_fit": null,
            "object_position": null,
            "order": null,
            "overflow": null,
            "overflow_x": null,
            "overflow_y": null,
            "padding": null,
            "right": null,
            "top": null,
            "visibility": null,
            "width": null
          }
        },
        "0d82018d445d4db0a92acdd050189171": {
          "model_module": "@jupyter-widgets/base",
          "model_module_version": "1.2.0",
          "model_name": "LayoutModel",
          "state": {
            "_model_module": "@jupyter-widgets/base",
            "_model_module_version": "1.2.0",
            "_model_name": "LayoutModel",
            "_view_count": null,
            "_view_module": "@jupyter-widgets/base",
            "_view_module_version": "1.2.0",
            "_view_name": "LayoutView",
            "align_content": null,
            "align_items": null,
            "align_self": null,
            "border": null,
            "bottom": null,
            "display": null,
            "flex": null,
            "flex_flow": null,
            "grid_area": null,
            "grid_auto_columns": null,
            "grid_auto_flow": null,
            "grid_auto_rows": null,
            "grid_column": null,
            "grid_gap": null,
            "grid_row": null,
            "grid_template_areas": null,
            "grid_template_columns": null,
            "grid_template_rows": null,
            "height": null,
            "justify_content": null,
            "justify_items": null,
            "left": null,
            "margin": null,
            "max_height": null,
            "max_width": null,
            "min_height": null,
            "min_width": null,
            "object_fit": null,
            "object_position": null,
            "order": null,
            "overflow": null,
            "overflow_x": null,
            "overflow_y": null,
            "padding": null,
            "right": null,
            "top": null,
            "visibility": null,
            "width": null
          }
        },
        "0e1d451e298f487ea55efee30dbdeac7": {
          "model_module": "@jupyter-widgets/controls",
          "model_module_version": "1.5.0",
          "model_name": "DescriptionStyleModel",
          "state": {
            "_model_module": "@jupyter-widgets/controls",
            "_model_module_version": "1.5.0",
            "_model_name": "DescriptionStyleModel",
            "_view_count": null,
            "_view_module": "@jupyter-widgets/base",
            "_view_module_version": "1.2.0",
            "_view_name": "StyleView",
            "description_width": ""
          }
        },
        "0f08c07d7bb645a39e55c7b290ab1aaf": {
          "model_module": "@jupyter-widgets/controls",
          "model_module_version": "1.5.0",
          "model_name": "HTMLModel",
          "state": {
            "_dom_classes": [],
            "_model_module": "@jupyter-widgets/controls",
            "_model_module_version": "1.5.0",
            "_model_name": "HTMLModel",
            "_view_count": null,
            "_view_module": "@jupyter-widgets/controls",
            "_view_module_version": "1.5.0",
            "_view_name": "HTMLView",
            "description": "",
            "description_tooltip": null,
            "layout": "IPY_MODEL_61da91935d404a91a8932b968034bd84",
            "placeholder": "​",
            "style": "IPY_MODEL_e69b0d838bf44ea5bf86b60c811efa95",
            "value": "Downloading (…)okenizer_config.json: 100%"
          }
        },
        "0f7559bbac3740cdb99e6e56db5d7a09": {
          "model_module": "@jupyter-widgets/base",
          "model_module_version": "1.2.0",
          "model_name": "LayoutModel",
          "state": {
            "_model_module": "@jupyter-widgets/base",
            "_model_module_version": "1.2.0",
            "_model_name": "LayoutModel",
            "_view_count": null,
            "_view_module": "@jupyter-widgets/base",
            "_view_module_version": "1.2.0",
            "_view_name": "LayoutView",
            "align_content": null,
            "align_items": null,
            "align_self": null,
            "border": null,
            "bottom": null,
            "display": null,
            "flex": null,
            "flex_flow": null,
            "grid_area": null,
            "grid_auto_columns": null,
            "grid_auto_flow": null,
            "grid_auto_rows": null,
            "grid_column": null,
            "grid_gap": null,
            "grid_row": null,
            "grid_template_areas": null,
            "grid_template_columns": null,
            "grid_template_rows": null,
            "height": null,
            "justify_content": null,
            "justify_items": null,
            "left": null,
            "margin": null,
            "max_height": null,
            "max_width": null,
            "min_height": null,
            "min_width": null,
            "object_fit": null,
            "object_position": null,
            "order": null,
            "overflow": null,
            "overflow_x": null,
            "overflow_y": null,
            "padding": null,
            "right": null,
            "top": null,
            "visibility": null,
            "width": null
          }
        },
        "12c3debb4ab040998aea9813354adaa8": {
          "model_module": "@jupyter-widgets/controls",
          "model_module_version": "1.5.0",
          "model_name": "HTMLModel",
          "state": {
            "_dom_classes": [],
            "_model_module": "@jupyter-widgets/controls",
            "_model_module_version": "1.5.0",
            "_model_name": "HTMLModel",
            "_view_count": null,
            "_view_module": "@jupyter-widgets/controls",
            "_view_module_version": "1.5.0",
            "_view_name": "HTMLView",
            "description": "",
            "description_tooltip": null,
            "layout": "IPY_MODEL_a2628319d7934541ae9a8ecff70dfa57",
            "placeholder": "​",
            "style": "IPY_MODEL_f5bcb4df22bc4472a8ec5983e00955f9",
            "value": " 269M/269M [00:01&lt;00:00, 185MB/s]"
          }
        },
        "19bd5fdeb81348ba923bff381b02aaec": {
          "model_module": "@jupyter-widgets/controls",
          "model_module_version": "1.5.0",
          "model_name": "DescriptionStyleModel",
          "state": {
            "_model_module": "@jupyter-widgets/controls",
            "_model_module_version": "1.5.0",
            "_model_name": "DescriptionStyleModel",
            "_view_count": null,
            "_view_module": "@jupyter-widgets/base",
            "_view_module_version": "1.2.0",
            "_view_name": "StyleView",
            "description_width": ""
          }
        },
        "1aae7e1320c9497a943a1dd019d8dbeb": {
          "model_module": "@jupyter-widgets/controls",
          "model_module_version": "1.5.0",
          "model_name": "ProgressStyleModel",
          "state": {
            "_model_module": "@jupyter-widgets/controls",
            "_model_module_version": "1.5.0",
            "_model_name": "ProgressStyleModel",
            "_view_count": null,
            "_view_module": "@jupyter-widgets/base",
            "_view_module_version": "1.2.0",
            "_view_name": "StyleView",
            "bar_color": null,
            "description_width": ""
          }
        },
        "1b83bbfddac2409ab25c320f21eb4972": {
          "model_module": "@jupyter-widgets/base",
          "model_module_version": "1.2.0",
          "model_name": "LayoutModel",
          "state": {
            "_model_module": "@jupyter-widgets/base",
            "_model_module_version": "1.2.0",
            "_model_name": "LayoutModel",
            "_view_count": null,
            "_view_module": "@jupyter-widgets/base",
            "_view_module_version": "1.2.0",
            "_view_name": "LayoutView",
            "align_content": null,
            "align_items": null,
            "align_self": null,
            "border": null,
            "bottom": null,
            "display": null,
            "flex": null,
            "flex_flow": null,
            "grid_area": null,
            "grid_auto_columns": null,
            "grid_auto_flow": null,
            "grid_auto_rows": null,
            "grid_column": null,
            "grid_gap": null,
            "grid_row": null,
            "grid_template_areas": null,
            "grid_template_columns": null,
            "grid_template_rows": null,
            "height": null,
            "justify_content": null,
            "justify_items": null,
            "left": null,
            "margin": null,
            "max_height": null,
            "max_width": null,
            "min_height": null,
            "min_width": null,
            "object_fit": null,
            "object_position": null,
            "order": null,
            "overflow": null,
            "overflow_x": null,
            "overflow_y": null,
            "padding": null,
            "right": null,
            "top": null,
            "visibility": null,
            "width": null
          }
        },
        "1ecbaecca5ea4d34816ba18c303e53d4": {
          "model_module": "@jupyter-widgets/controls",
          "model_module_version": "1.5.0",
          "model_name": "HBoxModel",
          "state": {
            "_dom_classes": [],
            "_model_module": "@jupyter-widgets/controls",
            "_model_module_version": "1.5.0",
            "_model_name": "HBoxModel",
            "_view_count": null,
            "_view_module": "@jupyter-widgets/controls",
            "_view_module_version": "1.5.0",
            "_view_name": "HBoxView",
            "box_style": "",
            "children": [
              "IPY_MODEL_a7923757619545f2beb85c258b4e12be",
              "IPY_MODEL_b727375284c04542b992321e966473e1",
              "IPY_MODEL_980b3ecdd6784f06a60edde548c28e87"
            ],
            "layout": "IPY_MODEL_1ee4c2b07dd84341a87b01a42a71db6a"
          }
        },
        "1ee4c2b07dd84341a87b01a42a71db6a": {
          "model_module": "@jupyter-widgets/base",
          "model_module_version": "1.2.0",
          "model_name": "LayoutModel",
          "state": {
            "_model_module": "@jupyter-widgets/base",
            "_model_module_version": "1.2.0",
            "_model_name": "LayoutModel",
            "_view_count": null,
            "_view_module": "@jupyter-widgets/base",
            "_view_module_version": "1.2.0",
            "_view_name": "LayoutView",
            "align_content": null,
            "align_items": null,
            "align_self": null,
            "border": null,
            "bottom": null,
            "display": null,
            "flex": null,
            "flex_flow": null,
            "grid_area": null,
            "grid_auto_columns": null,
            "grid_auto_flow": null,
            "grid_auto_rows": null,
            "grid_column": null,
            "grid_gap": null,
            "grid_row": null,
            "grid_template_areas": null,
            "grid_template_columns": null,
            "grid_template_rows": null,
            "height": null,
            "justify_content": null,
            "justify_items": null,
            "left": null,
            "margin": null,
            "max_height": null,
            "max_width": null,
            "min_height": null,
            "min_width": null,
            "object_fit": null,
            "object_position": null,
            "order": null,
            "overflow": null,
            "overflow_x": null,
            "overflow_y": null,
            "padding": null,
            "right": null,
            "top": null,
            "visibility": null,
            "width": null
          }
        },
        "22ddc68cd9d04ebaa4dee403f33583c9": {
          "model_module": "@jupyter-widgets/controls",
          "model_module_version": "1.5.0",
          "model_name": "ProgressStyleModel",
          "state": {
            "_model_module": "@jupyter-widgets/controls",
            "_model_module_version": "1.5.0",
            "_model_name": "ProgressStyleModel",
            "_view_count": null,
            "_view_module": "@jupyter-widgets/base",
            "_view_module_version": "1.2.0",
            "_view_name": "StyleView",
            "bar_color": null,
            "description_width": ""
          }
        },
        "25243a97e7b548d1be5e22c1ea5cebd6": {
          "model_module": "@jupyter-widgets/controls",
          "model_module_version": "1.5.0",
          "model_name": "HTMLModel",
          "state": {
            "_dom_classes": [],
            "_model_module": "@jupyter-widgets/controls",
            "_model_module_version": "1.5.0",
            "_model_name": "HTMLModel",
            "_view_count": null,
            "_view_module": "@jupyter-widgets/controls",
            "_view_module_version": "1.5.0",
            "_view_name": "HTMLView",
            "description": "",
            "description_tooltip": null,
            "layout": "IPY_MODEL_a4ac310a05ae458d89e78c64ca6fb61f",
            "placeholder": "​",
            "style": "IPY_MODEL_d2fa4a4d342948a68e5a18d2eb9cd6b4",
            "value": " 2.04M/2.04M [00:00&lt;00:00, 18.7MB/s]"
          }
        },
        "2844ca97c5eb416b91a19bb1785fffb7": {
          "model_module": "@jupyter-widgets/controls",
          "model_module_version": "1.5.0",
          "model_name": "HBoxModel",
          "state": {
            "_dom_classes": [],
            "_model_module": "@jupyter-widgets/controls",
            "_model_module_version": "1.5.0",
            "_model_name": "HBoxModel",
            "_view_count": null,
            "_view_module": "@jupyter-widgets/controls",
            "_view_module_version": "1.5.0",
            "_view_name": "HBoxView",
            "box_style": "",
            "children": [
              "IPY_MODEL_ff155cdc671449db9a28e1fd282a06c6",
              "IPY_MODEL_93cc6f0afe8342969eb9bf31efb7b056",
              "IPY_MODEL_a29f83b57eec49d0aacb06dcc2350124"
            ],
            "layout": "IPY_MODEL_aa2b71396bc94c728a8e0d808f0f3570"
          }
        },
        "2be3726cfb0842e7ac334841dbcd9d1e": {
          "model_module": "@jupyter-widgets/controls",
          "model_module_version": "1.5.0",
          "model_name": "HBoxModel",
          "state": {
            "_dom_classes": [],
            "_model_module": "@jupyter-widgets/controls",
            "_model_module_version": "1.5.0",
            "_model_name": "HBoxModel",
            "_view_count": null,
            "_view_module": "@jupyter-widgets/controls",
            "_view_module_version": "1.5.0",
            "_view_name": "HBoxView",
            "box_style": "",
            "children": [
              "IPY_MODEL_63a280d05b7d4b6bbe1bc949a2b57d8d",
              "IPY_MODEL_f69035c24d3349d7a07b9a301092b02e",
              "IPY_MODEL_b1b4f6ab555b4fd2be52200652b2608e"
            ],
            "layout": "IPY_MODEL_af72416e2f654d88a3d96c8b4c7c3922"
          }
        },
        "2e0cc66ed35b431fab7d15ffa55a79f2": {
          "model_module": "@jupyter-widgets/controls",
          "model_module_version": "1.5.0",
          "model_name": "DescriptionStyleModel",
          "state": {
            "_model_module": "@jupyter-widgets/controls",
            "_model_module_version": "1.5.0",
            "_model_name": "DescriptionStyleModel",
            "_view_count": null,
            "_view_module": "@jupyter-widgets/base",
            "_view_module_version": "1.2.0",
            "_view_name": "StyleView",
            "description_width": ""
          }
        },
        "2e32f22ea38f47b7b80e1d78ac0ae62d": {
          "model_module": "@jupyter-widgets/controls",
          "model_module_version": "1.5.0",
          "model_name": "HBoxModel",
          "state": {
            "_dom_classes": [],
            "_model_module": "@jupyter-widgets/controls",
            "_model_module_version": "1.5.0",
            "_model_name": "HBoxModel",
            "_view_count": null,
            "_view_module": "@jupyter-widgets/controls",
            "_view_module_version": "1.5.0",
            "_view_name": "HBoxView",
            "box_style": "",
            "children": [
              "IPY_MODEL_942b697e76bc4d108371eb29e6456e3f",
              "IPY_MODEL_6a8e1f179fff4e0b88b7ba1ae2ea9e14",
              "IPY_MODEL_25243a97e7b548d1be5e22c1ea5cebd6"
            ],
            "layout": "IPY_MODEL_dfc5e65329264906b1eae469287b826b"
          }
        },
        "2e478b6ba6db46008a16dbf305cc7439": {
          "model_module": "@jupyter-widgets/controls",
          "model_module_version": "1.5.0",
          "model_name": "ProgressStyleModel",
          "state": {
            "_model_module": "@jupyter-widgets/controls",
            "_model_module_version": "1.5.0",
            "_model_name": "ProgressStyleModel",
            "_view_count": null,
            "_view_module": "@jupyter-widgets/base",
            "_view_module_version": "1.2.0",
            "_view_name": "StyleView",
            "bar_color": null,
            "description_width": ""
          }
        },
        "2e7e969a023043a0b62ea18624e2233d": {
          "model_module": "@jupyter-widgets/base",
          "model_module_version": "1.2.0",
          "model_name": "LayoutModel",
          "state": {
            "_model_module": "@jupyter-widgets/base",
            "_model_module_version": "1.2.0",
            "_model_name": "LayoutModel",
            "_view_count": null,
            "_view_module": "@jupyter-widgets/base",
            "_view_module_version": "1.2.0",
            "_view_name": "LayoutView",
            "align_content": null,
            "align_items": null,
            "align_self": null,
            "border": null,
            "bottom": null,
            "display": null,
            "flex": null,
            "flex_flow": null,
            "grid_area": null,
            "grid_auto_columns": null,
            "grid_auto_flow": null,
            "grid_auto_rows": null,
            "grid_column": null,
            "grid_gap": null,
            "grid_row": null,
            "grid_template_areas": null,
            "grid_template_columns": null,
            "grid_template_rows": null,
            "height": null,
            "justify_content": null,
            "justify_items": null,
            "left": null,
            "margin": null,
            "max_height": null,
            "max_width": null,
            "min_height": null,
            "min_width": null,
            "object_fit": null,
            "object_position": null,
            "order": null,
            "overflow": null,
            "overflow_x": null,
            "overflow_y": null,
            "padding": null,
            "right": null,
            "top": null,
            "visibility": null,
            "width": null
          }
        },
        "30494965c3fd4a959b6b6c83da6a0f27": {
          "model_module": "@jupyter-widgets/controls",
          "model_module_version": "1.5.0",
          "model_name": "DescriptionStyleModel",
          "state": {
            "_model_module": "@jupyter-widgets/controls",
            "_model_module_version": "1.5.0",
            "_model_name": "DescriptionStyleModel",
            "_view_count": null,
            "_view_module": "@jupyter-widgets/base",
            "_view_module_version": "1.2.0",
            "_view_name": "StyleView",
            "description_width": ""
          }
        },
        "30c93bd7cf0d4f0596cc54d630a96da2": {
          "model_module": "@jupyter-widgets/controls",
          "model_module_version": "1.5.0",
          "model_name": "ProgressStyleModel",
          "state": {
            "_model_module": "@jupyter-widgets/controls",
            "_model_module_version": "1.5.0",
            "_model_name": "ProgressStyleModel",
            "_view_count": null,
            "_view_module": "@jupyter-widgets/base",
            "_view_module_version": "1.2.0",
            "_view_name": "StyleView",
            "bar_color": null,
            "description_width": ""
          }
        },
        "31d3b3a63c5248268b40b731cc933a77": {
          "model_module": "@jupyter-widgets/base",
          "model_module_version": "1.2.0",
          "model_name": "LayoutModel",
          "state": {
            "_model_module": "@jupyter-widgets/base",
            "_model_module_version": "1.2.0",
            "_model_name": "LayoutModel",
            "_view_count": null,
            "_view_module": "@jupyter-widgets/base",
            "_view_module_version": "1.2.0",
            "_view_name": "LayoutView",
            "align_content": null,
            "align_items": null,
            "align_self": null,
            "border": null,
            "bottom": null,
            "display": null,
            "flex": null,
            "flex_flow": null,
            "grid_area": null,
            "grid_auto_columns": null,
            "grid_auto_flow": null,
            "grid_auto_rows": null,
            "grid_column": null,
            "grid_gap": null,
            "grid_row": null,
            "grid_template_areas": null,
            "grid_template_columns": null,
            "grid_template_rows": null,
            "height": null,
            "justify_content": null,
            "justify_items": null,
            "left": null,
            "margin": null,
            "max_height": null,
            "max_width": null,
            "min_height": null,
            "min_width": null,
            "object_fit": null,
            "object_position": null,
            "order": null,
            "overflow": null,
            "overflow_x": null,
            "overflow_y": null,
            "padding": null,
            "right": null,
            "top": null,
            "visibility": null,
            "width": null
          }
        },
        "324071a3cfe748e68305fa099b700c6a": {
          "model_module": "@jupyter-widgets/controls",
          "model_module_version": "1.5.0",
          "model_name": "ProgressStyleModel",
          "state": {
            "_model_module": "@jupyter-widgets/controls",
            "_model_module_version": "1.5.0",
            "_model_name": "ProgressStyleModel",
            "_view_count": null,
            "_view_module": "@jupyter-widgets/base",
            "_view_module_version": "1.2.0",
            "_view_name": "StyleView",
            "bar_color": null,
            "description_width": ""
          }
        },
        "34d88189a7c74c94be791f25a78d2dea": {
          "model_module": "@jupyter-widgets/controls",
          "model_module_version": "1.5.0",
          "model_name": "FloatProgressModel",
          "state": {
            "_dom_classes": [],
            "_model_module": "@jupyter-widgets/controls",
            "_model_module_version": "1.5.0",
            "_model_name": "FloatProgressModel",
            "_view_count": null,
            "_view_module": "@jupyter-widgets/controls",
            "_view_module_version": "1.5.0",
            "_view_name": "ProgressView",
            "bar_style": "success",
            "description": "",
            "description_tooltip": null,
            "layout": "IPY_MODEL_705d537c067a44139a54c7eff75b893e",
            "max": 1,
            "min": 0,
            "orientation": "horizontal",
            "style": "IPY_MODEL_1aae7e1320c9497a943a1dd019d8dbeb",
            "value": 1
          }
        },
        "360a5973f8314c4c8152f3e8ad60ca2e": {
          "model_module": "@jupyter-widgets/controls",
          "model_module_version": "1.5.0",
          "model_name": "ProgressStyleModel",
          "state": {
            "_model_module": "@jupyter-widgets/controls",
            "_model_module_version": "1.5.0",
            "_model_name": "ProgressStyleModel",
            "_view_count": null,
            "_view_module": "@jupyter-widgets/base",
            "_view_module_version": "1.2.0",
            "_view_name": "StyleView",
            "bar_color": null,
            "description_width": ""
          }
        },
        "37b8850d44bc4b9d9819079f56fa9921": {
          "model_module": "@jupyter-widgets/controls",
          "model_module_version": "1.5.0",
          "model_name": "DescriptionStyleModel",
          "state": {
            "_model_module": "@jupyter-widgets/controls",
            "_model_module_version": "1.5.0",
            "_model_name": "DescriptionStyleModel",
            "_view_count": null,
            "_view_module": "@jupyter-widgets/base",
            "_view_module_version": "1.2.0",
            "_view_name": "StyleView",
            "description_width": ""
          }
        },
        "37c214a6ce4646c787f32cc9699d148e": {
          "model_module": "@jupyter-widgets/base",
          "model_module_version": "1.2.0",
          "model_name": "LayoutModel",
          "state": {
            "_model_module": "@jupyter-widgets/base",
            "_model_module_version": "1.2.0",
            "_model_name": "LayoutModel",
            "_view_count": null,
            "_view_module": "@jupyter-widgets/base",
            "_view_module_version": "1.2.0",
            "_view_name": "LayoutView",
            "align_content": null,
            "align_items": null,
            "align_self": null,
            "border": null,
            "bottom": null,
            "display": null,
            "flex": null,
            "flex_flow": null,
            "grid_area": null,
            "grid_auto_columns": null,
            "grid_auto_flow": null,
            "grid_auto_rows": null,
            "grid_column": null,
            "grid_gap": null,
            "grid_row": null,
            "grid_template_areas": null,
            "grid_template_columns": null,
            "grid_template_rows": null,
            "height": null,
            "justify_content": null,
            "justify_items": null,
            "left": null,
            "margin": null,
            "max_height": null,
            "max_width": null,
            "min_height": null,
            "min_width": null,
            "object_fit": null,
            "object_position": null,
            "order": null,
            "overflow": null,
            "overflow_x": null,
            "overflow_y": null,
            "padding": null,
            "right": null,
            "top": null,
            "visibility": null,
            "width": null
          }
        },
        "37dd193c4cd74392adfc4ce09e506e69": {
          "model_module": "@jupyter-widgets/controls",
          "model_module_version": "1.5.0",
          "model_name": "DescriptionStyleModel",
          "state": {
            "_model_module": "@jupyter-widgets/controls",
            "_model_module_version": "1.5.0",
            "_model_name": "DescriptionStyleModel",
            "_view_count": null,
            "_view_module": "@jupyter-widgets/base",
            "_view_module_version": "1.2.0",
            "_view_name": "StyleView",
            "description_width": ""
          }
        },
        "38385d6c9ad64196a8c1fa1ec5f90227": {
          "model_module": "@jupyter-widgets/base",
          "model_module_version": "1.2.0",
          "model_name": "LayoutModel",
          "state": {
            "_model_module": "@jupyter-widgets/base",
            "_model_module_version": "1.2.0",
            "_model_name": "LayoutModel",
            "_view_count": null,
            "_view_module": "@jupyter-widgets/base",
            "_view_module_version": "1.2.0",
            "_view_name": "LayoutView",
            "align_content": null,
            "align_items": null,
            "align_self": null,
            "border": null,
            "bottom": null,
            "display": null,
            "flex": null,
            "flex_flow": null,
            "grid_area": null,
            "grid_auto_columns": null,
            "grid_auto_flow": null,
            "grid_auto_rows": null,
            "grid_column": null,
            "grid_gap": null,
            "grid_row": null,
            "grid_template_areas": null,
            "grid_template_columns": null,
            "grid_template_rows": null,
            "height": null,
            "justify_content": null,
            "justify_items": null,
            "left": null,
            "margin": null,
            "max_height": null,
            "max_width": null,
            "min_height": null,
            "min_width": null,
            "object_fit": null,
            "object_position": null,
            "order": null,
            "overflow": null,
            "overflow_x": null,
            "overflow_y": null,
            "padding": null,
            "right": null,
            "top": null,
            "visibility": null,
            "width": null
          }
        },
        "39c643d3e8184286a01d40aad8ca26e5": {
          "model_module": "@jupyter-widgets/base",
          "model_module_version": "1.2.0",
          "model_name": "LayoutModel",
          "state": {
            "_model_module": "@jupyter-widgets/base",
            "_model_module_version": "1.2.0",
            "_model_name": "LayoutModel",
            "_view_count": null,
            "_view_module": "@jupyter-widgets/base",
            "_view_module_version": "1.2.0",
            "_view_name": "LayoutView",
            "align_content": null,
            "align_items": null,
            "align_self": null,
            "border": null,
            "bottom": null,
            "display": null,
            "flex": null,
            "flex_flow": null,
            "grid_area": null,
            "grid_auto_columns": null,
            "grid_auto_flow": null,
            "grid_auto_rows": null,
            "grid_column": null,
            "grid_gap": null,
            "grid_row": null,
            "grid_template_areas": null,
            "grid_template_columns": null,
            "grid_template_rows": null,
            "height": null,
            "justify_content": null,
            "justify_items": null,
            "left": null,
            "margin": null,
            "max_height": null,
            "max_width": null,
            "min_height": null,
            "min_width": null,
            "object_fit": null,
            "object_position": null,
            "order": null,
            "overflow": null,
            "overflow_x": null,
            "overflow_y": null,
            "padding": null,
            "right": null,
            "top": null,
            "visibility": null,
            "width": null
          }
        },
        "3a67d311bc0f409e8aaf54fb84f7eee8": {
          "model_module": "@jupyter-widgets/base",
          "model_module_version": "1.2.0",
          "model_name": "LayoutModel",
          "state": {
            "_model_module": "@jupyter-widgets/base",
            "_model_module_version": "1.2.0",
            "_model_name": "LayoutModel",
            "_view_count": null,
            "_view_module": "@jupyter-widgets/base",
            "_view_module_version": "1.2.0",
            "_view_name": "LayoutView",
            "align_content": null,
            "align_items": null,
            "align_self": null,
            "border": null,
            "bottom": null,
            "display": null,
            "flex": null,
            "flex_flow": null,
            "grid_area": null,
            "grid_auto_columns": null,
            "grid_auto_flow": null,
            "grid_auto_rows": null,
            "grid_column": null,
            "grid_gap": null,
            "grid_row": null,
            "grid_template_areas": null,
            "grid_template_columns": null,
            "grid_template_rows": null,
            "height": null,
            "justify_content": null,
            "justify_items": null,
            "left": null,
            "margin": null,
            "max_height": null,
            "max_width": null,
            "min_height": null,
            "min_width": null,
            "object_fit": null,
            "object_position": null,
            "order": null,
            "overflow": null,
            "overflow_x": null,
            "overflow_y": null,
            "padding": null,
            "right": null,
            "top": null,
            "visibility": null,
            "width": null
          }
        },
        "3b90b9c7cea9468286a9f26c45bfb8d2": {
          "model_module": "@jupyter-widgets/controls",
          "model_module_version": "1.5.0",
          "model_name": "ProgressStyleModel",
          "state": {
            "_model_module": "@jupyter-widgets/controls",
            "_model_module_version": "1.5.0",
            "_model_name": "ProgressStyleModel",
            "_view_count": null,
            "_view_module": "@jupyter-widgets/base",
            "_view_module_version": "1.2.0",
            "_view_name": "StyleView",
            "bar_color": null,
            "description_width": ""
          }
        },
        "3b9af725d6094c23943526189315fe4f": {
          "model_module": "@jupyter-widgets/controls",
          "model_module_version": "1.5.0",
          "model_name": "HBoxModel",
          "state": {
            "_dom_classes": [],
            "_model_module": "@jupyter-widgets/controls",
            "_model_module_version": "1.5.0",
            "_model_name": "HBoxModel",
            "_view_count": null,
            "_view_module": "@jupyter-widgets/controls",
            "_view_module_version": "1.5.0",
            "_view_name": "HBoxView",
            "box_style": "",
            "children": [
              "IPY_MODEL_d6b8373110964061a8b23dca466fd815",
              "IPY_MODEL_d15957af734f40c3ade79a820f46e738",
              "IPY_MODEL_99eb6d848c394327ad435ebac304b3bf"
            ],
            "layout": "IPY_MODEL_0a84f24f4a884528b6815df631e62d0b"
          }
        },
        "3d40a74ed36148e6869aa8804009b422": {
          "model_module": "@jupyter-widgets/base",
          "model_module_version": "1.2.0",
          "model_name": "LayoutModel",
          "state": {
            "_model_module": "@jupyter-widgets/base",
            "_model_module_version": "1.2.0",
            "_model_name": "LayoutModel",
            "_view_count": null,
            "_view_module": "@jupyter-widgets/base",
            "_view_module_version": "1.2.0",
            "_view_name": "LayoutView",
            "align_content": null,
            "align_items": null,
            "align_self": null,
            "border": null,
            "bottom": null,
            "display": null,
            "flex": null,
            "flex_flow": null,
            "grid_area": null,
            "grid_auto_columns": null,
            "grid_auto_flow": null,
            "grid_auto_rows": null,
            "grid_column": null,
            "grid_gap": null,
            "grid_row": null,
            "grid_template_areas": null,
            "grid_template_columns": null,
            "grid_template_rows": null,
            "height": null,
            "justify_content": null,
            "justify_items": null,
            "left": null,
            "margin": null,
            "max_height": null,
            "max_width": null,
            "min_height": null,
            "min_width": null,
            "object_fit": null,
            "object_position": null,
            "order": null,
            "overflow": null,
            "overflow_x": null,
            "overflow_y": null,
            "padding": null,
            "right": null,
            "top": null,
            "visibility": null,
            "width": null
          }
        },
        "3d42216452274726a35dd588b86341bf": {
          "model_module": "@jupyter-widgets/base",
          "model_module_version": "1.2.0",
          "model_name": "LayoutModel",
          "state": {
            "_model_module": "@jupyter-widgets/base",
            "_model_module_version": "1.2.0",
            "_model_name": "LayoutModel",
            "_view_count": null,
            "_view_module": "@jupyter-widgets/base",
            "_view_module_version": "1.2.0",
            "_view_name": "LayoutView",
            "align_content": null,
            "align_items": null,
            "align_self": null,
            "border": null,
            "bottom": null,
            "display": null,
            "flex": null,
            "flex_flow": null,
            "grid_area": null,
            "grid_auto_columns": null,
            "grid_auto_flow": null,
            "grid_auto_rows": null,
            "grid_column": null,
            "grid_gap": null,
            "grid_row": null,
            "grid_template_areas": null,
            "grid_template_columns": null,
            "grid_template_rows": null,
            "height": null,
            "justify_content": null,
            "justify_items": null,
            "left": null,
            "margin": null,
            "max_height": null,
            "max_width": null,
            "min_height": null,
            "min_width": null,
            "object_fit": null,
            "object_position": null,
            "order": null,
            "overflow": null,
            "overflow_x": null,
            "overflow_y": null,
            "padding": null,
            "right": null,
            "top": null,
            "visibility": null,
            "width": null
          }
        },
        "3ddd38d5d75c47628eb35e3a1d55d681": {
          "model_module": "@jupyter-widgets/controls",
          "model_module_version": "1.5.0",
          "model_name": "DescriptionStyleModel",
          "state": {
            "_model_module": "@jupyter-widgets/controls",
            "_model_module_version": "1.5.0",
            "_model_name": "DescriptionStyleModel",
            "_view_count": null,
            "_view_module": "@jupyter-widgets/base",
            "_view_module_version": "1.2.0",
            "_view_name": "StyleView",
            "description_width": ""
          }
        },
        "3e027ebedf9b49d092bdb011b137edb3": {
          "model_module": "@jupyter-widgets/base",
          "model_module_version": "1.2.0",
          "model_name": "LayoutModel",
          "state": {
            "_model_module": "@jupyter-widgets/base",
            "_model_module_version": "1.2.0",
            "_model_name": "LayoutModel",
            "_view_count": null,
            "_view_module": "@jupyter-widgets/base",
            "_view_module_version": "1.2.0",
            "_view_name": "LayoutView",
            "align_content": null,
            "align_items": null,
            "align_self": null,
            "border": null,
            "bottom": null,
            "display": null,
            "flex": null,
            "flex_flow": null,
            "grid_area": null,
            "grid_auto_columns": null,
            "grid_auto_flow": null,
            "grid_auto_rows": null,
            "grid_column": null,
            "grid_gap": null,
            "grid_row": null,
            "grid_template_areas": null,
            "grid_template_columns": null,
            "grid_template_rows": null,
            "height": null,
            "justify_content": null,
            "justify_items": null,
            "left": null,
            "margin": null,
            "max_height": null,
            "max_width": null,
            "min_height": null,
            "min_width": null,
            "object_fit": null,
            "object_position": null,
            "order": null,
            "overflow": null,
            "overflow_x": null,
            "overflow_y": null,
            "padding": null,
            "right": null,
            "top": null,
            "visibility": null,
            "width": null
          }
        },
        "40871289fe174fb688d388474a2cfeef": {
          "model_module": "@jupyter-widgets/controls",
          "model_module_version": "1.5.0",
          "model_name": "ProgressStyleModel",
          "state": {
            "_model_module": "@jupyter-widgets/controls",
            "_model_module_version": "1.5.0",
            "_model_name": "ProgressStyleModel",
            "_view_count": null,
            "_view_module": "@jupyter-widgets/base",
            "_view_module_version": "1.2.0",
            "_view_name": "StyleView",
            "bar_color": null,
            "description_width": ""
          }
        },
        "41ef1de6512b4edc8f05882a7efff800": {
          "model_module": "@jupyter-widgets/controls",
          "model_module_version": "1.5.0",
          "model_name": "ProgressStyleModel",
          "state": {
            "_model_module": "@jupyter-widgets/controls",
            "_model_module_version": "1.5.0",
            "_model_name": "ProgressStyleModel",
            "_view_count": null,
            "_view_module": "@jupyter-widgets/base",
            "_view_module_version": "1.2.0",
            "_view_name": "StyleView",
            "bar_color": null,
            "description_width": ""
          }
        },
        "47dd81a428d74f0e9f0c5d77acb40e7d": {
          "model_module": "@jupyter-widgets/controls",
          "model_module_version": "1.5.0",
          "model_name": "DescriptionStyleModel",
          "state": {
            "_model_module": "@jupyter-widgets/controls",
            "_model_module_version": "1.5.0",
            "_model_name": "DescriptionStyleModel",
            "_view_count": null,
            "_view_module": "@jupyter-widgets/base",
            "_view_module_version": "1.2.0",
            "_view_name": "StyleView",
            "description_width": ""
          }
        },
        "4b476580071d424f866971cc529319da": {
          "model_module": "@jupyter-widgets/base",
          "model_module_version": "1.2.0",
          "model_name": "LayoutModel",
          "state": {
            "_model_module": "@jupyter-widgets/base",
            "_model_module_version": "1.2.0",
            "_model_name": "LayoutModel",
            "_view_count": null,
            "_view_module": "@jupyter-widgets/base",
            "_view_module_version": "1.2.0",
            "_view_name": "LayoutView",
            "align_content": null,
            "align_items": null,
            "align_self": null,
            "border": null,
            "bottom": null,
            "display": null,
            "flex": null,
            "flex_flow": null,
            "grid_area": null,
            "grid_auto_columns": null,
            "grid_auto_flow": null,
            "grid_auto_rows": null,
            "grid_column": null,
            "grid_gap": null,
            "grid_row": null,
            "grid_template_areas": null,
            "grid_template_columns": null,
            "grid_template_rows": null,
            "height": null,
            "justify_content": null,
            "justify_items": null,
            "left": null,
            "margin": null,
            "max_height": null,
            "max_width": null,
            "min_height": null,
            "min_width": null,
            "object_fit": null,
            "object_position": null,
            "order": null,
            "overflow": null,
            "overflow_x": null,
            "overflow_y": null,
            "padding": null,
            "right": null,
            "top": null,
            "visibility": null,
            "width": null
          }
        },
        "4b63db57ac264573b5632d7e756fe7bb": {
          "model_module": "@jupyter-widgets/base",
          "model_module_version": "1.2.0",
          "model_name": "LayoutModel",
          "state": {
            "_model_module": "@jupyter-widgets/base",
            "_model_module_version": "1.2.0",
            "_model_name": "LayoutModel",
            "_view_count": null,
            "_view_module": "@jupyter-widgets/base",
            "_view_module_version": "1.2.0",
            "_view_name": "LayoutView",
            "align_content": null,
            "align_items": null,
            "align_self": null,
            "border": null,
            "bottom": null,
            "display": null,
            "flex": null,
            "flex_flow": null,
            "grid_area": null,
            "grid_auto_columns": null,
            "grid_auto_flow": null,
            "grid_auto_rows": null,
            "grid_column": null,
            "grid_gap": null,
            "grid_row": null,
            "grid_template_areas": null,
            "grid_template_columns": null,
            "grid_template_rows": null,
            "height": null,
            "justify_content": null,
            "justify_items": null,
            "left": null,
            "margin": null,
            "max_height": null,
            "max_width": null,
            "min_height": null,
            "min_width": null,
            "object_fit": null,
            "object_position": null,
            "order": null,
            "overflow": null,
            "overflow_x": null,
            "overflow_y": null,
            "padding": null,
            "right": null,
            "top": null,
            "visibility": null,
            "width": null
          }
        },
        "4cb9f497bc4342809f0bcf332de70a5c": {
          "model_module": "@jupyter-widgets/base",
          "model_module_version": "1.2.0",
          "model_name": "LayoutModel",
          "state": {
            "_model_module": "@jupyter-widgets/base",
            "_model_module_version": "1.2.0",
            "_model_name": "LayoutModel",
            "_view_count": null,
            "_view_module": "@jupyter-widgets/base",
            "_view_module_version": "1.2.0",
            "_view_name": "LayoutView",
            "align_content": null,
            "align_items": null,
            "align_self": null,
            "border": null,
            "bottom": null,
            "display": null,
            "flex": null,
            "flex_flow": null,
            "grid_area": null,
            "grid_auto_columns": null,
            "grid_auto_flow": null,
            "grid_auto_rows": null,
            "grid_column": null,
            "grid_gap": null,
            "grid_row": null,
            "grid_template_areas": null,
            "grid_template_columns": null,
            "grid_template_rows": null,
            "height": null,
            "justify_content": null,
            "justify_items": null,
            "left": null,
            "margin": null,
            "max_height": null,
            "max_width": null,
            "min_height": null,
            "min_width": null,
            "object_fit": null,
            "object_position": null,
            "order": null,
            "overflow": null,
            "overflow_x": null,
            "overflow_y": null,
            "padding": null,
            "right": null,
            "top": null,
            "visibility": null,
            "width": null
          }
        },
        "4d03aadc3fcb4f128d329f124f4f8fec": {
          "model_module": "@jupyter-widgets/base",
          "model_module_version": "1.2.0",
          "model_name": "LayoutModel",
          "state": {
            "_model_module": "@jupyter-widgets/base",
            "_model_module_version": "1.2.0",
            "_model_name": "LayoutModel",
            "_view_count": null,
            "_view_module": "@jupyter-widgets/base",
            "_view_module_version": "1.2.0",
            "_view_name": "LayoutView",
            "align_content": null,
            "align_items": null,
            "align_self": null,
            "border": null,
            "bottom": null,
            "display": null,
            "flex": null,
            "flex_flow": null,
            "grid_area": null,
            "grid_auto_columns": null,
            "grid_auto_flow": null,
            "grid_auto_rows": null,
            "grid_column": null,
            "grid_gap": null,
            "grid_row": null,
            "grid_template_areas": null,
            "grid_template_columns": null,
            "grid_template_rows": null,
            "height": null,
            "justify_content": null,
            "justify_items": null,
            "left": null,
            "margin": null,
            "max_height": null,
            "max_width": null,
            "min_height": null,
            "min_width": null,
            "object_fit": null,
            "object_position": null,
            "order": null,
            "overflow": null,
            "overflow_x": null,
            "overflow_y": null,
            "padding": null,
            "right": null,
            "top": null,
            "visibility": null,
            "width": null
          }
        },
        "5360edb02095451a9be9989feb1d43be": {
          "model_module": "@jupyter-widgets/base",
          "model_module_version": "1.2.0",
          "model_name": "LayoutModel",
          "state": {
            "_model_module": "@jupyter-widgets/base",
            "_model_module_version": "1.2.0",
            "_model_name": "LayoutModel",
            "_view_count": null,
            "_view_module": "@jupyter-widgets/base",
            "_view_module_version": "1.2.0",
            "_view_name": "LayoutView",
            "align_content": null,
            "align_items": null,
            "align_self": null,
            "border": null,
            "bottom": null,
            "display": null,
            "flex": null,
            "flex_flow": null,
            "grid_area": null,
            "grid_auto_columns": null,
            "grid_auto_flow": null,
            "grid_auto_rows": null,
            "grid_column": null,
            "grid_gap": null,
            "grid_row": null,
            "grid_template_areas": null,
            "grid_template_columns": null,
            "grid_template_rows": null,
            "height": null,
            "justify_content": null,
            "justify_items": null,
            "left": null,
            "margin": null,
            "max_height": null,
            "max_width": null,
            "min_height": null,
            "min_width": null,
            "object_fit": null,
            "object_position": null,
            "order": null,
            "overflow": null,
            "overflow_x": null,
            "overflow_y": null,
            "padding": null,
            "right": null,
            "top": null,
            "visibility": null,
            "width": null
          }
        },
        "57c9dc275c794f90b642bd4af341dcb8": {
          "model_module": "@jupyter-widgets/controls",
          "model_module_version": "1.5.0",
          "model_name": "HBoxModel",
          "state": {
            "_dom_classes": [],
            "_model_module": "@jupyter-widgets/controls",
            "_model_module_version": "1.5.0",
            "_model_name": "HBoxModel",
            "_view_count": null,
            "_view_module": "@jupyter-widgets/controls",
            "_view_module_version": "1.5.0",
            "_view_name": "HBoxView",
            "box_style": "",
            "children": [
              "IPY_MODEL_7b329dafc2db41d096b75fff14da8b74",
              "IPY_MODEL_bfa7c56a70af47dda5f33e0a82f85a8c",
              "IPY_MODEL_12c3debb4ab040998aea9813354adaa8"
            ],
            "layout": "IPY_MODEL_b798a0cc17284c74b3d68d1af40128a4"
          }
        },
        "5aed3e0bccd24d2688ec508a1bf4a8bc": {
          "model_module": "@jupyter-widgets/base",
          "model_module_version": "1.2.0",
          "model_name": "LayoutModel",
          "state": {
            "_model_module": "@jupyter-widgets/base",
            "_model_module_version": "1.2.0",
            "_model_name": "LayoutModel",
            "_view_count": null,
            "_view_module": "@jupyter-widgets/base",
            "_view_module_version": "1.2.0",
            "_view_name": "LayoutView",
            "align_content": null,
            "align_items": null,
            "align_self": null,
            "border": null,
            "bottom": null,
            "display": null,
            "flex": null,
            "flex_flow": null,
            "grid_area": null,
            "grid_auto_columns": null,
            "grid_auto_flow": null,
            "grid_auto_rows": null,
            "grid_column": null,
            "grid_gap": null,
            "grid_row": null,
            "grid_template_areas": null,
            "grid_template_columns": null,
            "grid_template_rows": null,
            "height": null,
            "justify_content": null,
            "justify_items": null,
            "left": null,
            "margin": null,
            "max_height": null,
            "max_width": null,
            "min_height": null,
            "min_width": null,
            "object_fit": null,
            "object_position": null,
            "order": null,
            "overflow": null,
            "overflow_x": null,
            "overflow_y": null,
            "padding": null,
            "right": null,
            "top": null,
            "visibility": null,
            "width": null
          }
        },
        "5bcd73f8820e46ba83ee5c0f576b5f18": {
          "model_module": "@jupyter-widgets/controls",
          "model_module_version": "1.5.0",
          "model_name": "ProgressStyleModel",
          "state": {
            "_model_module": "@jupyter-widgets/controls",
            "_model_module_version": "1.5.0",
            "_model_name": "ProgressStyleModel",
            "_view_count": null,
            "_view_module": "@jupyter-widgets/base",
            "_view_module_version": "1.2.0",
            "_view_name": "StyleView",
            "bar_color": null,
            "description_width": ""
          }
        },
        "5c58103e2fb749cbbab5e5a1b3a5d405": {
          "model_module": "@jupyter-widgets/base",
          "model_module_version": "1.2.0",
          "model_name": "LayoutModel",
          "state": {
            "_model_module": "@jupyter-widgets/base",
            "_model_module_version": "1.2.0",
            "_model_name": "LayoutModel",
            "_view_count": null,
            "_view_module": "@jupyter-widgets/base",
            "_view_module_version": "1.2.0",
            "_view_name": "LayoutView",
            "align_content": null,
            "align_items": null,
            "align_self": null,
            "border": null,
            "bottom": null,
            "display": null,
            "flex": null,
            "flex_flow": null,
            "grid_area": null,
            "grid_auto_columns": null,
            "grid_auto_flow": null,
            "grid_auto_rows": null,
            "grid_column": null,
            "grid_gap": null,
            "grid_row": null,
            "grid_template_areas": null,
            "grid_template_columns": null,
            "grid_template_rows": null,
            "height": null,
            "justify_content": null,
            "justify_items": null,
            "left": null,
            "margin": null,
            "max_height": null,
            "max_width": null,
            "min_height": null,
            "min_width": null,
            "object_fit": null,
            "object_position": null,
            "order": null,
            "overflow": null,
            "overflow_x": null,
            "overflow_y": null,
            "padding": null,
            "right": null,
            "top": null,
            "visibility": null,
            "width": null
          }
        },
        "5f0d865300874d3787f4d303976b0f02": {
          "model_module": "@jupyter-widgets/controls",
          "model_module_version": "1.5.0",
          "model_name": "DescriptionStyleModel",
          "state": {
            "_model_module": "@jupyter-widgets/controls",
            "_model_module_version": "1.5.0",
            "_model_name": "DescriptionStyleModel",
            "_view_count": null,
            "_view_module": "@jupyter-widgets/base",
            "_view_module_version": "1.2.0",
            "_view_name": "StyleView",
            "description_width": ""
          }
        },
        "609f41f15b32401f8e55f8b793552f7d": {
          "model_module": "@jupyter-widgets/controls",
          "model_module_version": "1.5.0",
          "model_name": "HBoxModel",
          "state": {
            "_dom_classes": [],
            "_model_module": "@jupyter-widgets/controls",
            "_model_module_version": "1.5.0",
            "_model_name": "HBoxModel",
            "_view_count": null,
            "_view_module": "@jupyter-widgets/controls",
            "_view_module_version": "1.5.0",
            "_view_name": "HBoxView",
            "box_style": "",
            "children": [
              "IPY_MODEL_c892d460dd614503856de88bf4c41b24",
              "IPY_MODEL_b3c204155fa94f0b8c0342e5d64a5dc5",
              "IPY_MODEL_ec109ea08a4e457ca279a554a8536dfd"
            ],
            "layout": "IPY_MODEL_a1c6a9369b9b420ab1495e61ef81853f"
          }
        },
        "61da91935d404a91a8932b968034bd84": {
          "model_module": "@jupyter-widgets/base",
          "model_module_version": "1.2.0",
          "model_name": "LayoutModel",
          "state": {
            "_model_module": "@jupyter-widgets/base",
            "_model_module_version": "1.2.0",
            "_model_name": "LayoutModel",
            "_view_count": null,
            "_view_module": "@jupyter-widgets/base",
            "_view_module_version": "1.2.0",
            "_view_name": "LayoutView",
            "align_content": null,
            "align_items": null,
            "align_self": null,
            "border": null,
            "bottom": null,
            "display": null,
            "flex": null,
            "flex_flow": null,
            "grid_area": null,
            "grid_auto_columns": null,
            "grid_auto_flow": null,
            "grid_auto_rows": null,
            "grid_column": null,
            "grid_gap": null,
            "grid_row": null,
            "grid_template_areas": null,
            "grid_template_columns": null,
            "grid_template_rows": null,
            "height": null,
            "justify_content": null,
            "justify_items": null,
            "left": null,
            "margin": null,
            "max_height": null,
            "max_width": null,
            "min_height": null,
            "min_width": null,
            "object_fit": null,
            "object_position": null,
            "order": null,
            "overflow": null,
            "overflow_x": null,
            "overflow_y": null,
            "padding": null,
            "right": null,
            "top": null,
            "visibility": null,
            "width": null
          }
        },
        "63a280d05b7d4b6bbe1bc949a2b57d8d": {
          "model_module": "@jupyter-widgets/controls",
          "model_module_version": "1.5.0",
          "model_name": "HTMLModel",
          "state": {
            "_dom_classes": [],
            "_model_module": "@jupyter-widgets/controls",
            "_model_module_version": "1.5.0",
            "_model_name": "HTMLModel",
            "_view_count": null,
            "_view_module": "@jupyter-widgets/controls",
            "_view_module_version": "1.5.0",
            "_view_name": "HTMLView",
            "description": "",
            "description_tooltip": null,
            "layout": "IPY_MODEL_4cb9f497bc4342809f0bcf332de70a5c",
            "placeholder": "​",
            "style": "IPY_MODEL_01d34dc8c30c4df8b23fbdfd3427dbf7",
            "value": "Map (num_proc=10): 100%"
          }
        },
        "657da4e2116342889c06f51e8a22f021": {
          "model_module": "@jupyter-widgets/controls",
          "model_module_version": "1.5.0",
          "model_name": "HTMLModel",
          "state": {
            "_dom_classes": [],
            "_model_module": "@jupyter-widgets/controls",
            "_model_module_version": "1.5.0",
            "_model_name": "HTMLModel",
            "_view_count": null,
            "_view_module": "@jupyter-widgets/controls",
            "_view_module_version": "1.5.0",
            "_view_name": "HTMLView",
            "description": "",
            "description_tooltip": null,
            "layout": "IPY_MODEL_bd7b7bcac4c248d7afb8a009e5d7fd1c",
            "placeholder": "​",
            "style": "IPY_MODEL_b0cf90e4ca974d8c98b3bfc82dad4e36",
            "value": "Extracting data files: 100%"
          }
        },
        "66b9ec04176b42ec8ba78fdbfea59ba3": {
          "model_module": "@jupyter-widgets/base",
          "model_module_version": "1.2.0",
          "model_name": "LayoutModel",
          "state": {
            "_model_module": "@jupyter-widgets/base",
            "_model_module_version": "1.2.0",
            "_model_name": "LayoutModel",
            "_view_count": null,
            "_view_module": "@jupyter-widgets/base",
            "_view_module_version": "1.2.0",
            "_view_name": "LayoutView",
            "align_content": null,
            "align_items": null,
            "align_self": null,
            "border": null,
            "bottom": null,
            "display": null,
            "flex": null,
            "flex_flow": null,
            "grid_area": null,
            "grid_auto_columns": null,
            "grid_auto_flow": null,
            "grid_auto_rows": null,
            "grid_column": null,
            "grid_gap": null,
            "grid_row": null,
            "grid_template_areas": null,
            "grid_template_columns": null,
            "grid_template_rows": null,
            "height": null,
            "justify_content": null,
            "justify_items": null,
            "left": null,
            "margin": null,
            "max_height": null,
            "max_width": null,
            "min_height": null,
            "min_width": null,
            "object_fit": null,
            "object_position": null,
            "order": null,
            "overflow": null,
            "overflow_x": null,
            "overflow_y": null,
            "padding": null,
            "right": null,
            "top": null,
            "visibility": null,
            "width": null
          }
        },
        "69be0541a37c445baee88e14f8dca24a": {
          "model_module": "@jupyter-widgets/controls",
          "model_module_version": "1.5.0",
          "model_name": "HTMLModel",
          "state": {
            "_dom_classes": [],
            "_model_module": "@jupyter-widgets/controls",
            "_model_module_version": "1.5.0",
            "_model_name": "HTMLModel",
            "_view_count": null,
            "_view_module": "@jupyter-widgets/controls",
            "_view_module_version": "1.5.0",
            "_view_name": "HTMLView",
            "description": "",
            "description_tooltip": null,
            "layout": "IPY_MODEL_77d34365b2b7443d863689ae97325133",
            "placeholder": "​",
            "style": "IPY_MODEL_0e1d451e298f487ea55efee30dbdeac7",
            "value": "Downloading (…)cial_tokens_map.json: 100%"
          }
        },
        "6a8e1f179fff4e0b88b7ba1ae2ea9e14": {
          "model_module": "@jupyter-widgets/controls",
          "model_module_version": "1.5.0",
          "model_name": "FloatProgressModel",
          "state": {
            "_dom_classes": [],
            "_model_module": "@jupyter-widgets/controls",
            "_model_module_version": "1.5.0",
            "_model_name": "FloatProgressModel",
            "_view_count": null,
            "_view_module": "@jupyter-widgets/controls",
            "_view_module_version": "1.5.0",
            "_view_name": "ProgressView",
            "bar_style": "success",
            "description": "",
            "description_tooltip": null,
            "layout": "IPY_MODEL_c374abbcb33f464b919e2e9014612f4a",
            "max": 2042045,
            "min": 0,
            "orientation": "horizontal",
            "style": "IPY_MODEL_c8dc5b5fa64740d38d361295dc1f1f48",
            "value": 2042045
          }
        },
        "6afea295cb324522b28ecd9040f86b21": {
          "model_module": "@jupyter-widgets/controls",
          "model_module_version": "1.5.0",
          "model_name": "HBoxModel",
          "state": {
            "_dom_classes": [],
            "_model_module": "@jupyter-widgets/controls",
            "_model_module_version": "1.5.0",
            "_model_name": "HBoxModel",
            "_view_count": null,
            "_view_module": "@jupyter-widgets/controls",
            "_view_module_version": "1.5.0",
            "_view_name": "HBoxView",
            "box_style": "",
            "children": [
              "IPY_MODEL_f4e5d31d2b21475fabaa3c98eb47d31f",
              "IPY_MODEL_8a8b04fdfe4b400489cf331b7493d258",
              "IPY_MODEL_f346a95ca2324e429bc6ba49a1a1999a"
            ],
            "layout": "IPY_MODEL_e0bb2d0642db4fef834560a57e6ec733"
          }
        },
        "6d0964e190ac4b318c4a847fc731b9cc": {
          "model_module": "@jupyter-widgets/controls",
          "model_module_version": "1.5.0",
          "model_name": "HBoxModel",
          "state": {
            "_dom_classes": [],
            "_model_module": "@jupyter-widgets/controls",
            "_model_module_version": "1.5.0",
            "_model_name": "HBoxModel",
            "_view_count": null,
            "_view_module": "@jupyter-widgets/controls",
            "_view_module_version": "1.5.0",
            "_view_name": "HBoxView",
            "box_style": "",
            "children": [
              "IPY_MODEL_69be0541a37c445baee88e14f8dca24a",
              "IPY_MODEL_8ee812449f8646bf9d78facc867afde0",
              "IPY_MODEL_009c7da5712445bc9c37f8c1d35fd6bd"
            ],
            "layout": "IPY_MODEL_85f4a4e4864b45cbae9d069f193b6360"
          }
        },
        "6e7a03e4dbb648fe9590465a21f4ec05": {
          "model_module": "@jupyter-widgets/base",
          "model_module_version": "1.2.0",
          "model_name": "LayoutModel",
          "state": {
            "_model_module": "@jupyter-widgets/base",
            "_model_module_version": "1.2.0",
            "_model_name": "LayoutModel",
            "_view_count": null,
            "_view_module": "@jupyter-widgets/base",
            "_view_module_version": "1.2.0",
            "_view_name": "LayoutView",
            "align_content": null,
            "align_items": null,
            "align_self": null,
            "border": null,
            "bottom": null,
            "display": null,
            "flex": null,
            "flex_flow": null,
            "grid_area": null,
            "grid_auto_columns": null,
            "grid_auto_flow": null,
            "grid_auto_rows": null,
            "grid_column": null,
            "grid_gap": null,
            "grid_row": null,
            "grid_template_areas": null,
            "grid_template_columns": null,
            "grid_template_rows": null,
            "height": null,
            "justify_content": null,
            "justify_items": null,
            "left": null,
            "margin": null,
            "max_height": null,
            "max_width": null,
            "min_height": null,
            "min_width": null,
            "object_fit": null,
            "object_position": null,
            "order": null,
            "overflow": null,
            "overflow_x": null,
            "overflow_y": null,
            "padding": null,
            "right": null,
            "top": null,
            "visibility": null,
            "width": null
          }
        },
        "6eedbefefb3344b09d87ae930782d79e": {
          "model_module": "@jupyter-widgets/base",
          "model_module_version": "1.2.0",
          "model_name": "LayoutModel",
          "state": {
            "_model_module": "@jupyter-widgets/base",
            "_model_module_version": "1.2.0",
            "_model_name": "LayoutModel",
            "_view_count": null,
            "_view_module": "@jupyter-widgets/base",
            "_view_module_version": "1.2.0",
            "_view_name": "LayoutView",
            "align_content": null,
            "align_items": null,
            "align_self": null,
            "border": null,
            "bottom": null,
            "display": null,
            "flex": null,
            "flex_flow": null,
            "grid_area": null,
            "grid_auto_columns": null,
            "grid_auto_flow": null,
            "grid_auto_rows": null,
            "grid_column": null,
            "grid_gap": null,
            "grid_row": null,
            "grid_template_areas": null,
            "grid_template_columns": null,
            "grid_template_rows": null,
            "height": null,
            "justify_content": null,
            "justify_items": null,
            "left": null,
            "margin": null,
            "max_height": null,
            "max_width": null,
            "min_height": null,
            "min_width": null,
            "object_fit": null,
            "object_position": null,
            "order": null,
            "overflow": null,
            "overflow_x": null,
            "overflow_y": null,
            "padding": null,
            "right": null,
            "top": null,
            "visibility": null,
            "width": null
          }
        },
        "705d537c067a44139a54c7eff75b893e": {
          "model_module": "@jupyter-widgets/base",
          "model_module_version": "1.2.0",
          "model_name": "LayoutModel",
          "state": {
            "_model_module": "@jupyter-widgets/base",
            "_model_module_version": "1.2.0",
            "_model_name": "LayoutModel",
            "_view_count": null,
            "_view_module": "@jupyter-widgets/base",
            "_view_module_version": "1.2.0",
            "_view_name": "LayoutView",
            "align_content": null,
            "align_items": null,
            "align_self": null,
            "border": null,
            "bottom": null,
            "display": null,
            "flex": null,
            "flex_flow": null,
            "grid_area": null,
            "grid_auto_columns": null,
            "grid_auto_flow": null,
            "grid_auto_rows": null,
            "grid_column": null,
            "grid_gap": null,
            "grid_row": null,
            "grid_template_areas": null,
            "grid_template_columns": null,
            "grid_template_rows": null,
            "height": null,
            "justify_content": null,
            "justify_items": null,
            "left": null,
            "margin": null,
            "max_height": null,
            "max_width": null,
            "min_height": null,
            "min_width": null,
            "object_fit": null,
            "object_position": null,
            "order": null,
            "overflow": null,
            "overflow_x": null,
            "overflow_y": null,
            "padding": null,
            "right": null,
            "top": null,
            "visibility": null,
            "width": null
          }
        },
        "72c92c8e2b7146b2b12dd1651371e9f0": {
          "model_module": "@jupyter-widgets/base",
          "model_module_version": "1.2.0",
          "model_name": "LayoutModel",
          "state": {
            "_model_module": "@jupyter-widgets/base",
            "_model_module_version": "1.2.0",
            "_model_name": "LayoutModel",
            "_view_count": null,
            "_view_module": "@jupyter-widgets/base",
            "_view_module_version": "1.2.0",
            "_view_name": "LayoutView",
            "align_content": null,
            "align_items": null,
            "align_self": null,
            "border": null,
            "bottom": null,
            "display": null,
            "flex": null,
            "flex_flow": null,
            "grid_area": null,
            "grid_auto_columns": null,
            "grid_auto_flow": null,
            "grid_auto_rows": null,
            "grid_column": null,
            "grid_gap": null,
            "grid_row": null,
            "grid_template_areas": null,
            "grid_template_columns": null,
            "grid_template_rows": null,
            "height": null,
            "justify_content": null,
            "justify_items": null,
            "left": null,
            "margin": null,
            "max_height": null,
            "max_width": null,
            "min_height": null,
            "min_width": null,
            "object_fit": null,
            "object_position": null,
            "order": null,
            "overflow": null,
            "overflow_x": null,
            "overflow_y": null,
            "padding": null,
            "right": null,
            "top": null,
            "visibility": null,
            "width": null
          }
        },
        "77d34365b2b7443d863689ae97325133": {
          "model_module": "@jupyter-widgets/base",
          "model_module_version": "1.2.0",
          "model_name": "LayoutModel",
          "state": {
            "_model_module": "@jupyter-widgets/base",
            "_model_module_version": "1.2.0",
            "_model_name": "LayoutModel",
            "_view_count": null,
            "_view_module": "@jupyter-widgets/base",
            "_view_module_version": "1.2.0",
            "_view_name": "LayoutView",
            "align_content": null,
            "align_items": null,
            "align_self": null,
            "border": null,
            "bottom": null,
            "display": null,
            "flex": null,
            "flex_flow": null,
            "grid_area": null,
            "grid_auto_columns": null,
            "grid_auto_flow": null,
            "grid_auto_rows": null,
            "grid_column": null,
            "grid_gap": null,
            "grid_row": null,
            "grid_template_areas": null,
            "grid_template_columns": null,
            "grid_template_rows": null,
            "height": null,
            "justify_content": null,
            "justify_items": null,
            "left": null,
            "margin": null,
            "max_height": null,
            "max_width": null,
            "min_height": null,
            "min_width": null,
            "object_fit": null,
            "object_position": null,
            "order": null,
            "overflow": null,
            "overflow_x": null,
            "overflow_y": null,
            "padding": null,
            "right": null,
            "top": null,
            "visibility": null,
            "width": null
          }
        },
        "7b329dafc2db41d096b75fff14da8b74": {
          "model_module": "@jupyter-widgets/controls",
          "model_module_version": "1.5.0",
          "model_name": "HTMLModel",
          "state": {
            "_dom_classes": [],
            "_model_module": "@jupyter-widgets/controls",
            "_model_module_version": "1.5.0",
            "_model_name": "HTMLModel",
            "_view_count": null,
            "_view_module": "@jupyter-widgets/controls",
            "_view_module_version": "1.5.0",
            "_view_name": "HTMLView",
            "description": "",
            "description_tooltip": null,
            "layout": "IPY_MODEL_9bd54d66ec7b4d289bff2716f3a43c4f",
            "placeholder": "​",
            "style": "IPY_MODEL_c6339ef0fc8c4b8b8f6b19b6005f3830",
            "value": "Downloading 25.pt: 100%"
          }
        },
        "7ef51705d7ff4bf1a9e604b2a853aa8d": {
          "model_module": "@jupyter-widgets/base",
          "model_module_version": "1.2.0",
          "model_name": "LayoutModel",
          "state": {
            "_model_module": "@jupyter-widgets/base",
            "_model_module_version": "1.2.0",
            "_model_name": "LayoutModel",
            "_view_count": null,
            "_view_module": "@jupyter-widgets/base",
            "_view_module_version": "1.2.0",
            "_view_name": "LayoutView",
            "align_content": null,
            "align_items": null,
            "align_self": null,
            "border": null,
            "bottom": null,
            "display": null,
            "flex": null,
            "flex_flow": null,
            "grid_area": null,
            "grid_auto_columns": null,
            "grid_auto_flow": null,
            "grid_auto_rows": null,
            "grid_column": null,
            "grid_gap": null,
            "grid_row": null,
            "grid_template_areas": null,
            "grid_template_columns": null,
            "grid_template_rows": null,
            "height": null,
            "justify_content": null,
            "justify_items": null,
            "left": null,
            "margin": null,
            "max_height": null,
            "max_width": null,
            "min_height": null,
            "min_width": null,
            "object_fit": null,
            "object_position": null,
            "order": null,
            "overflow": null,
            "overflow_x": null,
            "overflow_y": null,
            "padding": null,
            "right": null,
            "top": null,
            "visibility": null,
            "width": null
          }
        },
        "84d72d6cc00c48e48ec70ae98c81b6f3": {
          "model_module": "@jupyter-widgets/controls",
          "model_module_version": "1.5.0",
          "model_name": "HBoxModel",
          "state": {
            "_dom_classes": [],
            "_model_module": "@jupyter-widgets/controls",
            "_model_module_version": "1.5.0",
            "_model_name": "HBoxModel",
            "_view_count": null,
            "_view_module": "@jupyter-widgets/controls",
            "_view_module_version": "1.5.0",
            "_view_name": "HBoxView",
            "box_style": "",
            "children": [
              "IPY_MODEL_e67c8e408c274b5996309cac6154f0e3",
              "IPY_MODEL_0124ab5c40e7458687e0f0b7d869e603",
              "IPY_MODEL_928c1e7aaf8f44ac8760d39c7bef4657"
            ],
            "layout": "IPY_MODEL_37c214a6ce4646c787f32cc9699d148e"
          }
        },
        "85f4a4e4864b45cbae9d069f193b6360": {
          "model_module": "@jupyter-widgets/base",
          "model_module_version": "1.2.0",
          "model_name": "LayoutModel",
          "state": {
            "_model_module": "@jupyter-widgets/base",
            "_model_module_version": "1.2.0",
            "_model_name": "LayoutModel",
            "_view_count": null,
            "_view_module": "@jupyter-widgets/base",
            "_view_module_version": "1.2.0",
            "_view_name": "LayoutView",
            "align_content": null,
            "align_items": null,
            "align_self": null,
            "border": null,
            "bottom": null,
            "display": null,
            "flex": null,
            "flex_flow": null,
            "grid_area": null,
            "grid_auto_columns": null,
            "grid_auto_flow": null,
            "grid_auto_rows": null,
            "grid_column": null,
            "grid_gap": null,
            "grid_row": null,
            "grid_template_areas": null,
            "grid_template_columns": null,
            "grid_template_rows": null,
            "height": null,
            "justify_content": null,
            "justify_items": null,
            "left": null,
            "margin": null,
            "max_height": null,
            "max_width": null,
            "min_height": null,
            "min_width": null,
            "object_fit": null,
            "object_position": null,
            "order": null,
            "overflow": null,
            "overflow_x": null,
            "overflow_y": null,
            "padding": null,
            "right": null,
            "top": null,
            "visibility": null,
            "width": null
          }
        },
        "869f85a26ee6424ababe9138ce3cc2de": {
          "model_module": "@jupyter-widgets/controls",
          "model_module_version": "1.5.0",
          "model_name": "DescriptionStyleModel",
          "state": {
            "_model_module": "@jupyter-widgets/controls",
            "_model_module_version": "1.5.0",
            "_model_name": "DescriptionStyleModel",
            "_view_count": null,
            "_view_module": "@jupyter-widgets/base",
            "_view_module_version": "1.2.0",
            "_view_name": "StyleView",
            "description_width": ""
          }
        },
        "877d9d7b85a6467f9dc8d4c125aa5a9d": {
          "model_module": "@jupyter-widgets/base",
          "model_module_version": "1.2.0",
          "model_name": "LayoutModel",
          "state": {
            "_model_module": "@jupyter-widgets/base",
            "_model_module_version": "1.2.0",
            "_model_name": "LayoutModel",
            "_view_count": null,
            "_view_module": "@jupyter-widgets/base",
            "_view_module_version": "1.2.0",
            "_view_name": "LayoutView",
            "align_content": null,
            "align_items": null,
            "align_self": null,
            "border": null,
            "bottom": null,
            "display": null,
            "flex": null,
            "flex_flow": null,
            "grid_area": null,
            "grid_auto_columns": null,
            "grid_auto_flow": null,
            "grid_auto_rows": null,
            "grid_column": null,
            "grid_gap": null,
            "grid_row": null,
            "grid_template_areas": null,
            "grid_template_columns": null,
            "grid_template_rows": null,
            "height": null,
            "justify_content": null,
            "justify_items": null,
            "left": null,
            "margin": null,
            "max_height": null,
            "max_width": null,
            "min_height": null,
            "min_width": null,
            "object_fit": null,
            "object_position": null,
            "order": null,
            "overflow": null,
            "overflow_x": null,
            "overflow_y": null,
            "padding": null,
            "right": null,
            "top": null,
            "visibility": null,
            "width": null
          }
        },
        "8a8b04fdfe4b400489cf331b7493d258": {
          "model_module": "@jupyter-widgets/controls",
          "model_module_version": "1.5.0",
          "model_name": "FloatProgressModel",
          "state": {
            "_dom_classes": [],
            "_model_module": "@jupyter-widgets/controls",
            "_model_module_version": "1.5.0",
            "_model_name": "FloatProgressModel",
            "_view_count": null,
            "_view_module": "@jupyter-widgets/controls",
            "_view_module_version": "1.5.0",
            "_view_name": "ProgressView",
            "bar_style": "success",
            "description": "",
            "description_tooltip": null,
            "layout": "IPY_MODEL_3e027ebedf9b49d092bdb011b137edb3",
            "max": 1278,
            "min": 0,
            "orientation": "horizontal",
            "style": "IPY_MODEL_22ddc68cd9d04ebaa4dee403f33583c9",
            "value": 1278
          }
        },
        "8ee812449f8646bf9d78facc867afde0": {
          "model_module": "@jupyter-widgets/controls",
          "model_module_version": "1.5.0",
          "model_name": "FloatProgressModel",
          "state": {
            "_dom_classes": [],
            "_model_module": "@jupyter-widgets/controls",
            "_model_module_version": "1.5.0",
            "_model_name": "FloatProgressModel",
            "_view_count": null,
            "_view_module": "@jupyter-widgets/controls",
            "_view_module_version": "1.5.0",
            "_view_name": "ProgressView",
            "bar_style": "success",
            "description": "",
            "description_tooltip": null,
            "layout": "IPY_MODEL_07f802314b9e4e44b1b2150d144a7b8a",
            "max": 81,
            "min": 0,
            "orientation": "horizontal",
            "style": "IPY_MODEL_360a5973f8314c4c8152f3e8ad60ca2e",
            "value": 81
          }
        },
        "90907ced12c54655bc1b1863a90dc081": {
          "model_module": "@jupyter-widgets/base",
          "model_module_version": "1.2.0",
          "model_name": "LayoutModel",
          "state": {
            "_model_module": "@jupyter-widgets/base",
            "_model_module_version": "1.2.0",
            "_model_name": "LayoutModel",
            "_view_count": null,
            "_view_module": "@jupyter-widgets/base",
            "_view_module_version": "1.2.0",
            "_view_name": "LayoutView",
            "align_content": null,
            "align_items": null,
            "align_self": null,
            "border": null,
            "bottom": null,
            "display": null,
            "flex": null,
            "flex_flow": null,
            "grid_area": null,
            "grid_auto_columns": null,
            "grid_auto_flow": null,
            "grid_auto_rows": null,
            "grid_column": null,
            "grid_gap": null,
            "grid_row": null,
            "grid_template_areas": null,
            "grid_template_columns": null,
            "grid_template_rows": null,
            "height": null,
            "justify_content": null,
            "justify_items": null,
            "left": null,
            "margin": null,
            "max_height": null,
            "max_width": null,
            "min_height": null,
            "min_width": null,
            "object_fit": null,
            "object_position": null,
            "order": null,
            "overflow": null,
            "overflow_x": null,
            "overflow_y": null,
            "padding": null,
            "right": null,
            "top": null,
            "visibility": null,
            "width": null
          }
        },
        "916f49ba8c754e9a83ae283bb7756707": {
          "model_module": "@jupyter-widgets/controls",
          "model_module_version": "1.5.0",
          "model_name": "ProgressStyleModel",
          "state": {
            "_model_module": "@jupyter-widgets/controls",
            "_model_module_version": "1.5.0",
            "_model_name": "ProgressStyleModel",
            "_view_count": null,
            "_view_module": "@jupyter-widgets/base",
            "_view_module_version": "1.2.0",
            "_view_name": "StyleView",
            "bar_color": null,
            "description_width": ""
          }
        },
        "91fdc24aa889468797314c3394164dbe": {
          "model_module": "@jupyter-widgets/controls",
          "model_module_version": "1.5.0",
          "model_name": "HBoxModel",
          "state": {
            "_dom_classes": [],
            "_model_module": "@jupyter-widgets/controls",
            "_model_module_version": "1.5.0",
            "_model_name": "HBoxModel",
            "_view_count": null,
            "_view_module": "@jupyter-widgets/controls",
            "_view_module_version": "1.5.0",
            "_view_name": "HBoxView",
            "box_style": "",
            "children": [
              "IPY_MODEL_0f08c07d7bb645a39e55c7b290ab1aaf",
              "IPY_MODEL_c7c357ed33ce46a8a37022f321ff6ba2",
              "IPY_MODEL_faef0771115a443595ec941d15a8d42c"
            ],
            "layout": "IPY_MODEL_01cdaf6749e140f4bc2424f3e2de5f91"
          }
        },
        "928c1e7aaf8f44ac8760d39c7bef4657": {
          "model_module": "@jupyter-widgets/controls",
          "model_module_version": "1.5.0",
          "model_name": "HTMLModel",
          "state": {
            "_dom_classes": [],
            "_model_module": "@jupyter-widgets/controls",
            "_model_module_version": "1.5.0",
            "_model_name": "HTMLModel",
            "_view_count": null,
            "_view_module": "@jupyter-widgets/controls",
            "_view_module_version": "1.5.0",
            "_view_name": "HTMLView",
            "description": "",
            "description_tooltip": null,
            "layout": "IPY_MODEL_6eedbefefb3344b09d87ae930782d79e",
            "placeholder": "​",
            "style": "IPY_MODEL_975578216c6d4252a66d47064134915e",
            "value": " 213M/213M [00:01&lt;00:00, 143MB/s]"
          }
        },
        "93cc6f0afe8342969eb9bf31efb7b056": {
          "model_module": "@jupyter-widgets/controls",
          "model_module_version": "1.5.0",
          "model_name": "FloatProgressModel",
          "state": {
            "_dom_classes": [],
            "_model_module": "@jupyter-widgets/controls",
            "_model_module_version": "1.5.0",
            "_model_name": "FloatProgressModel",
            "_view_count": null,
            "_view_module": "@jupyter-widgets/controls",
            "_view_module_version": "1.5.0",
            "_view_name": "ProgressView",
            "bar_style": "success",
            "description": "",
            "description_tooltip": null,
            "layout": "IPY_MODEL_3d40a74ed36148e6869aa8804009b422",
            "max": 20000,
            "min": 0,
            "orientation": "horizontal",
            "style": "IPY_MODEL_916f49ba8c754e9a83ae283bb7756707",
            "value": 20000
          }
        },
        "942b697e76bc4d108371eb29e6456e3f": {
          "model_module": "@jupyter-widgets/controls",
          "model_module_version": "1.5.0",
          "model_name": "HTMLModel",
          "state": {
            "_dom_classes": [],
            "_model_module": "@jupyter-widgets/controls",
            "_model_module_version": "1.5.0",
            "_model_name": "HTMLModel",
            "_view_count": null,
            "_view_module": "@jupyter-widgets/controls",
            "_view_module_version": "1.5.0",
            "_view_name": "HTMLView",
            "description": "",
            "description_tooltip": null,
            "layout": "IPY_MODEL_7ef51705d7ff4bf1a9e604b2a853aa8d",
            "placeholder": "​",
            "style": "IPY_MODEL_cdd727bf082744598cad5e39d219e276",
            "value": "Downloading (…)/main/tokenizer.json: 100%"
          }
        },
        "94b8ca70660f451192a61fb9c27f2263": {
          "model_module": "@jupyter-widgets/controls",
          "model_module_version": "1.5.0",
          "model_name": "DescriptionStyleModel",
          "state": {
            "_model_module": "@jupyter-widgets/controls",
            "_model_module_version": "1.5.0",
            "_model_name": "DescriptionStyleModel",
            "_view_count": null,
            "_view_module": "@jupyter-widgets/base",
            "_view_module_version": "1.2.0",
            "_view_name": "StyleView",
            "description_width": ""
          }
        },
        "958b12b6e3cc4fe49e8a8681158c19b8": {
          "model_module": "@jupyter-widgets/controls",
          "model_module_version": "1.5.0",
          "model_name": "DescriptionStyleModel",
          "state": {
            "_model_module": "@jupyter-widgets/controls",
            "_model_module_version": "1.5.0",
            "_model_name": "DescriptionStyleModel",
            "_view_count": null,
            "_view_module": "@jupyter-widgets/base",
            "_view_module_version": "1.2.0",
            "_view_name": "StyleView",
            "description_width": ""
          }
        },
        "975578216c6d4252a66d47064134915e": {
          "model_module": "@jupyter-widgets/controls",
          "model_module_version": "1.5.0",
          "model_name": "DescriptionStyleModel",
          "state": {
            "_model_module": "@jupyter-widgets/controls",
            "_model_module_version": "1.5.0",
            "_model_name": "DescriptionStyleModel",
            "_view_count": null,
            "_view_module": "@jupyter-widgets/base",
            "_view_module_version": "1.2.0",
            "_view_name": "StyleView",
            "description_width": ""
          }
        },
        "980b3ecdd6784f06a60edde548c28e87": {
          "model_module": "@jupyter-widgets/controls",
          "model_module_version": "1.5.0",
          "model_name": "HTMLModel",
          "state": {
            "_dom_classes": [],
            "_model_module": "@jupyter-widgets/controls",
            "_model_module_version": "1.5.0",
            "_model_name": "HTMLModel",
            "_view_count": null,
            "_view_module": "@jupyter-widgets/controls",
            "_view_module_version": "1.5.0",
            "_view_name": "HTMLView",
            "description": "",
            "description_tooltip": null,
            "layout": "IPY_MODEL_0860378535334db6a4120cf7be55fef4",
            "placeholder": "​",
            "style": "IPY_MODEL_af92c00c21404b73a563ee9be3ebdaad",
            "value": " 283/283 [00:00&lt;00:00, 16.1kB/s]"
          }
        },
        "98844d26bb7f477a84efd3cd405199e1": {
          "model_module": "@jupyter-widgets/base",
          "model_module_version": "1.2.0",
          "model_name": "LayoutModel",
          "state": {
            "_model_module": "@jupyter-widgets/base",
            "_model_module_version": "1.2.0",
            "_model_name": "LayoutModel",
            "_view_count": null,
            "_view_module": "@jupyter-widgets/base",
            "_view_module_version": "1.2.0",
            "_view_name": "LayoutView",
            "align_content": null,
            "align_items": null,
            "align_self": null,
            "border": null,
            "bottom": null,
            "display": null,
            "flex": null,
            "flex_flow": null,
            "grid_area": null,
            "grid_auto_columns": null,
            "grid_auto_flow": null,
            "grid_auto_rows": null,
            "grid_column": null,
            "grid_gap": null,
            "grid_row": null,
            "grid_template_areas": null,
            "grid_template_columns": null,
            "grid_template_rows": null,
            "height": null,
            "justify_content": null,
            "justify_items": null,
            "left": null,
            "margin": null,
            "max_height": null,
            "max_width": null,
            "min_height": null,
            "min_width": null,
            "object_fit": null,
            "object_position": null,
            "order": null,
            "overflow": null,
            "overflow_x": null,
            "overflow_y": null,
            "padding": null,
            "right": null,
            "top": null,
            "visibility": null,
            "width": null
          }
        },
        "99eb6d848c394327ad435ebac304b3bf": {
          "model_module": "@jupyter-widgets/controls",
          "model_module_version": "1.5.0",
          "model_name": "HTMLModel",
          "state": {
            "_dom_classes": [],
            "_model_module": "@jupyter-widgets/controls",
            "_model_module_version": "1.5.0",
            "_model_name": "HTMLModel",
            "_view_count": null,
            "_view_module": "@jupyter-widgets/controls",
            "_view_module_version": "1.5.0",
            "_view_name": "HTMLView",
            "description": "",
            "description_tooltip": null,
            "layout": "IPY_MODEL_0d82018d445d4db0a92acdd050189171",
            "placeholder": "​",
            "style": "IPY_MODEL_2e0cc66ed35b431fab7d15ffa55a79f2",
            "value": " 50/50 [00:14&lt;00:00,  3.40it/s]"
          }
        },
        "9bd54d66ec7b4d289bff2716f3a43c4f": {
          "model_module": "@jupyter-widgets/base",
          "model_module_version": "1.2.0",
          "model_name": "LayoutModel",
          "state": {
            "_model_module": "@jupyter-widgets/base",
            "_model_module_version": "1.2.0",
            "_model_name": "LayoutModel",
            "_view_count": null,
            "_view_module": "@jupyter-widgets/base",
            "_view_module_version": "1.2.0",
            "_view_name": "LayoutView",
            "align_content": null,
            "align_items": null,
            "align_self": null,
            "border": null,
            "bottom": null,
            "display": null,
            "flex": null,
            "flex_flow": null,
            "grid_area": null,
            "grid_auto_columns": null,
            "grid_auto_flow": null,
            "grid_auto_rows": null,
            "grid_column": null,
            "grid_gap": null,
            "grid_row": null,
            "grid_template_areas": null,
            "grid_template_columns": null,
            "grid_template_rows": null,
            "height": null,
            "justify_content": null,
            "justify_items": null,
            "left": null,
            "margin": null,
            "max_height": null,
            "max_width": null,
            "min_height": null,
            "min_width": null,
            "object_fit": null,
            "object_position": null,
            "order": null,
            "overflow": null,
            "overflow_x": null,
            "overflow_y": null,
            "padding": null,
            "right": null,
            "top": null,
            "visibility": null,
            "width": null
          }
        },
        "a1c6a9369b9b420ab1495e61ef81853f": {
          "model_module": "@jupyter-widgets/base",
          "model_module_version": "1.2.0",
          "model_name": "LayoutModel",
          "state": {
            "_model_module": "@jupyter-widgets/base",
            "_model_module_version": "1.2.0",
            "_model_name": "LayoutModel",
            "_view_count": null,
            "_view_module": "@jupyter-widgets/base",
            "_view_module_version": "1.2.0",
            "_view_name": "LayoutView",
            "align_content": null,
            "align_items": null,
            "align_self": null,
            "border": null,
            "bottom": null,
            "display": null,
            "flex": null,
            "flex_flow": null,
            "grid_area": null,
            "grid_auto_columns": null,
            "grid_auto_flow": null,
            "grid_auto_rows": null,
            "grid_column": null,
            "grid_gap": null,
            "grid_row": null,
            "grid_template_areas": null,
            "grid_template_columns": null,
            "grid_template_rows": null,
            "height": null,
            "justify_content": null,
            "justify_items": null,
            "left": null,
            "margin": null,
            "max_height": null,
            "max_width": null,
            "min_height": null,
            "min_width": null,
            "object_fit": null,
            "object_position": null,
            "order": null,
            "overflow": null,
            "overflow_x": null,
            "overflow_y": null,
            "padding": null,
            "right": null,
            "top": null,
            "visibility": null,
            "width": null
          }
        },
        "a2628319d7934541ae9a8ecff70dfa57": {
          "model_module": "@jupyter-widgets/base",
          "model_module_version": "1.2.0",
          "model_name": "LayoutModel",
          "state": {
            "_model_module": "@jupyter-widgets/base",
            "_model_module_version": "1.2.0",
            "_model_name": "LayoutModel",
            "_view_count": null,
            "_view_module": "@jupyter-widgets/base",
            "_view_module_version": "1.2.0",
            "_view_name": "LayoutView",
            "align_content": null,
            "align_items": null,
            "align_self": null,
            "border": null,
            "bottom": null,
            "display": null,
            "flex": null,
            "flex_flow": null,
            "grid_area": null,
            "grid_auto_columns": null,
            "grid_auto_flow": null,
            "grid_auto_rows": null,
            "grid_column": null,
            "grid_gap": null,
            "grid_row": null,
            "grid_template_areas": null,
            "grid_template_columns": null,
            "grid_template_rows": null,
            "height": null,
            "justify_content": null,
            "justify_items": null,
            "left": null,
            "margin": null,
            "max_height": null,
            "max_width": null,
            "min_height": null,
            "min_width": null,
            "object_fit": null,
            "object_position": null,
            "order": null,
            "overflow": null,
            "overflow_x": null,
            "overflow_y": null,
            "padding": null,
            "right": null,
            "top": null,
            "visibility": null,
            "width": null
          }
        },
        "a29f83b57eec49d0aacb06dcc2350124": {
          "model_module": "@jupyter-widgets/controls",
          "model_module_version": "1.5.0",
          "model_name": "HTMLModel",
          "state": {
            "_dom_classes": [],
            "_model_module": "@jupyter-widgets/controls",
            "_model_module_version": "1.5.0",
            "_model_name": "HTMLModel",
            "_view_count": null,
            "_view_module": "@jupyter-widgets/controls",
            "_view_module_version": "1.5.0",
            "_view_name": "HTMLView",
            "description": "",
            "description_tooltip": null,
            "layout": "IPY_MODEL_4b63db57ac264573b5632d7e756fe7bb",
            "placeholder": "​",
            "style": "IPY_MODEL_a451c958f5ff40f9902bccaebf1757d7",
            "value": " 20000/20000 [00:00&lt;00:00, 29578.36 examples/s]"
          }
        },
        "a451c958f5ff40f9902bccaebf1757d7": {
          "model_module": "@jupyter-widgets/controls",
          "model_module_version": "1.5.0",
          "model_name": "DescriptionStyleModel",
          "state": {
            "_model_module": "@jupyter-widgets/controls",
            "_model_module_version": "1.5.0",
            "_model_name": "DescriptionStyleModel",
            "_view_count": null,
            "_view_module": "@jupyter-widgets/base",
            "_view_module_version": "1.2.0",
            "_view_name": "StyleView",
            "description_width": ""
          }
        },
        "a46e3c9b14f8484ca1e89b7bd69605db": {
          "model_module": "@jupyter-widgets/controls",
          "model_module_version": "1.5.0",
          "model_name": "HBoxModel",
          "state": {
            "_dom_classes": [],
            "_model_module": "@jupyter-widgets/controls",
            "_model_module_version": "1.5.0",
            "_model_name": "HBoxModel",
            "_view_count": null,
            "_view_module": "@jupyter-widgets/controls",
            "_view_module_version": "1.5.0",
            "_view_name": "HBoxView",
            "box_style": "",
            "children": [
              "IPY_MODEL_ac34d3e7cd684ddb975b82338c803ec9",
              "IPY_MODEL_b9cd142e7e5b4fff9f8e1e91e6ae6c52",
              "IPY_MODEL_c72c60f1cbbd46059423983f7197c577"
            ],
            "layout": "IPY_MODEL_5c58103e2fb749cbbab5e5a1b3a5d405"
          }
        },
        "a4ac310a05ae458d89e78c64ca6fb61f": {
          "model_module": "@jupyter-widgets/base",
          "model_module_version": "1.2.0",
          "model_name": "LayoutModel",
          "state": {
            "_model_module": "@jupyter-widgets/base",
            "_model_module_version": "1.2.0",
            "_model_name": "LayoutModel",
            "_view_count": null,
            "_view_module": "@jupyter-widgets/base",
            "_view_module_version": "1.2.0",
            "_view_name": "LayoutView",
            "align_content": null,
            "align_items": null,
            "align_self": null,
            "border": null,
            "bottom": null,
            "display": null,
            "flex": null,
            "flex_flow": null,
            "grid_area": null,
            "grid_auto_columns": null,
            "grid_auto_flow": null,
            "grid_auto_rows": null,
            "grid_column": null,
            "grid_gap": null,
            "grid_row": null,
            "grid_template_areas": null,
            "grid_template_columns": null,
            "grid_template_rows": null,
            "height": null,
            "justify_content": null,
            "justify_items": null,
            "left": null,
            "margin": null,
            "max_height": null,
            "max_width": null,
            "min_height": null,
            "min_width": null,
            "object_fit": null,
            "object_position": null,
            "order": null,
            "overflow": null,
            "overflow_x": null,
            "overflow_y": null,
            "padding": null,
            "right": null,
            "top": null,
            "visibility": null,
            "width": null
          }
        },
        "a5e3fe0da81b4a7b9a8e1a8ee30d0b96": {
          "model_module": "@jupyter-widgets/base",
          "model_module_version": "1.2.0",
          "model_name": "LayoutModel",
          "state": {
            "_model_module": "@jupyter-widgets/base",
            "_model_module_version": "1.2.0",
            "_model_name": "LayoutModel",
            "_view_count": null,
            "_view_module": "@jupyter-widgets/base",
            "_view_module_version": "1.2.0",
            "_view_name": "LayoutView",
            "align_content": null,
            "align_items": null,
            "align_self": null,
            "border": null,
            "bottom": null,
            "display": null,
            "flex": null,
            "flex_flow": null,
            "grid_area": null,
            "grid_auto_columns": null,
            "grid_auto_flow": null,
            "grid_auto_rows": null,
            "grid_column": null,
            "grid_gap": null,
            "grid_row": null,
            "grid_template_areas": null,
            "grid_template_columns": null,
            "grid_template_rows": null,
            "height": null,
            "justify_content": null,
            "justify_items": null,
            "left": null,
            "margin": null,
            "max_height": null,
            "max_width": null,
            "min_height": null,
            "min_width": null,
            "object_fit": null,
            "object_position": null,
            "order": null,
            "overflow": null,
            "overflow_x": null,
            "overflow_y": null,
            "padding": null,
            "right": null,
            "top": null,
            "visibility": null,
            "width": null
          }
        },
        "a77a99e46bdd441281db18fd5389d89f": {
          "model_module": "@jupyter-widgets/controls",
          "model_module_version": "1.5.0",
          "model_name": "ProgressStyleModel",
          "state": {
            "_model_module": "@jupyter-widgets/controls",
            "_model_module_version": "1.5.0",
            "_model_name": "ProgressStyleModel",
            "_view_count": null,
            "_view_module": "@jupyter-widgets/base",
            "_view_module_version": "1.2.0",
            "_view_name": "StyleView",
            "bar_color": null,
            "description_width": ""
          }
        },
        "a7923757619545f2beb85c258b4e12be": {
          "model_module": "@jupyter-widgets/controls",
          "model_module_version": "1.5.0",
          "model_name": "HTMLModel",
          "state": {
            "_dom_classes": [],
            "_model_module": "@jupyter-widgets/controls",
            "_model_module_version": "1.5.0",
            "_model_name": "HTMLModel",
            "_view_count": null,
            "_view_module": "@jupyter-widgets/controls",
            "_view_module_version": "1.5.0",
            "_view_name": "HTMLView",
            "description": "",
            "description_tooltip": null,
            "layout": "IPY_MODEL_90907ced12c54655bc1b1863a90dc081",
            "placeholder": "​",
            "style": "IPY_MODEL_3ddd38d5d75c47628eb35e3a1d55d681",
            "value": "Downloading (…)lve/main/25_cfg.json: 100%"
          }
        },
        "a7c86b6f250a47e584e76b48b7acb0a1": {
          "model_module": "@jupyter-widgets/controls",
          "model_module_version": "1.5.0",
          "model_name": "HTMLModel",
          "state": {
            "_dom_classes": [],
            "_model_module": "@jupyter-widgets/controls",
            "_model_module_version": "1.5.0",
            "_model_name": "HTMLModel",
            "_view_count": null,
            "_view_module": "@jupyter-widgets/controls",
            "_view_module_version": "1.5.0",
            "_view_name": "HTMLView",
            "description": "",
            "description_tooltip": null,
            "layout": "IPY_MODEL_2e7e969a023043a0b62ea18624e2233d",
            "placeholder": "​",
            "style": "IPY_MODEL_d70bc554aaea42dbbcad538f6c69e7ce",
            "value": " 1/1 [00:00&lt;00:00, 28.59it/s]"
          }
        },
        "aa2b71396bc94c728a8e0d808f0f3570": {
          "model_module": "@jupyter-widgets/base",
          "model_module_version": "1.2.0",
          "model_name": "LayoutModel",
          "state": {
            "_model_module": "@jupyter-widgets/base",
            "_model_module_version": "1.2.0",
            "_model_name": "LayoutModel",
            "_view_count": null,
            "_view_module": "@jupyter-widgets/base",
            "_view_module_version": "1.2.0",
            "_view_name": "LayoutView",
            "align_content": null,
            "align_items": null,
            "align_self": null,
            "border": null,
            "bottom": null,
            "display": null,
            "flex": null,
            "flex_flow": null,
            "grid_area": null,
            "grid_auto_columns": null,
            "grid_auto_flow": null,
            "grid_auto_rows": null,
            "grid_column": null,
            "grid_gap": null,
            "grid_row": null,
            "grid_template_areas": null,
            "grid_template_columns": null,
            "grid_template_rows": null,
            "height": null,
            "justify_content": null,
            "justify_items": null,
            "left": null,
            "margin": null,
            "max_height": null,
            "max_width": null,
            "min_height": null,
            "min_width": null,
            "object_fit": null,
            "object_position": null,
            "order": null,
            "overflow": null,
            "overflow_x": null,
            "overflow_y": null,
            "padding": null,
            "right": null,
            "top": null,
            "visibility": null,
            "width": null
          }
        },
        "ac34d3e7cd684ddb975b82338c803ec9": {
          "model_module": "@jupyter-widgets/controls",
          "model_module_version": "1.5.0",
          "model_name": "HTMLModel",
          "state": {
            "_dom_classes": [],
            "_model_module": "@jupyter-widgets/controls",
            "_model_module_version": "1.5.0",
            "_model_name": "HTMLModel",
            "_view_count": null,
            "_view_module": "@jupyter-widgets/controls",
            "_view_module_version": "1.5.0",
            "_view_name": "HTMLView",
            "description": "",
            "description_tooltip": null,
            "layout": "IPY_MODEL_0f7559bbac3740cdb99e6e56db5d7a09",
            "placeholder": "​",
            "style": "IPY_MODEL_30494965c3fd4a959b6b6c83da6a0f27",
            "value": "Downloading data files: 100%"
          }
        },
        "af72416e2f654d88a3d96c8b4c7c3922": {
          "model_module": "@jupyter-widgets/base",
          "model_module_version": "1.2.0",
          "model_name": "LayoutModel",
          "state": {
            "_model_module": "@jupyter-widgets/base",
            "_model_module_version": "1.2.0",
            "_model_name": "LayoutModel",
            "_view_count": null,
            "_view_module": "@jupyter-widgets/base",
            "_view_module_version": "1.2.0",
            "_view_name": "LayoutView",
            "align_content": null,
            "align_items": null,
            "align_self": null,
            "border": null,
            "bottom": null,
            "display": null,
            "flex": null,
            "flex_flow": null,
            "grid_area": null,
            "grid_auto_columns": null,
            "grid_auto_flow": null,
            "grid_auto_rows": null,
            "grid_column": null,
            "grid_gap": null,
            "grid_row": null,
            "grid_template_areas": null,
            "grid_template_columns": null,
            "grid_template_rows": null,
            "height": null,
            "justify_content": null,
            "justify_items": null,
            "left": null,
            "margin": null,
            "max_height": null,
            "max_width": null,
            "min_height": null,
            "min_width": null,
            "object_fit": null,
            "object_position": null,
            "order": null,
            "overflow": null,
            "overflow_x": null,
            "overflow_y": null,
            "padding": null,
            "right": null,
            "top": null,
            "visibility": null,
            "width": null
          }
        },
        "af92c00c21404b73a563ee9be3ebdaad": {
          "model_module": "@jupyter-widgets/controls",
          "model_module_version": "1.5.0",
          "model_name": "DescriptionStyleModel",
          "state": {
            "_model_module": "@jupyter-widgets/controls",
            "_model_module_version": "1.5.0",
            "_model_name": "DescriptionStyleModel",
            "_view_count": null,
            "_view_module": "@jupyter-widgets/base",
            "_view_module_version": "1.2.0",
            "_view_name": "StyleView",
            "description_width": ""
          }
        },
        "b0adc59ec8c344b3932372b979e2c0ff": {
          "model_module": "@jupyter-widgets/base",
          "model_module_version": "1.2.0",
          "model_name": "LayoutModel",
          "state": {
            "_model_module": "@jupyter-widgets/base",
            "_model_module_version": "1.2.0",
            "_model_name": "LayoutModel",
            "_view_count": null,
            "_view_module": "@jupyter-widgets/base",
            "_view_module_version": "1.2.0",
            "_view_name": "LayoutView",
            "align_content": null,
            "align_items": null,
            "align_self": null,
            "border": null,
            "bottom": null,
            "display": null,
            "flex": null,
            "flex_flow": null,
            "grid_area": null,
            "grid_auto_columns": null,
            "grid_auto_flow": null,
            "grid_auto_rows": null,
            "grid_column": null,
            "grid_gap": null,
            "grid_row": null,
            "grid_template_areas": null,
            "grid_template_columns": null,
            "grid_template_rows": null,
            "height": null,
            "justify_content": null,
            "justify_items": null,
            "left": null,
            "margin": null,
            "max_height": null,
            "max_width": null,
            "min_height": null,
            "min_width": null,
            "object_fit": null,
            "object_position": null,
            "order": null,
            "overflow": null,
            "overflow_x": null,
            "overflow_y": null,
            "padding": null,
            "right": null,
            "top": null,
            "visibility": null,
            "width": null
          }
        },
        "b0cf90e4ca974d8c98b3bfc82dad4e36": {
          "model_module": "@jupyter-widgets/controls",
          "model_module_version": "1.5.0",
          "model_name": "DescriptionStyleModel",
          "state": {
            "_model_module": "@jupyter-widgets/controls",
            "_model_module_version": "1.5.0",
            "_model_name": "DescriptionStyleModel",
            "_view_count": null,
            "_view_module": "@jupyter-widgets/base",
            "_view_module_version": "1.2.0",
            "_view_name": "StyleView",
            "description_width": ""
          }
        },
        "b1b4f6ab555b4fd2be52200652b2608e": {
          "model_module": "@jupyter-widgets/controls",
          "model_module_version": "1.5.0",
          "model_name": "HTMLModel",
          "state": {
            "_dom_classes": [],
            "_model_module": "@jupyter-widgets/controls",
            "_model_module_version": "1.5.0",
            "_model_name": "HTMLModel",
            "_view_count": null,
            "_view_module": "@jupyter-widgets/controls",
            "_view_module_version": "1.5.0",
            "_view_name": "HTMLView",
            "description": "",
            "description_tooltip": null,
            "layout": "IPY_MODEL_39c643d3e8184286a01d40aad8ca26e5",
            "placeholder": "​",
            "style": "IPY_MODEL_869f85a26ee6424ababe9138ce3cc2de",
            "value": " 20000/20000 [02:05&lt;00:00, 597.49 examples/s]"
          }
        },
        "b3c204155fa94f0b8c0342e5d64a5dc5": {
          "model_module": "@jupyter-widgets/controls",
          "model_module_version": "1.5.0",
          "model_name": "FloatProgressModel",
          "state": {
            "_dom_classes": [],
            "_model_module": "@jupyter-widgets/controls",
            "_model_module_version": "1.5.0",
            "_model_name": "FloatProgressModel",
            "_view_count": null,
            "_view_module": "@jupyter-widgets/controls",
            "_view_module_version": "1.5.0",
            "_view_name": "ProgressView",
            "bar_style": "success",
            "description": "",
            "description_tooltip": null,
            "layout": "IPY_MODEL_1b83bbfddac2409ab25c320f21eb4972",
            "max": 42778874,
            "min": 0,
            "orientation": "horizontal",
            "style": "IPY_MODEL_fcadf0b612444a95a9636339e7b0eea9",
            "value": 42778874
          }
        },
        "b4bf79dd989f4a3bbd2a6f4a62dd6ff9": {
          "model_module": "@jupyter-widgets/controls",
          "model_module_version": "1.5.0",
          "model_name": "DescriptionStyleModel",
          "state": {
            "_model_module": "@jupyter-widgets/controls",
            "_model_module_version": "1.5.0",
            "_model_name": "DescriptionStyleModel",
            "_view_count": null,
            "_view_module": "@jupyter-widgets/base",
            "_view_module_version": "1.2.0",
            "_view_name": "StyleView",
            "description_width": ""
          }
        },
        "b4d8fb8c60024a1a90fb2f5718524d91": {
          "model_module": "@jupyter-widgets/controls",
          "model_module_version": "1.5.0",
          "model_name": "HTMLModel",
          "state": {
            "_dom_classes": [],
            "_model_module": "@jupyter-widgets/controls",
            "_model_module_version": "1.5.0",
            "_model_name": "HTMLModel",
            "_view_count": null,
            "_view_module": "@jupyter-widgets/controls",
            "_view_module_version": "1.5.0",
            "_view_name": "HTMLView",
            "description": "",
            "description_tooltip": null,
            "layout": "IPY_MODEL_6e7a03e4dbb648fe9590465a21f4ec05",
            "placeholder": "​",
            "style": "IPY_MODEL_ed939872e0a840159ff0fb7d55c6f7dc",
            "value": "Downloading readme: 100%"
          }
        },
        "b5896ade476a4d5aa216d64ba7092c99": {
          "model_module": "@jupyter-widgets/controls",
          "model_module_version": "1.5.0",
          "model_name": "FloatProgressModel",
          "state": {
            "_dom_classes": [],
            "_model_module": "@jupyter-widgets/controls",
            "_model_module_version": "1.5.0",
            "_model_name": "FloatProgressModel",
            "_view_count": null,
            "_view_module": "@jupyter-widgets/controls",
            "_view_module_version": "1.5.0",
            "_view_name": "ProgressView",
            "bar_style": "success",
            "description": "",
            "description_tooltip": null,
            "layout": "IPY_MODEL_66b9ec04176b42ec8ba78fdbfea59ba3",
            "max": 754,
            "min": 0,
            "orientation": "horizontal",
            "style": "IPY_MODEL_41ef1de6512b4edc8f05882a7efff800",
            "value": 754
          }
        },
        "b727375284c04542b992321e966473e1": {
          "model_module": "@jupyter-widgets/controls",
          "model_module_version": "1.5.0",
          "model_name": "FloatProgressModel",
          "state": {
            "_dom_classes": [],
            "_model_module": "@jupyter-widgets/controls",
            "_model_module_version": "1.5.0",
            "_model_name": "FloatProgressModel",
            "_view_count": null,
            "_view_module": "@jupyter-widgets/controls",
            "_view_module_version": "1.5.0",
            "_view_name": "ProgressView",
            "bar_style": "success",
            "description": "",
            "description_tooltip": null,
            "layout": "IPY_MODEL_a5e3fe0da81b4a7b9a8e1a8ee30d0b96",
            "max": 283,
            "min": 0,
            "orientation": "horizontal",
            "style": "IPY_MODEL_30c93bd7cf0d4f0596cc54d630a96da2",
            "value": 283
          }
        },
        "b798a0cc17284c74b3d68d1af40128a4": {
          "model_module": "@jupyter-widgets/base",
          "model_module_version": "1.2.0",
          "model_name": "LayoutModel",
          "state": {
            "_model_module": "@jupyter-widgets/base",
            "_model_module_version": "1.2.0",
            "_model_name": "LayoutModel",
            "_view_count": null,
            "_view_module": "@jupyter-widgets/base",
            "_view_module_version": "1.2.0",
            "_view_name": "LayoutView",
            "align_content": null,
            "align_items": null,
            "align_self": null,
            "border": null,
            "bottom": null,
            "display": null,
            "flex": null,
            "flex_flow": null,
            "grid_area": null,
            "grid_auto_columns": null,
            "grid_auto_flow": null,
            "grid_auto_rows": null,
            "grid_column": null,
            "grid_gap": null,
            "grid_row": null,
            "grid_template_areas": null,
            "grid_template_columns": null,
            "grid_template_rows": null,
            "height": null,
            "justify_content": null,
            "justify_items": null,
            "left": null,
            "margin": null,
            "max_height": null,
            "max_width": null,
            "min_height": null,
            "min_width": null,
            "object_fit": null,
            "object_position": null,
            "order": null,
            "overflow": null,
            "overflow_x": null,
            "overflow_y": null,
            "padding": null,
            "right": null,
            "top": null,
            "visibility": null,
            "width": null
          }
        },
        "b9cd142e7e5b4fff9f8e1e91e6ae6c52": {
          "model_module": "@jupyter-widgets/controls",
          "model_module_version": "1.5.0",
          "model_name": "FloatProgressModel",
          "state": {
            "_dom_classes": [],
            "_model_module": "@jupyter-widgets/controls",
            "_model_module_version": "1.5.0",
            "_model_name": "FloatProgressModel",
            "_view_count": null,
            "_view_module": "@jupyter-widgets/controls",
            "_view_module_version": "1.5.0",
            "_view_name": "ProgressView",
            "bar_style": "success",
            "description": "",
            "description_tooltip": null,
            "layout": "IPY_MODEL_b0adc59ec8c344b3932372b979e2c0ff",
            "max": 1,
            "min": 0,
            "orientation": "horizontal",
            "style": "IPY_MODEL_324071a3cfe748e68305fa099b700c6a",
            "value": 1
          }
        },
        "bd7b7bcac4c248d7afb8a009e5d7fd1c": {
          "model_module": "@jupyter-widgets/base",
          "model_module_version": "1.2.0",
          "model_name": "LayoutModel",
          "state": {
            "_model_module": "@jupyter-widgets/base",
            "_model_module_version": "1.2.0",
            "_model_name": "LayoutModel",
            "_view_count": null,
            "_view_module": "@jupyter-widgets/base",
            "_view_module_version": "1.2.0",
            "_view_name": "LayoutView",
            "align_content": null,
            "align_items": null,
            "align_self": null,
            "border": null,
            "bottom": null,
            "display": null,
            "flex": null,
            "flex_flow": null,
            "grid_area": null,
            "grid_auto_columns": null,
            "grid_auto_flow": null,
            "grid_auto_rows": null,
            "grid_column": null,
            "grid_gap": null,
            "grid_row": null,
            "grid_template_areas": null,
            "grid_template_columns": null,
            "grid_template_rows": null,
            "height": null,
            "justify_content": null,
            "justify_items": null,
            "left": null,
            "margin": null,
            "max_height": null,
            "max_width": null,
            "min_height": null,
            "min_width": null,
            "object_fit": null,
            "object_position": null,
            "order": null,
            "overflow": null,
            "overflow_x": null,
            "overflow_y": null,
            "padding": null,
            "right": null,
            "top": null,
            "visibility": null,
            "width": null
          }
        },
        "be2fea8dc01a4bf7a2be2127f834b0a0": {
          "model_module": "@jupyter-widgets/base",
          "model_module_version": "1.2.0",
          "model_name": "LayoutModel",
          "state": {
            "_model_module": "@jupyter-widgets/base",
            "_model_module_version": "1.2.0",
            "_model_name": "LayoutModel",
            "_view_count": null,
            "_view_module": "@jupyter-widgets/base",
            "_view_module_version": "1.2.0",
            "_view_name": "LayoutView",
            "align_content": null,
            "align_items": null,
            "align_self": null,
            "border": null,
            "bottom": null,
            "display": null,
            "flex": null,
            "flex_flow": null,
            "grid_area": null,
            "grid_auto_columns": null,
            "grid_auto_flow": null,
            "grid_auto_rows": null,
            "grid_column": null,
            "grid_gap": null,
            "grid_row": null,
            "grid_template_areas": null,
            "grid_template_columns": null,
            "grid_template_rows": null,
            "height": null,
            "justify_content": null,
            "justify_items": null,
            "left": null,
            "margin": null,
            "max_height": null,
            "max_width": null,
            "min_height": null,
            "min_width": null,
            "object_fit": null,
            "object_position": null,
            "order": null,
            "overflow": null,
            "overflow_x": null,
            "overflow_y": null,
            "padding": null,
            "right": null,
            "top": null,
            "visibility": null,
            "width": null
          }
        },
        "bfa7c56a70af47dda5f33e0a82f85a8c": {
          "model_module": "@jupyter-widgets/controls",
          "model_module_version": "1.5.0",
          "model_name": "FloatProgressModel",
          "state": {
            "_dom_classes": [],
            "_model_module": "@jupyter-widgets/controls",
            "_model_module_version": "1.5.0",
            "_model_name": "FloatProgressModel",
            "_view_count": null,
            "_view_module": "@jupyter-widgets/controls",
            "_view_module_version": "1.5.0",
            "_view_name": "ProgressView",
            "bar_style": "success",
            "description": "",
            "description_tooltip": null,
            "layout": "IPY_MODEL_cdaaa545ce974de7a2f74a0d9dab6a02",
            "max": 268510529,
            "min": 0,
            "orientation": "horizontal",
            "style": "IPY_MODEL_3b90b9c7cea9468286a9f26c45bfb8d2",
            "value": 268510529
          }
        },
        "c04998a0ee0548d78fbe33ef72a23901": {
          "model_module": "@jupyter-widgets/base",
          "model_module_version": "1.2.0",
          "model_name": "LayoutModel",
          "state": {
            "_model_module": "@jupyter-widgets/base",
            "_model_module_version": "1.2.0",
            "_model_name": "LayoutModel",
            "_view_count": null,
            "_view_module": "@jupyter-widgets/base",
            "_view_module_version": "1.2.0",
            "_view_name": "LayoutView",
            "align_content": null,
            "align_items": null,
            "align_self": null,
            "border": null,
            "bottom": null,
            "display": null,
            "flex": null,
            "flex_flow": null,
            "grid_area": null,
            "grid_auto_columns": null,
            "grid_auto_flow": null,
            "grid_auto_rows": null,
            "grid_column": null,
            "grid_gap": null,
            "grid_row": null,
            "grid_template_areas": null,
            "grid_template_columns": null,
            "grid_template_rows": null,
            "height": null,
            "justify_content": null,
            "justify_items": null,
            "left": null,
            "margin": null,
            "max_height": null,
            "max_width": null,
            "min_height": null,
            "min_width": null,
            "object_fit": null,
            "object_position": null,
            "order": null,
            "overflow": null,
            "overflow_x": null,
            "overflow_y": null,
            "padding": null,
            "right": null,
            "top": null,
            "visibility": null,
            "width": null
          }
        },
        "c290e214643f44eb87797fd6a6d514f3": {
          "model_module": "@jupyter-widgets/controls",
          "model_module_version": "1.5.0",
          "model_name": "HTMLModel",
          "state": {
            "_dom_classes": [],
            "_model_module": "@jupyter-widgets/controls",
            "_model_module_version": "1.5.0",
            "_model_name": "HTMLModel",
            "_view_count": null,
            "_view_module": "@jupyter-widgets/controls",
            "_view_module_version": "1.5.0",
            "_view_name": "HTMLView",
            "description": "",
            "description_tooltip": null,
            "layout": "IPY_MODEL_72c92c8e2b7146b2b12dd1651371e9f0",
            "placeholder": "​",
            "style": "IPY_MODEL_958b12b6e3cc4fe49e8a8681158c19b8",
            "value": " 754/754 [00:00&lt;00:00, 11.5kB/s]"
          }
        },
        "c374abbcb33f464b919e2e9014612f4a": {
          "model_module": "@jupyter-widgets/base",
          "model_module_version": "1.2.0",
          "model_name": "LayoutModel",
          "state": {
            "_model_module": "@jupyter-widgets/base",
            "_model_module_version": "1.2.0",
            "_model_name": "LayoutModel",
            "_view_count": null,
            "_view_module": "@jupyter-widgets/base",
            "_view_module_version": "1.2.0",
            "_view_name": "LayoutView",
            "align_content": null,
            "align_items": null,
            "align_self": null,
            "border": null,
            "bottom": null,
            "display": null,
            "flex": null,
            "flex_flow": null,
            "grid_area": null,
            "grid_auto_columns": null,
            "grid_auto_flow": null,
            "grid_auto_rows": null,
            "grid_column": null,
            "grid_gap": null,
            "grid_row": null,
            "grid_template_areas": null,
            "grid_template_columns": null,
            "grid_template_rows": null,
            "height": null,
            "justify_content": null,
            "justify_items": null,
            "left": null,
            "margin": null,
            "max_height": null,
            "max_width": null,
            "min_height": null,
            "min_width": null,
            "object_fit": null,
            "object_position": null,
            "order": null,
            "overflow": null,
            "overflow_x": null,
            "overflow_y": null,
            "padding": null,
            "right": null,
            "top": null,
            "visibility": null,
            "width": null
          }
        },
        "c6339ef0fc8c4b8b8f6b19b6005f3830": {
          "model_module": "@jupyter-widgets/controls",
          "model_module_version": "1.5.0",
          "model_name": "DescriptionStyleModel",
          "state": {
            "_model_module": "@jupyter-widgets/controls",
            "_model_module_version": "1.5.0",
            "_model_name": "DescriptionStyleModel",
            "_view_count": null,
            "_view_module": "@jupyter-widgets/base",
            "_view_module_version": "1.2.0",
            "_view_name": "StyleView",
            "description_width": ""
          }
        },
        "c72c60f1cbbd46059423983f7197c577": {
          "model_module": "@jupyter-widgets/controls",
          "model_module_version": "1.5.0",
          "model_name": "HTMLModel",
          "state": {
            "_dom_classes": [],
            "_model_module": "@jupyter-widgets/controls",
            "_model_module_version": "1.5.0",
            "_model_name": "HTMLModel",
            "_view_count": null,
            "_view_module": "@jupyter-widgets/controls",
            "_view_module_version": "1.5.0",
            "_view_name": "HTMLView",
            "description": "",
            "description_tooltip": null,
            "layout": "IPY_MODEL_38385d6c9ad64196a8c1fa1ec5f90227",
            "placeholder": "​",
            "style": "IPY_MODEL_b4bf79dd989f4a3bbd2a6f4a62dd6ff9",
            "value": " 1/1 [00:01&lt;00:00,  1.49s/it]"
          }
        },
        "c7c357ed33ce46a8a37022f321ff6ba2": {
          "model_module": "@jupyter-widgets/controls",
          "model_module_version": "1.5.0",
          "model_name": "FloatProgressModel",
          "state": {
            "_dom_classes": [],
            "_model_module": "@jupyter-widgets/controls",
            "_model_module_version": "1.5.0",
            "_model_name": "FloatProgressModel",
            "_view_count": null,
            "_view_module": "@jupyter-widgets/controls",
            "_view_module_version": "1.5.0",
            "_view_name": "ProgressView",
            "bar_style": "success",
            "description": "",
            "description_tooltip": null,
            "layout": "IPY_MODEL_3d42216452274726a35dd588b86341bf",
            "max": 51,
            "min": 0,
            "orientation": "horizontal",
            "style": "IPY_MODEL_40871289fe174fb688d388474a2cfeef",
            "value": 51
          }
        },
        "c892d460dd614503856de88bf4c41b24": {
          "model_module": "@jupyter-widgets/controls",
          "model_module_version": "1.5.0",
          "model_name": "HTMLModel",
          "state": {
            "_dom_classes": [],
            "_model_module": "@jupyter-widgets/controls",
            "_model_module_version": "1.5.0",
            "_model_name": "HTMLModel",
            "_view_count": null,
            "_view_module": "@jupyter-widgets/controls",
            "_view_module_version": "1.5.0",
            "_view_name": "HTMLView",
            "description": "",
            "description_tooltip": null,
            "layout": "IPY_MODEL_98844d26bb7f477a84efd3cd405199e1",
            "placeholder": "​",
            "style": "IPY_MODEL_37dd193c4cd74392adfc4ce09e506e69",
            "value": "Downloading data: 100%"
          }
        },
        "c8dc5b5fa64740d38d361295dc1f1f48": {
          "model_module": "@jupyter-widgets/controls",
          "model_module_version": "1.5.0",
          "model_name": "ProgressStyleModel",
          "state": {
            "_model_module": "@jupyter-widgets/controls",
            "_model_module_version": "1.5.0",
            "_model_name": "ProgressStyleModel",
            "_view_count": null,
            "_view_module": "@jupyter-widgets/base",
            "_view_module_version": "1.2.0",
            "_view_name": "StyleView",
            "bar_color": null,
            "description_width": ""
          }
        },
        "cdaaa545ce974de7a2f74a0d9dab6a02": {
          "model_module": "@jupyter-widgets/base",
          "model_module_version": "1.2.0",
          "model_name": "LayoutModel",
          "state": {
            "_model_module": "@jupyter-widgets/base",
            "_model_module_version": "1.2.0",
            "_model_name": "LayoutModel",
            "_view_count": null,
            "_view_module": "@jupyter-widgets/base",
            "_view_module_version": "1.2.0",
            "_view_name": "LayoutView",
            "align_content": null,
            "align_items": null,
            "align_self": null,
            "border": null,
            "bottom": null,
            "display": null,
            "flex": null,
            "flex_flow": null,
            "grid_area": null,
            "grid_auto_columns": null,
            "grid_auto_flow": null,
            "grid_auto_rows": null,
            "grid_column": null,
            "grid_gap": null,
            "grid_row": null,
            "grid_template_areas": null,
            "grid_template_columns": null,
            "grid_template_rows": null,
            "height": null,
            "justify_content": null,
            "justify_items": null,
            "left": null,
            "margin": null,
            "max_height": null,
            "max_width": null,
            "min_height": null,
            "min_width": null,
            "object_fit": null,
            "object_position": null,
            "order": null,
            "overflow": null,
            "overflow_x": null,
            "overflow_y": null,
            "padding": null,
            "right": null,
            "top": null,
            "visibility": null,
            "width": null
          }
        },
        "cdd727bf082744598cad5e39d219e276": {
          "model_module": "@jupyter-widgets/controls",
          "model_module_version": "1.5.0",
          "model_name": "DescriptionStyleModel",
          "state": {
            "_model_module": "@jupyter-widgets/controls",
            "_model_module_version": "1.5.0",
            "_model_name": "DescriptionStyleModel",
            "_view_count": null,
            "_view_module": "@jupyter-widgets/base",
            "_view_module_version": "1.2.0",
            "_view_name": "StyleView",
            "description_width": ""
          }
        },
        "d15957af734f40c3ade79a820f46e738": {
          "model_module": "@jupyter-widgets/controls",
          "model_module_version": "1.5.0",
          "model_name": "FloatProgressModel",
          "state": {
            "_dom_classes": [],
            "_model_module": "@jupyter-widgets/controls",
            "_model_module_version": "1.5.0",
            "_model_name": "FloatProgressModel",
            "_view_count": null,
            "_view_module": "@jupyter-widgets/controls",
            "_view_module_version": "1.5.0",
            "_view_name": "ProgressView",
            "bar_style": "success",
            "description": "",
            "description_tooltip": null,
            "layout": "IPY_MODEL_4d03aadc3fcb4f128d329f124f4f8fec",
            "max": 50,
            "min": 0,
            "orientation": "horizontal",
            "style": "IPY_MODEL_5bcd73f8820e46ba83ee5c0f576b5f18",
            "value": 50
          }
        },
        "d2fa4a4d342948a68e5a18d2eb9cd6b4": {
          "model_module": "@jupyter-widgets/controls",
          "model_module_version": "1.5.0",
          "model_name": "DescriptionStyleModel",
          "state": {
            "_model_module": "@jupyter-widgets/controls",
            "_model_module_version": "1.5.0",
            "_model_name": "DescriptionStyleModel",
            "_view_count": null,
            "_view_module": "@jupyter-widgets/base",
            "_view_module_version": "1.2.0",
            "_view_name": "StyleView",
            "description_width": ""
          }
        },
        "d50f48bb69dc45c8b3bc0622a68db0a1": {
          "model_module": "@jupyter-widgets/controls",
          "model_module_version": "1.5.0",
          "model_name": "DescriptionStyleModel",
          "state": {
            "_model_module": "@jupyter-widgets/controls",
            "_model_module_version": "1.5.0",
            "_model_name": "DescriptionStyleModel",
            "_view_count": null,
            "_view_module": "@jupyter-widgets/base",
            "_view_module_version": "1.2.0",
            "_view_name": "StyleView",
            "description_width": ""
          }
        },
        "d65f7ef8a6ab4545b5bd78e47638f07d": {
          "model_module": "@jupyter-widgets/base",
          "model_module_version": "1.2.0",
          "model_name": "LayoutModel",
          "state": {
            "_model_module": "@jupyter-widgets/base",
            "_model_module_version": "1.2.0",
            "_model_name": "LayoutModel",
            "_view_count": null,
            "_view_module": "@jupyter-widgets/base",
            "_view_module_version": "1.2.0",
            "_view_name": "LayoutView",
            "align_content": null,
            "align_items": null,
            "align_self": null,
            "border": null,
            "bottom": null,
            "display": null,
            "flex": null,
            "flex_flow": null,
            "grid_area": null,
            "grid_auto_columns": null,
            "grid_auto_flow": null,
            "grid_auto_rows": null,
            "grid_column": null,
            "grid_gap": null,
            "grid_row": null,
            "grid_template_areas": null,
            "grid_template_columns": null,
            "grid_template_rows": null,
            "height": null,
            "justify_content": null,
            "justify_items": null,
            "left": null,
            "margin": null,
            "max_height": null,
            "max_width": null,
            "min_height": null,
            "min_width": null,
            "object_fit": null,
            "object_position": null,
            "order": null,
            "overflow": null,
            "overflow_x": null,
            "overflow_y": null,
            "padding": null,
            "right": null,
            "top": null,
            "visibility": null,
            "width": null
          }
        },
        "d6b8373110964061a8b23dca466fd815": {
          "model_module": "@jupyter-widgets/controls",
          "model_module_version": "1.5.0",
          "model_name": "HTMLModel",
          "state": {
            "_dom_classes": [],
            "_model_module": "@jupyter-widgets/controls",
            "_model_module_version": "1.5.0",
            "_model_name": "HTMLModel",
            "_view_count": null,
            "_view_module": "@jupyter-widgets/controls",
            "_view_module_version": "1.5.0",
            "_view_name": "HTMLView",
            "description": "",
            "description_tooltip": null,
            "layout": "IPY_MODEL_3a67d311bc0f409e8aaf54fb84f7eee8",
            "placeholder": "​",
            "style": "IPY_MODEL_f1dfb2044e93406cb37900ed1440ed5f",
            "value": "100%"
          }
        },
        "d70bc554aaea42dbbcad538f6c69e7ce": {
          "model_module": "@jupyter-widgets/controls",
          "model_module_version": "1.5.0",
          "model_name": "DescriptionStyleModel",
          "state": {
            "_model_module": "@jupyter-widgets/controls",
            "_model_module_version": "1.5.0",
            "_model_name": "DescriptionStyleModel",
            "_view_count": null,
            "_view_module": "@jupyter-widgets/base",
            "_view_module_version": "1.2.0",
            "_view_name": "StyleView",
            "description_width": ""
          }
        },
        "d7dc43bc40d7492abb753382f79360cb": {
          "model_module": "@jupyter-widgets/base",
          "model_module_version": "1.2.0",
          "model_name": "LayoutModel",
          "state": {
            "_model_module": "@jupyter-widgets/base",
            "_model_module_version": "1.2.0",
            "_model_name": "LayoutModel",
            "_view_count": null,
            "_view_module": "@jupyter-widgets/base",
            "_view_module_version": "1.2.0",
            "_view_name": "LayoutView",
            "align_content": null,
            "align_items": null,
            "align_self": null,
            "border": null,
            "bottom": null,
            "display": null,
            "flex": null,
            "flex_flow": null,
            "grid_area": null,
            "grid_auto_columns": null,
            "grid_auto_flow": null,
            "grid_auto_rows": null,
            "grid_column": null,
            "grid_gap": null,
            "grid_row": null,
            "grid_template_areas": null,
            "grid_template_columns": null,
            "grid_template_rows": null,
            "height": null,
            "justify_content": null,
            "justify_items": null,
            "left": null,
            "margin": null,
            "max_height": null,
            "max_width": null,
            "min_height": null,
            "min_width": null,
            "object_fit": null,
            "object_position": null,
            "order": null,
            "overflow": null,
            "overflow_x": null,
            "overflow_y": null,
            "padding": null,
            "right": null,
            "top": null,
            "visibility": null,
            "width": null
          }
        },
        "dc0e6b496c9742839abffb791a7afcc2": {
          "model_module": "@jupyter-widgets/base",
          "model_module_version": "1.2.0",
          "model_name": "LayoutModel",
          "state": {
            "_model_module": "@jupyter-widgets/base",
            "_model_module_version": "1.2.0",
            "_model_name": "LayoutModel",
            "_view_count": null,
            "_view_module": "@jupyter-widgets/base",
            "_view_module_version": "1.2.0",
            "_view_name": "LayoutView",
            "align_content": null,
            "align_items": null,
            "align_self": null,
            "border": null,
            "bottom": null,
            "display": null,
            "flex": null,
            "flex_flow": null,
            "grid_area": null,
            "grid_auto_columns": null,
            "grid_auto_flow": null,
            "grid_auto_rows": null,
            "grid_column": null,
            "grid_gap": null,
            "grid_row": null,
            "grid_template_areas": null,
            "grid_template_columns": null,
            "grid_template_rows": null,
            "height": null,
            "justify_content": null,
            "justify_items": null,
            "left": null,
            "margin": null,
            "max_height": null,
            "max_width": null,
            "min_height": null,
            "min_width": null,
            "object_fit": null,
            "object_position": null,
            "order": null,
            "overflow": null,
            "overflow_x": null,
            "overflow_y": null,
            "padding": null,
            "right": null,
            "top": null,
            "visibility": null,
            "width": null
          }
        },
        "dfc5e65329264906b1eae469287b826b": {
          "model_module": "@jupyter-widgets/base",
          "model_module_version": "1.2.0",
          "model_name": "LayoutModel",
          "state": {
            "_model_module": "@jupyter-widgets/base",
            "_model_module_version": "1.2.0",
            "_model_name": "LayoutModel",
            "_view_count": null,
            "_view_module": "@jupyter-widgets/base",
            "_view_module_version": "1.2.0",
            "_view_name": "LayoutView",
            "align_content": null,
            "align_items": null,
            "align_self": null,
            "border": null,
            "bottom": null,
            "display": null,
            "flex": null,
            "flex_flow": null,
            "grid_area": null,
            "grid_auto_columns": null,
            "grid_auto_flow": null,
            "grid_auto_rows": null,
            "grid_column": null,
            "grid_gap": null,
            "grid_row": null,
            "grid_template_areas": null,
            "grid_template_columns": null,
            "grid_template_rows": null,
            "height": null,
            "justify_content": null,
            "justify_items": null,
            "left": null,
            "margin": null,
            "max_height": null,
            "max_width": null,
            "min_height": null,
            "min_width": null,
            "object_fit": null,
            "object_position": null,
            "order": null,
            "overflow": null,
            "overflow_x": null,
            "overflow_y": null,
            "padding": null,
            "right": null,
            "top": null,
            "visibility": null,
            "width": null
          }
        },
        "e0bb2d0642db4fef834560a57e6ec733": {
          "model_module": "@jupyter-widgets/base",
          "model_module_version": "1.2.0",
          "model_name": "LayoutModel",
          "state": {
            "_model_module": "@jupyter-widgets/base",
            "_model_module_version": "1.2.0",
            "_model_name": "LayoutModel",
            "_view_count": null,
            "_view_module": "@jupyter-widgets/base",
            "_view_module_version": "1.2.0",
            "_view_name": "LayoutView",
            "align_content": null,
            "align_items": null,
            "align_self": null,
            "border": null,
            "bottom": null,
            "display": null,
            "flex": null,
            "flex_flow": null,
            "grid_area": null,
            "grid_auto_columns": null,
            "grid_auto_flow": null,
            "grid_auto_rows": null,
            "grid_column": null,
            "grid_gap": null,
            "grid_row": null,
            "grid_template_areas": null,
            "grid_template_columns": null,
            "grid_template_rows": null,
            "height": null,
            "justify_content": null,
            "justify_items": null,
            "left": null,
            "margin": null,
            "max_height": null,
            "max_width": null,
            "min_height": null,
            "min_width": null,
            "object_fit": null,
            "object_position": null,
            "order": null,
            "overflow": null,
            "overflow_x": null,
            "overflow_y": null,
            "padding": null,
            "right": null,
            "top": null,
            "visibility": null,
            "width": null
          }
        },
        "e67c8e408c274b5996309cac6154f0e3": {
          "model_module": "@jupyter-widgets/controls",
          "model_module_version": "1.5.0",
          "model_name": "HTMLModel",
          "state": {
            "_dom_classes": [],
            "_model_module": "@jupyter-widgets/controls",
            "_model_module_version": "1.5.0",
            "_model_name": "HTMLModel",
            "_view_count": null,
            "_view_module": "@jupyter-widgets/controls",
            "_view_module_version": "1.5.0",
            "_view_name": "HTMLView",
            "description": "",
            "description_tooltip": null,
            "layout": "IPY_MODEL_0569dbfe505b48e2adef1f2c764561ba",
            "placeholder": "​",
            "style": "IPY_MODEL_94b8ca70660f451192a61fb9c27f2263",
            "value": "Downloading model_final.pth: 100%"
          }
        },
        "e69b0d838bf44ea5bf86b60c811efa95": {
          "model_module": "@jupyter-widgets/controls",
          "model_module_version": "1.5.0",
          "model_name": "DescriptionStyleModel",
          "state": {
            "_model_module": "@jupyter-widgets/controls",
            "_model_module_version": "1.5.0",
            "_model_name": "DescriptionStyleModel",
            "_view_count": null,
            "_view_module": "@jupyter-widgets/base",
            "_view_module_version": "1.2.0",
            "_view_name": "StyleView",
            "description_width": ""
          }
        },
        "e9b011cac93d4636b520785557fc4aa8": {
          "model_module": "@jupyter-widgets/controls",
          "model_module_version": "1.5.0",
          "model_name": "HBoxModel",
          "state": {
            "_dom_classes": [],
            "_model_module": "@jupyter-widgets/controls",
            "_model_module_version": "1.5.0",
            "_model_name": "HBoxModel",
            "_view_count": null,
            "_view_module": "@jupyter-widgets/controls",
            "_view_module_version": "1.5.0",
            "_view_name": "HBoxView",
            "box_style": "",
            "children": [
              "IPY_MODEL_b4d8fb8c60024a1a90fb2f5718524d91",
              "IPY_MODEL_b5896ade476a4d5aa216d64ba7092c99",
              "IPY_MODEL_c290e214643f44eb87797fd6a6d514f3"
            ],
            "layout": "IPY_MODEL_877d9d7b85a6467f9dc8d4c125aa5a9d"
          }
        },
        "ec109ea08a4e457ca279a554a8536dfd": {
          "model_module": "@jupyter-widgets/controls",
          "model_module_version": "1.5.0",
          "model_name": "HTMLModel",
          "state": {
            "_dom_classes": [],
            "_model_module": "@jupyter-widgets/controls",
            "_model_module_version": "1.5.0",
            "_model_name": "HTMLModel",
            "_view_count": null,
            "_view_module": "@jupyter-widgets/controls",
            "_view_module_version": "1.5.0",
            "_view_name": "HTMLView",
            "description": "",
            "description_tooltip": null,
            "layout": "IPY_MODEL_d7dc43bc40d7492abb753382f79360cb",
            "placeholder": "​",
            "style": "IPY_MODEL_5f0d865300874d3787f4d303976b0f02",
            "value": " 42.8M/42.8M [00:01&lt;00:00, 30.5MB/s]"
          }
        },
        "ed939872e0a840159ff0fb7d55c6f7dc": {
          "model_module": "@jupyter-widgets/controls",
          "model_module_version": "1.5.0",
          "model_name": "DescriptionStyleModel",
          "state": {
            "_model_module": "@jupyter-widgets/controls",
            "_model_module_version": "1.5.0",
            "_model_name": "DescriptionStyleModel",
            "_view_count": null,
            "_view_module": "@jupyter-widgets/base",
            "_view_module_version": "1.2.0",
            "_view_name": "StyleView",
            "description_width": ""
          }
        },
        "f14a9c7ca4a042fa907e6b4b3a4feda7": {
          "model_module": "@jupyter-widgets/controls",
          "model_module_version": "1.5.0",
          "model_name": "HBoxModel",
          "state": {
            "_dom_classes": [],
            "_model_module": "@jupyter-widgets/controls",
            "_model_module_version": "1.5.0",
            "_model_name": "HBoxModel",
            "_view_count": null,
            "_view_module": "@jupyter-widgets/controls",
            "_view_module_version": "1.5.0",
            "_view_name": "HBoxView",
            "box_style": "",
            "children": [
              "IPY_MODEL_657da4e2116342889c06f51e8a22f021",
              "IPY_MODEL_34d88189a7c74c94be791f25a78d2dea",
              "IPY_MODEL_a7c86b6f250a47e584e76b48b7acb0a1"
            ],
            "layout": "IPY_MODEL_4b476580071d424f866971cc529319da"
          }
        },
        "f1dfb2044e93406cb37900ed1440ed5f": {
          "model_module": "@jupyter-widgets/controls",
          "model_module_version": "1.5.0",
          "model_name": "DescriptionStyleModel",
          "state": {
            "_model_module": "@jupyter-widgets/controls",
            "_model_module_version": "1.5.0",
            "_model_name": "DescriptionStyleModel",
            "_view_count": null,
            "_view_module": "@jupyter-widgets/base",
            "_view_module_version": "1.2.0",
            "_view_name": "StyleView",
            "description_width": ""
          }
        },
        "f346a95ca2324e429bc6ba49a1a1999a": {
          "model_module": "@jupyter-widgets/controls",
          "model_module_version": "1.5.0",
          "model_name": "HTMLModel",
          "state": {
            "_dom_classes": [],
            "_model_module": "@jupyter-widgets/controls",
            "_model_module_version": "1.5.0",
            "_model_name": "HTMLModel",
            "_view_count": null,
            "_view_module": "@jupyter-widgets/controls",
            "_view_module_version": "1.5.0",
            "_view_name": "HTMLView",
            "description": "",
            "description_tooltip": null,
            "layout": "IPY_MODEL_c04998a0ee0548d78fbe33ef72a23901",
            "placeholder": "​",
            "style": "IPY_MODEL_37b8850d44bc4b9d9819079f56fa9921",
            "value": " 1.28k/1.28k [00:00&lt;00:00, 29.9kB/s]"
          }
        },
        "f4e5d31d2b21475fabaa3c98eb47d31f": {
          "model_module": "@jupyter-widgets/controls",
          "model_module_version": "1.5.0",
          "model_name": "HTMLModel",
          "state": {
            "_dom_classes": [],
            "_model_module": "@jupyter-widgets/controls",
            "_model_module_version": "1.5.0",
            "_model_name": "HTMLModel",
            "_view_count": null,
            "_view_module": "@jupyter-widgets/controls",
            "_view_module_version": "1.5.0",
            "_view_name": "HTMLView",
            "description": "",
            "description_tooltip": null,
            "layout": "IPY_MODEL_5aed3e0bccd24d2688ec508a1bf4a8bc",
            "placeholder": "​",
            "style": "IPY_MODEL_47dd81a428d74f0e9f0c5d77acb40e7d",
            "value": "Downloading (…)lve/main/config.json: 100%"
          }
        },
        "f5bcb4df22bc4472a8ec5983e00955f9": {
          "model_module": "@jupyter-widgets/controls",
          "model_module_version": "1.5.0",
          "model_name": "DescriptionStyleModel",
          "state": {
            "_model_module": "@jupyter-widgets/controls",
            "_model_module_version": "1.5.0",
            "_model_name": "DescriptionStyleModel",
            "_view_count": null,
            "_view_module": "@jupyter-widgets/base",
            "_view_module_version": "1.2.0",
            "_view_name": "StyleView",
            "description_width": ""
          }
        },
        "f69035c24d3349d7a07b9a301092b02e": {
          "model_module": "@jupyter-widgets/controls",
          "model_module_version": "1.5.0",
          "model_name": "FloatProgressModel",
          "state": {
            "_dom_classes": [],
            "_model_module": "@jupyter-widgets/controls",
            "_model_module_version": "1.5.0",
            "_model_name": "FloatProgressModel",
            "_view_count": null,
            "_view_module": "@jupyter-widgets/controls",
            "_view_module_version": "1.5.0",
            "_view_name": "ProgressView",
            "bar_style": "success",
            "description": "",
            "description_tooltip": null,
            "layout": "IPY_MODEL_31d3b3a63c5248268b40b731cc933a77",
            "max": 20000,
            "min": 0,
            "orientation": "horizontal",
            "style": "IPY_MODEL_a77a99e46bdd441281db18fd5389d89f",
            "value": 20000
          }
        },
        "faef0771115a443595ec941d15a8d42c": {
          "model_module": "@jupyter-widgets/controls",
          "model_module_version": "1.5.0",
          "model_name": "HTMLModel",
          "state": {
            "_dom_classes": [],
            "_model_module": "@jupyter-widgets/controls",
            "_model_module_version": "1.5.0",
            "_model_name": "HTMLModel",
            "_view_count": null,
            "_view_module": "@jupyter-widgets/controls",
            "_view_module_version": "1.5.0",
            "_view_name": "HTMLView",
            "description": "",
            "description_tooltip": null,
            "layout": "IPY_MODEL_d65f7ef8a6ab4545b5bd78e47638f07d",
            "placeholder": "​",
            "style": "IPY_MODEL_19bd5fdeb81348ba923bff381b02aaec",
            "value": " 51.0/51.0 [00:00&lt;00:00, 1.97kB/s]"
          }
        },
        "fcadf0b612444a95a9636339e7b0eea9": {
          "model_module": "@jupyter-widgets/controls",
          "model_module_version": "1.5.0",
          "model_name": "ProgressStyleModel",
          "state": {
            "_model_module": "@jupyter-widgets/controls",
            "_model_module_version": "1.5.0",
            "_model_name": "ProgressStyleModel",
            "_view_count": null,
            "_view_module": "@jupyter-widgets/base",
            "_view_module_version": "1.2.0",
            "_view_name": "StyleView",
            "bar_color": null,
            "description_width": ""
          }
        },
        "ff155cdc671449db9a28e1fd282a06c6": {
          "model_module": "@jupyter-widgets/controls",
          "model_module_version": "1.5.0",
          "model_name": "HTMLModel",
          "state": {
            "_dom_classes": [],
            "_model_module": "@jupyter-widgets/controls",
            "_model_module_version": "1.5.0",
            "_model_name": "HTMLModel",
            "_view_count": null,
            "_view_module": "@jupyter-widgets/controls",
            "_view_module_version": "1.5.0",
            "_view_name": "HTMLView",
            "description": "",
            "description_tooltip": null,
            "layout": "IPY_MODEL_be2fea8dc01a4bf7a2be2127f834b0a0",
            "placeholder": "​",
            "style": "IPY_MODEL_fff405b6fc56479baceb3ec5716f9561",
            "value": "Generating train split: 100%"
          }
        },
        "fff405b6fc56479baceb3ec5716f9561": {
          "model_module": "@jupyter-widgets/controls",
          "model_module_version": "1.5.0",
          "model_name": "DescriptionStyleModel",
          "state": {
            "_model_module": "@jupyter-widgets/controls",
            "_model_module_version": "1.5.0",
            "_model_name": "DescriptionStyleModel",
            "_view_count": null,
            "_view_module": "@jupyter-widgets/base",
            "_view_module_version": "1.2.0",
            "_view_name": "StyleView",
            "description_width": ""
          }
        }
      }
    }
  },
  "nbformat": 4,
  "nbformat_minor": 0
}
